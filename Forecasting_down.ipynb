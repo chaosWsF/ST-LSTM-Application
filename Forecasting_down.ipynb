{
 "cells": [
  {
   "cell_type": "code",
   "execution_count": 2,
   "metadata": {
    "ExecuteTime": {
     "end_time": "2022-03-23T13:49:43.640548Z",
     "start_time": "2022-03-23T13:49:43.501805Z"
    },
    "colab": {
     "base_uri": "https://localhost:8080/"
    },
    "id": "-G4gTwaE2qX8",
    "outputId": "60d78488-4385-45b0-9f7e-d7e80dfcd22c"
   },
   "outputs": [
    {
     "name": "stdout",
     "output_type": "stream",
     "text": [
      "Wed Mar 23 07:49:43 2022       \n",
      "+-----------------------------------------------------------------------------+\n",
      "| NVIDIA-SMI 511.79       Driver Version: 511.79       CUDA Version: 11.6     |\n",
      "|-------------------------------+----------------------+----------------------+\n",
      "| GPU  Name            TCC/WDDM | Bus-Id        Disp.A | Volatile Uncorr. ECC |\n",
      "| Fan  Temp  Perf  Pwr:Usage/Cap|         Memory-Usage | GPU-Util  Compute M. |\n",
      "|                               |                      |               MIG M. |\n",
      "|===============================+======================+======================|\n",
      "|   0  NVIDIA GeForce ... WDDM  | 00000000:09:00.0  On |                  N/A |\n",
      "|  0%   33C    P3    33W / 175W |    941MiB /  8192MiB |      0%      Default |\n",
      "|                               |                      |                  N/A |\n",
      "+-------------------------------+----------------------+----------------------+\n",
      "                                                                               \n",
      "+-----------------------------------------------------------------------------+\n",
      "| Processes:                                                                  |\n",
      "|  GPU   GI   CI        PID   Type   Process name                  GPU Memory |\n",
      "|        ID   ID                                                   Usage      |\n",
      "|=============================================================================|\n",
      "|    0   N/A  N/A      1012    C+G   ...5n1h2txyewy\\SearchApp.exe    N/A      |\n",
      "|    0   N/A  N/A      1304    C+G                                   N/A      |\n",
      "|    0   N/A  N/A      2748    C+G   ...y\\ShellExperienceHost.exe    N/A      |\n",
      "|    0   N/A  N/A      2864    C+G   ...4__8wekyb3d8bbwe\\Time.exe    N/A      |\n",
      "|    0   N/A  N/A      4204    C+G   ...cw5n1h2txyewy\\LockApp.exe    N/A      |\n",
      "|    0   N/A  N/A      4388    C+G   C:\\Windows\\explorer.exe         N/A      |\n",
      "|    0   N/A  N/A      5860    C+G   ...artMenuExperienceHost.exe    N/A      |\n",
      "|    0   N/A  N/A      6248    C+G   ...bbwe\\Microsoft.Photos.exe    N/A      |\n",
      "|    0   N/A  N/A     11012    C+G   ...me\\Application\\chrome.exe    N/A      |\n",
      "|    0   N/A  N/A     11644    C+G   ...lPanel\\SystemSettings.exe    N/A      |\n",
      "|    0   N/A  N/A     11792    C+G   ...erver\\YourPhoneServer.exe    N/A      |\n",
      "|    0   N/A  N/A     12452    C+G   ...2txyewy\\TextInputHost.exe    N/A      |\n",
      "|    0   N/A  N/A     13860    C+G   ...qaze\\app\\Twinkle Tray.exe    N/A      |\n",
      "|    0   N/A  N/A     13956    C+G   ...ekyb3d8bbwe\\XboxPcApp.exe    N/A      |\n",
      "+-----------------------------------------------------------------------------+\n"
     ]
    }
   ],
   "source": [
    "!nvidia-smi"
   ]
  },
  {
   "cell_type": "code",
   "execution_count": 59,
   "metadata": {
    "colab": {
     "base_uri": "https://localhost:8080/"
    },
    "id": "abTPeeLX2xZv",
    "outputId": "76627260-645d-4bb0-ca2b-f6071413be23"
   },
   "outputs": [
    {
     "name": "stdout",
     "output_type": "stream",
     "text": [
      "Drive already mounted at /content/drive; to attempt to forcibly remount, call drive.mount(\"/content/drive\", force_remount=True).\n"
     ]
    }
   ],
   "source": [
    "from google.colab import drive\n",
    "drive.mount('/content/drive')"
   ]
  },
  {
   "cell_type": "code",
   "execution_count": 60,
   "metadata": {
    "colab": {
     "base_uri": "https://localhost:8080/"
    },
    "id": "6o-fVWVn26Et",
    "outputId": "a43103e1-2ee3-4316-cfe0-3917125cd3fe"
   },
   "outputs": [
    {
     "name": "stdout",
     "output_type": "stream",
     "text": [
      "/content/drive/MyDrive\n"
     ]
    }
   ],
   "source": [
    "cd /content/drive/MyDrive"
   ]
  },
  {
   "cell_type": "markdown",
   "metadata": {
    "id": "6Uk_Uw8hjIYM"
   },
   "source": [
    "# Libraries"
   ]
  },
  {
   "cell_type": "code",
   "execution_count": 3,
   "metadata": {
    "ExecuteTime": {
     "end_time": "2022-03-23T13:49:54.256976Z",
     "start_time": "2022-03-23T13:49:46.501861Z"
    },
    "colab": {
     "base_uri": "https://localhost:8080/"
    },
    "id": "Sl87p9d8jIYQ",
    "outputId": "c943585b-4a8d-48be-834e-c1d36962df50"
   },
   "outputs": [
    {
     "name": "stdout",
     "output_type": "stream",
     "text": [
      "Libraries Loaded\n"
     ]
    }
   ],
   "source": [
    "import pandas as pd\n",
    "import numpy as np\n",
    "import matplotlib.pyplot as plt\n",
    "import os\n",
    "import xlwt \n",
    "from xlwt import Workbook \n",
    "from prettytable import PrettyTable\n",
    "\n",
    "from sklearn.model_selection import train_test_split\n",
    "from sklearn.preprocessing import MinMaxScaler\n",
    "from sklearn.metrics import mean_squared_error as mse\n",
    "\n",
    "import tensorflow as tf\n",
    "physical_devices = tf.config.list_physical_devices('GPU')\n",
    "if physical_devices:\n",
    "    tf.config.experimental.set_memory_growth(physical_devices[0], enable=True)\n",
    "from tensorflow import keras\n",
    "from tensorflow.keras.layers import *\n",
    "import tensorflow.keras.backend as K\n",
    "\n",
    "#Fix for same result\n",
    "from numpy.random import seed\n",
    "seed(1)\n",
    "from tensorflow import random\n",
    "random.set_seed(2) \n",
    "\n",
    "print('Libraries Loaded')"
   ]
  },
  {
   "cell_type": "markdown",
   "metadata": {},
   "source": [
    "# Utilities"
   ]
  },
  {
   "cell_type": "code",
   "execution_count": 4,
   "metadata": {
    "ExecuteTime": {
     "end_time": "2022-03-23T13:49:56.708352Z",
     "start_time": "2022-03-23T13:49:56.693350Z"
    }
   },
   "outputs": [],
   "source": [
    "def read_file(path):\n",
    "    '''\n",
    "    Returns the dataframe which is read from the excel file present in the path specified. \n",
    "    \n",
    "    Parameters:\n",
    "        path (str) : The path of the file\n",
    "    \n",
    "    Returns:\n",
    "        df (float) : The dataframe which is created after reading the file.\n",
    "    '''\n",
    "    df= pd.read_csv(path)\n",
    "    df = df.loc[:, ~df.columns.str.contains('^Unnamed')]\n",
    "    print(df.shape)\n",
    "    print(df.head())\n",
    "    return df\n",
    "\n",
    "def create_dataset(X, y, time_steps, ts_range):\n",
    "    '''\n",
    "    Returns the prepared data based on the lag and look ahead\n",
    "    \n",
    "    Parameters:\n",
    "        X          (float): The independent variables of the data\n",
    "        y          (float): The dependent variables of the data\n",
    "        time_steps (int)  : The lag that is being used to lookback\n",
    "        ts_range   (int)  : The lookahead for the data\n",
    "    \n",
    "    Returns:\n",
    "        Xs (float) : The numpy array of the input variable\n",
    "        ys (float) : The numpy array of the output variable \n",
    "    '''\n",
    "    Xs, ys = [], []\n",
    "    for i in range(len(X) - time_steps - ts_range):\n",
    "        v = X.iloc[i:(i + time_steps)].values\n",
    "        Xs.append(v)\n",
    "        ys.append(y.values[(i + time_steps):(i + time_steps + ts_range),0])\n",
    "    return np.array(Xs), np.array(ys)\n",
    "\n",
    "def splitter(df,output,lag,duration,ts):\n",
    "    '''\n",
    "    Returns the training and testing data\n",
    "    \n",
    "    Parameters:\n",
    "        df (float): The whole dataframe containing the independent and dependent variables\n",
    "        output(str): The output variable \n",
    "        lag (int): The lag that needs to be applied for the data\n",
    "        duration (int): The duration that is being considered as output\n",
    "        ts (float): The percentage of training data\n",
    "    \n",
    "    Returns:\n",
    "        x_train (float): The training data of independent variable \n",
    "        x_test (float): The testing data of independent variable\n",
    "        y_train (float): The training data of the depenedent variable \n",
    "        y_test (float): The testing data of the dependent variable \n",
    "    '''\n",
    "    assert (0. <= ts <= 1.)\n",
    "    train_size = int(len(df) * ts)\n",
    "    test_size = len(df) - train_size\n",
    "    train, test = df.iloc[0:train_size], df[train_size:]\n",
    "    print(train.shape, test.shape)\n",
    "    scaler,scaler_single = MinMaxScaler(feature_range=(0, 1)),MinMaxScaler(feature_range=(0, 1))\n",
    "\n",
    "    scaler.fit(train)\n",
    "    scaler_single.fit(train[output])\n",
    "\n",
    "    train_scaled = pd.DataFrame(scaler.transform(train), columns=[df.columns])\n",
    "    test_scaled = pd.DataFrame(scaler.transform(test), columns=[df.columns])\n",
    "\n",
    "    df_train = train_scaled.copy(deep=True)\n",
    "    df_test = test_scaled.copy(deep=True)\n",
    "\n",
    "    x_train,y_train = create_dataset(df_train,df_train[[output]],lag,duration)\n",
    "    x_test, y_test = create_dataset(df_test, df_test[[output]], lag, duration)\n",
    "\n",
    "    return x_train,x_test,y_train,y_test,scaler_single\n",
    "\n",
    "class attention(keras.layers.Layer):\n",
    "    '''\n",
    "    Attention layer for the neural networks.\n",
    "    \n",
    "    if return_sequences=True, it will give 3D vector and if false it will give 2D vector. It is same as LSTMs.\n",
    "\n",
    "    https://stackoverflow.com/questions/62948332/how-to-add-attention-layer-to-a-bi-lstm/62949137#62949137\n",
    "    the  following code is being inspired from the above link.\n",
    "    '''\n",
    "\n",
    "    def __init__(self, return_sequences=True, **kwargs):\n",
    "        self.return_sequences = return_sequences\n",
    "        super(attention, self).__init__()\n",
    "\n",
    "    def get_config(self):\n",
    "        cfg = super().get_config()\n",
    "        return cfg\n",
    "\n",
    "    def build(self, input_shape):\n",
    "        self.W = self.add_weight(name=\"att_weight\", shape=(input_shape[-1], 1),\n",
    "                                 initializer=\"normal\")\n",
    "        self.b = self.add_weight(name=\"att_bias\", shape=(input_shape[1], 1),\n",
    "                                 initializer=\"zeros\")\n",
    "\n",
    "        super(attention, self).build(input_shape)\n",
    "\n",
    "    def call(self, x):\n",
    "        e = K.tanh(K.dot(x, self.W) + self.b)\n",
    "        a = K.softmax(e, axis=1)\n",
    "        output = x * a\n",
    "\n",
    "        if self.return_sequences:\n",
    "            return output\n",
    "\n",
    "        return K.sum(output, axis=1)"
   ]
  },
  {
   "cell_type": "markdown",
   "metadata": {},
   "source": [
    "# Load cleaned data"
   ]
  },
  {
   "cell_type": "code",
   "execution_count": 5,
   "metadata": {
    "ExecuteTime": {
     "end_time": "2022-03-23T13:49:59.578364Z",
     "start_time": "2022-03-23T13:49:59.531486Z"
    }
   },
   "outputs": [
    {
     "data": {
      "text/html": [
       "<div>\n",
       "<style scoped>\n",
       "    .dataframe tbody tr th:only-of-type {\n",
       "        vertical-align: middle;\n",
       "    }\n",
       "\n",
       "    .dataframe tbody tr th {\n",
       "        vertical-align: top;\n",
       "    }\n",
       "\n",
       "    .dataframe thead th {\n",
       "        text-align: right;\n",
       "    }\n",
       "</style>\n",
       "<table border=\"1\" class=\"dataframe\">\n",
       "  <thead>\n",
       "    <tr style=\"text-align: right;\">\n",
       "      <th></th>\n",
       "      <th>Air_Temp_Up</th>\n",
       "      <th>Water_Temp_Up</th>\n",
       "      <th>Chloride_Up</th>\n",
       "      <th>pH_Up</th>\n",
       "      <th>Cond_Up</th>\n",
       "      <th>Turbidity_Up</th>\n",
       "      <th>DO_Up</th>\n",
       "      <th>DO_Up</th>\n",
       "    </tr>\n",
       "  </thead>\n",
       "  <tbody>\n",
       "    <tr>\n",
       "      <th>0</th>\n",
       "      <td>20.2150</td>\n",
       "      <td>10.6650</td>\n",
       "      <td>97.0900</td>\n",
       "      <td>8.500</td>\n",
       "      <td>740.0</td>\n",
       "      <td>3.500</td>\n",
       "      <td>11.3000</td>\n",
       "      <td>11.3000</td>\n",
       "    </tr>\n",
       "    <tr>\n",
       "      <th>1</th>\n",
       "      <td>20.5575</td>\n",
       "      <td>11.4225</td>\n",
       "      <td>95.8975</td>\n",
       "      <td>8.500</td>\n",
       "      <td>730.0</td>\n",
       "      <td>2.900</td>\n",
       "      <td>11.4525</td>\n",
       "      <td>11.4525</td>\n",
       "    </tr>\n",
       "    <tr>\n",
       "      <th>2</th>\n",
       "      <td>23.3150</td>\n",
       "      <td>12.3825</td>\n",
       "      <td>93.8325</td>\n",
       "      <td>8.500</td>\n",
       "      <td>725.0</td>\n",
       "      <td>3.100</td>\n",
       "      <td>11.5250</td>\n",
       "      <td>11.5250</td>\n",
       "    </tr>\n",
       "    <tr>\n",
       "      <th>3</th>\n",
       "      <td>23.3275</td>\n",
       "      <td>13.3350</td>\n",
       "      <td>93.6525</td>\n",
       "      <td>8.575</td>\n",
       "      <td>720.0</td>\n",
       "      <td>3.500</td>\n",
       "      <td>11.4000</td>\n",
       "      <td>11.4000</td>\n",
       "    </tr>\n",
       "    <tr>\n",
       "      <th>4</th>\n",
       "      <td>24.3900</td>\n",
       "      <td>14.0200</td>\n",
       "      <td>93.8050</td>\n",
       "      <td>8.600</td>\n",
       "      <td>720.0</td>\n",
       "      <td>3.425</td>\n",
       "      <td>11.2200</td>\n",
       "      <td>11.2200</td>\n",
       "    </tr>\n",
       "  </tbody>\n",
       "</table>\n",
       "</div>"
      ],
      "text/plain": [
       "   Air_Temp_Up  Water_Temp_Up  Chloride_Up  pH_Up  Cond_Up  Turbidity_Up  \\\n",
       "0      20.2150        10.6650      97.0900  8.500    740.0         3.500   \n",
       "1      20.5575        11.4225      95.8975  8.500    730.0         2.900   \n",
       "2      23.3150        12.3825      93.8325  8.500    725.0         3.100   \n",
       "3      23.3275        13.3350      93.6525  8.575    720.0         3.500   \n",
       "4      24.3900        14.0200      93.8050  8.600    720.0         3.425   \n",
       "\n",
       "     DO_Up    DO_Up  \n",
       "0  11.3000  11.3000  \n",
       "1  11.4525  11.4525  \n",
       "2  11.5250  11.5250  \n",
       "3  11.4000  11.4000  \n",
       "4  11.2200  11.2200  "
      ]
     },
     "execution_count": 5,
     "metadata": {},
     "output_type": "execute_result"
    }
   ],
   "source": [
    "df_up = pd.read_pickle('upstream.pkl')\n",
    "df_down = pd.read_pickle('downstream.pkl')\n",
    "df_up.head()"
   ]
  },
  {
   "cell_type": "code",
   "execution_count": 9,
   "metadata": {
    "ExecuteTime": {
     "end_time": "2022-03-21T02:41:38.918711Z",
     "start_time": "2022-03-21T02:41:38.897705Z"
    }
   },
   "outputs": [
    {
     "data": {
      "text/html": [
       "<div>\n",
       "<style scoped>\n",
       "    .dataframe tbody tr th:only-of-type {\n",
       "        vertical-align: middle;\n",
       "    }\n",
       "\n",
       "    .dataframe tbody tr th {\n",
       "        vertical-align: top;\n",
       "    }\n",
       "\n",
       "    .dataframe thead th {\n",
       "        text-align: right;\n",
       "    }\n",
       "</style>\n",
       "<table border=\"1\" class=\"dataframe\">\n",
       "  <thead>\n",
       "    <tr style=\"text-align: right;\">\n",
       "      <th></th>\n",
       "      <th>Air_Temp_Dn</th>\n",
       "      <th>Water_Temp_Dn</th>\n",
       "      <th>Chloride_Dn</th>\n",
       "      <th>pH_Dn</th>\n",
       "      <th>Cond_Dn</th>\n",
       "      <th>Turbidity_Dn</th>\n",
       "      <th>DO_Dn</th>\n",
       "    </tr>\n",
       "  </thead>\n",
       "  <tbody>\n",
       "    <tr>\n",
       "      <th>0</th>\n",
       "      <td>13.3700</td>\n",
       "      <td>11.8050</td>\n",
       "      <td>111.950</td>\n",
       "      <td>8.300</td>\n",
       "      <td>840.0</td>\n",
       "      <td>2.250</td>\n",
       "      <td>11.7350</td>\n",
       "    </tr>\n",
       "    <tr>\n",
       "      <th>1</th>\n",
       "      <td>15.1125</td>\n",
       "      <td>12.6925</td>\n",
       "      <td>113.500</td>\n",
       "      <td>8.375</td>\n",
       "      <td>840.0</td>\n",
       "      <td>1.500</td>\n",
       "      <td>11.7275</td>\n",
       "    </tr>\n",
       "    <tr>\n",
       "      <th>2</th>\n",
       "      <td>15.2275</td>\n",
       "      <td>13.8375</td>\n",
       "      <td>116.525</td>\n",
       "      <td>8.400</td>\n",
       "      <td>840.0</td>\n",
       "      <td>1.650</td>\n",
       "      <td>11.4825</td>\n",
       "    </tr>\n",
       "    <tr>\n",
       "      <th>3</th>\n",
       "      <td>17.7450</td>\n",
       "      <td>14.6900</td>\n",
       "      <td>118.175</td>\n",
       "      <td>8.400</td>\n",
       "      <td>840.0</td>\n",
       "      <td>1.225</td>\n",
       "      <td>11.1100</td>\n",
       "    </tr>\n",
       "    <tr>\n",
       "      <th>4</th>\n",
       "      <td>19.3625</td>\n",
       "      <td>15.7975</td>\n",
       "      <td>120.775</td>\n",
       "      <td>8.400</td>\n",
       "      <td>840.0</td>\n",
       "      <td>1.150</td>\n",
       "      <td>10.9625</td>\n",
       "    </tr>\n",
       "  </tbody>\n",
       "</table>\n",
       "</div>"
      ],
      "text/plain": [
       "   Air_Temp_Dn  Water_Temp_Dn  Chloride_Dn  pH_Dn  Cond_Dn  Turbidity_Dn  \\\n",
       "0      13.3700        11.8050      111.950  8.300    840.0         2.250   \n",
       "1      15.1125        12.6925      113.500  8.375    840.0         1.500   \n",
       "2      15.2275        13.8375      116.525  8.400    840.0         1.650   \n",
       "3      17.7450        14.6900      118.175  8.400    840.0         1.225   \n",
       "4      19.3625        15.7975      120.775  8.400    840.0         1.150   \n",
       "\n",
       "     DO_Dn  \n",
       "0  11.7350  \n",
       "1  11.7275  \n",
       "2  11.4825  \n",
       "3  11.1100  \n",
       "4  10.9625  "
      ]
     },
     "execution_count": 9,
     "metadata": {},
     "output_type": "execute_result"
    }
   ],
   "source": [
    "df_down.head()"
   ]
  },
  {
   "cell_type": "code",
   "execution_count": 6,
   "metadata": {
    "ExecuteTime": {
     "end_time": "2022-03-23T13:50:04.141955Z",
     "start_time": "2022-03-23T13:50:04.132954Z"
    },
    "id": "xQyoAJYC3kvX"
   },
   "outputs": [],
   "source": [
    "\n",
    "# Change the lag,duration variable values according to experiment value taken\n",
    "# EPOCHS = 5 (taken for demonstration of code working, later we can change it 200 or higher epochs)\n",
    "\n",
    "lag = 6\n",
    "duration = 6\n",
    "EPOCHS = 30\n",
    "BATCH_SIZE = 32\n",
    "LR = 1E-3\n",
    "\n",
    "train_size = 0.8\n"
   ]
  },
  {
   "cell_type": "code",
   "execution_count": 7,
   "metadata": {
    "ExecuteTime": {
     "end_time": "2022-03-23T13:50:09.332623Z",
     "start_time": "2022-03-23T13:50:08.173920Z"
    },
    "colab": {
     "base_uri": "https://localhost:8080/"
    },
    "id": "HyzvzeUVjIYU",
    "outputId": "31ab8f19-4c96-4269-8afb-5924121921b2"
   },
   "outputs": [
    {
     "name": "stdout",
     "output_type": "stream",
     "text": [
      "(31876, 7) (7969, 7)\n",
      "The shape of x_train is (31864, 6, 7) and x_test is (7957, 6, 7)\n",
      "The shape of y_train is (31864, 6) and y_test is (7957, 6)\n"
     ]
    }
   ],
   "source": [
    "target_column = ['DO_Dn']\n",
    "\n",
    "## Creating the training and testing data\n",
    "x_train,x_test,y_train,y_test,scaler = splitter(df_down,target_column,lag,duration,train_size)\n",
    "print(f'The shape of x_train is {x_train.shape} and x_test is {x_test.shape}')\n",
    "print(f'The shape of y_train is {y_train.shape} and y_test is {y_test.shape}')"
   ]
  },
  {
   "cell_type": "markdown",
   "metadata": {
    "id": "b9cAVaxljIYU"
   },
   "source": [
    "# Models"
   ]
  },
  {
   "cell_type": "code",
   "execution_count": 8,
   "metadata": {
    "ExecuteTime": {
     "end_time": "2022-03-23T13:50:14.090934Z",
     "start_time": "2022-03-23T13:50:14.085934Z"
    }
   },
   "outputs": [],
   "source": [
    "from pathlib import Path\n",
    "\n",
    "working_dir = Path('results_only_down')\n",
    "working_dir.mkdir(exist_ok=True)"
   ]
  },
  {
   "cell_type": "markdown",
   "metadata": {
    "heading_collapsed": true,
    "id": "fRNWbz6LjIYV"
   },
   "source": [
    "## LSTM Model"
   ]
  },
  {
   "cell_type": "code",
   "execution_count": 21,
   "metadata": {
    "ExecuteTime": {
     "end_time": "2022-03-21T02:56:06.831867Z",
     "start_time": "2022-03-21T02:56:06.817864Z"
    },
    "hidden": true,
    "id": "jfaE4PgRjIYV"
   },
   "outputs": [],
   "source": [
    "## Creating the prelimaries \n",
    "\n",
    "filepath_simple = working_dir / Path('simple_lstm.hdf5')\n",
    "filepath_attention = working_dir / Path('attention_lstm.hdf5')\n",
    "\n",
    "checkpoint_simple = keras.callbacks.ModelCheckpoint(filepath_simple,monitor='val_loss',save_best_only=True)\n",
    "checkpoint_attention = keras.callbacks.ModelCheckpoint(filepath_attention, monitor='val_loss',save_best_only=True)\n",
    "\n",
    "wk=Workbook()\n",
    "sheet1 = wk.add_sheet('Simple', cell_overwrite_ok=True)\n",
    "sheet2 = wk.add_sheet('Attention', cell_overwrite_ok=True)\n",
    "sheet3 = wk.add_sheet('Real-test', cell_overwrite_ok=True)\n",
    "sheet4 = wk.add_sheet('Predicted-test', cell_overwrite_ok=True)"
   ]
  },
  {
   "cell_type": "code",
   "execution_count": 22,
   "metadata": {
    "ExecuteTime": {
     "end_time": "2022-03-21T02:56:10.230644Z",
     "start_time": "2022-03-21T02:56:09.658022Z"
    },
    "hidden": true,
    "id": "Ly1g6GpLjIYV"
   },
   "outputs": [],
   "source": [
    "## Simple LSTM\n",
    "K.clear_session()\n",
    "simple_lstm = keras.Sequential()\n",
    "# Problem downgrade numpy==1.19.5 for next command\n",
    "simple_lstm.add(keras.layers.LSTM(64, return_sequences=True, input_shape=(x_train.shape[1], x_train.shape[2])))\n",
    "simple_lstm.add(keras.layers.LSTM(64, return_sequences=True))\n",
    "simple_lstm.add(keras.layers.Dropout(0.3))\n",
    "simple_lstm.add(keras.layers.LSTM(64, return_sequences=True))\n",
    "simple_lstm.add(keras.layers.LSTM(64, return_sequences=True))\n",
    "simple_lstm.add(keras.layers.Flatten())\n",
    "simple_lstm.add(keras.layers.Dense(512, activation='relu'))\n",
    "simple_lstm.add(keras.layers.Dense(128, activation='relu'))\n",
    "simple_lstm.add(keras.layers.Dense(64, activation='relu'))\n",
    "simple_lstm.add(keras.layers.Dropout(0.3))\n",
    "simple_lstm.add(keras.layers.Dense(32))\n",
    "simple_lstm.add(keras.layers.Dense(6))\n",
    "\n",
    "simple_lstm.compile(loss='mse', optimizer=keras.optimizers.Adam(learning_rate=LR), metrics=['mae'])"
   ]
  },
  {
   "cell_type": "code",
   "execution_count": 23,
   "metadata": {
    "ExecuteTime": {
     "end_time": "2022-03-21T02:59:57.903078Z",
     "start_time": "2022-03-21T02:56:11.789914Z"
    },
    "colab": {
     "base_uri": "https://localhost:8080/",
     "height": 1000
    },
    "hidden": true,
    "id": "_GuDIdywjIYW",
    "outputId": "2cc69531-72ef-40dc-fb64-5a854032df2f",
    "scrolled": true
   },
   "outputs": [
    {
     "name": "stdout",
     "output_type": "stream",
     "text": [
      "Epoch 1/30\n",
      "897/897 [==============================] - 11s 9ms/step - loss: 0.0113 - mae: 0.0740 - val_loss: 0.0064 - val_mae: 0.0667\n",
      "Epoch 2/30\n",
      "897/897 [==============================] - 8s 8ms/step - loss: 0.0045 - mae: 0.0516 - val_loss: 0.0044 - val_mae: 0.0513\n",
      "Epoch 3/30\n",
      "897/897 [==============================] - 7s 8ms/step - loss: 0.0035 - mae: 0.0447 - val_loss: 0.0033 - val_mae: 0.0441\n",
      "Epoch 4/30\n",
      "897/897 [==============================] - 7s 8ms/step - loss: 0.0027 - mae: 0.0393 - val_loss: 0.0029 - val_mae: 0.0428\n",
      "Epoch 5/30\n",
      "897/897 [==============================] - 7s 8ms/step - loss: 0.0025 - mae: 0.0374 - val_loss: 0.0025 - val_mae: 0.0369\n",
      "Epoch 6/30\n",
      "897/897 [==============================] - 7s 8ms/step - loss: 0.0023 - mae: 0.0358 - val_loss: 0.0020 - val_mae: 0.0306\n",
      "Epoch 7/30\n",
      "897/897 [==============================] - 7s 8ms/step - loss: 0.0022 - mae: 0.0347 - val_loss: 0.0018 - val_mae: 0.0314\n",
      "Epoch 8/30\n",
      "897/897 [==============================] - 7s 8ms/step - loss: 0.0021 - mae: 0.0340 - val_loss: 0.0022 - val_mae: 0.0350\n",
      "Epoch 9/30\n",
      "897/897 [==============================] - 7s 8ms/step - loss: 0.0020 - mae: 0.0335 - val_loss: 0.0021 - val_mae: 0.0338\n",
      "Epoch 10/30\n",
      "897/897 [==============================] - 7s 8ms/step - loss: 0.0019 - mae: 0.0326 - val_loss: 0.0020 - val_mae: 0.0332\n",
      "Epoch 11/30\n",
      "897/897 [==============================] - 8s 8ms/step - loss: 0.0019 - mae: 0.0324 - val_loss: 0.0019 - val_mae: 0.0342\n",
      "Epoch 12/30\n",
      "897/897 [==============================] - 8s 9ms/step - loss: 0.0019 - mae: 0.0324 - val_loss: 0.0018 - val_mae: 0.0303\n",
      "Epoch 13/30\n",
      "897/897 [==============================] - 8s 9ms/step - loss: 0.0019 - mae: 0.0319 - val_loss: 0.0016 - val_mae: 0.0290\n",
      "Epoch 14/30\n",
      "897/897 [==============================] - 7s 8ms/step - loss: 0.0018 - mae: 0.0315 - val_loss: 0.0017 - val_mae: 0.0289\n",
      "Epoch 15/30\n",
      "897/897 [==============================] - 7s 8ms/step - loss: 0.0018 - mae: 0.0316 - val_loss: 0.0017 - val_mae: 0.0300\n",
      "Epoch 16/30\n",
      "897/897 [==============================] - 7s 8ms/step - loss: 0.0018 - mae: 0.0310 - val_loss: 0.0019 - val_mae: 0.0324\n",
      "Epoch 17/30\n",
      "897/897 [==============================] - 7s 8ms/step - loss: 0.0018 - mae: 0.0310 - val_loss: 0.0019 - val_mae: 0.0328\n",
      "Epoch 18/30\n",
      "897/897 [==============================] - 7s 8ms/step - loss: 0.0017 - mae: 0.0307 - val_loss: 0.0017 - val_mae: 0.0296\n",
      "Epoch 19/30\n",
      "897/897 [==============================] - 7s 8ms/step - loss: 0.0017 - mae: 0.0303 - val_loss: 0.0016 - val_mae: 0.0279\n",
      "Epoch 20/30\n",
      "897/897 [==============================] - 7s 8ms/step - loss: 0.0017 - mae: 0.0301 - val_loss: 0.0016 - val_mae: 0.0269\n",
      "Epoch 21/30\n",
      "897/897 [==============================] - 7s 8ms/step - loss: 0.0016 - mae: 0.0299 - val_loss: 0.0014 - val_mae: 0.0266\n",
      "Epoch 22/30\n",
      "897/897 [==============================] - 7s 8ms/step - loss: 0.0016 - mae: 0.0298 - val_loss: 0.0018 - val_mae: 0.0318\n",
      "Epoch 23/30\n",
      "897/897 [==============================] - 7s 8ms/step - loss: 0.0016 - mae: 0.0299 - val_loss: 0.0015 - val_mae: 0.0266\n",
      "Epoch 24/30\n",
      "897/897 [==============================] - 7s 8ms/step - loss: 0.0016 - mae: 0.0297 - val_loss: 0.0015 - val_mae: 0.0270\n",
      "Epoch 25/30\n",
      "897/897 [==============================] - 7s 8ms/step - loss: 0.0016 - mae: 0.0298 - val_loss: 0.0014 - val_mae: 0.0263\n",
      "Epoch 26/30\n",
      "897/897 [==============================] - 8s 8ms/step - loss: 0.0016 - mae: 0.0294 - val_loss: 0.0016 - val_mae: 0.0289\n",
      "Epoch 27/30\n",
      "897/897 [==============================] - 7s 8ms/step - loss: 0.0016 - mae: 0.0292 - val_loss: 0.0018 - val_mae: 0.0308\n",
      "Epoch 28/30\n",
      "897/897 [==============================] - 7s 8ms/step - loss: 0.0016 - mae: 0.0296 - val_loss: 0.0015 - val_mae: 0.0262\n",
      "Epoch 29/30\n",
      "897/897 [==============================] - 7s 8ms/step - loss: 0.0016 - mae: 0.0291 - val_loss: 0.0015 - val_mae: 0.0271\n",
      "Epoch 30/30\n",
      "897/897 [==============================] - 7s 8ms/step - loss: 0.0016 - mae: 0.0290 - val_loss: 0.0015 - val_mae: 0.0273\n"
     ]
    },
    {
     "data": {
      "image/png": "[encoded data removed]",
      "text/plain": [
       "<Figure size 432x288 with 1 Axes>"
      ]
     },
     "metadata": {
      "needs_background": "light"
     },
     "output_type": "display_data"
    },
    {
     "name": "stdout",
     "output_type": "stream",
     "text": [
      "The Mean Squared Error is: 0.525206119767404\n"
     ]
    }
   ],
   "source": [
    "## Saving the result file to the folder of the model\n",
    "history = simple_lstm.fit(x_train,y_train,validation_split=0.1,batch_size=BATCH_SIZE,epochs=EPOCHS,callbacks=[checkpoint_simple])\n",
    "\n",
    "plt.plot(history.history['loss'],'r',label='Training Loss')\n",
    "plt.plot(history.history['val_loss'],'b',label='Validation Loss')\n",
    "plt.title('Losses')\n",
    "plt.xlabel('Epochs')\n",
    "plt.ylabel('Loss')\n",
    "plt.legend()\n",
    "plt.show()\n",
    "\n",
    "simple_lstm.load_weights(filepath_simple)\n",
    "preds = simple_lstm.predict(x_test)\n",
    "\n",
    "y_test_unscaled = scaler.inverse_transform(y_test)\n",
    "y_pred_unscaled = scaler.inverse_transform(preds)\n",
    "\n",
    "e_mse = mse(y_test_unscaled[:,5],y_pred_unscaled[:,5])\n",
    "print(f'The Mean Squared Error is: {e_mse}')\n",
    "\n",
    "for i in range(y_test.shape[1]):\n",
    "        sheet1.write(0, 0, 'MSE')\n",
    "        sheet1.write(0, 1, 'Hours Ahead')\n",
    "        sheet1.write(i + 1, 0, mse(y_test_unscaled[:,i],y_pred_unscaled[:,i]))\n",
    "        sheet1.write(i + 1, 1, i+1)\n"
   ]
  },
  {
   "cell_type": "code",
   "execution_count": 24,
   "metadata": {
    "ExecuteTime": {
     "end_time": "2022-03-21T03:01:00.197828Z",
     "start_time": "2022-03-21T03:00:59.603113Z"
    },
    "hidden": true,
    "id": "vcqYFpeqjIYW"
   },
   "outputs": [],
   "source": [
    "## Attention model\n",
    "K.clear_session()\n",
    "atten_lstm = keras.Sequential()\n",
    "atten_lstm.add(keras.layers.LSTM(64, return_sequences=True, input_shape=(x_train.shape[1], x_train.shape[2])))\n",
    "atten_lstm.add(keras.layers.LSTM(64, return_sequences=True))\n",
    "atten_lstm.add(keras.layers.Dropout(0.3))\n",
    "atten_lstm.add(keras.layers.LSTM(64, return_sequences=True))\n",
    "atten_lstm.add(keras.layers.LSTM(64, return_sequences=True))\n",
    "atten_lstm.add(attention(return_sequences=True))\n",
    "atten_lstm.add(keras.layers.Flatten())\n",
    "atten_lstm.add(keras.layers.Dense(512, activation='relu'))\n",
    "atten_lstm.add(keras.layers.Dense(128, activation='relu'))\n",
    "atten_lstm.add(keras.layers.Dense(64, activation='relu'))\n",
    "atten_lstm.add(keras.layers.Dropout(0.3))\n",
    "atten_lstm.add(keras.layers.Dense(32))\n",
    "atten_lstm.add(keras.layers.Dense(6))\n",
    "\n",
    "atten_lstm.compile(loss='mse', optimizer=keras.optimizers.Adam(learning_rate=LR), metrics=['mae'])"
   ]
  },
  {
   "cell_type": "code",
   "execution_count": 25,
   "metadata": {
    "ExecuteTime": {
     "end_time": "2022-03-21T03:05:38.466616Z",
     "start_time": "2022-03-21T03:01:43.242115Z"
    },
    "colab": {
     "base_uri": "https://localhost:8080/",
     "height": 491
    },
    "hidden": true,
    "id": "Opm4Zr70jIYW",
    "outputId": "a4fd7ae1-caf4-4f46-fdd5-1cc0055d13b1",
    "scrolled": true
   },
   "outputs": [
    {
     "name": "stdout",
     "output_type": "stream",
     "text": [
      "Epoch 1/30\n",
      "897/897 [==============================] - 12s 9ms/step - loss: 0.0125 - mae: 0.0765 - val_loss: 0.0062 - val_mae: 0.0631\n",
      "Epoch 2/30\n",
      "897/897 [==============================] - 7s 8ms/step - loss: 0.0047 - mae: 0.0531 - val_loss: 0.0053 - val_mae: 0.0599\n",
      "Epoch 3/30\n",
      "897/897 [==============================] - 8s 8ms/step - loss: 0.0042 - mae: 0.0497 - val_loss: 0.0043 - val_mae: 0.0507\n",
      "Epoch 4/30\n",
      "897/897 [==============================] - 7s 8ms/step - loss: 0.0036 - mae: 0.0461 - val_loss: 0.0043 - val_mae: 0.0520\n",
      "Epoch 5/30\n",
      "897/897 [==============================] - 7s 8ms/step - loss: 0.0033 - mae: 0.0436 - val_loss: 0.0038 - val_mae: 0.0478\n",
      "Epoch 6/30\n",
      "897/897 [==============================] - 7s 8ms/step - loss: 0.0029 - mae: 0.0408 - val_loss: 0.0030 - val_mae: 0.0424\n",
      "Epoch 7/30\n",
      "897/897 [==============================] - 8s 8ms/step - loss: 0.0026 - mae: 0.0384 - val_loss: 0.0024 - val_mae: 0.0352\n",
      "Epoch 8/30\n",
      "897/897 [==============================] - 8s 9ms/step - loss: 0.0024 - mae: 0.0367 - val_loss: 0.0028 - val_mae: 0.0414\n",
      "Epoch 9/30\n",
      "897/897 [==============================] - 8s 8ms/step - loss: 0.0023 - mae: 0.0360 - val_loss: 0.0022 - val_mae: 0.0331\n",
      "Epoch 10/30\n",
      "897/897 [==============================] - 8s 9ms/step - loss: 0.0022 - mae: 0.0349 - val_loss: 0.0021 - val_mae: 0.0332\n",
      "Epoch 11/30\n",
      "897/897 [==============================] - 8s 9ms/step - loss: 0.0022 - mae: 0.0347 - val_loss: 0.0025 - val_mae: 0.0379\n",
      "Epoch 12/30\n",
      "897/897 [==============================] - 8s 8ms/step - loss: 0.0021 - mae: 0.0341 - val_loss: 0.0021 - val_mae: 0.0347\n",
      "Epoch 13/30\n",
      "897/897 [==============================] - 8s 9ms/step - loss: 0.0020 - mae: 0.0336 - val_loss: 0.0018 - val_mae: 0.0307\n",
      "Epoch 14/30\n",
      "897/897 [==============================] - 8s 8ms/step - loss: 0.0020 - mae: 0.0331 - val_loss: 0.0021 - val_mae: 0.0332\n",
      "Epoch 15/30\n",
      "897/897 [==============================] - 8s 8ms/step - loss: 0.0020 - mae: 0.0329 - val_loss: 0.0017 - val_mae: 0.0292\n",
      "Epoch 16/30\n",
      "897/897 [==============================] - 8s 8ms/step - loss: 0.0019 - mae: 0.0324 - val_loss: 0.0020 - val_mae: 0.0330\n",
      "Epoch 17/30\n",
      "897/897 [==============================] - 8s 8ms/step - loss: 0.0019 - mae: 0.0321 - val_loss: 0.0018 - val_mae: 0.0297\n",
      "Epoch 18/30\n",
      "897/897 [==============================] - 8s 8ms/step - loss: 0.0019 - mae: 0.0320 - val_loss: 0.0017 - val_mae: 0.0308\n",
      "Epoch 19/30\n",
      "897/897 [==============================] - 8s 9ms/step - loss: 0.0018 - mae: 0.0317 - val_loss: 0.0022 - val_mae: 0.0336\n",
      "Epoch 20/30\n",
      "897/897 [==============================] - 7s 8ms/step - loss: 0.0018 - mae: 0.0315 - val_loss: 0.0019 - val_mae: 0.0303\n",
      "Epoch 21/30\n",
      "897/897 [==============================] - 8s 8ms/step - loss: 0.0018 - mae: 0.0310 - val_loss: 0.0017 - val_mae: 0.0280\n",
      "Epoch 22/30\n",
      "897/897 [==============================] - 8s 8ms/step - loss: 0.0018 - mae: 0.0311 - val_loss: 0.0020 - val_mae: 0.0342\n",
      "Epoch 23/30\n",
      "897/897 [==============================] - 8s 9ms/step - loss: 0.0018 - mae: 0.0310 - val_loss: 0.0019 - val_mae: 0.0298\n",
      "Epoch 24/30\n",
      "897/897 [==============================] - 8s 9ms/step - loss: 0.0018 - mae: 0.0309 - val_loss: 0.0015 - val_mae: 0.0267\n",
      "Epoch 25/30\n",
      "897/897 [==============================] - 8s 9ms/step - loss: 0.0017 - mae: 0.0307 - val_loss: 0.0015 - val_mae: 0.0270\n",
      "Epoch 26/30\n",
      "897/897 [==============================] - 8s 9ms/step - loss: 0.0017 - mae: 0.0307 - val_loss: 0.0017 - val_mae: 0.0304\n",
      "Epoch 27/30\n",
      "897/897 [==============================] - 8s 9ms/step - loss: 0.0017 - mae: 0.0305 - val_loss: 0.0018 - val_mae: 0.0303\n",
      "Epoch 28/30\n",
      "897/897 [==============================] - 8s 8ms/step - loss: 0.0017 - mae: 0.0305 - val_loss: 0.0016 - val_mae: 0.0269\n",
      "Epoch 29/30\n",
      "897/897 [==============================] - 7s 8ms/step - loss: 0.0017 - mae: 0.0306 - val_loss: 0.0016 - val_mae: 0.0279\n",
      "Epoch 30/30\n",
      "897/897 [==============================] - 7s 8ms/step - loss: 0.0016 - mae: 0.0300 - val_loss: 0.0017 - val_mae: 0.0290\n"
     ]
    },
    {
     "data": {
      "image/png": "[encoded data removed]",
      "text/plain": [
       "<Figure size 432x288 with 1 Axes>"
      ]
     },
     "metadata": {
      "needs_background": "light"
     },
     "output_type": "display_data"
    },
    {
     "name": "stdout",
     "output_type": "stream",
     "text": [
      "The Mean Squared Error is: 0.45760697291457963\n"
     ]
    }
   ],
   "source": [
    "history = atten_lstm.fit(x_train,y_train,validation_split=0.1,batch_size=BATCH_SIZE,epochs=EPOCHS,callbacks=[checkpoint_attention])\n",
    "\n",
    "plt.plot(history.history['loss'],'r',label='Training Loss')\n",
    "plt.plot(history.history['val_loss'],'b',label='Validation Loss')\n",
    "plt.legend()\n",
    "plt.show()\n",
    "\n",
    "atten_lstm.load_weights(filepath_attention)\n",
    "preds = atten_lstm.predict(x_test)\n",
    "\n",
    "y_test_unscaled = scaler.inverse_transform(y_test)\n",
    "y_pred_unscaled = scaler.inverse_transform(preds)\n",
    "\n",
    "e_mse = mse(y_test_unscaled[:,5],y_pred_unscaled[:,5])\n",
    "print(f'The Mean Squared Error is: {e_mse}')\n",
    "\n",
    "for i in range(y_test.shape[1]):\n",
    "        sheet2.write(0, 0, 'MSE')\n",
    "        sheet2.write(0, 1, 'Hours Ahead')\n",
    "        sheet2.write(i + 1, 0, mse(y_test_unscaled[:,i],y_pred_unscaled[:,i]))\n",
    "        sheet2.write(i + 1, 1, i+1)\n",
    "        sheet3.write(0, i, \"Real-test\")\n",
    "        sheet4.write(0, i, \"Predicted_test\")\n",
    "        for j in range(y_test_unscaled.shape[0]):\n",
    "                 sheet3.write(j + 1, i, float(y_test_unscaled[j, i]))\n",
    "        for k in range(y_pred_unscaled.shape[0]):\n",
    "                 sheet4.write(k + 1, i, float(y_pred_unscaled[k, i]))   \n",
    "\n",
    "wk.save(working_dir / Path('LSTM Result.xls'))"
   ]
  },
  {
   "cell_type": "markdown",
   "metadata": {
    "heading_collapsed": true,
    "id": "FoT8N7BvjIYX"
   },
   "source": [
    "## CNN-LSTM"
   ]
  },
  {
   "cell_type": "code",
   "execution_count": 26,
   "metadata": {
    "ExecuteTime": {
     "end_time": "2022-03-21T03:06:49.811994Z",
     "start_time": "2022-03-21T03:06:49.802002Z"
    },
    "hidden": true,
    "id": "TEsFTBGJjIYX"
   },
   "outputs": [],
   "source": [
    "## Creating the prelimaries \n",
    "\n",
    "filepath_simple = working_dir / Path('simple_cnnlstm.hdf5')\n",
    "filepath_attention = working_dir / Path('attention_cnnlstm.hdf5')\n",
    "\n",
    "checkpoint_simple = keras.callbacks.ModelCheckpoint(filepath_simple,monitor='val_loss',save_best_only=True)\n",
    "checkpoint_attention = keras.callbacks.ModelCheckpoint(filepath_attention, monitor='val_loss',save_best_only=True)\n",
    "\n",
    "wk=Workbook()\n",
    "sheet1 = wk.add_sheet('Simple', cell_overwrite_ok=True)\n",
    "sheet2 = wk.add_sheet('Attention', cell_overwrite_ok=True)\n",
    "sheet3 = wk.add_sheet('Real-test', cell_overwrite_ok=True)\n",
    "sheet4 = wk.add_sheet('Predicted-test', cell_overwrite_ok=True)"
   ]
  },
  {
   "cell_type": "code",
   "execution_count": 27,
   "metadata": {
    "ExecuteTime": {
     "end_time": "2022-03-21T03:06:52.848038Z",
     "start_time": "2022-03-21T03:06:52.529255Z"
    },
    "hidden": true,
    "id": "WLL6FLHUjIYX"
   },
   "outputs": [],
   "source": [
    "## Simple CNN-LSTM model\n",
    "K.clear_session()\n",
    "simple_cnnlstm = keras.Sequential()\n",
    "simple_cnnlstm.add(keras.layers.Conv1D(64, kernel_size=3, input_shape=(x_train.shape[1],x_train.shape[2])))\n",
    "simple_cnnlstm.add(keras.layers.Conv1D(64, kernel_size=3))\n",
    "simple_cnnlstm.add(keras.layers.LSTM(64, return_sequences=True))\n",
    "simple_cnnlstm.add(keras.layers.LSTM(64, return_sequences=True))\n",
    "simple_cnnlstm.add(keras.layers.Flatten())\n",
    "simple_cnnlstm.add(keras.layers.Dense(512, activation='relu'))\n",
    "simple_cnnlstm.add(keras.layers.Dense(128, activation='relu'))\n",
    "simple_cnnlstm.add(keras.layers.Dense(64, activation='relu'))\n",
    "simple_cnnlstm.add(keras.layers.Dense(32))\n",
    "simple_cnnlstm.add(keras.layers.Dense(6))\n",
    "\n",
    "simple_cnnlstm.compile(loss='mse', optimizer=keras.optimizers.Adam(learning_rate=LR), metrics=['mae'])"
   ]
  },
  {
   "cell_type": "code",
   "execution_count": 28,
   "metadata": {
    "ExecuteTime": {
     "end_time": "2022-03-21T03:09:27.714998Z",
     "start_time": "2022-03-21T03:06:59.850139Z"
    },
    "colab": {
     "base_uri": "https://localhost:8080/",
     "height": 491
    },
    "hidden": true,
    "id": "IwbTMv_bjIYX",
    "outputId": "3c3a6e97-d49f-4d88-ce4e-9e685099c72b",
    "scrolled": true
   },
   "outputs": [
    {
     "name": "stdout",
     "output_type": "stream",
     "text": [
      "Epoch 1/30\n",
      "897/897 [==============================] - 9s 6ms/step - loss: 0.0060 - mae: 0.0478 - val_loss: 0.0031 - val_mae: 0.0412\n",
      "Epoch 2/30\n",
      "897/897 [==============================] - 5s 5ms/step - loss: 0.0018 - mae: 0.0310 - val_loss: 0.0029 - val_mae: 0.0368\n",
      "Epoch 3/30\n",
      "897/897 [==============================] - 5s 5ms/step - loss: 0.0015 - mae: 0.0271 - val_loss: 0.0020 - val_mae: 0.0317\n",
      "Epoch 4/30\n",
      "897/897 [==============================] - 5s 5ms/step - loss: 0.0014 - mae: 0.0260 - val_loss: 0.0020 - val_mae: 0.0324\n",
      "Epoch 5/30\n",
      "897/897 [==============================] - 5s 5ms/step - loss: 0.0013 - mae: 0.0252 - val_loss: 0.0019 - val_mae: 0.0327\n",
      "Epoch 6/30\n",
      "897/897 [==============================] - 5s 5ms/step - loss: 0.0013 - mae: 0.0252 - val_loss: 0.0021 - val_mae: 0.0331\n",
      "Epoch 7/30\n",
      "897/897 [==============================] - 5s 5ms/step - loss: 0.0012 - mae: 0.0241 - val_loss: 0.0019 - val_mae: 0.0315\n",
      "Epoch 8/30\n",
      "897/897 [==============================] - 5s 5ms/step - loss: 0.0012 - mae: 0.0235 - val_loss: 0.0022 - val_mae: 0.0352\n",
      "Epoch 9/30\n",
      "897/897 [==============================] - 5s 5ms/step - loss: 0.0011 - mae: 0.0229 - val_loss: 0.0018 - val_mae: 0.0294\n",
      "Epoch 10/30\n",
      "897/897 [==============================] - 5s 5ms/step - loss: 0.0011 - mae: 0.0228 - val_loss: 0.0016 - val_mae: 0.0278\n",
      "Epoch 11/30\n",
      "897/897 [==============================] - 5s 5ms/step - loss: 0.0010 - mae: 0.0220 - val_loss: 0.0018 - val_mae: 0.0311\n",
      "Epoch 12/30\n",
      "897/897 [==============================] - 5s 5ms/step - loss: 0.0010 - mae: 0.0220 - val_loss: 0.0017 - val_mae: 0.0297\n",
      "Epoch 13/30\n",
      "897/897 [==============================] - 5s 5ms/step - loss: 0.0010 - mae: 0.0219 - val_loss: 0.0017 - val_mae: 0.0285\n",
      "Epoch 14/30\n",
      "897/897 [==============================] - 5s 5ms/step - loss: 9.8792e-04 - mae: 0.0214 - val_loss: 0.0014 - val_mae: 0.0252\n",
      "Epoch 15/30\n",
      "897/897 [==============================] - 5s 5ms/step - loss: 9.3082e-04 - mae: 0.0205 - val_loss: 0.0013 - val_mae: 0.0245\n",
      "Epoch 16/30\n",
      "897/897 [==============================] - 5s 5ms/step - loss: 9.3968e-04 - mae: 0.0208 - val_loss: 0.0012 - val_mae: 0.0236\n",
      "Epoch 17/30\n",
      "897/897 [==============================] - 5s 5ms/step - loss: 9.0754e-04 - mae: 0.0204 - val_loss: 0.0013 - val_mae: 0.0251\n",
      "Epoch 18/30\n",
      "897/897 [==============================] - 5s 5ms/step - loss: 9.0200e-04 - mae: 0.0203 - val_loss: 0.0013 - val_mae: 0.0248\n",
      "Epoch 19/30\n",
      "897/897 [==============================] - 5s 5ms/step - loss: 8.7756e-04 - mae: 0.0200 - val_loss: 0.0013 - val_mae: 0.0250\n",
      "Epoch 20/30\n",
      "897/897 [==============================] - 5s 5ms/step - loss: 8.4812e-04 - mae: 0.0196 - val_loss: 0.0012 - val_mae: 0.0232\n",
      "Epoch 21/30\n",
      "897/897 [==============================] - 5s 5ms/step - loss: 8.3000e-04 - mae: 0.0193 - val_loss: 0.0013 - val_mae: 0.0240\n",
      "Epoch 22/30\n",
      "897/897 [==============================] - 5s 5ms/step - loss: 8.2299e-04 - mae: 0.0192 - val_loss: 0.0012 - val_mae: 0.0236\n",
      "Epoch 23/30\n",
      "897/897 [==============================] - 5s 5ms/step - loss: 8.3635e-04 - mae: 0.0196 - val_loss: 0.0014 - val_mae: 0.0257\n",
      "Epoch 24/30\n",
      "897/897 [==============================] - 5s 6ms/step - loss: 8.1293e-04 - mae: 0.0192 - val_loss: 0.0015 - val_mae: 0.0269\n",
      "Epoch 25/30\n",
      "897/897 [==============================] - 5s 6ms/step - loss: 7.8612e-04 - mae: 0.0187 - val_loss: 0.0015 - val_mae: 0.0257\n",
      "Epoch 26/30\n",
      "897/897 [==============================] - 5s 5ms/step - loss: 7.9304e-04 - mae: 0.0189 - val_loss: 0.0014 - val_mae: 0.0249\n",
      "Epoch 27/30\n",
      "897/897 [==============================] - 5s 5ms/step - loss: 7.7521e-04 - mae: 0.0186 - val_loss: 0.0015 - val_mae: 0.0261\n",
      "Epoch 28/30\n",
      "897/897 [==============================] - 5s 5ms/step - loss: 7.6901e-04 - mae: 0.0185 - val_loss: 0.0013 - val_mae: 0.0238\n",
      "Epoch 29/30\n",
      "897/897 [==============================] - 5s 5ms/step - loss: 7.4643e-04 - mae: 0.0183 - val_loss: 0.0012 - val_mae: 0.0229\n",
      "Epoch 30/30\n",
      "897/897 [==============================] - 5s 5ms/step - loss: 7.3839e-04 - mae: 0.0182 - val_loss: 0.0012 - val_mae: 0.0231\n"
     ]
    },
    {
     "data": {
      "image/png": "[encoded data removed]",
      "text/plain": [
       "<Figure size 432x288 with 1 Axes>"
      ]
     },
     "metadata": {
      "needs_background": "light"
     },
     "output_type": "display_data"
    },
    {
     "name": "stdout",
     "output_type": "stream",
     "text": [
      "The Mean Squared Error is: 0.46427766819806293\n"
     ]
    }
   ],
   "source": [
    "history = simple_cnnlstm.fit(x_train,y_train,validation_split=0.1,batch_size=BATCH_SIZE,epochs=EPOCHS,callbacks=[checkpoint_simple])\n",
    "\n",
    "plt.plot(history.history['loss'],'r',label='Training Loss')\n",
    "plt.plot(history.history['val_loss'],'b',label='Validation Loss')\n",
    "plt.legend()\n",
    "plt.show()\n",
    "\n",
    "simple_cnnlstm.load_weights(filepath_simple)\n",
    "preds = simple_cnnlstm.predict(x_test)\n",
    "\n",
    "y_test_unscaled = scaler.inverse_transform(y_test)\n",
    "y_pred_unscaled = scaler.inverse_transform(preds)\n",
    "\n",
    "e_mse = mse(y_test_unscaled[:,5],y_pred_unscaled[:,5])\n",
    "print(f'The Mean Squared Error is: {e_mse}')\n",
    "\n",
    "for i in range(y_test.shape[1]):\n",
    "        sheet1.write(0, 0, 'MSE')\n",
    "        sheet1.write(0, 1, 'Hours Ahead')\n",
    "        sheet1.write(i + 1, 0, mse(y_test_unscaled[:,i],y_pred_unscaled[:,i]))\n",
    "        sheet1.write(i + 1, 1, i+1)\n"
   ]
  },
  {
   "cell_type": "code",
   "execution_count": 29,
   "metadata": {
    "ExecuteTime": {
     "end_time": "2022-03-21T03:12:23.083041Z",
     "start_time": "2022-03-21T03:12:22.739779Z"
    },
    "hidden": true,
    "id": "PaOu17jGjIYX"
   },
   "outputs": [],
   "source": [
    "## Attention model\n",
    "K.clear_session()\n",
    "atten_cnnlstm = keras.Sequential()\n",
    "atten_cnnlstm.add(keras.layers.Conv1D(64, kernel_size=3, input_shape=(x_train.shape[1],x_train.shape[2])))\n",
    "atten_cnnlstm.add(keras.layers.Conv1D(64, kernel_size=3))\n",
    "atten_cnnlstm.add(keras.layers.LSTM(64, return_sequences=True))\n",
    "atten_cnnlstm.add(keras.layers.LSTM(64, return_sequences=True))\n",
    "atten_cnnlstm.add(attention(return_sequences=True))\n",
    "atten_cnnlstm.add(keras.layers.Flatten())\n",
    "atten_cnnlstm.add(keras.layers.Dense(512, activation='relu'))\n",
    "atten_cnnlstm.add(keras.layers.Dense(128, activation='relu'))\n",
    "atten_cnnlstm.add(keras.layers.Dense(64, activation='relu'))\n",
    "atten_cnnlstm.add(keras.layers.Dense(32))\n",
    "atten_cnnlstm.add(keras.layers.Dense(6))\n",
    "\n",
    "atten_cnnlstm.compile(loss='mse', optimizer=keras.optimizers.Adam(learning_rate=LR), metrics=['mae'])"
   ]
  },
  {
   "cell_type": "code",
   "execution_count": 30,
   "metadata": {
    "ExecuteTime": {
     "end_time": "2022-03-21T03:15:22.323752Z",
     "start_time": "2022-03-21T03:12:47.146161Z"
    },
    "colab": {
     "base_uri": "https://localhost:8080/",
     "height": 473
    },
    "hidden": true,
    "id": "8JzXu2h7jIYX",
    "outputId": "f76fc8d2-e2c1-4f9e-bfbe-9ef0a1321069",
    "scrolled": true
   },
   "outputs": [
    {
     "name": "stdout",
     "output_type": "stream",
     "text": [
      "Epoch 1/30\n",
      "897/897 [==============================] - 8s 6ms/step - loss: 0.0073 - mae: 0.0517 - val_loss: 0.0035 - val_mae: 0.0434\n",
      "Epoch 2/30\n",
      "897/897 [==============================] - 5s 6ms/step - loss: 0.0020 - mae: 0.0325 - val_loss: 0.0030 - val_mae: 0.0362\n",
      "Epoch 3/30\n",
      "897/897 [==============================] - 5s 6ms/step - loss: 0.0015 - mae: 0.0275 - val_loss: 0.0020 - val_mae: 0.0308\n",
      "Epoch 4/30\n",
      "897/897 [==============================] - 5s 6ms/step - loss: 0.0014 - mae: 0.0262 - val_loss: 0.0021 - val_mae: 0.0331\n",
      "Epoch 5/30\n",
      "897/897 [==============================] - 5s 6ms/step - loss: 0.0013 - mae: 0.0250 - val_loss: 0.0018 - val_mae: 0.0313\n",
      "Epoch 6/30\n",
      "897/897 [==============================] - 5s 6ms/step - loss: 0.0013 - mae: 0.0251 - val_loss: 0.0020 - val_mae: 0.0322\n",
      "Epoch 7/30\n",
      "897/897 [==============================] - 5s 6ms/step - loss: 0.0012 - mae: 0.0243 - val_loss: 0.0019 - val_mae: 0.0316\n",
      "Epoch 8/30\n",
      "897/897 [==============================] - 5s 6ms/step - loss: 0.0012 - mae: 0.0234 - val_loss: 0.0020 - val_mae: 0.0324\n",
      "Epoch 9/30\n",
      "897/897 [==============================] - 5s 6ms/step - loss: 0.0011 - mae: 0.0229 - val_loss: 0.0017 - val_mae: 0.0290\n",
      "Epoch 10/30\n",
      "897/897 [==============================] - 5s 6ms/step - loss: 0.0011 - mae: 0.0230 - val_loss: 0.0018 - val_mae: 0.0294\n",
      "Epoch 11/30\n",
      "897/897 [==============================] - 5s 5ms/step - loss: 0.0010 - mae: 0.0219 - val_loss: 0.0019 - val_mae: 0.0304\n",
      "Epoch 12/30\n",
      "897/897 [==============================] - 5s 5ms/step - loss: 0.0011 - mae: 0.0222 - val_loss: 0.0020 - val_mae: 0.0329\n",
      "Epoch 13/30\n",
      "897/897 [==============================] - 5s 6ms/step - loss: 0.0010 - mae: 0.0220 - val_loss: 0.0016 - val_mae: 0.0275\n",
      "Epoch 14/30\n",
      "897/897 [==============================] - 5s 6ms/step - loss: 9.8401e-04 - mae: 0.0212 - val_loss: 0.0014 - val_mae: 0.0248\n",
      "Epoch 15/30\n",
      "897/897 [==============================] - 5s 6ms/step - loss: 9.4401e-04 - mae: 0.0206 - val_loss: 0.0016 - val_mae: 0.0276\n",
      "Epoch 16/30\n",
      "897/897 [==============================] - 5s 6ms/step - loss: 9.4134e-04 - mae: 0.0207 - val_loss: 0.0013 - val_mae: 0.0243\n",
      "Epoch 17/30\n",
      "897/897 [==============================] - 5s 5ms/step - loss: 9.0929e-04 - mae: 0.0203 - val_loss: 0.0014 - val_mae: 0.0269\n",
      "Epoch 18/30\n",
      "897/897 [==============================] - 5s 5ms/step - loss: 8.9788e-04 - mae: 0.0202 - val_loss: 0.0014 - val_mae: 0.0259\n",
      "Epoch 19/30\n",
      "897/897 [==============================] - 5s 5ms/step - loss: 8.8674e-04 - mae: 0.0201 - val_loss: 0.0013 - val_mae: 0.0249\n",
      "Epoch 20/30\n",
      "897/897 [==============================] - 5s 5ms/step - loss: 8.5869e-04 - mae: 0.0198 - val_loss: 0.0012 - val_mae: 0.0229\n",
      "Epoch 21/30\n",
      "897/897 [==============================] - 5s 6ms/step - loss: 8.3169e-04 - mae: 0.0192 - val_loss: 0.0012 - val_mae: 0.0227\n",
      "Epoch 22/30\n",
      "897/897 [==============================] - 5s 6ms/step - loss: 8.2738e-04 - mae: 0.0192 - val_loss: 0.0013 - val_mae: 0.0243\n",
      "Epoch 23/30\n",
      "897/897 [==============================] - 5s 6ms/step - loss: 8.3350e-04 - mae: 0.0194 - val_loss: 0.0015 - val_mae: 0.0256\n",
      "Epoch 24/30\n",
      "897/897 [==============================] - 5s 6ms/step - loss: 8.0778e-04 - mae: 0.0190 - val_loss: 0.0014 - val_mae: 0.0255\n",
      "Epoch 25/30\n",
      "897/897 [==============================] - 5s 6ms/step - loss: 7.9656e-04 - mae: 0.0189 - val_loss: 0.0016 - val_mae: 0.0258\n",
      "Epoch 26/30\n",
      "897/897 [==============================] - 5s 6ms/step - loss: 8.0197e-04 - mae: 0.0189 - val_loss: 0.0016 - val_mae: 0.0272\n",
      "Epoch 27/30\n",
      "897/897 [==============================] - 5s 6ms/step - loss: 7.8110e-04 - mae: 0.0186 - val_loss: 0.0012 - val_mae: 0.0225\n",
      "Epoch 28/30\n",
      "897/897 [==============================] - 5s 5ms/step - loss: 7.7129e-04 - mae: 0.0185 - val_loss: 0.0013 - val_mae: 0.0237\n",
      "Epoch 29/30\n",
      "897/897 [==============================] - 5s 6ms/step - loss: 7.4906e-04 - mae: 0.0183 - val_loss: 0.0012 - val_mae: 0.0231\n",
      "Epoch 30/30\n",
      "897/897 [==============================] - 5s 6ms/step - loss: 7.4896e-04 - mae: 0.0183 - val_loss: 0.0012 - val_mae: 0.0233\n"
     ]
    },
    {
     "data": {
      "image/png": "[encoded data removed]",
      "text/plain": [
       "<Figure size 432x288 with 1 Axes>"
      ]
     },
     "metadata": {
      "needs_background": "light"
     },
     "output_type": "display_data"
    },
    {
     "name": "stdout",
     "output_type": "stream",
     "text": [
      "The Mean Squared Error is: 0.481596069473155\n"
     ]
    }
   ],
   "source": [
    "history = atten_cnnlstm.fit(x_train,y_train,validation_split=0.1,batch_size=BATCH_SIZE,epochs=EPOCHS,callbacks=[checkpoint_attention])\n",
    "\n",
    "plt.plot(history.history['loss'],'r',label='Training Loss')\n",
    "plt.plot(history.history['val_loss'],'b',label='Validation Loss')\n",
    "plt.legend()\n",
    "plt.show()\n",
    "\n",
    "atten_cnnlstm.load_weights(filepath_attention)\n",
    "preds = atten_cnnlstm.predict(x_test)\n",
    "\n",
    "y_test_unscaled = scaler.inverse_transform(y_test)\n",
    "y_pred_unscaled = scaler.inverse_transform(preds)\n",
    "\n",
    "\n",
    "e_mse = mse(y_test_unscaled[:,5],y_pred_unscaled[:,5])\n",
    "print(f'The Mean Squared Error is: {e_mse}')\n",
    "\n",
    "for i in range(y_test.shape[1]):\n",
    "        sheet2.write(0, 0, 'MSE')\n",
    "        sheet2.write(0, 1, 'Hours Ahead')\n",
    "        sheet2.write(i + 1, 0, mse(y_test_unscaled[:,i],y_pred_unscaled[:,i]))\n",
    "        sheet2.write(i + 1, 1, i+1)\n",
    "\n",
    "        sheet3.write(0,i,\"Real-test\")\n",
    "        sheet4.write(0,i,\"Predicted_test\")\n",
    "        for j in range(y_test_unscaled.shape[0]):\n",
    "                sheet3.write(j+1,i,float(y_test_unscaled[j,i]))\n",
    "        for k in range(y_pred_unscaled.shape[0]):\n",
    "                sheet4.write(k+1,i,float(y_pred_unscaled[k,i]))\n",
    "            \n",
    "wk.save(working_dir / Path('CNN-LSTM Results.xls'))\n"
   ]
  },
  {
   "cell_type": "markdown",
   "metadata": {
    "heading_collapsed": true,
    "id": "ZcRUNyVejIYY"
   },
   "source": [
    "## ConvLSTM Model"
   ]
  },
  {
   "cell_type": "code",
   "execution_count": 9,
   "metadata": {
    "ExecuteTime": {
     "end_time": "2022-03-23T13:50:28.497553Z",
     "start_time": "2022-03-23T13:50:28.486551Z"
    },
    "hidden": true,
    "id": "g4Pqw46SjIYY"
   },
   "outputs": [],
   "source": [
    "## Creating the prelimaries \n",
    "\n",
    "filepath_simple = working_dir / Path('simple_convlstm.hdf5')\n",
    "filepath_attention = working_dir / Path('attention_convlstm.hdf5')\n",
    "\n",
    "checkpoint_simple = keras.callbacks.ModelCheckpoint(filepath_simple,monitor='val_loss',save_best_only=True)\n",
    "checkpoint_attention = keras.callbacks.ModelCheckpoint(filepath_attention, monitor='val_loss',save_best_only=True)\n",
    "\n",
    "wk=Workbook()\n",
    "sheet1 = wk.add_sheet('Simple', cell_overwrite_ok=True)\n",
    "sheet2 = wk.add_sheet('Attention', cell_overwrite_ok=True)\n",
    "sheet3 = wk.add_sheet('Real-test', cell_overwrite_ok=True)\n",
    "sheet4 = wk.add_sheet('Predicted-test', cell_overwrite_ok=True)\n"
   ]
  },
  {
   "cell_type": "code",
   "execution_count": 10,
   "metadata": {
    "ExecuteTime": {
     "end_time": "2022-03-23T13:50:31.602197Z",
     "start_time": "2022-03-23T13:50:31.598198Z"
    },
    "hidden": true,
    "id": "cmLxVJBnjIYY"
   },
   "outputs": [],
   "source": [
    "## Reshaping the training and testing data to suit the convlstm model\n",
    "x_train_conv =x_train.reshape(x_train.shape[0], 1, 1, x_train.shape[1], x_train.shape[2])\n",
    "x_test_conv = x_test.reshape(x_test.shape[0], 1, 1, x_test.shape[1], x_test.shape[2])"
   ]
  },
  {
   "cell_type": "code",
   "execution_count": 11,
   "metadata": {
    "ExecuteTime": {
     "end_time": "2022-03-23T13:50:35.299678Z",
     "start_time": "2022-03-23T13:50:34.014037Z"
    },
    "hidden": true,
    "id": "e8YZzkp7jIYZ"
   },
   "outputs": [],
   "source": [
    "## Simple ConvLSTM model\n",
    "K.clear_session()\n",
    "simple_convlstm = keras.Sequential()\n",
    "simple_convlstm.add(keras.layers.ConvLSTM2D(64, kernel_size=(1,2),return_sequences=True, \n",
    "                                            input_shape=(x_train_conv.shape[1], x_train_conv.shape[2], \n",
    "                                                         x_train_conv.shape[3], x_train_conv.shape[4])))\n",
    "simple_convlstm.add(keras.layers.ConvLSTM2D(64, kernel_size=(1,2),return_sequences=True))\n",
    "simple_convlstm.add(keras.layers.ConvLSTM2D(64, kernel_size=(1,2),return_sequences=True))\n",
    "simple_convlstm.add(keras.layers.ConvLSTM2D(64, kernel_size=(1,2),return_sequences=True))\n",
    "simple_convlstm.add(keras.layers.Flatten())\n",
    "simple_convlstm.add(keras.layers.Dense(512, activation='relu'))\n",
    "simple_convlstm.add(keras.layers.Dense(128, activation='relu'))\n",
    "simple_convlstm.add(keras.layers.Dense(64, activation='relu'))\n",
    "simple_convlstm.add(keras.layers.Dense(32))\n",
    "simple_convlstm.add(keras.layers.Dense(6))\n",
    "\n",
    "simple_convlstm.compile(loss='mse', optimizer=keras.optimizers.Adam(learning_rate=LR), metrics=['mae'])"
   ]
  },
  {
   "cell_type": "code",
   "execution_count": 12,
   "metadata": {
    "ExecuteTime": {
     "end_time": "2022-03-23T14:04:43.145184Z",
     "start_time": "2022-03-23T13:50:54.230500Z"
    },
    "colab": {
     "base_uri": "https://localhost:8080/",
     "height": 491
    },
    "hidden": true,
    "id": "mTcryG0hjIYZ",
    "outputId": "0e9ad10c-0d08-4c27-cfc0-5dab417e81fc",
    "scrolled": true
   },
   "outputs": [
    {
     "name": "stdout",
     "output_type": "stream",
     "text": [
      "Epoch 1/30\n",
      "897/897 [==============================] - 39s 32ms/step - loss: 0.0092 - mae: 0.0594 - val_loss: 0.0058 - val_mae: 0.0596\n",
      "Epoch 2/30\n",
      "897/897 [==============================] - 27s 30ms/step - loss: 0.0024 - mae: 0.0359 - val_loss: 0.0032 - val_mae: 0.0409\n",
      "Epoch 3/30\n",
      "897/897 [==============================] - 27s 30ms/step - loss: 0.0017 - mae: 0.0294 - val_loss: 0.0023 - val_mae: 0.0346\n",
      "Epoch 4/30\n",
      "897/897 [==============================] - 27s 30ms/step - loss: 0.0016 - mae: 0.0277 - val_loss: 0.0021 - val_mae: 0.0321\n",
      "Epoch 5/30\n",
      "897/897 [==============================] - 27s 30ms/step - loss: 0.0015 - mae: 0.0264 - val_loss: 0.0023 - val_mae: 0.0354\n",
      "Epoch 6/30\n",
      "897/897 [==============================] - 29s 32ms/step - loss: 0.0014 - mae: 0.0262 - val_loss: 0.0018 - val_mae: 0.0305\n",
      "Epoch 7/30\n",
      "897/897 [==============================] - 27s 30ms/step - loss: 0.0013 - mae: 0.0248 - val_loss: 0.0019 - val_mae: 0.0307\n",
      "Epoch 8/30\n",
      "897/897 [==============================] - 26s 29ms/step - loss: 0.0013 - mae: 0.0242 - val_loss: 0.0024 - val_mae: 0.0380\n",
      "Epoch 9/30\n",
      "897/897 [==============================] - 26s 29ms/step - loss: 0.0012 - mae: 0.0233 - val_loss: 0.0017 - val_mae: 0.0283\n",
      "Epoch 10/30\n",
      "897/897 [==============================] - 27s 30ms/step - loss: 0.0012 - mae: 0.0234 - val_loss: 0.0017 - val_mae: 0.0295\n",
      "Epoch 11/30\n",
      "897/897 [==============================] - 27s 30ms/step - loss: 0.0011 - mae: 0.0227 - val_loss: 0.0017 - val_mae: 0.0279\n",
      "Epoch 12/30\n",
      "897/897 [==============================] - 27s 30ms/step - loss: 0.0011 - mae: 0.0229 - val_loss: 0.0023 - val_mae: 0.0378\n",
      "Epoch 13/30\n",
      "897/897 [==============================] - 27s 30ms/step - loss: 0.0011 - mae: 0.0224 - val_loss: 0.0016 - val_mae: 0.0267\n",
      "Epoch 14/30\n",
      "897/897 [==============================] - 27s 30ms/step - loss: 0.0010 - mae: 0.0218 - val_loss: 0.0014 - val_mae: 0.0257\n",
      "Epoch 15/30\n",
      "897/897 [==============================] - 27s 30ms/step - loss: 0.0010 - mae: 0.0211 - val_loss: 0.0015 - val_mae: 0.0266\n",
      "Epoch 16/30\n",
      "897/897 [==============================] - 26s 29ms/step - loss: 9.9029e-04 - mae: 0.0213 - val_loss: 0.0015 - val_mae: 0.0269\n",
      "Epoch 17/30\n",
      "897/897 [==============================] - 27s 30ms/step - loss: 9.4670e-04 - mae: 0.0207 - val_loss: 0.0014 - val_mae: 0.0265\n",
      "Epoch 18/30\n",
      "897/897 [==============================] - 27s 30ms/step - loss: 9.4492e-04 - mae: 0.0207 - val_loss: 0.0013 - val_mae: 0.0238\n",
      "Epoch 19/30\n",
      "897/897 [==============================] - 27s 30ms/step - loss: 9.0756e-04 - mae: 0.0201 - val_loss: 0.0015 - val_mae: 0.0261\n",
      "Epoch 20/30\n",
      "897/897 [==============================] - 27s 31ms/step - loss: 9.0085e-04 - mae: 0.0201 - val_loss: 0.0014 - val_mae: 0.0244\n",
      "Epoch 21/30\n",
      "897/897 [==============================] - 27s 30ms/step - loss: 8.7606e-04 - mae: 0.0197 - val_loss: 0.0012 - val_mae: 0.0228\n",
      "Epoch 22/30\n",
      "897/897 [==============================] - 28s 31ms/step - loss: 8.6309e-04 - mae: 0.0196 - val_loss: 0.0012 - val_mae: 0.0241\n",
      "Epoch 23/30\n",
      "897/897 [==============================] - 28s 31ms/step - loss: 8.6638e-04 - mae: 0.0198 - val_loss: 0.0013 - val_mae: 0.0243\n",
      "Epoch 24/30\n",
      "897/897 [==============================] - 27s 30ms/step - loss: 8.4148e-04 - mae: 0.0194 - val_loss: 0.0013 - val_mae: 0.0243\n",
      "Epoch 25/30\n",
      "897/897 [==============================] - 28s 31ms/step - loss: 8.2503e-04 - mae: 0.0192 - val_loss: 0.0013 - val_mae: 0.0245\n",
      "Epoch 26/30\n",
      "897/897 [==============================] - 28s 31ms/step - loss: 8.2842e-04 - mae: 0.0192 - val_loss: 0.0013 - val_mae: 0.0243\n",
      "Epoch 27/30\n",
      "897/897 [==============================] - 28s 31ms/step - loss: 8.1838e-04 - mae: 0.0190 - val_loss: 0.0014 - val_mae: 0.0263\n",
      "Epoch 28/30\n",
      "897/897 [==============================] - 28s 31ms/step - loss: 7.9403e-04 - mae: 0.0187 - val_loss: 0.0012 - val_mae: 0.0229\n",
      "Epoch 29/30\n",
      "897/897 [==============================] - 28s 31ms/step - loss: 7.9228e-04 - mae: 0.0187 - val_loss: 0.0013 - val_mae: 0.0248\n",
      "Epoch 30/30\n",
      "897/897 [==============================] - 27s 30ms/step - loss: 7.8654e-04 - mae: 0.0187 - val_loss: 0.0013 - val_mae: 0.0231\n"
     ]
    },
    {
     "data": {
      "image/png": "[encoded data removed]",
      "text/plain": [
       "<Figure size 432x288 with 1 Axes>"
      ]
     },
     "metadata": {
      "needs_background": "light"
     },
     "output_type": "display_data"
    },
    {
     "name": "stdout",
     "output_type": "stream",
     "text": [
      "The Mean Squared Error is: 0.411879780001527\n"
     ]
    }
   ],
   "source": [
    "history = simple_convlstm.fit(x_train_conv,y_train,validation_split=0.1,batch_size=BATCH_SIZE,epochs=EPOCHS,callbacks=[checkpoint_simple])\n",
    "\n",
    "plt.plot(history.history['loss'],'r',label='Training Loss')\n",
    "plt.plot(history.history['val_loss'],'b',label='Validation Loss')\n",
    "plt.legend()\n",
    "plt.show()\n",
    "\n",
    "simple_convlstm.load_weights(filepath_simple)\n",
    "preds = simple_convlstm.predict(x_test_conv)\n",
    "\n",
    "y_test_unscaled = scaler.inverse_transform(y_test)\n",
    "y_pred_unscaled = scaler.inverse_transform(preds)\n",
    "\n",
    "e_mse = mse(y_test_unscaled[:,5],y_pred_unscaled[:,5])\n",
    "print(f'The Mean Squared Error is: {e_mse}')\n",
    "\n",
    "for i in range(y_test.shape[1]):\n",
    "        sheet1.write(0, 0, 'MSE')\n",
    "        sheet1.write(0, 1, 'Hours Ahead')\n",
    "        sheet1.write(i + 1, 0, mse(y_test_unscaled[:,i],y_pred_unscaled[:,i]))\n",
    "        sheet1.write(i + 1, 1, i+1)\n"
   ]
  },
  {
   "cell_type": "code",
   "execution_count": 13,
   "metadata": {
    "ExecuteTime": {
     "end_time": "2022-03-23T14:06:35.857224Z",
     "start_time": "2022-03-23T14:06:35.525686Z"
    },
    "hidden": true,
    "id": "S-jxgMjNjIYZ"
   },
   "outputs": [],
   "source": [
    "## Attention model\n",
    "K.clear_session()\n",
    "atten_convlstm = keras.Sequential()\n",
    "atten_convlstm.add(keras.layers.ConvLSTM2D(64, kernel_size=(1,2),return_sequences=True, \n",
    "                                            input_shape=(x_train_conv.shape[1], x_train_conv.shape[2], \n",
    "                                                         x_train_conv.shape[3], x_train_conv.shape[4])))\n",
    "atten_convlstm.add(keras.layers.ConvLSTM2D(64, kernel_size=(1,2),return_sequences=True))\n",
    "atten_convlstm.add(keras.layers.ConvLSTM2D(64, kernel_size=(1,2),return_sequences=True))\n",
    "atten_convlstm.add(keras.layers.ConvLSTM2D(64, kernel_size=(1,2),return_sequences=True))\n",
    "atten_convlstm.add(attention(return_sequences=True))\n",
    "atten_convlstm.add(keras.layers.Flatten())\n",
    "atten_convlstm.add(keras.layers.Dense(512, activation='relu'))\n",
    "atten_convlstm.add(keras.layers.Dense(128, activation='relu'))\n",
    "atten_convlstm.add(keras.layers.Dense(64, activation='relu'))\n",
    "atten_convlstm.add(keras.layers.Dense(32))\n",
    "atten_convlstm.add(keras.layers.Dense(6))\n",
    "\n",
    "atten_convlstm.compile(loss='mse', optimizer=keras.optimizers.Adam(learning_rate=LR), metrics=['mae'])"
   ]
  },
  {
   "cell_type": "code",
   "execution_count": 14,
   "metadata": {
    "ExecuteTime": {
     "end_time": "2022-03-23T14:20:59.263468Z",
     "start_time": "2022-03-23T14:06:47.757957Z"
    },
    "colab": {
     "base_uri": "https://localhost:8080/",
     "height": 477
    },
    "hidden": true,
    "id": "Ey2uZ1JIjIYZ",
    "outputId": "bc60db0c-a963-45a9-b968-f45ab384c622",
    "scrolled": true
   },
   "outputs": [
    {
     "name": "stdout",
     "output_type": "stream",
     "text": [
      "Epoch 1/30\n",
      "897/897 [==============================] - 34s 32ms/step - loss: 0.0090 - mae: 0.0594 - val_loss: 0.0051 - val_mae: 0.0577\n",
      "Epoch 2/30\n",
      "897/897 [==============================] - 28s 31ms/step - loss: 0.0022 - mae: 0.0339 - val_loss: 0.0026 - val_mae: 0.0356\n",
      "Epoch 3/30\n",
      "897/897 [==============================] - 27s 30ms/step - loss: 0.0016 - mae: 0.0283 - val_loss: 0.0022 - val_mae: 0.0333\n",
      "Epoch 4/30\n",
      "897/897 [==============================] - 27s 31ms/step - loss: 0.0015 - mae: 0.0271 - val_loss: 0.0019 - val_mae: 0.0298\n",
      "Epoch 5/30\n",
      "897/897 [==============================] - 27s 30ms/step - loss: 0.0015 - mae: 0.0262 - val_loss: 0.0021 - val_mae: 0.0332\n",
      "Epoch 6/30\n",
      "897/897 [==============================] - 27s 30ms/step - loss: 0.0014 - mae: 0.0258 - val_loss: 0.0021 - val_mae: 0.0334\n",
      "Epoch 7/30\n",
      "897/897 [==============================] - 28s 31ms/step - loss: 0.0013 - mae: 0.0248 - val_loss: 0.0020 - val_mae: 0.0311\n",
      "Epoch 8/30\n",
      "897/897 [==============================] - 27s 30ms/step - loss: 0.0013 - mae: 0.0242 - val_loss: 0.0024 - val_mae: 0.0400\n",
      "Epoch 9/30\n",
      "897/897 [==============================] - 27s 30ms/step - loss: 0.0012 - mae: 0.0231 - val_loss: 0.0017 - val_mae: 0.0287\n",
      "Epoch 10/30\n",
      "897/897 [==============================] - 27s 30ms/step - loss: 0.0012 - mae: 0.0235 - val_loss: 0.0018 - val_mae: 0.0306\n",
      "Epoch 11/30\n",
      "897/897 [==============================] - 28s 31ms/step - loss: 0.0011 - mae: 0.0227 - val_loss: 0.0016 - val_mae: 0.0279\n",
      "Epoch 12/30\n",
      "897/897 [==============================] - 28s 31ms/step - loss: 0.0011 - mae: 0.0227 - val_loss: 0.0026 - val_mae: 0.0406\n",
      "Epoch 13/30\n",
      "897/897 [==============================] - 26s 29ms/step - loss: 0.0011 - mae: 0.0223 - val_loss: 0.0015 - val_mae: 0.0268\n",
      "Epoch 14/30\n",
      "897/897 [==============================] - 27s 30ms/step - loss: 0.0010 - mae: 0.0218 - val_loss: 0.0014 - val_mae: 0.0261\n",
      "Epoch 15/30\n",
      "897/897 [==============================] - 27s 30ms/step - loss: 9.9035e-04 - mae: 0.0211 - val_loss: 0.0015 - val_mae: 0.0268\n",
      "Epoch 16/30\n",
      "897/897 [==============================] - 28s 31ms/step - loss: 9.7732e-04 - mae: 0.0211 - val_loss: 0.0014 - val_mae: 0.0258\n",
      "Epoch 17/30\n",
      "897/897 [==============================] - 28s 31ms/step - loss: 9.3763e-04 - mae: 0.0206 - val_loss: 0.0014 - val_mae: 0.0270\n",
      "Epoch 18/30\n",
      "897/897 [==============================] - 28s 31ms/step - loss: 9.2737e-04 - mae: 0.0205 - val_loss: 0.0014 - val_mae: 0.0251\n",
      "Epoch 19/30\n",
      "897/897 [==============================] - 28s 31ms/step - loss: 8.9468e-04 - mae: 0.0200 - val_loss: 0.0013 - val_mae: 0.0253\n",
      "Epoch 20/30\n",
      "897/897 [==============================] - 29s 32ms/step - loss: 8.7137e-04 - mae: 0.0198 - val_loss: 0.0014 - val_mae: 0.0255\n",
      "Epoch 21/30\n",
      "897/897 [==============================] - 28s 31ms/step - loss: 8.6670e-04 - mae: 0.0196 - val_loss: 0.0012 - val_mae: 0.0231\n",
      "Epoch 22/30\n",
      "897/897 [==============================] - 28s 31ms/step - loss: 8.3389e-04 - mae: 0.0193 - val_loss: 0.0013 - val_mae: 0.0253\n",
      "Epoch 23/30\n",
      "897/897 [==============================] - 29s 32ms/step - loss: 8.7281e-04 - mae: 0.0200 - val_loss: 0.0014 - val_mae: 0.0249\n",
      "Epoch 24/30\n",
      "897/897 [==============================] - 28s 32ms/step - loss: 8.2146e-04 - mae: 0.0192 - val_loss: 0.0013 - val_mae: 0.0237\n",
      "Epoch 25/30\n",
      "897/897 [==============================] - 30s 33ms/step - loss: 8.0930e-04 - mae: 0.0190 - val_loss: 0.0013 - val_mae: 0.0239\n",
      "Epoch 26/30\n",
      "897/897 [==============================] - 30s 34ms/step - loss: 8.1881e-04 - mae: 0.0192 - val_loss: 0.0014 - val_mae: 0.0249\n",
      "Epoch 27/30\n",
      "897/897 [==============================] - 30s 34ms/step - loss: 8.0036e-04 - mae: 0.0188 - val_loss: 0.0014 - val_mae: 0.0247\n",
      "Epoch 28/30\n",
      "897/897 [==============================] - 30s 34ms/step - loss: 7.9689e-04 - mae: 0.0188 - val_loss: 0.0011 - val_mae: 0.0222\n",
      "Epoch 29/30\n",
      "897/897 [==============================] - 30s 33ms/step - loss: 7.7858e-04 - mae: 0.0186 - val_loss: 0.0013 - val_mae: 0.0246\n",
      "Epoch 30/30\n",
      "897/897 [==============================] - 30s 33ms/step - loss: 7.7775e-04 - mae: 0.0187 - val_loss: 0.0011 - val_mae: 0.0221\n"
     ]
    },
    {
     "data": {
      "image/png": "[encoded data removed]",
      "text/plain": [
       "<Figure size 432x288 with 1 Axes>"
      ]
     },
     "metadata": {
      "needs_background": "light"
     },
     "output_type": "display_data"
    },
    {
     "name": "stdout",
     "output_type": "stream",
     "text": [
      "The Mean Squared Error is: 0.43192794005030427\n"
     ]
    }
   ],
   "source": [
    "history = atten_convlstm.fit(x_train_conv,y_train,validation_split=0.1,batch_size=BATCH_SIZE,epochs=EPOCHS,callbacks=[checkpoint_attention])\n",
    "\n",
    "plt.plot(history.history['loss'],'r',label='Training Loss')\n",
    "plt.plot(history.history['val_loss'],'b',label='Validation Loss')\n",
    "plt.legend()\n",
    "plt.show()\n",
    "\n",
    "atten_convlstm.load_weights(filepath_attention)\n",
    "preds = atten_convlstm.predict(x_test_conv)\n",
    "\n",
    "y_test_unscaled = scaler.inverse_transform(y_test)\n",
    "y_pred_unscaled = scaler.inverse_transform(preds)\n",
    "\n",
    "e_mse = mse(y_test_unscaled[:,5],y_pred_unscaled[:,5])\n",
    "print(f'The Mean Squared Error is: {e_mse}')\n",
    "\n",
    "for i in range(y_test.shape[1]):\n",
    "        sheet2.write(0, 0, 'MSE')\n",
    "        sheet2.write(0, 1, 'Hours Ahead')\n",
    "        sheet2.write(i + 1, 0, mse(y_test_unscaled[:,i],y_pred_unscaled[:,i]))\n",
    "        sheet2.write(i + 1, 1, i+1)\n",
    "        sheet3.write(0, i, \"Real-test\")\n",
    "        sheet4.write(0, i, \"Predicted_test\")\n",
    "        for j in range(y_test_unscaled.shape[0]):\n",
    "                 sheet3.write(j + 1, i, float(y_test_unscaled[j, i]))\n",
    "        for k in range(y_pred_unscaled.shape[0]):\n",
    "                 sheet4.write(k + 1, i, float(y_pred_unscaled[k, i]))\n",
    "\n",
    "wk.save(working_dir / Path('ConvLSTM Results.xls'))"
   ]
  },
  {
   "cell_type": "markdown",
   "metadata": {
    "heading_collapsed": true,
    "id": "rpSVHR1rjIYZ"
   },
   "source": [
    "## Seq2Seq Model"
   ]
  },
  {
   "cell_type": "code",
   "execution_count": 15,
   "metadata": {
    "ExecuteTime": {
     "end_time": "2022-03-23T14:22:48.688220Z",
     "start_time": "2022-03-23T14:22:48.678219Z"
    },
    "hidden": true,
    "id": "Pj0g15bvjIYa"
   },
   "outputs": [],
   "source": [
    "## Creating the prelimaries \n",
    "\n",
    "filepath_simple = working_dir / Path('simple_seq2seq.hdf5')\n",
    "filepath_attention = working_dir / Path('attention_seq2seq.hdf5')\n",
    "\n",
    "checkpoint_simple = keras.callbacks.ModelCheckpoint(filepath_simple,monitor='val_loss',save_best_only=True)\n",
    "checkpoint_attention = keras.callbacks.ModelCheckpoint(filepath_attention, monitor='val_loss',save_best_only=True)\n",
    "\n",
    "wk=Workbook()\n",
    "sheet1 = wk.add_sheet('Simple', cell_overwrite_ok=True)\n",
    "sheet2 = wk.add_sheet('Attention', cell_overwrite_ok=True)\n",
    "sheet3 = wk.add_sheet('Real-test', cell_overwrite_ok=True)\n",
    "sheet4 = wk.add_sheet('Predicted-test', cell_overwrite_ok=True)"
   ]
  },
  {
   "cell_type": "code",
   "execution_count": 16,
   "metadata": {
    "ExecuteTime": {
     "end_time": "2022-03-23T14:23:18.846104Z",
     "start_time": "2022-03-23T14:23:18.837103Z"
    },
    "hidden": true,
    "id": "zUeQqcXKjIYa"
   },
   "outputs": [],
   "source": [
    "## Reshaping the training data to suit Seq2Seq model\n",
    "y_train_seq = y_train.reshape(y_train.shape[0], y_train.shape[1], 1)"
   ]
  },
  {
   "cell_type": "code",
   "execution_count": 17,
   "metadata": {
    "ExecuteTime": {
     "end_time": "2022-03-23T14:23:24.809309Z",
     "start_time": "2022-03-23T14:23:23.694477Z"
    },
    "colab": {
     "base_uri": "https://localhost:8080/"
    },
    "hidden": true,
    "id": "mTfem7iNjIYa",
    "outputId": "a8e37142-eeb1-4a06-f66b-4153b0048c42"
   },
   "outputs": [
    {
     "name": "stdout",
     "output_type": "stream",
     "text": [
      "KerasTensor(type_spec=TensorSpec(shape=(None, 6, 128), dtype=tf.float32, name=None), name='lstm_7/PartitionedCall:1', description=\"created by layer 'lstm_7'\")\n",
      "Model: \"model\"\n",
      "__________________________________________________________________________________________________\n",
      "Layer (type)                    Output Shape         Param #     Connected to                     \n",
      "==================================================================================================\n",
      "input_1 (InputLayer)            [(None, 6, 7)]       0                                            \n",
      "__________________________________________________________________________________________________\n",
      "lstm (LSTM)                     (None, 6, 128)       69632       input_1[0][0]                    \n",
      "__________________________________________________________________________________________________\n",
      "lstm_1 (LSTM)                   (None, 6, 128)       131584      lstm[0][0]                       \n",
      "__________________________________________________________________________________________________\n",
      "lstm_2 (LSTM)                   (None, 6, 128)       131584      lstm_1[0][0]                     \n",
      "__________________________________________________________________________________________________\n",
      "lstm_3 (LSTM)                   [(None, 128), (None, 131584      lstm_2[0][0]                     \n",
      "__________________________________________________________________________________________________\n",
      "repeat_vector (RepeatVector)    (None, 6, 128)       0           lstm_3[0][0]                     \n",
      "__________________________________________________________________________________________________\n",
      "lstm_4 (LSTM)                   (None, 6, 128)       131584      repeat_vector[0][0]              \n",
      "                                                                 lstm_3[0][0]                     \n",
      "                                                                 lstm_3[0][2]                     \n",
      "__________________________________________________________________________________________________\n",
      "lstm_5 (LSTM)                   (None, 6, 128)       131584      lstm_4[0][0]                     \n",
      "__________________________________________________________________________________________________\n",
      "lstm_6 (LSTM)                   (None, 6, 128)       131584      lstm_5[0][0]                     \n",
      "__________________________________________________________________________________________________\n",
      "lstm_7 (LSTM)                   (None, 6, 128)       131584      lstm_6[0][0]                     \n",
      "__________________________________________________________________________________________________\n",
      "time_distributed (TimeDistribut (None, 6, 1)         129         lstm_7[0][0]                     \n",
      "==================================================================================================\n",
      "Total params: 990,849\n",
      "Trainable params: 990,849\n",
      "Non-trainable params: 0\n",
      "__________________________________________________________________________________________________\n"
     ]
    }
   ],
   "source": [
    "## Simple Model\n",
    "K.clear_session()\n",
    "input_train = keras.layers.Input(shape=(x_train.shape[1], x_train.shape[2]))\n",
    "output_train = keras.layers.Input(shape=(y_train_seq.shape[1], y_train_seq.shape[2]))\n",
    "\n",
    "### --------------------------------Encoder Section -----------------------------------------------###\n",
    "encoder_first = keras.layers.LSTM(128, return_sequences=True, return_state=False)(input_train)\n",
    "encoder_second = keras.layers.LSTM(128, return_sequences=True)(encoder_first)\n",
    "encoder_third = keras.layers.LSTM(128, return_sequences=True)(encoder_second)\n",
    "encoder_fourth, encoder_fourth_s1, encoder_fourth_s2 = keras.layers.LSTM(128,return_sequences=False, return_state=True)(encoder_third)\n",
    "\n",
    "###---------------------------------Decorder Section-----------------------------------------------###\n",
    "decoder_first = keras.layers.RepeatVector(output_train.shape[1])(encoder_fourth)\n",
    "decoder_second = keras.layers.LSTM(128, return_state=False, return_sequences=True)(decoder_first,initial_state=[encoder_fourth,encoder_fourth_s2])\n",
    "decoder_third = keras.layers.LSTM(128,return_sequences=True)(decoder_second)\n",
    "decoder_fourth = keras.layers.LSTM(128,return_sequences=True)(decoder_third)\n",
    "decoder_fifth = keras.layers.LSTM(128,return_sequences=True)(decoder_fourth)\n",
    "print(decoder_fifth)\n",
    "\n",
    "###--------------------------------Output Section-------------------------------------------------###\n",
    "output = keras.layers.TimeDistributed(keras.layers.Dense(output_train.shape[2]))(decoder_fifth)\n",
    "\n",
    "simple_seq = keras.Model(inputs=input_train, outputs=output)\n",
    "opt = keras.optimizers.Adam(learning_rate=LR)\n",
    "simple_seq.compile(loss='mse', optimizer=opt, metrics=['mae'])\n",
    "simple_seq.summary()"
   ]
  },
  {
   "cell_type": "code",
   "execution_count": 18,
   "metadata": {
    "ExecuteTime": {
     "end_time": "2022-03-23T14:30:15.757932Z",
     "start_time": "2022-03-23T14:23:34.878472Z"
    },
    "colab": {
     "base_uri": "https://localhost:8080/",
     "height": 508
    },
    "hidden": true,
    "id": "-xA6I61VjIYa",
    "outputId": "dd83ceb7-0cbd-4cd6-d21e-7c3316c9db4c",
    "scrolled": true
   },
   "outputs": [
    {
     "name": "stdout",
     "output_type": "stream",
     "text": [
      "Epoch 1/30\n",
      "897/897 [==============================] - 21s 16ms/step - loss: 0.0102 - mae: 0.0636 - val_loss: 0.0060 - val_mae: 0.0605\n",
      "Epoch 2/30\n",
      "897/897 [==============================] - 13s 14ms/step - loss: 0.0037 - mae: 0.0459 - val_loss: 0.0043 - val_mae: 0.0515\n",
      "Epoch 3/30\n",
      "897/897 [==============================] - 13s 15ms/step - loss: 0.0025 - mae: 0.0372 - val_loss: 0.0025 - val_mae: 0.0365\n",
      "Epoch 4/30\n",
      "897/897 [==============================] - 13s 14ms/step - loss: 0.0016 - mae: 0.0284 - val_loss: 0.0021 - val_mae: 0.0336\n",
      "Epoch 5/30\n",
      "897/897 [==============================] - 13s 14ms/step - loss: 0.0014 - mae: 0.0262 - val_loss: 0.0022 - val_mae: 0.0362\n",
      "Epoch 6/30\n",
      "897/897 [==============================] - 13s 14ms/step - loss: 0.0014 - mae: 0.0255 - val_loss: 0.0017 - val_mae: 0.0295\n",
      "Epoch 7/30\n",
      "897/897 [==============================] - 13s 14ms/step - loss: 0.0012 - mae: 0.0239 - val_loss: 0.0016 - val_mae: 0.0273\n",
      "Epoch 8/30\n",
      "897/897 [==============================] - 13s 14ms/step - loss: 0.0012 - mae: 0.0231 - val_loss: 0.0028 - val_mae: 0.0440\n",
      "Epoch 9/30\n",
      "897/897 [==============================] - 13s 15ms/step - loss: 0.0011 - mae: 0.0222 - val_loss: 0.0015 - val_mae: 0.0267\n",
      "Epoch 10/30\n",
      "897/897 [==============================] - 13s 15ms/step - loss: 0.0011 - mae: 0.0221 - val_loss: 0.0017 - val_mae: 0.0278\n",
      "Epoch 11/30\n",
      "897/897 [==============================] - 13s 14ms/step - loss: 0.0010 - mae: 0.0217 - val_loss: 0.0015 - val_mae: 0.0250\n",
      "Epoch 12/30\n",
      "897/897 [==============================] - 13s 14ms/step - loss: 0.0010 - mae: 0.0212 - val_loss: 0.0018 - val_mae: 0.0326\n",
      "Epoch 13/30\n",
      "897/897 [==============================] - 13s 14ms/step - loss: 9.9583e-04 - mae: 0.0211 - val_loss: 0.0017 - val_mae: 0.0294\n",
      "Epoch 14/30\n",
      "897/897 [==============================] - 13s 15ms/step - loss: 9.7630e-04 - mae: 0.0209 - val_loss: 0.0014 - val_mae: 0.0266\n",
      "Epoch 15/30\n",
      "897/897 [==============================] - 13s 14ms/step - loss: 9.3054e-04 - mae: 0.0202 - val_loss: 0.0014 - val_mae: 0.0258\n",
      "Epoch 16/30\n",
      "897/897 [==============================] - 13s 14ms/step - loss: 9.2003e-04 - mae: 0.0201 - val_loss: 0.0013 - val_mae: 0.0252\n",
      "Epoch 17/30\n",
      "897/897 [==============================] - 13s 15ms/step - loss: 8.9403e-04 - mae: 0.0200 - val_loss: 0.0013 - val_mae: 0.0256\n",
      "Epoch 18/30\n",
      "897/897 [==============================] - 13s 14ms/step - loss: 8.5588e-04 - mae: 0.0193 - val_loss: 0.0013 - val_mae: 0.0249\n",
      "Epoch 19/30\n",
      "897/897 [==============================] - 13s 14ms/step - loss: 8.4238e-04 - mae: 0.0193 - val_loss: 0.0014 - val_mae: 0.0253\n",
      "Epoch 20/30\n",
      "897/897 [==============================] - 13s 14ms/step - loss: 8.2434e-04 - mae: 0.0190 - val_loss: 0.0013 - val_mae: 0.0239\n",
      "Epoch 21/30\n",
      "897/897 [==============================] - 13s 15ms/step - loss: 8.1835e-04 - mae: 0.0189 - val_loss: 0.0011 - val_mae: 0.0227\n",
      "Epoch 22/30\n",
      "897/897 [==============================] - 13s 14ms/step - loss: 7.9795e-04 - mae: 0.0186 - val_loss: 0.0013 - val_mae: 0.0245\n",
      "Epoch 23/30\n",
      "897/897 [==============================] - 13s 15ms/step - loss: 7.9222e-04 - mae: 0.0186 - val_loss: 0.0015 - val_mae: 0.0257\n",
      "Epoch 24/30\n",
      "897/897 [==============================] - 13s 14ms/step - loss: 7.8377e-04 - mae: 0.0184 - val_loss: 0.0015 - val_mae: 0.0269\n",
      "Epoch 25/30\n",
      "897/897 [==============================] - 13s 14ms/step - loss: 7.5755e-04 - mae: 0.0181 - val_loss: 0.0013 - val_mae: 0.0241\n",
      "Epoch 26/30\n",
      "897/897 [==============================] - 13s 14ms/step - loss: 7.5189e-04 - mae: 0.0179 - val_loss: 0.0015 - val_mae: 0.0254\n",
      "Epoch 27/30\n",
      "897/897 [==============================] - 13s 14ms/step - loss: 7.3379e-04 - mae: 0.0177 - val_loss: 0.0014 - val_mae: 0.0243\n",
      "Epoch 28/30\n",
      "897/897 [==============================] - 13s 14ms/step - loss: 7.4367e-04 - mae: 0.0179 - val_loss: 0.0013 - val_mae: 0.0243\n",
      "Epoch 29/30\n",
      "897/897 [==============================] - 13s 15ms/step - loss: 7.1555e-04 - mae: 0.0176 - val_loss: 0.0013 - val_mae: 0.0232\n",
      "Epoch 30/30\n",
      "897/897 [==============================] - 13s 15ms/step - loss: 7.1987e-04 - mae: 0.0178 - val_loss: 0.0013 - val_mae: 0.0226\n"
     ]
    },
    {
     "data": {
      "image/png": "[encoded data removed]",
      "text/plain": [
       "<Figure size 432x288 with 1 Axes>"
      ]
     },
     "metadata": {
      "needs_background": "light"
     },
     "output_type": "display_data"
    },
    {
     "name": "stdout",
     "output_type": "stream",
     "text": [
      "(7957, 6)\n",
      "The Mean Squared Error is: 0.46220399250705607\n"
     ]
    }
   ],
   "source": [
    "history = simple_seq.fit(x_train,y_train_seq,validation_split=0.1,batch_size=BATCH_SIZE,epochs=EPOCHS,callbacks=[checkpoint_simple])\n",
    "\n",
    "plt.plot(history.history['loss'],'r',label='Training Loss')\n",
    "plt.plot(history.history['val_loss'],'b',label='Validation Loss')\n",
    "plt.legend()\n",
    "plt.show()\n",
    "\n",
    "simple_seq.load_weights(filepath_simple)\n",
    "preds = simple_seq.predict(x_test)\n",
    "\n",
    "preds = preds.reshape(preds.shape[0],preds.shape[1])\n",
    "print(preds.shape)\n",
    "\n",
    "y_test_unscaled = scaler.inverse_transform(y_test)\n",
    "y_pred_unscaled = scaler.inverse_transform(preds)\n",
    "\n",
    "e_mse = mse(y_test_unscaled[:,5],y_pred_unscaled[:,5])\n",
    "print(f'The Mean Squared Error is: {e_mse}')\n",
    "\n",
    "for i in range(y_test.shape[1]):\n",
    "        sheet1.write(0, 0, 'MSE')\n",
    "        sheet1.write(0, 1, 'Hours Ahead')\n",
    "        sheet1.write(i + 1, 0, mse(y_test_unscaled[:,i],y_pred_unscaled[:,i]))\n",
    "        sheet1.write(i + 1, 1, i+1)\n"
   ]
  },
  {
   "cell_type": "code",
   "execution_count": 19,
   "metadata": {
    "ExecuteTime": {
     "end_time": "2022-03-23T14:31:29.975935Z",
     "start_time": "2022-03-23T14:31:28.837755Z"
    },
    "colab": {
     "base_uri": "https://localhost:8080/"
    },
    "hidden": true,
    "id": "mU5RyXFUjIYa",
    "outputId": "140398d3-7ec7-4ed2-98af-adf413b4c38a"
   },
   "outputs": [
    {
     "name": "stdout",
     "output_type": "stream",
     "text": [
      "Model: \"model\"\n",
      "__________________________________________________________________________________________________\n",
      "Layer (type)                    Output Shape         Param #     Connected to                     \n",
      "==================================================================================================\n",
      "input_1 (InputLayer)            [(None, 6, 7)]       0                                            \n",
      "__________________________________________________________________________________________________\n",
      "lstm (LSTM)                     (None, 6, 128)       69632       input_1[0][0]                    \n",
      "__________________________________________________________________________________________________\n",
      "lstm_1 (LSTM)                   (None, 6, 128)       131584      lstm[0][0]                       \n",
      "__________________________________________________________________________________________________\n",
      "lstm_2 (LSTM)                   (None, 6, 128)       131584      lstm_1[0][0]                     \n",
      "__________________________________________________________________________________________________\n",
      "lstm_3 (LSTM)                   [(None, 6, 128), (No 131584      lstm_2[0][0]                     \n",
      "__________________________________________________________________________________________________\n",
      "repeat_vector (RepeatVector)    (None, 6, 128)       0           lstm_3[0][1]                     \n",
      "__________________________________________________________________________________________________\n",
      "lstm_4 (LSTM)                   (None, 6, 128)       131584      repeat_vector[0][0]              \n",
      "                                                                 lstm_3[0][1]                     \n",
      "                                                                 lstm_3[0][2]                     \n",
      "__________________________________________________________________________________________________\n",
      "dot (Dot)                       (None, 6, 6)         0           lstm_4[0][0]                     \n",
      "                                                                 lstm_3[0][0]                     \n",
      "__________________________________________________________________________________________________\n",
      "activation (Activation)         (None, 6, 6)         0           dot[0][0]                        \n",
      "__________________________________________________________________________________________________\n",
      "dot_1 (Dot)                     (None, 6, 128)       0           activation[0][0]                 \n",
      "                                                                 lstm_3[0][0]                     \n",
      "__________________________________________________________________________________________________\n",
      "concatenate (Concatenate)       (None, 6, 256)       0           dot_1[0][0]                      \n",
      "                                                                 lstm_4[0][0]                     \n",
      "__________________________________________________________________________________________________\n",
      "lstm_5 (LSTM)                   (None, 6, 128)       197120      concatenate[0][0]                \n",
      "__________________________________________________________________________________________________\n",
      "lstm_6 (LSTM)                   (None, 6, 128)       131584      lstm_5[0][0]                     \n",
      "__________________________________________________________________________________________________\n",
      "lstm_7 (LSTM)                   (None, 6, 128)       131584      lstm_6[0][0]                     \n",
      "__________________________________________________________________________________________________\n",
      "time_distributed (TimeDistribut (None, 6, 1)         129         lstm_7[0][0]                     \n",
      "==================================================================================================\n",
      "Total params: 1,056,385\n",
      "Trainable params: 1,056,385\n",
      "Non-trainable params: 0\n",
      "__________________________________________________________________________________________________\n"
     ]
    }
   ],
   "source": [
    "## Attention Model\n",
    "K.clear_session()\n",
    "\n",
    "input_train = keras.layers.Input(shape=(x_train.shape[1], x_train.shape[2]))\n",
    "output_train = keras.layers.Input(shape=(y_train_seq.shape[1], y_train_seq.shape[2]))\n",
    "\n",
    "###----------------------------------------Encoder Section------------------------------------------###\n",
    "encoder_first = keras.layers.LSTM(128, return_sequences=True, return_state=False)(input_train)\n",
    "encoder_second = keras.layers.LSTM(128, return_sequences=True)(encoder_first)\n",
    "encoder_third = keras.layers.LSTM(128, return_sequences=True)(encoder_second)\n",
    "encoder_fourth, encoder_fourth_s1, encoder_fourth_s2 = keras.layers.LSTM(128,return_sequences=True,return_state=True)(encoder_third)\n",
    "\n",
    "###-----------------------------------------Decoder Section------------------------------------------###\n",
    "decoder_first = keras.layers.RepeatVector(output_train.shape[1])(encoder_fourth_s1)\n",
    "decoder_second = keras.layers.LSTM(128, return_state=False, return_sequences=True)(decoder_first, initial_state=[encoder_fourth_s1, encoder_fourth_s2])\n",
    "\n",
    "attention = keras.layers.dot([decoder_second, encoder_fourth], axes=[2, 2])\n",
    "attention = keras.layers.Activation('softmax')(attention)\n",
    "context = keras.layers.dot([attention, encoder_fourth], axes=[2, 1])\n",
    "\n",
    "decoder_third = keras.layers.concatenate([context, decoder_second])\n",
    "\n",
    "decoder_fourth = keras.layers.LSTM(128, return_sequences=True)(decoder_third)\n",
    "decoder_fifth = keras.layers.LSTM(128, return_sequences=True)(decoder_fourth)\n",
    "decoder_sixth = keras.layers.LSTM(128, return_sequences=True)(decoder_fifth)\n",
    "\n",
    "###-----------------------------------------Output Section-----------------------------------------###\n",
    "output = keras.layers.TimeDistributed(keras.layers.Dense(output_train.shape[2]))(decoder_sixth)\n",
    "\n",
    "atten_seq = keras.Model(inputs=input_train, outputs=output)\n",
    "opt = keras.optimizers.Adam(learning_rate=LR)\n",
    "atten_seq.compile(loss='mse', optimizer=opt, metrics=['mae'])\n",
    "atten_seq.summary()"
   ]
  },
  {
   "cell_type": "code",
   "execution_count": 20,
   "metadata": {
    "ExecuteTime": {
     "end_time": "2022-03-23T14:38:27.597327Z",
     "start_time": "2022-03-23T14:31:42.510519Z"
    },
    "colab": {
     "base_uri": "https://localhost:8080/",
     "height": 491
    },
    "hidden": true,
    "id": "VIVr1380jIYa",
    "outputId": "af2af7c0-9d56-4043-ab24-22f640850c66"
   },
   "outputs": [
    {
     "name": "stdout",
     "output_type": "stream",
     "text": [
      "Epoch 1/30\n",
      "897/897 [==============================] - 21s 17ms/step - loss: 0.0111 - mae: 0.0664 - val_loss: 0.0061 - val_mae: 0.0606\n",
      "Epoch 2/30\n",
      "897/897 [==============================] - 13s 15ms/step - loss: 0.0038 - mae: 0.0466 - val_loss: 0.0045 - val_mae: 0.0514\n",
      "Epoch 3/30\n",
      "897/897 [==============================] - 13s 15ms/step - loss: 0.0025 - mae: 0.0370 - val_loss: 0.0026 - val_mae: 0.0370\n",
      "Epoch 4/30\n",
      "897/897 [==============================] - 13s 15ms/step - loss: 0.0016 - mae: 0.0284 - val_loss: 0.0023 - val_mae: 0.0382\n",
      "Epoch 5/30\n",
      "897/897 [==============================] - 13s 15ms/step - loss: 0.0014 - mae: 0.0260 - val_loss: 0.0022 - val_mae: 0.0362\n",
      "Epoch 6/30\n",
      "897/897 [==============================] - 13s 14ms/step - loss: 0.0013 - mae: 0.0254 - val_loss: 0.0017 - val_mae: 0.0279\n",
      "Epoch 7/30\n",
      "897/897 [==============================] - 13s 14ms/step - loss: 0.0012 - mae: 0.0240 - val_loss: 0.0015 - val_mae: 0.0281\n",
      "Epoch 8/30\n",
      "897/897 [==============================] - 13s 15ms/step - loss: 0.0012 - mae: 0.0233 - val_loss: 0.0029 - val_mae: 0.0442\n",
      "Epoch 9/30\n",
      "897/897 [==============================] - 13s 14ms/step - loss: 0.0011 - mae: 0.0222 - val_loss: 0.0015 - val_mae: 0.0265\n",
      "Epoch 10/30\n",
      "897/897 [==============================] - 13s 14ms/step - loss: 0.0011 - mae: 0.0222 - val_loss: 0.0017 - val_mae: 0.0282\n",
      "Epoch 11/30\n",
      "897/897 [==============================] - 13s 14ms/step - loss: 0.0010 - mae: 0.0217 - val_loss: 0.0014 - val_mae: 0.0251\n",
      "Epoch 12/30\n",
      "897/897 [==============================] - 13s 15ms/step - loss: 0.0010 - mae: 0.0213 - val_loss: 0.0017 - val_mae: 0.0305\n",
      "Epoch 13/30\n",
      "897/897 [==============================] - 13s 15ms/step - loss: 0.0010 - mae: 0.0212 - val_loss: 0.0018 - val_mae: 0.0304\n",
      "Epoch 14/30\n",
      "897/897 [==============================] - 13s 15ms/step - loss: 9.8181e-04 - mae: 0.0210 - val_loss: 0.0015 - val_mae: 0.0270\n",
      "Epoch 15/30\n",
      "897/897 [==============================] - 13s 15ms/step - loss: 9.4257e-04 - mae: 0.0204 - val_loss: 0.0014 - val_mae: 0.0264\n",
      "Epoch 16/30\n",
      "897/897 [==============================] - 13s 15ms/step - loss: 9.2936e-04 - mae: 0.0202 - val_loss: 0.0014 - val_mae: 0.0264\n",
      "Epoch 17/30\n",
      "897/897 [==============================] - 13s 15ms/step - loss: 9.0751e-04 - mae: 0.0201 - val_loss: 0.0013 - val_mae: 0.0260\n",
      "Epoch 18/30\n",
      "897/897 [==============================] - 13s 15ms/step - loss: 8.7456e-04 - mae: 0.0196 - val_loss: 0.0013 - val_mae: 0.0245\n",
      "Epoch 19/30\n",
      "897/897 [==============================] - 13s 15ms/step - loss: 8.6021e-04 - mae: 0.0195 - val_loss: 0.0013 - val_mae: 0.0239\n",
      "Epoch 20/30\n",
      "897/897 [==============================] - 13s 15ms/step - loss: 8.3620e-04 - mae: 0.0191 - val_loss: 0.0014 - val_mae: 0.0239\n",
      "Epoch 21/30\n",
      "897/897 [==============================] - 14s 15ms/step - loss: 8.2668e-04 - mae: 0.0189 - val_loss: 0.0011 - val_mae: 0.0224\n",
      "Epoch 22/30\n",
      "897/897 [==============================] - 13s 15ms/step - loss: 8.0396e-04 - mae: 0.0186 - val_loss: 0.0013 - val_mae: 0.0239\n",
      "Epoch 23/30\n",
      "897/897 [==============================] - 13s 14ms/step - loss: 8.0497e-04 - mae: 0.0187 - val_loss: 0.0015 - val_mae: 0.0259\n",
      "Epoch 24/30\n",
      "897/897 [==============================] - 13s 14ms/step - loss: 7.8821e-04 - mae: 0.0184 - val_loss: 0.0014 - val_mae: 0.0254\n",
      "Epoch 25/30\n",
      "897/897 [==============================] - 13s 14ms/step - loss: 7.7288e-04 - mae: 0.0182 - val_loss: 0.0012 - val_mae: 0.0233\n",
      "Epoch 26/30\n",
      "897/897 [==============================] - 13s 14ms/step - loss: 7.6431e-04 - mae: 0.0180 - val_loss: 0.0013 - val_mae: 0.0239\n",
      "Epoch 27/30\n",
      "897/897 [==============================] - 13s 14ms/step - loss: 7.5352e-04 - mae: 0.0179 - val_loss: 0.0013 - val_mae: 0.0224\n",
      "Epoch 28/30\n",
      "897/897 [==============================] - 13s 15ms/step - loss: 7.5334e-04 - mae: 0.0179 - val_loss: 0.0013 - val_mae: 0.0245\n",
      "Epoch 29/30\n",
      "897/897 [==============================] - 13s 15ms/step - loss: 7.3626e-04 - mae: 0.0178 - val_loss: 0.0012 - val_mae: 0.0231\n",
      "Epoch 30/30\n",
      "897/897 [==============================] - 13s 15ms/step - loss: 7.3638e-04 - mae: 0.0179 - val_loss: 0.0013 - val_mae: 0.0228\n"
     ]
    },
    {
     "data": {
      "image/png": "[encoded data removed]",
      "text/plain": [
       "<Figure size 432x288 with 1 Axes>"
      ]
     },
     "metadata": {
      "needs_background": "light"
     },
     "output_type": "display_data"
    },
    {
     "name": "stdout",
     "output_type": "stream",
     "text": [
      "(7957, 6)\n",
      "The Mean Squared Error is: 0.43432155413908197\n"
     ]
    }
   ],
   "source": [
    "history = atten_seq.fit(x_train,y_train_seq,validation_split=0.1,batch_size=BATCH_SIZE,epochs=EPOCHS,callbacks=[checkpoint_attention])\n",
    "\n",
    "plt.plot(history.history['loss'],'r',label='Training Loss')\n",
    "plt.plot(history.history['val_loss'],'b',label='Validation Loss')\n",
    "plt.legend()\n",
    "plt.show()\n",
    "\n",
    "atten_seq.load_weights(filepath_attention)\n",
    "preds = atten_seq.predict(x_test)\n",
    "\n",
    "preds = preds.reshape(preds.shape[0],preds.shape[1])\n",
    "print(preds.shape)\n",
    "\n",
    "y_test_unscaled = scaler.inverse_transform(y_test)\n",
    "y_pred_unscaled = scaler.inverse_transform(preds)\n",
    "\n",
    "e_mse = mse(y_test_unscaled[:,5],y_pred_unscaled[:,5])\n",
    "print(f'The Mean Squared Error is: {e_mse}')\n",
    "\n",
    "for i in range(y_test.shape[1]):\n",
    "        sheet2.write(0, 0, 'MSE')\n",
    "        sheet2.write(0, 1, 'Hours Ahead')\n",
    "        sheet2.write(i + 1, 0, mse(y_test_unscaled[:,i],y_pred_unscaled[:,i]))\n",
    "        sheet2.write(i + 1, 1, i+1)\n",
    "        sheet3.write(0, i, \"Real-test\")\n",
    "        sheet4.write(0, i, \"Predicted_test\")\n",
    "        for j in range(y_test_unscaled.shape[0]):\n",
    "                 sheet3.write(j + 1, i, float(y_test_unscaled[j, i]))\n",
    "        for k in range(y_pred_unscaled.shape[0]):\n",
    "                 sheet4.write(k + 1, i, float(y_pred_unscaled[k, i]))\n",
    "\n",
    "wk.save(working_dir / Path('Seq2Seq Results.xls'))"
   ]
  },
  {
   "cell_type": "markdown",
   "metadata": {
    "id": "qKvpHUaqjIYa"
   },
   "source": [
    "## Wavenet Model"
   ]
  },
  {
   "cell_type": "code",
   "execution_count": 21,
   "metadata": {
    "ExecuteTime": {
     "end_time": "2022-03-23T14:39:43.493922Z",
     "start_time": "2022-03-23T14:39:43.477602Z"
    },
    "id": "56mUzKqNjIYa"
   },
   "outputs": [],
   "source": [
    "## Creating the prelimaries \n",
    "\n",
    "filepath_simple = working_dir / Path('simple_wavenet.hdf5')\n",
    "filepath_attention = working_dir / Path('attention_wavenet.hdf5')\n",
    "\n",
    "checkpoint_simple = keras.callbacks.ModelCheckpoint(filepath_simple,monitor='val_loss',save_best_only=True)\n",
    "checkpoint_attention = keras.callbacks.ModelCheckpoint(filepath_attention, monitor='val_loss',save_best_only=True)\n",
    "\n",
    "wk=Workbook()\n",
    "sheet1 = wk.add_sheet('Simple', cell_overwrite_ok=True)\n",
    "sheet2 = wk.add_sheet('Attention', cell_overwrite_ok=True)\n",
    "sheet3 = wk.add_sheet('Real-test', cell_overwrite_ok=True)\n",
    "sheet4 = wk.add_sheet('Predicted-test', cell_overwrite_ok=True)"
   ]
  },
  {
   "cell_type": "code",
   "execution_count": 22,
   "metadata": {
    "ExecuteTime": {
     "end_time": "2022-03-23T14:39:49.279865Z",
     "start_time": "2022-03-23T14:39:48.989615Z"
    },
    "id": "1-iUwa8pjIYb"
   },
   "outputs": [],
   "source": [
    "n_filters = 128\n",
    "filter_width = 2\n",
    "dilation_rates = [2**i for i in range(7)]\n",
    "\n",
    "inputs = keras.layers.Input(shape=(x_train.shape[1],x_train.shape[2]))\n",
    "x=inputs\n",
    "\n",
    "skips = []\n",
    "for dilation_rate in dilation_rates:\n",
    "\n",
    "    x   = keras.layers.Conv1D(64, 1, padding='same')(x) \n",
    "    x_f = keras.layers.Conv1D(filters=n_filters,kernel_size=filter_width,padding='causal',dilation_rate=dilation_rate)(x)\n",
    "    x_g = keras.layers.Conv1D(filters=n_filters,kernel_size=filter_width, padding='causal',dilation_rate=dilation_rate)(x)\n",
    "\n",
    "    z = keras.layers.Multiply()([keras.layers.Activation('tanh')(x_f),keras.layers.Activation('sigmoid')(x_g)])\n",
    "\n",
    "    z = keras.layers.Conv1D(64, 1, padding='same', activation='relu')(z)\n",
    "\n",
    "    x = keras.layers.Add()([x, z])    \n",
    "\n",
    "    skips.append(z)\n",
    "\n",
    "out = keras.layers.Activation('relu')(keras.layers.Add()(skips)) \n",
    "out = keras.layers.Conv1D(128, 1, padding='same')(out)\n",
    "out = keras.layers.Activation('relu')(out)\n",
    "out = keras.layers.Dropout(0.4)(out)\n",
    "out = keras.layers.Conv1D(1, 1, padding='same')(out)\n",
    "\n",
    "out = keras.layers.Flatten()(out)\n",
    "out = keras.layers.Dense(6)(out)\n",
    "\n",
    "simple_wavenet = keras.Model(inputs, out)\n",
    "\n",
    "simple_wavenet.compile(loss='mse', optimizer=keras.optimizers.Adam(learning_rate=LR), metrics=['mae'])\n"
   ]
  },
  {
   "cell_type": "code",
   "execution_count": 23,
   "metadata": {
    "ExecuteTime": {
     "end_time": "2022-03-23T14:48:14.702059Z",
     "start_time": "2022-03-23T14:40:11.758385Z"
    },
    "colab": {
     "base_uri": "https://localhost:8080/",
     "height": 545
    },
    "id": "KcxMyXFLjIYb",
    "outputId": "870f40fd-2d4e-401d-b114-0ff96e3f66ce",
    "scrolled": true
   },
   "outputs": [
    {
     "name": "stdout",
     "output_type": "stream",
     "text": [
      "Epoch 1/30\n",
      "897/897 [==============================] - 19s 18ms/step - loss: 0.0122 - mae: 0.0740 - val_loss: 0.0041 - val_mae: 0.0524\n",
      "Epoch 2/30\n",
      "  7/897 [..............................] - ETA: 15s - loss: 0.0041 - mae: 0.0485"
     ]
    },
    {
     "name": "stderr",
     "output_type": "stream",
     "text": [
      "C:\\Users\\WSF_CA_2021\\AppData\\Roaming\\Python\\Python38\\site-packages\\tensorflow\\python\\keras\\utils\\generic_utils.py:494: CustomMaskWarning: Custom mask layers require a config and must override get_config. When loading, the custom mask layer must be passed to the custom_objects argument.\n",
      "  warnings.warn('Custom mask layers require a config and must override '\n"
     ]
    },
    {
     "name": "stdout",
     "output_type": "stream",
     "text": [
      "897/897 [==============================] - 15s 17ms/step - loss: 0.0036 - mae: 0.0458 - val_loss: 0.0027 - val_mae: 0.0364\n",
      "Epoch 3/30\n",
      "897/897 [==============================] - 15s 16ms/step - loss: 0.0025 - mae: 0.0378 - val_loss: 0.0026 - val_mae: 0.0367\n",
      "Epoch 4/30\n",
      "897/897 [==============================] - 15s 17ms/step - loss: 0.0020 - mae: 0.0334 - val_loss: 0.0027 - val_mae: 0.0388\n",
      "Epoch 5/30\n",
      "897/897 [==============================] - 15s 17ms/step - loss: 0.0018 - mae: 0.0310 - val_loss: 0.0021 - val_mae: 0.0315\n",
      "Epoch 6/30\n",
      "897/897 [==============================] - 16s 18ms/step - loss: 0.0016 - mae: 0.0295 - val_loss: 0.0020 - val_mae: 0.0325\n",
      "Epoch 7/30\n",
      "897/897 [==============================] - 17s 19ms/step - loss: 0.0015 - mae: 0.0281 - val_loss: 0.0018 - val_mae: 0.0300\n",
      "Epoch 8/30\n",
      "897/897 [==============================] - 16s 18ms/step - loss: 0.0014 - mae: 0.0270 - val_loss: 0.0019 - val_mae: 0.0332\n",
      "Epoch 9/30\n",
      "897/897 [==============================] - 16s 18ms/step - loss: 0.0014 - mae: 0.0265 - val_loss: 0.0018 - val_mae: 0.0303\n",
      "Epoch 10/30\n",
      "897/897 [==============================] - 16s 18ms/step - loss: 0.0013 - mae: 0.0259 - val_loss: 0.0020 - val_mae: 0.0316\n",
      "Epoch 11/30\n",
      "897/897 [==============================] - 16s 18ms/step - loss: 0.0013 - mae: 0.0254 - val_loss: 0.0018 - val_mae: 0.0308\n",
      "Epoch 12/30\n",
      "897/897 [==============================] - 16s 17ms/step - loss: 0.0012 - mae: 0.0249 - val_loss: 0.0019 - val_mae: 0.0332\n",
      "Epoch 13/30\n",
      "897/897 [==============================] - 16s 18ms/step - loss: 0.0012 - mae: 0.0250 - val_loss: 0.0016 - val_mae: 0.0295\n",
      "Epoch 14/30\n",
      "897/897 [==============================] - 15s 17ms/step - loss: 0.0012 - mae: 0.0247 - val_loss: 0.0014 - val_mae: 0.0263\n",
      "Epoch 15/30\n",
      "897/897 [==============================] - 15s 17ms/step - loss: 0.0012 - mae: 0.0243 - val_loss: 0.0016 - val_mae: 0.0284\n",
      "Epoch 16/30\n",
      "897/897 [==============================] - 16s 18ms/step - loss: 0.0011 - mae: 0.0242 - val_loss: 0.0018 - val_mae: 0.0309\n",
      "Epoch 17/30\n",
      "897/897 [==============================] - 16s 17ms/step - loss: 0.0011 - mae: 0.0238 - val_loss: 0.0023 - val_mae: 0.0379\n",
      "Epoch 18/30\n",
      "897/897 [==============================] - 17s 19ms/step - loss: 0.0011 - mae: 0.0237 - val_loss: 0.0014 - val_mae: 0.0267\n",
      "Epoch 19/30\n",
      "897/897 [==============================] - 16s 18ms/step - loss: 0.0011 - mae: 0.0235 - val_loss: 0.0014 - val_mae: 0.0263\n",
      "Epoch 20/30\n",
      "897/897 [==============================] - 16s 18ms/step - loss: 0.0011 - mae: 0.0232 - val_loss: 0.0017 - val_mae: 0.0283\n",
      "Epoch 21/30\n",
      "897/897 [==============================] - 16s 18ms/step - loss: 0.0010 - mae: 0.0231 - val_loss: 0.0015 - val_mae: 0.0276\n",
      "Epoch 22/30\n",
      "897/897 [==============================] - 16s 17ms/step - loss: 0.0010 - mae: 0.0227 - val_loss: 0.0013 - val_mae: 0.0246\n",
      "Epoch 23/30\n",
      "897/897 [==============================] - 16s 18ms/step - loss: 0.0010 - mae: 0.0230 - val_loss: 0.0018 - val_mae: 0.0293\n",
      "Epoch 24/30\n",
      "897/897 [==============================] - 16s 17ms/step - loss: 0.0010 - mae: 0.0226 - val_loss: 0.0016 - val_mae: 0.0281\n",
      "Epoch 25/30\n",
      "897/897 [==============================] - 16s 18ms/step - loss: 9.8753e-04 - mae: 0.0224 - val_loss: 0.0013 - val_mae: 0.0245\n",
      "Epoch 26/30\n",
      "897/897 [==============================] - 16s 18ms/step - loss: 9.6756e-04 - mae: 0.0221 - val_loss: 0.0017 - val_mae: 0.0299\n",
      "Epoch 27/30\n",
      "897/897 [==============================] - 16s 18ms/step - loss: 9.7130e-04 - mae: 0.0222 - val_loss: 0.0015 - val_mae: 0.0275\n",
      "Epoch 28/30\n",
      "897/897 [==============================] - 16s 18ms/step - loss: 9.5293e-04 - mae: 0.0219 - val_loss: 0.0015 - val_mae: 0.0273\n",
      "Epoch 29/30\n",
      "897/897 [==============================] - 16s 18ms/step - loss: 9.5363e-04 - mae: 0.0220 - val_loss: 0.0014 - val_mae: 0.0264\n",
      "Epoch 30/30\n",
      "897/897 [==============================] - 15s 17ms/step - loss: 9.3341e-04 - mae: 0.0217 - val_loss: 0.0015 - val_mae: 0.0287\n"
     ]
    },
    {
     "data": {
      "image/png": "[encoded data removed]",
      "text/plain": [
       "<Figure size 432x288 with 1 Axes>"
      ]
     },
     "metadata": {
      "needs_background": "light"
     },
     "output_type": "display_data"
    },
    {
     "name": "stdout",
     "output_type": "stream",
     "text": [
      "(7957, 6)\n",
      "The Mean Squared Error is: 0.4190511430811955\n"
     ]
    }
   ],
   "source": [
    "## Saving the result file to the folder of the model\n",
    "history = simple_wavenet.fit(x_train,y_train,validation_split=0.1,batch_size=BATCH_SIZE,epochs=EPOCHS,callbacks=[checkpoint_simple])\n",
    "\n",
    "plt.plot(history.history['loss'],'r',label='Training Loss')\n",
    "plt.plot(history.history['val_loss'],'b',label='Validation Loss')\n",
    "plt.legend()\n",
    "plt.show()\n",
    "\n",
    "simple_wavenet.load_weights(filepath_simple)\n",
    "preds = simple_wavenet.predict(x_test)\n",
    "\n",
    "preds = preds.reshape(preds.shape[0],preds.shape[1])\n",
    "print(preds.shape)\n",
    "\n",
    "y_test_unscaled = scaler.inverse_transform(y_test)\n",
    "y_pred_unscaled = scaler.inverse_transform(preds)\n",
    "\n",
    "e_mse = mse(y_test_unscaled[:,5],y_pred_unscaled[:,5])\n",
    "print(f'The Mean Squared Error is: {e_mse}')\n",
    "\n",
    "for i in range(y_test.shape[1]):\n",
    "        sheet1.write(0, 0, 'MSE')\n",
    "        sheet1.write(0, 1, 'Hours Ahead')\n",
    "        sheet1.write(i + 1, 0, mse(y_test_unscaled[:,i],y_pred_unscaled[:,i]))\n",
    "        sheet1.write(i + 1, 1, i+1)\n"
   ]
  },
  {
   "cell_type": "code",
   "execution_count": 24,
   "metadata": {
    "ExecuteTime": {
     "end_time": "2022-03-23T14:48:32.385609Z",
     "start_time": "2022-03-23T14:48:32.110477Z"
    },
    "colab": {
     "base_uri": "https://localhost:8080/"
    },
    "id": "vuKWZ7fpjIYb",
    "outputId": "2b1989df-96da-4f6a-a89a-ef5172df2852"
   },
   "outputs": [
    {
     "name": "stdout",
     "output_type": "stream",
     "text": [
      "Model: \"model_2\"\n",
      "__________________________________________________________________________________________________\n",
      "Layer (type)                    Output Shape         Param #     Connected to                     \n",
      "==================================================================================================\n",
      "input_4 (InputLayer)            [(None, 6, 7)]       0                                            \n",
      "__________________________________________________________________________________________________\n",
      "conv1d_30 (Conv1D)              (None, 6, 64)        512         input_4[0][0]                    \n",
      "__________________________________________________________________________________________________\n",
      "conv1d_31 (Conv1D)              (None, 6, 128)       16512       conv1d_30[0][0]                  \n",
      "__________________________________________________________________________________________________\n",
      "conv1d_32 (Conv1D)              (None, 6, 128)       16512       conv1d_30[0][0]                  \n",
      "__________________________________________________________________________________________________\n",
      "activation_17 (Activation)      (None, 6, 128)       0           conv1d_31[0][0]                  \n",
      "__________________________________________________________________________________________________\n",
      "activation_18 (Activation)      (None, 6, 128)       0           conv1d_32[0][0]                  \n",
      "__________________________________________________________________________________________________\n",
      "multiply_7 (Multiply)           (None, 6, 128)       0           activation_17[0][0]              \n",
      "                                                                 activation_18[0][0]              \n",
      "__________________________________________________________________________________________________\n",
      "conv1d_33 (Conv1D)              (None, 6, 64)        8256        multiply_7[0][0]                 \n",
      "__________________________________________________________________________________________________\n",
      "add_8 (Add)                     (None, 6, 64)        0           conv1d_30[0][0]                  \n",
      "                                                                 conv1d_33[0][0]                  \n",
      "__________________________________________________________________________________________________\n",
      "conv1d_34 (Conv1D)              (None, 6, 64)        4160        add_8[0][0]                      \n",
      "__________________________________________________________________________________________________\n",
      "conv1d_35 (Conv1D)              (None, 6, 128)       16512       conv1d_34[0][0]                  \n",
      "__________________________________________________________________________________________________\n",
      "conv1d_36 (Conv1D)              (None, 6, 128)       16512       conv1d_34[0][0]                  \n",
      "__________________________________________________________________________________________________\n",
      "activation_19 (Activation)      (None, 6, 128)       0           conv1d_35[0][0]                  \n",
      "__________________________________________________________________________________________________\n",
      "activation_20 (Activation)      (None, 6, 128)       0           conv1d_36[0][0]                  \n",
      "__________________________________________________________________________________________________\n",
      "multiply_8 (Multiply)           (None, 6, 128)       0           activation_19[0][0]              \n",
      "                                                                 activation_20[0][0]              \n",
      "__________________________________________________________________________________________________\n",
      "conv1d_37 (Conv1D)              (None, 6, 64)        8256        multiply_8[0][0]                 \n",
      "__________________________________________________________________________________________________\n",
      "add_9 (Add)                     (None, 6, 64)        0           conv1d_34[0][0]                  \n",
      "                                                                 conv1d_37[0][0]                  \n",
      "__________________________________________________________________________________________________\n",
      "conv1d_38 (Conv1D)              (None, 6, 64)        4160        add_9[0][0]                      \n",
      "__________________________________________________________________________________________________\n",
      "conv1d_39 (Conv1D)              (None, 6, 128)       16512       conv1d_38[0][0]                  \n",
      "__________________________________________________________________________________________________\n",
      "conv1d_40 (Conv1D)              (None, 6, 128)       16512       conv1d_38[0][0]                  \n",
      "__________________________________________________________________________________________________\n",
      "activation_21 (Activation)      (None, 6, 128)       0           conv1d_39[0][0]                  \n",
      "__________________________________________________________________________________________________\n",
      "activation_22 (Activation)      (None, 6, 128)       0           conv1d_40[0][0]                  \n",
      "__________________________________________________________________________________________________\n",
      "multiply_9 (Multiply)           (None, 6, 128)       0           activation_21[0][0]              \n",
      "                                                                 activation_22[0][0]              \n",
      "__________________________________________________________________________________________________\n",
      "conv1d_41 (Conv1D)              (None, 6, 64)        8256        multiply_9[0][0]                 \n",
      "__________________________________________________________________________________________________\n",
      "add_10 (Add)                    (None, 6, 64)        0           conv1d_38[0][0]                  \n",
      "                                                                 conv1d_41[0][0]                  \n",
      "__________________________________________________________________________________________________\n",
      "conv1d_42 (Conv1D)              (None, 6, 64)        4160        add_10[0][0]                     \n",
      "__________________________________________________________________________________________________\n",
      "conv1d_43 (Conv1D)              (None, 6, 128)       16512       conv1d_42[0][0]                  \n",
      "__________________________________________________________________________________________________\n",
      "conv1d_44 (Conv1D)              (None, 6, 128)       16512       conv1d_42[0][0]                  \n",
      "__________________________________________________________________________________________________\n",
      "activation_23 (Activation)      (None, 6, 128)       0           conv1d_43[0][0]                  \n",
      "__________________________________________________________________________________________________\n",
      "activation_24 (Activation)      (None, 6, 128)       0           conv1d_44[0][0]                  \n",
      "__________________________________________________________________________________________________\n",
      "multiply_10 (Multiply)          (None, 6, 128)       0           activation_23[0][0]              \n",
      "                                                                 activation_24[0][0]              \n",
      "__________________________________________________________________________________________________\n",
      "conv1d_45 (Conv1D)              (None, 6, 64)        8256        multiply_10[0][0]                \n",
      "__________________________________________________________________________________________________\n",
      "add_11 (Add)                    (None, 6, 64)        0           conv1d_42[0][0]                  \n",
      "                                                                 conv1d_45[0][0]                  \n",
      "__________________________________________________________________________________________________\n",
      "conv1d_46 (Conv1D)              (None, 6, 64)        4160        add_11[0][0]                     \n",
      "__________________________________________________________________________________________________\n",
      "conv1d_47 (Conv1D)              (None, 6, 128)       16512       conv1d_46[0][0]                  \n",
      "__________________________________________________________________________________________________\n",
      "conv1d_48 (Conv1D)              (None, 6, 128)       16512       conv1d_46[0][0]                  \n",
      "__________________________________________________________________________________________________\n",
      "activation_25 (Activation)      (None, 6, 128)       0           conv1d_47[0][0]                  \n",
      "__________________________________________________________________________________________________\n",
      "activation_26 (Activation)      (None, 6, 128)       0           conv1d_48[0][0]                  \n",
      "__________________________________________________________________________________________________\n",
      "multiply_11 (Multiply)          (None, 6, 128)       0           activation_25[0][0]              \n",
      "                                                                 activation_26[0][0]              \n",
      "__________________________________________________________________________________________________\n",
      "conv1d_49 (Conv1D)              (None, 6, 64)        8256        multiply_11[0][0]                \n",
      "__________________________________________________________________________________________________\n",
      "add_12 (Add)                    (None, 6, 64)        0           conv1d_46[0][0]                  \n",
      "                                                                 conv1d_49[0][0]                  \n",
      "__________________________________________________________________________________________________\n",
      "conv1d_50 (Conv1D)              (None, 6, 64)        4160        add_12[0][0]                     \n",
      "__________________________________________________________________________________________________\n",
      "conv1d_51 (Conv1D)              (None, 6, 128)       16512       conv1d_50[0][0]                  \n",
      "__________________________________________________________________________________________________\n",
      "conv1d_52 (Conv1D)              (None, 6, 128)       16512       conv1d_50[0][0]                  \n",
      "__________________________________________________________________________________________________\n",
      "activation_27 (Activation)      (None, 6, 128)       0           conv1d_51[0][0]                  \n",
      "__________________________________________________________________________________________________\n",
      "activation_28 (Activation)      (None, 6, 128)       0           conv1d_52[0][0]                  \n",
      "__________________________________________________________________________________________________\n",
      "multiply_12 (Multiply)          (None, 6, 128)       0           activation_27[0][0]              \n",
      "                                                                 activation_28[0][0]              \n",
      "__________________________________________________________________________________________________\n",
      "conv1d_53 (Conv1D)              (None, 6, 64)        8256        multiply_12[0][0]                \n",
      "__________________________________________________________________________________________________\n",
      "add_13 (Add)                    (None, 6, 64)        0           conv1d_50[0][0]                  \n",
      "                                                                 conv1d_53[0][0]                  \n",
      "__________________________________________________________________________________________________\n",
      "conv1d_54 (Conv1D)              (None, 6, 64)        4160        add_13[0][0]                     \n",
      "__________________________________________________________________________________________________\n",
      "conv1d_55 (Conv1D)              (None, 6, 128)       16512       conv1d_54[0][0]                  \n",
      "__________________________________________________________________________________________________\n",
      "conv1d_56 (Conv1D)              (None, 6, 128)       16512       conv1d_54[0][0]                  \n",
      "__________________________________________________________________________________________________\n",
      "activation_29 (Activation)      (None, 6, 128)       0           conv1d_55[0][0]                  \n",
      "__________________________________________________________________________________________________\n",
      "activation_30 (Activation)      (None, 6, 128)       0           conv1d_56[0][0]                  \n",
      "__________________________________________________________________________________________________\n",
      "multiply_13 (Multiply)          (None, 6, 128)       0           activation_29[0][0]              \n",
      "                                                                 activation_30[0][0]              \n",
      "__________________________________________________________________________________________________\n",
      "conv1d_57 (Conv1D)              (None, 6, 64)        8256        multiply_13[0][0]                \n",
      "__________________________________________________________________________________________________\n",
      "add_15 (Add)                    (None, 6, 64)        0           conv1d_33[0][0]                  \n",
      "                                                                 conv1d_37[0][0]                  \n",
      "                                                                 conv1d_41[0][0]                  \n",
      "                                                                 conv1d_45[0][0]                  \n",
      "                                                                 conv1d_49[0][0]                  \n",
      "                                                                 conv1d_53[0][0]                  \n",
      "                                                                 conv1d_57[0][0]                  \n",
      "__________________________________________________________________________________________________\n",
      "activation_31 (Activation)      (None, 6, 64)        0           add_15[0][0]                     \n",
      "__________________________________________________________________________________________________\n",
      "conv1d_58 (Conv1D)              (None, 6, 128)       8320        activation_31[0][0]              \n",
      "__________________________________________________________________________________________________\n",
      "activation_32 (Activation)      (None, 6, 128)       0           conv1d_58[0][0]                  \n",
      "__________________________________________________________________________________________________\n",
      "dropout_1 (Dropout)             (None, 6, 128)       0           activation_32[0][0]              \n",
      "__________________________________________________________________________________________________\n",
      "conv1d_59 (Conv1D)              (None, 6, 1)         129         dropout_1[0][0]                  \n",
      "__________________________________________________________________________________________________\n",
      "flatten_1 (Flatten)             (None, 6)            0           conv1d_59[0][0]                  \n",
      "__________________________________________________________________________________________________\n",
      "dense_2 (Dense)                 (None, 6)            42          flatten_1[0][0]                  \n",
      "==================================================================================================\n",
      "Total params: 322,923\n",
      "Trainable params: 322,923\n",
      "Non-trainable params: 0\n",
      "__________________________________________________________________________________________________\n"
     ]
    }
   ],
   "source": [
    "## Attention model\n",
    "n_filters = 128\n",
    "filter_width = 2\n",
    "dilation_rates = [2**i for i in range(7)]\n",
    "\n",
    "inputs = Input(shape=(x_train.shape[1],x_train.shape[2]))\n",
    "x=inputs\n",
    "\n",
    "skips = []\n",
    "for dilation_rate in dilation_rates:\n",
    "\n",
    "    x   = Conv1D(64, 1, padding='same')(x) \n",
    "    x_f = Conv1D(filters=n_filters,kernel_size=filter_width,padding='causal',dilation_rate=dilation_rate)(x)\n",
    "    x_g = Conv1D(filters=n_filters,kernel_size=filter_width, padding='causal',dilation_rate=dilation_rate)(x)\n",
    "\n",
    "    z = Multiply()([keras.layers.Activation('tanh')(x_f),keras.layers.Activation('sigmoid')(x_g)])\n",
    "\n",
    "    z = Conv1D(64, 1, padding='same', activation='relu')(z)\n",
    "\n",
    "    x = Add()([x, z])    \n",
    "\n",
    "    skips.append(z)\n",
    "\n",
    "out = Activation('relu')(keras.layers.Add()(skips)) \n",
    "#out = attention(return_sequences=True)(out)\n",
    "out = Conv1D(128, 1, padding='same')(out)\n",
    "out = Activation('relu')(out)\n",
    "out = Dropout(0.4)(out)\n",
    "out = Conv1D(1, 1, padding='same')(out)\n",
    "#out = attention(return_sequences=True)(out)\n",
    "out = Flatten()(out)\n",
    "out = Dense(6)(out)\n",
    "\n",
    "atten_wavenet = keras.Model(inputs, out)\n",
    "\n",
    "atten_wavenet.compile(loss='mse', optimizer=keras.optimizers.Adam(learning_rate=LR), metrics=['mae'])\n",
    "atten_wavenet.summary()"
   ]
  },
  {
   "cell_type": "code",
   "execution_count": 25,
   "metadata": {
    "ExecuteTime": {
     "end_time": "2022-03-23T14:56:54.681281Z",
     "start_time": "2022-03-23T14:48:57.405261Z"
    },
    "colab": {
     "base_uri": "https://localhost:8080/",
     "height": 545
    },
    "id": "PYUrGWDEjIYb",
    "outputId": "2f9322bf-db32-4937-ff6c-574eeec0d360"
   },
   "outputs": [
    {
     "name": "stdout",
     "output_type": "stream",
     "text": [
      "Epoch 1/30\n",
      "897/897 [==============================] - 18s 18ms/step - loss: 0.0111 - mae: 0.0751 - val_loss: 0.0048 - val_mae: 0.0511\n",
      "Epoch 2/30\n",
      "  4/897 [..............................] - ETA: 15s - loss: 0.0042 - mae: 0.0500"
     ]
    },
    {
     "name": "stderr",
     "output_type": "stream",
     "text": [
      "C:\\Users\\WSF_CA_2021\\AppData\\Roaming\\Python\\Python38\\site-packages\\tensorflow\\python\\keras\\utils\\generic_utils.py:494: CustomMaskWarning: Custom mask layers require a config and must override get_config. When loading, the custom mask layer must be passed to the custom_objects argument.\n",
      "  warnings.warn('Custom mask layers require a config and must override '\n"
     ]
    },
    {
     "name": "stdout",
     "output_type": "stream",
     "text": [
      "897/897 [==============================] - 16s 17ms/step - loss: 0.0040 - mae: 0.0484 - val_loss: 0.0033 - val_mae: 0.0439\n",
      "Epoch 3/30\n",
      "897/897 [==============================] - 16s 18ms/step - loss: 0.0027 - mae: 0.0387 - val_loss: 0.0028 - val_mae: 0.0393\n",
      "Epoch 4/30\n",
      "897/897 [==============================] - 16s 18ms/step - loss: 0.0021 - mae: 0.0338 - val_loss: 0.0033 - val_mae: 0.0459\n",
      "Epoch 5/30\n",
      "897/897 [==============================] - 16s 18ms/step - loss: 0.0018 - mae: 0.0313 - val_loss: 0.0021 - val_mae: 0.0336\n",
      "Epoch 6/30\n",
      "897/897 [==============================] - 17s 18ms/step - loss: 0.0017 - mae: 0.0298 - val_loss: 0.0018 - val_mae: 0.0291\n",
      "Epoch 7/30\n",
      "897/897 [==============================] - 16s 18ms/step - loss: 0.0016 - mae: 0.0286 - val_loss: 0.0018 - val_mae: 0.0307\n",
      "Epoch 8/30\n",
      "897/897 [==============================] - 16s 18ms/step - loss: 0.0015 - mae: 0.0276 - val_loss: 0.0023 - val_mae: 0.0385\n",
      "Epoch 9/30\n",
      "897/897 [==============================] - 16s 18ms/step - loss: 0.0014 - mae: 0.0270 - val_loss: 0.0018 - val_mae: 0.0294\n",
      "Epoch 10/30\n",
      "897/897 [==============================] - 16s 18ms/step - loss: 0.0013 - mae: 0.0262 - val_loss: 0.0016 - val_mae: 0.0289\n",
      "Epoch 11/30\n",
      "897/897 [==============================] - 16s 18ms/step - loss: 0.0013 - mae: 0.0257 - val_loss: 0.0018 - val_mae: 0.0298\n",
      "Epoch 12/30\n",
      "897/897 [==============================] - 16s 18ms/step - loss: 0.0013 - mae: 0.0254 - val_loss: 0.0018 - val_mae: 0.0329\n",
      "Epoch 13/30\n",
      "897/897 [==============================] - 15s 17ms/step - loss: 0.0012 - mae: 0.0249 - val_loss: 0.0017 - val_mae: 0.0301\n",
      "Epoch 14/30\n",
      "897/897 [==============================] - 16s 17ms/step - loss: 0.0012 - mae: 0.0245 - val_loss: 0.0014 - val_mae: 0.0255\n",
      "Epoch 15/30\n",
      "897/897 [==============================] - 16s 18ms/step - loss: 0.0012 - mae: 0.0242 - val_loss: 0.0015 - val_mae: 0.0270\n",
      "Epoch 16/30\n",
      "897/897 [==============================] - 16s 18ms/step - loss: 0.0012 - mae: 0.0242 - val_loss: 0.0017 - val_mae: 0.0296\n",
      "Epoch 17/30\n",
      "897/897 [==============================] - 15s 17ms/step - loss: 0.0011 - mae: 0.0238 - val_loss: 0.0018 - val_mae: 0.0333\n",
      "Epoch 18/30\n",
      "897/897 [==============================] - 16s 18ms/step - loss: 0.0011 - mae: 0.0237 - val_loss: 0.0013 - val_mae: 0.0248\n",
      "Epoch 19/30\n",
      "897/897 [==============================] - 16s 18ms/step - loss: 0.0011 - mae: 0.0235 - val_loss: 0.0015 - val_mae: 0.0275\n",
      "Epoch 20/30\n",
      "897/897 [==============================] - 15s 17ms/step - loss: 0.0011 - mae: 0.0233 - val_loss: 0.0016 - val_mae: 0.0291\n",
      "Epoch 21/30\n",
      "897/897 [==============================] - 15s 17ms/step - loss: 0.0010 - mae: 0.0228 - val_loss: 0.0014 - val_mae: 0.0260\n",
      "Epoch 22/30\n",
      "897/897 [==============================] - 15s 17ms/step - loss: 0.0010 - mae: 0.0226 - val_loss: 0.0012 - val_mae: 0.0243\n",
      "Epoch 23/30\n",
      "897/897 [==============================] - 15s 17ms/step - loss: 0.0010 - mae: 0.0230 - val_loss: 0.0018 - val_mae: 0.0292\n",
      "Epoch 24/30\n",
      "897/897 [==============================] - 15s 17ms/step - loss: 9.9416e-04 - mae: 0.0224 - val_loss: 0.0017 - val_mae: 0.0313\n",
      "Epoch 25/30\n",
      "897/897 [==============================] - 15s 17ms/step - loss: 9.8646e-04 - mae: 0.0223 - val_loss: 0.0014 - val_mae: 0.0257\n",
      "Epoch 26/30\n",
      "897/897 [==============================] - 16s 18ms/step - loss: 9.7780e-04 - mae: 0.0221 - val_loss: 0.0015 - val_mae: 0.0271\n",
      "Epoch 27/30\n",
      "897/897 [==============================] - 16s 18ms/step - loss: 9.8665e-04 - mae: 0.0223 - val_loss: 0.0015 - val_mae: 0.0261\n",
      "Epoch 28/30\n",
      "897/897 [==============================] - 15s 17ms/step - loss: 9.5753e-04 - mae: 0.0219 - val_loss: 0.0013 - val_mae: 0.0246\n",
      "Epoch 29/30\n",
      "897/897 [==============================] - 15s 17ms/step - loss: 9.5738e-04 - mae: 0.0219 - val_loss: 0.0014 - val_mae: 0.0268\n",
      "Epoch 30/30\n",
      "897/897 [==============================] - 16s 18ms/step - loss: 9.5415e-04 - mae: 0.0220 - val_loss: 0.0013 - val_mae: 0.0257\n"
     ]
    },
    {
     "data": {
      "image/png": "[encoded data removed]",
      "text/plain": [
       "<Figure size 432x288 with 1 Axes>"
      ]
     },
     "metadata": {
      "needs_background": "light"
     },
     "output_type": "display_data"
    },
    {
     "name": "stdout",
     "output_type": "stream",
     "text": [
      "(7957, 6)\n",
      "The Mean Squared Error is: 0.41897615724403864\n"
     ]
    }
   ],
   "source": [
    "## Saving the result file to the folder of the model\n",
    "history = atten_wavenet.fit(x_train,y_train,validation_split=0.1,batch_size=BATCH_SIZE,epochs=EPOCHS,callbacks=[checkpoint_attention])\n",
    "\n",
    "plt.plot(history.history['loss'],'r',label='Training Loss')\n",
    "plt.plot(history.history['val_loss'],'b',label='Validation Loss')\n",
    "plt.legend()\n",
    "plt.show()\n",
    "\n",
    "atten_wavenet.load_weights(filepath_attention)\n",
    "preds = atten_wavenet.predict(x_test)\n",
    "\n",
    "preds = preds.reshape(preds.shape[0],preds.shape[1])\n",
    "print(preds.shape)\n",
    "\n",
    "y_test_unscaled = scaler.inverse_transform(y_test)\n",
    "y_pred_unscaled = scaler.inverse_transform(preds)\n",
    "\n",
    "e_mse = mse(y_test_unscaled[:,5],y_pred_unscaled[:,5])\n",
    "print(f'The Mean Squared Error is: {e_mse}')\n",
    "\n",
    "for i in range(y_test.shape[1]):\n",
    "        sheet2.write(0, 0, 'MSE')\n",
    "        sheet2.write(0, 1, 'Hours Ahead')\n",
    "        sheet2.write(i + 1, 0, mse(y_test_unscaled[:,i],y_pred_unscaled[:,i]))\n",
    "        sheet2.write(i + 1, 1, i+1)\n",
    "        sheet3.write(0, i, \"Real-test\")\n",
    "        sheet4.write(0, i, \"Predicted_test\")\n",
    "        for j in range(y_test_unscaled.shape[0]):\n",
    "                 sheet3.write(j + 1, i, float(y_test_unscaled[j, i]))\n",
    "        for k in range(y_pred_unscaled.shape[0]):\n",
    "                 sheet4.write(k + 1, i, float(y_pred_unscaled[k, i]))\n",
    "\n",
    "wk.save(working_dir / Path('Wavenet Results.xls'))"
   ]
  },
  {
   "cell_type": "code",
   "execution_count": null,
   "metadata": {
    "id": "FW_6Ggs4jIYb"
   },
   "outputs": [],
   "source": []
  }
 ],
 "metadata": {
  "accelerator": "GPU",
  "colab": {
   "collapsed_sections": [],
   "name": "Forecasting_both.ipynb",
   "provenance": [],
   "toc_visible": true
  },
  "kernelspec": {
   "display_name": "Python 3 (ipykernel)",
   "language": "python",
   "name": "python3"
  },
  "language_info": {
   "codemirror_mode": {
    "name": "ipython",
    "version": 3
   },
   "file_extension": ".py",
   "mimetype": "text/x-python",
   "name": "python",
   "nbconvert_exporter": "python",
   "pygments_lexer": "ipython3",
   "version": "3.8.12"
  },
  "toc": {
   "base_numbering": 1,
   "nav_menu": {},
   "number_sections": true,
   "sideBar": true,
   "skip_h1_title": false,
   "title_cell": "Table of Contents",
   "title_sidebar": "Contents",
   "toc_cell": false,
   "toc_position": {},
   "toc_section_display": true,
   "toc_window_display": false
  },
  "varInspector": {
   "cols": {
    "lenName": 16,
    "lenType": 16,
    "lenVar": 40
   },
   "kernels_config": {
    "python": {
     "delete_cmd_postfix": "",
     "delete_cmd_prefix": "del ",
     "library": "var_list.py",
     "varRefreshCmd": "print(var_dic_list())"
    },
    "r": {
     "delete_cmd_postfix": ") ",
     "delete_cmd_prefix": "rm(",
     "library": "var_list.r",
     "varRefreshCmd": "cat(var_dic_list()) "
    }
   },
   "types_to_exclude": [
    "module",
    "function",
    "builtin_function_or_method",
    "instance",
    "_Feature"
   ],
   "window_display": false
  }
 },
 "nbformat": 4,
 "nbformat_minor": 1
}
