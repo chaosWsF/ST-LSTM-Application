{
  "nbformat": 4,
  "nbformat_minor": 0,
  "metadata": {
    "kernelspec": {
      "display_name": "Python 3",
      "language": "python",
      "name": "python3"
    },
    "language_info": {
      "codemirror_mode": {
        "name": "ipython",
        "version": 3
      },
      "file_extension": ".py",
      "mimetype": "text/x-python",
      "name": "python",
      "nbconvert_exporter": "python",
      "pygments_lexer": "ipython3",
      "version": "3.8.5"
    },
    "colab": {
      "name": "Forecasting_both.ipynb",
      "provenance": [],
      "collapsed_sections": [],
      "toc_visible": true
    },
    "accelerator": "GPU"
  },
  "cells": [
    {
      "cell_type": "code",
      "metadata": {
        "colab": {
          "base_uri": "https://localhost:8080/"
        },
        "id": "-G4gTwaE2qX8",
        "outputId": "60d78488-4385-45b0-9f7e-d7e80dfcd22c"
      },
      "source": [
        "!nvidia-smi"
      ],
      "execution_count": 58,
      "outputs": [
        {
          "output_type": "stream",
          "name": "stdout",
          "text": [
            "Thu Dec  2 06:00:26 2021       \n",
            "+-----------------------------------------------------------------------------+\n",
            "| NVIDIA-SMI 495.44       Driver Version: 460.32.03    CUDA Version: 11.2     |\n",
            "|-------------------------------+----------------------+----------------------+\n",
            "| GPU  Name        Persistence-M| Bus-Id        Disp.A | Volatile Uncorr. ECC |\n",
            "| Fan  Temp  Perf  Pwr:Usage/Cap|         Memory-Usage | GPU-Util  Compute M. |\n",
            "|                               |                      |               MIG M. |\n",
            "|===============================+======================+======================|\n",
            "|   0  Tesla K80           Off  | 00000000:00:04.0 Off |                    0 |\n",
            "| N/A   73C    P0    72W / 149W |    283MiB / 11441MiB |      0%      Default |\n",
            "|                               |                      |                  N/A |\n",
            "+-------------------------------+----------------------+----------------------+\n",
            "                                                                               \n",
            "+-----------------------------------------------------------------------------+\n",
            "| Processes:                                                                  |\n",
            "|  GPU   GI   CI        PID   Type   Process name                  GPU Memory |\n",
            "|        ID   ID                                                   Usage      |\n",
            "|=============================================================================|\n",
            "|  No running processes found                                                 |\n",
            "+-----------------------------------------------------------------------------+\n"
          ]
        }
      ]
    },
    {
      "cell_type": "code",
      "metadata": {
        "colab": {
          "base_uri": "https://localhost:8080/"
        },
        "id": "abTPeeLX2xZv",
        "outputId": "76627260-645d-4bb0-ca2b-f6071413be23"
      },
      "source": [
        "from google.colab import drive\n",
        "drive.mount('/content/drive')"
      ],
      "execution_count": 59,
      "outputs": [
        {
          "output_type": "stream",
          "name": "stdout",
          "text": [
            "Drive already mounted at /content/drive; to attempt to forcibly remount, call drive.mount(\"/content/drive\", force_remount=True).\n"
          ]
        }
      ]
    },
    {
      "cell_type": "code",
      "metadata": {
        "colab": {
          "base_uri": "https://localhost:8080/"
        },
        "id": "6o-fVWVn26Et",
        "outputId": "a43103e1-2ee3-4316-cfe0-3917125cd3fe"
      },
      "source": [
        "cd /content/drive/MyDrive"
      ],
      "execution_count": 60,
      "outputs": [
        {
          "output_type": "stream",
          "name": "stdout",
          "text": [
            "/content/drive/MyDrive\n"
          ]
        }
      ]
    },
    {
      "cell_type": "markdown",
      "metadata": {
        "id": "6Uk_Uw8hjIYM"
      },
      "source": [
        "# Libraries"
      ]
    },
    {
      "cell_type": "code",
      "metadata": {
        "colab": {
          "base_uri": "https://localhost:8080/"
        },
        "id": "Sl87p9d8jIYQ",
        "outputId": "c943585b-4a8d-48be-834e-c1d36962df50"
      },
      "source": [
        "import pandas as pd\n",
        "import numpy as np\n",
        "import matplotlib.pyplot as plt\n",
        "import os\n",
        "import xlwt \n",
        "from xlwt import Workbook \n",
        "from prettytable import PrettyTable\n",
        "\n",
        "from sklearn.model_selection import train_test_split\n",
        "from sklearn.preprocessing import MinMaxScaler\n",
        "from sklearn.metrics import mean_squared_error as mse\n",
        "\n",
        "import tensorflow as tf\n",
        "physical_devices = tf.config.list_physical_devices('GPU')\n",
        "if physical_devices:\n",
        "    tf.config.experimental.set_memory_growth(physical_devices[0], enable=True)\n",
        "from tensorflow import keras\n",
        "from tensorflow.keras.layers import *\n",
        "import tensorflow.keras.backend as K\n",
        "\n",
        "#Fix for same result\n",
        "from numpy.random import seed\n",
        "seed(1)\n",
        "from tensorflow import random\n",
        "random.set_seed(2) \n",
        "\n",
        "print('Libraries Loaded')"
      ],
      "execution_count": 61,
      "outputs": [
        {
          "output_type": "stream",
          "name": "stdout",
          "text": [
            "Libraries Loaded\n"
          ]
        }
      ]
    },
    {
      "cell_type": "markdown",
      "metadata": {
        "id": "1Qh022owjIYR"
      },
      "source": [
        "# Utilities"
      ]
    },
    {
      "cell_type": "code",
      "metadata": {
        "id": "FccffK6qjIYS"
      },
      "source": [
        "def read_file(path):\n",
        "    '''\n",
        "    Returns the dataframe which is read from the excel file present in the path specified. \n",
        "    \n",
        "    Parameters:\n",
        "        path (str) : The path of the file\n",
        "    \n",
        "    Returns:\n",
        "        df (float) : The dataframe which is created after reading the file.\n",
        "    '''\n",
        "    df= pd.read_csv(path)\n",
        "    df = df.loc[:, ~df.columns.str.contains('^Unnamed')]\n",
        "    print(df.shape)\n",
        "    print(df.head())\n",
        "    return df\n",
        "\n",
        "def create_dataset(X, y, time_steps, ts_range):\n",
        "    '''\n",
        "    Returns the prepared data based on the lag and look ahead\n",
        "    \n",
        "    Parameters:\n",
        "        X          (float): The independent variables of the data\n",
        "        y          (float): The dependent variables of the data\n",
        "        time_steps (int)  : The lag that is being used to lookback\n",
        "        ts_range   (int)  : The lookahead for the data\n",
        "    \n",
        "    Returns:\n",
        "        Xs (float) : The numpy array of the input variable\n",
        "        ys (float) : The numpy array of the output variable \n",
        "    '''\n",
        "    Xs, ys = [], []\n",
        "    for i in range(len(X) - time_steps - ts_range):\n",
        "        v = X.iloc[i:(i + time_steps)].values\n",
        "        Xs.append(v)\n",
        "        ys.append(y.values[(i + time_steps):(i + time_steps + ts_range),0])\n",
        "    return np.array(Xs), np.array(ys)\n",
        "\n",
        "def splitter(df,output,lag,duration,ts):\n",
        "    '''\n",
        "    Returns the training and testing data\n",
        "    \n",
        "    Parameters:\n",
        "        df (float): The whole dataframe containing the independent and dependent variables\n",
        "        output(str): The output variable \n",
        "        lag (int): The lag that needs to be applied for the data\n",
        "        duration (int): The duration that is being considered as output\n",
        "        ts (float): The percentage of training data\n",
        "    \n",
        "    Returns:\n",
        "        x_train (float): The training data of independent variable \n",
        "        x_test (float): The testing data of independent variable\n",
        "        y_train (float): The training data of the depenedent variable \n",
        "        y_test (float): The testing data of the dependent variable \n",
        "    '''\n",
        "    assert (0. <= ts <= 1.)\n",
        "    train_size = int(len(df) * ts)\n",
        "    test_size = len(df) - train_size\n",
        "    train, test = df.iloc[0:train_size], df[train_size:]\n",
        "    print(train.shape, test.shape)\n",
        "    scaler,scaler_single = MinMaxScaler(feature_range=(0, 1)),MinMaxScaler(feature_range=(0, 1))\n",
        "\n",
        "    scaler.fit(train)\n",
        "    scaler_single.fit(train[output])\n",
        "\n",
        "    train_scaled = pd.DataFrame(scaler.transform(train), columns=[df.columns])\n",
        "    test_scaled = pd.DataFrame(scaler.transform(test), columns=[df.columns])\n",
        "\n",
        "    df_train = train_scaled.copy(deep=True)\n",
        "    df_test = test_scaled.copy(deep=True)\n",
        "\n",
        "    x_train,y_train = create_dataset(df_train,df_train[[output]],lag,duration)\n",
        "    x_test, y_test = create_dataset(df_test, df_test[[output]], lag, duration)\n",
        "\n",
        "    return x_train,x_test,y_train,y_test,scaler_single\n",
        "\n",
        "class attention(keras.layers.Layer):\n",
        "    '''\n",
        "    Attention layer for the neural networks.\n",
        "    \n",
        "    if return_sequences=True, it will give 3D vector and if false it will give 2D vector. It is same as LSTMs.\n",
        "\n",
        "    https://stackoverflow.com/questions/62948332/how-to-add-attention-layer-to-a-bi-lstm/62949137#62949137\n",
        "    the  following code is being inspired from the above link.\n",
        "    '''\n",
        "\n",
        "    def __init__(self, return_sequences=True, **kwargs):\n",
        "        self.return_sequences = return_sequences\n",
        "        super(attention, self).__init__()\n",
        "\n",
        "    def get_config(self):\n",
        "        cfg = super().get_config()\n",
        "        return cfg\n",
        "\n",
        "    def build(self, input_shape):\n",
        "        self.W = self.add_weight(name=\"att_weight\", shape=(input_shape[-1], 1),\n",
        "                                 initializer=\"normal\")\n",
        "        self.b = self.add_weight(name=\"att_bias\", shape=(input_shape[1], 1),\n",
        "                                 initializer=\"zeros\")\n",
        "\n",
        "        super(attention, self).build(input_shape)\n",
        "\n",
        "    def call(self, x):\n",
        "        e = K.tanh(K.dot(x, self.W) + self.b)\n",
        "        a = K.softmax(e, axis=1)\n",
        "        output = x * a\n",
        "\n",
        "        if self.return_sequences:\n",
        "            return output\n",
        "\n",
        "        return K.sum(output, axis=1)"
      ],
      "execution_count": 62,
      "outputs": []
    },
    {
      "cell_type": "markdown",
      "metadata": {
        "id": "uYgihphCjIYT"
      },
      "source": [
        "# Data Preparation"
      ]
    },
    {
      "cell_type": "code",
      "metadata": {
        "scrolled": true,
        "id": "Gcso5nlejIYT",
        "colab": {
          "base_uri": "https://localhost:8080/"
        },
        "outputId": "6fe79135-f864-4927-b2b4-638ca5a8106f"
      },
      "source": [
        "## Specifying the source path\n",
        "filename_upstream = r'oldderry.csv'\n",
        "filename_downstream = r'MGCC.csv'\n",
        "\n",
        "\n",
        "## Specifying the destination path\n",
        "#dest = r''\n",
        "\n",
        "## Reading the file\n",
        "df_up = read_file(filename_upstream)\n",
        "df_down = read_file(filename_downstream)\n",
        "\n",
        "##Dropping the columns that are not needed such as Discharge, since all the values are NaN\n",
        "df_down.drop(columns=['Discharge'], inplace=True)"
      ],
      "execution_count": 63,
      "outputs": [
        {
          "output_type": "stream",
          "name": "stdout",
          "text": [
            "(39845, 8)\n",
            "         Time Hour  Air Temp  ...  Specific Conductivity  Turbidity\n",
            "0  2012/4/19 15:00   20.2150  ...                  740.0      3.500\n",
            "1  2012/4/19 16:00   20.5575  ...                  730.0      2.900\n",
            "2  2012/4/19 17:00   23.3150  ...                  725.0      3.100\n",
            "3  2012/4/19 18:00   23.3275  ...                  720.0      3.500\n",
            "4  2012/4/19 19:00   24.3900  ...                  720.0      3.425\n",
            "\n",
            "[5 rows x 8 columns]\n",
            "(39845, 9)\n",
            "         Time Hour  Air Temp  ...  Discharge  Dissolved Oxygen\n",
            "0  2012/4/19 15:00   13.3700  ...        NaN           11.7350\n",
            "1  2012/4/19 16:00   15.1125  ...        NaN           11.7275\n",
            "2  2012/4/19 17:00   15.2275  ...        NaN           11.4825\n",
            "3  2012/4/19 18:00   17.7450  ...        NaN           11.1100\n",
            "4  2012/4/19 19:00   19.3625  ...        NaN           10.9625\n",
            "\n",
            "[5 rows x 9 columns]\n"
          ]
        }
      ]
    },
    {
      "cell_type": "code",
      "metadata": {
        "colab": {
          "base_uri": "https://localhost:8080/",
          "height": 206
        },
        "id": "raRalR4U3bm_",
        "outputId": "1dc03755-7793-4f22-c872-6dd8296e41a9"
      },
      "source": [
        "df_up.head()"
      ],
      "execution_count": 64,
      "outputs": [
        {
          "output_type": "execute_result",
          "data": {
            "text/html": [
              "<div>\n",
              "<style scoped>\n",
              "    .dataframe tbody tr th:only-of-type {\n",
              "        vertical-align: middle;\n",
              "    }\n",
              "\n",
              "    .dataframe tbody tr th {\n",
              "        vertical-align: top;\n",
              "    }\n",
              "\n",
              "    .dataframe thead th {\n",
              "        text-align: right;\n",
              "    }\n",
              "</style>\n",
              "<table border=\"1\" class=\"dataframe\">\n",
              "  <thead>\n",
              "    <tr style=\"text-align: right;\">\n",
              "      <th></th>\n",
              "      <th>Time Hour</th>\n",
              "      <th>Air Temp</th>\n",
              "      <th>Water Temp</th>\n",
              "      <th>Chloride Concentration</th>\n",
              "      <th>Dissolved Oxygen</th>\n",
              "      <th>pH</th>\n",
              "      <th>Specific Conductivity</th>\n",
              "      <th>Turbidity</th>\n",
              "    </tr>\n",
              "  </thead>\n",
              "  <tbody>\n",
              "    <tr>\n",
              "      <th>0</th>\n",
              "      <td>2012/4/19 15:00</td>\n",
              "      <td>20.2150</td>\n",
              "      <td>10.6650</td>\n",
              "      <td>97.0900</td>\n",
              "      <td>11.3000</td>\n",
              "      <td>8.500</td>\n",
              "      <td>740.0</td>\n",
              "      <td>3.500</td>\n",
              "    </tr>\n",
              "    <tr>\n",
              "      <th>1</th>\n",
              "      <td>2012/4/19 16:00</td>\n",
              "      <td>20.5575</td>\n",
              "      <td>11.4225</td>\n",
              "      <td>95.8975</td>\n",
              "      <td>11.4525</td>\n",
              "      <td>8.500</td>\n",
              "      <td>730.0</td>\n",
              "      <td>2.900</td>\n",
              "    </tr>\n",
              "    <tr>\n",
              "      <th>2</th>\n",
              "      <td>2012/4/19 17:00</td>\n",
              "      <td>23.3150</td>\n",
              "      <td>12.3825</td>\n",
              "      <td>93.8325</td>\n",
              "      <td>11.5250</td>\n",
              "      <td>8.500</td>\n",
              "      <td>725.0</td>\n",
              "      <td>3.100</td>\n",
              "    </tr>\n",
              "    <tr>\n",
              "      <th>3</th>\n",
              "      <td>2012/4/19 18:00</td>\n",
              "      <td>23.3275</td>\n",
              "      <td>13.3350</td>\n",
              "      <td>93.6525</td>\n",
              "      <td>11.4000</td>\n",
              "      <td>8.575</td>\n",
              "      <td>720.0</td>\n",
              "      <td>3.500</td>\n",
              "    </tr>\n",
              "    <tr>\n",
              "      <th>4</th>\n",
              "      <td>2012/4/19 19:00</td>\n",
              "      <td>24.3900</td>\n",
              "      <td>14.0200</td>\n",
              "      <td>93.8050</td>\n",
              "      <td>11.2200</td>\n",
              "      <td>8.600</td>\n",
              "      <td>720.0</td>\n",
              "      <td>3.425</td>\n",
              "    </tr>\n",
              "  </tbody>\n",
              "</table>\n",
              "</div>"
            ],
            "text/plain": [
              "         Time Hour  Air Temp  ...  Specific Conductivity  Turbidity\n",
              "0  2012/4/19 15:00   20.2150  ...                  740.0      3.500\n",
              "1  2012/4/19 16:00   20.5575  ...                  730.0      2.900\n",
              "2  2012/4/19 17:00   23.3150  ...                  725.0      3.100\n",
              "3  2012/4/19 18:00   23.3275  ...                  720.0      3.500\n",
              "4  2012/4/19 19:00   24.3900  ...                  720.0      3.425\n",
              "\n",
              "[5 rows x 8 columns]"
            ]
          },
          "metadata": {},
          "execution_count": 64
        }
      ]
    },
    {
      "cell_type": "code",
      "metadata": {
        "colab": {
          "base_uri": "https://localhost:8080/",
          "height": 206
        },
        "id": "bQDIb3pll6OO",
        "outputId": "83e8d58d-1c35-4744-fca8-bf518ea11c83"
      },
      "source": [
        "df_down.head()"
      ],
      "execution_count": 65,
      "outputs": [
        {
          "output_type": "execute_result",
          "data": {
            "text/html": [
              "<div>\n",
              "<style scoped>\n",
              "    .dataframe tbody tr th:only-of-type {\n",
              "        vertical-align: middle;\n",
              "    }\n",
              "\n",
              "    .dataframe tbody tr th {\n",
              "        vertical-align: top;\n",
              "    }\n",
              "\n",
              "    .dataframe thead th {\n",
              "        text-align: right;\n",
              "    }\n",
              "</style>\n",
              "<table border=\"1\" class=\"dataframe\">\n",
              "  <thead>\n",
              "    <tr style=\"text-align: right;\">\n",
              "      <th></th>\n",
              "      <th>Time Hour</th>\n",
              "      <th>Air Temp</th>\n",
              "      <th>Water Temp</th>\n",
              "      <th>Chloride Concentration</th>\n",
              "      <th>pH</th>\n",
              "      <th>Specific Conductivity</th>\n",
              "      <th>Turbidity</th>\n",
              "      <th>Dissolved Oxygen</th>\n",
              "    </tr>\n",
              "  </thead>\n",
              "  <tbody>\n",
              "    <tr>\n",
              "      <th>0</th>\n",
              "      <td>2012/4/19 15:00</td>\n",
              "      <td>13.3700</td>\n",
              "      <td>11.8050</td>\n",
              "      <td>111.950</td>\n",
              "      <td>8.300</td>\n",
              "      <td>840.0</td>\n",
              "      <td>2.250</td>\n",
              "      <td>11.7350</td>\n",
              "    </tr>\n",
              "    <tr>\n",
              "      <th>1</th>\n",
              "      <td>2012/4/19 16:00</td>\n",
              "      <td>15.1125</td>\n",
              "      <td>12.6925</td>\n",
              "      <td>113.500</td>\n",
              "      <td>8.375</td>\n",
              "      <td>840.0</td>\n",
              "      <td>1.500</td>\n",
              "      <td>11.7275</td>\n",
              "    </tr>\n",
              "    <tr>\n",
              "      <th>2</th>\n",
              "      <td>2012/4/19 17:00</td>\n",
              "      <td>15.2275</td>\n",
              "      <td>13.8375</td>\n",
              "      <td>116.525</td>\n",
              "      <td>8.400</td>\n",
              "      <td>840.0</td>\n",
              "      <td>1.650</td>\n",
              "      <td>11.4825</td>\n",
              "    </tr>\n",
              "    <tr>\n",
              "      <th>3</th>\n",
              "      <td>2012/4/19 18:00</td>\n",
              "      <td>17.7450</td>\n",
              "      <td>14.6900</td>\n",
              "      <td>118.175</td>\n",
              "      <td>8.400</td>\n",
              "      <td>840.0</td>\n",
              "      <td>1.225</td>\n",
              "      <td>11.1100</td>\n",
              "    </tr>\n",
              "    <tr>\n",
              "      <th>4</th>\n",
              "      <td>2012/4/19 19:00</td>\n",
              "      <td>19.3625</td>\n",
              "      <td>15.7975</td>\n",
              "      <td>120.775</td>\n",
              "      <td>8.400</td>\n",
              "      <td>840.0</td>\n",
              "      <td>1.150</td>\n",
              "      <td>10.9625</td>\n",
              "    </tr>\n",
              "  </tbody>\n",
              "</table>\n",
              "</div>"
            ],
            "text/plain": [
              "         Time Hour  Air Temp  ...  Turbidity  Dissolved Oxygen\n",
              "0  2012/4/19 15:00   13.3700  ...      2.250           11.7350\n",
              "1  2012/4/19 16:00   15.1125  ...      1.500           11.7275\n",
              "2  2012/4/19 17:00   15.2275  ...      1.650           11.4825\n",
              "3  2012/4/19 18:00   17.7450  ...      1.225           11.1100\n",
              "4  2012/4/19 19:00   19.3625  ...      1.150           10.9625\n",
              "\n",
              "[5 rows x 8 columns]"
            ]
          },
          "metadata": {},
          "execution_count": 65
        }
      ]
    },
    {
      "cell_type": "code",
      "metadata": {
        "id": "ZYDRJBNm3bhs"
      },
      "source": [
        "# Splitting the Time Hour column into year,month,date, hour columns\n",
        "year_values = []\n",
        "month_values = []\n",
        "date_values = []\n",
        "time_values = []\n",
        "\n",
        "for i in df_up['Time Hour']:\n",
        "    year, month, date_time = i.split('/')\n",
        "    date, time = date_time.split(' ')\n",
        "    time = time[:-3]\n",
        "    year_values.append(year)\n",
        "    month_values.append(month)\n",
        "    date_values.append(date)\n",
        "    time_values.append(time)"
      ],
      "execution_count": 66,
      "outputs": []
    },
    {
      "cell_type": "code",
      "metadata": {
        "colab": {
          "base_uri": "https://localhost:8080/",
          "height": 206
        },
        "id": "drpXdwsi3iey",
        "outputId": "d347c75b-3142-4a30-ad84-d3509b8a1906"
      },
      "source": [
        "# adding the new column and dropping the old Time Hour column in df dataFrame\n",
        "df_up['Year'] = year_values\n",
        "df_up['Month'] = month_values\n",
        "df_up['Date'] = date_values\n",
        "df_up['Time'] = time_values\n",
        "# dropping \"Time Hour\" column\n",
        "df_up.drop(columns=['Time Hour'], inplace=True)\n",
        "df_up.head()"
      ],
      "execution_count": 67,
      "outputs": [
        {
          "output_type": "execute_result",
          "data": {
            "text/html": [
              "<div>\n",
              "<style scoped>\n",
              "    .dataframe tbody tr th:only-of-type {\n",
              "        vertical-align: middle;\n",
              "    }\n",
              "\n",
              "    .dataframe tbody tr th {\n",
              "        vertical-align: top;\n",
              "    }\n",
              "\n",
              "    .dataframe thead th {\n",
              "        text-align: right;\n",
              "    }\n",
              "</style>\n",
              "<table border=\"1\" class=\"dataframe\">\n",
              "  <thead>\n",
              "    <tr style=\"text-align: right;\">\n",
              "      <th></th>\n",
              "      <th>Air Temp</th>\n",
              "      <th>Water Temp</th>\n",
              "      <th>Chloride Concentration</th>\n",
              "      <th>Dissolved Oxygen</th>\n",
              "      <th>pH</th>\n",
              "      <th>Specific Conductivity</th>\n",
              "      <th>Turbidity</th>\n",
              "      <th>Year</th>\n",
              "      <th>Month</th>\n",
              "      <th>Date</th>\n",
              "      <th>Time</th>\n",
              "    </tr>\n",
              "  </thead>\n",
              "  <tbody>\n",
              "    <tr>\n",
              "      <th>0</th>\n",
              "      <td>20.2150</td>\n",
              "      <td>10.6650</td>\n",
              "      <td>97.0900</td>\n",
              "      <td>11.3000</td>\n",
              "      <td>8.500</td>\n",
              "      <td>740.0</td>\n",
              "      <td>3.500</td>\n",
              "      <td>2012</td>\n",
              "      <td>4</td>\n",
              "      <td>19</td>\n",
              "      <td>15</td>\n",
              "    </tr>\n",
              "    <tr>\n",
              "      <th>1</th>\n",
              "      <td>20.5575</td>\n",
              "      <td>11.4225</td>\n",
              "      <td>95.8975</td>\n",
              "      <td>11.4525</td>\n",
              "      <td>8.500</td>\n",
              "      <td>730.0</td>\n",
              "      <td>2.900</td>\n",
              "      <td>2012</td>\n",
              "      <td>4</td>\n",
              "      <td>19</td>\n",
              "      <td>16</td>\n",
              "    </tr>\n",
              "    <tr>\n",
              "      <th>2</th>\n",
              "      <td>23.3150</td>\n",
              "      <td>12.3825</td>\n",
              "      <td>93.8325</td>\n",
              "      <td>11.5250</td>\n",
              "      <td>8.500</td>\n",
              "      <td>725.0</td>\n",
              "      <td>3.100</td>\n",
              "      <td>2012</td>\n",
              "      <td>4</td>\n",
              "      <td>19</td>\n",
              "      <td>17</td>\n",
              "    </tr>\n",
              "    <tr>\n",
              "      <th>3</th>\n",
              "      <td>23.3275</td>\n",
              "      <td>13.3350</td>\n",
              "      <td>93.6525</td>\n",
              "      <td>11.4000</td>\n",
              "      <td>8.575</td>\n",
              "      <td>720.0</td>\n",
              "      <td>3.500</td>\n",
              "      <td>2012</td>\n",
              "      <td>4</td>\n",
              "      <td>19</td>\n",
              "      <td>18</td>\n",
              "    </tr>\n",
              "    <tr>\n",
              "      <th>4</th>\n",
              "      <td>24.3900</td>\n",
              "      <td>14.0200</td>\n",
              "      <td>93.8050</td>\n",
              "      <td>11.2200</td>\n",
              "      <td>8.600</td>\n",
              "      <td>720.0</td>\n",
              "      <td>3.425</td>\n",
              "      <td>2012</td>\n",
              "      <td>4</td>\n",
              "      <td>19</td>\n",
              "      <td>19</td>\n",
              "    </tr>\n",
              "  </tbody>\n",
              "</table>\n",
              "</div>"
            ],
            "text/plain": [
              "   Air Temp  Water Temp  Chloride Concentration  ...  Month  Date  Time\n",
              "0   20.2150     10.6650                 97.0900  ...      4    19    15\n",
              "1   20.5575     11.4225                 95.8975  ...      4    19    16\n",
              "2   23.3150     12.3825                 93.8325  ...      4    19    17\n",
              "3   23.3275     13.3350                 93.6525  ...      4    19    18\n",
              "4   24.3900     14.0200                 93.8050  ...      4    19    19\n",
              "\n",
              "[5 rows x 11 columns]"
            ]
          },
          "metadata": {},
          "execution_count": 67
        }
      ]
    },
    {
      "cell_type": "code",
      "metadata": {
        "colab": {
          "base_uri": "https://localhost:8080/",
          "height": 206
        },
        "id": "7u5H-0E4nJfF",
        "outputId": "bc5190a6-9447-4777-b168-29ca34d4ed3b"
      },
      "source": [
        "# adding the new column and dropping the old Time Hour column in df dataFrame\n",
        "df_down['Year'] = year_values\n",
        "df_down['Month'] = month_values\n",
        "df_down['Date'] = date_values\n",
        "df_down['Time'] = time_values\n",
        "# dropping \"Time Hour\" column\n",
        "df_down.drop(columns=['Time Hour'], inplace=True)\n",
        "df_down.head()"
      ],
      "execution_count": 68,
      "outputs": [
        {
          "output_type": "execute_result",
          "data": {
            "text/html": [
              "<div>\n",
              "<style scoped>\n",
              "    .dataframe tbody tr th:only-of-type {\n",
              "        vertical-align: middle;\n",
              "    }\n",
              "\n",
              "    .dataframe tbody tr th {\n",
              "        vertical-align: top;\n",
              "    }\n",
              "\n",
              "    .dataframe thead th {\n",
              "        text-align: right;\n",
              "    }\n",
              "</style>\n",
              "<table border=\"1\" class=\"dataframe\">\n",
              "  <thead>\n",
              "    <tr style=\"text-align: right;\">\n",
              "      <th></th>\n",
              "      <th>Air Temp</th>\n",
              "      <th>Water Temp</th>\n",
              "      <th>Chloride Concentration</th>\n",
              "      <th>pH</th>\n",
              "      <th>Specific Conductivity</th>\n",
              "      <th>Turbidity</th>\n",
              "      <th>Dissolved Oxygen</th>\n",
              "      <th>Year</th>\n",
              "      <th>Month</th>\n",
              "      <th>Date</th>\n",
              "      <th>Time</th>\n",
              "    </tr>\n",
              "  </thead>\n",
              "  <tbody>\n",
              "    <tr>\n",
              "      <th>0</th>\n",
              "      <td>13.3700</td>\n",
              "      <td>11.8050</td>\n",
              "      <td>111.950</td>\n",
              "      <td>8.300</td>\n",
              "      <td>840.0</td>\n",
              "      <td>2.250</td>\n",
              "      <td>11.7350</td>\n",
              "      <td>2012</td>\n",
              "      <td>4</td>\n",
              "      <td>19</td>\n",
              "      <td>15</td>\n",
              "    </tr>\n",
              "    <tr>\n",
              "      <th>1</th>\n",
              "      <td>15.1125</td>\n",
              "      <td>12.6925</td>\n",
              "      <td>113.500</td>\n",
              "      <td>8.375</td>\n",
              "      <td>840.0</td>\n",
              "      <td>1.500</td>\n",
              "      <td>11.7275</td>\n",
              "      <td>2012</td>\n",
              "      <td>4</td>\n",
              "      <td>19</td>\n",
              "      <td>16</td>\n",
              "    </tr>\n",
              "    <tr>\n",
              "      <th>2</th>\n",
              "      <td>15.2275</td>\n",
              "      <td>13.8375</td>\n",
              "      <td>116.525</td>\n",
              "      <td>8.400</td>\n",
              "      <td>840.0</td>\n",
              "      <td>1.650</td>\n",
              "      <td>11.4825</td>\n",
              "      <td>2012</td>\n",
              "      <td>4</td>\n",
              "      <td>19</td>\n",
              "      <td>17</td>\n",
              "    </tr>\n",
              "    <tr>\n",
              "      <th>3</th>\n",
              "      <td>17.7450</td>\n",
              "      <td>14.6900</td>\n",
              "      <td>118.175</td>\n",
              "      <td>8.400</td>\n",
              "      <td>840.0</td>\n",
              "      <td>1.225</td>\n",
              "      <td>11.1100</td>\n",
              "      <td>2012</td>\n",
              "      <td>4</td>\n",
              "      <td>19</td>\n",
              "      <td>18</td>\n",
              "    </tr>\n",
              "    <tr>\n",
              "      <th>4</th>\n",
              "      <td>19.3625</td>\n",
              "      <td>15.7975</td>\n",
              "      <td>120.775</td>\n",
              "      <td>8.400</td>\n",
              "      <td>840.0</td>\n",
              "      <td>1.150</td>\n",
              "      <td>10.9625</td>\n",
              "      <td>2012</td>\n",
              "      <td>4</td>\n",
              "      <td>19</td>\n",
              "      <td>19</td>\n",
              "    </tr>\n",
              "  </tbody>\n",
              "</table>\n",
              "</div>"
            ],
            "text/plain": [
              "   Air Temp  Water Temp  Chloride Concentration     pH  ...  Year  Month  Date Time\n",
              "0   13.3700     11.8050                 111.950  8.300  ...  2012      4    19   15\n",
              "1   15.1125     12.6925                 113.500  8.375  ...  2012      4    19   16\n",
              "2   15.2275     13.8375                 116.525  8.400  ...  2012      4    19   17\n",
              "3   17.7450     14.6900                 118.175  8.400  ...  2012      4    19   18\n",
              "4   19.3625     15.7975                 120.775  8.400  ...  2012      4    19   19\n",
              "\n",
              "[5 rows x 11 columns]"
            ]
          },
          "metadata": {},
          "execution_count": 68
        }
      ]
    },
    {
      "cell_type": "code",
      "metadata": {
        "id": "LhIjVWsbpIaU"
      },
      "source": [
        "df_up.rename(columns={\"Air Temp\": \"Air_Temp_Up\", \"Water Temp\": \"Water_Temp_Up\", \"Chloride Concentration\": \"Chloride_Up\", \"pH\": \"pH_Up\", \"Specific Conductivity\": \"Cond_Up\", \"Turbidity\": \"Turbidity_Up\", \"Dissolved Oxygen\": \"DO_Up\",}, inplace=True)"
      ],
      "execution_count": 69,
      "outputs": []
    },
    {
      "cell_type": "code",
      "metadata": {
        "id": "1xcajEg1qLad"
      },
      "source": [
        "df_down.rename(columns={\"Air Temp\": \"Air_Temp_Dn\", \"Water Temp\": \"Water_Temp_Dn\", \"Chloride Concentration\": \"Chloride_Dn\", \"pH\": \"pH_Dn\", \"Specific Conductivity\": \"Cond_Dn\", \"Turbidity\": \"Turbidity_Dn\", \"Dissolved Oxygen\": \"DO_Dn\",}, inplace=True)"
      ],
      "execution_count": 70,
      "outputs": []
    },
    {
      "cell_type": "code",
      "metadata": {
        "colab": {
          "base_uri": "https://localhost:8080/",
          "height": 206
        },
        "id": "g9j11JMirUoz",
        "outputId": "bf8bd71d-3ba9-4ccf-c555-866b6a4a8c38"
      },
      "source": [
        "df_up.head()"
      ],
      "execution_count": 71,
      "outputs": [
        {
          "output_type": "execute_result",
          "data": {
            "text/html": [
              "<div>\n",
              "<style scoped>\n",
              "    .dataframe tbody tr th:only-of-type {\n",
              "        vertical-align: middle;\n",
              "    }\n",
              "\n",
              "    .dataframe tbody tr th {\n",
              "        vertical-align: top;\n",
              "    }\n",
              "\n",
              "    .dataframe thead th {\n",
              "        text-align: right;\n",
              "    }\n",
              "</style>\n",
              "<table border=\"1\" class=\"dataframe\">\n",
              "  <thead>\n",
              "    <tr style=\"text-align: right;\">\n",
              "      <th></th>\n",
              "      <th>Air_Temp_Up</th>\n",
              "      <th>Water_Temp_Up</th>\n",
              "      <th>Chloride_Up</th>\n",
              "      <th>DO_Up</th>\n",
              "      <th>pH_Up</th>\n",
              "      <th>Cond_Up</th>\n",
              "      <th>Turbidity_Up</th>\n",
              "      <th>Year</th>\n",
              "      <th>Month</th>\n",
              "      <th>Date</th>\n",
              "      <th>Time</th>\n",
              "    </tr>\n",
              "  </thead>\n",
              "  <tbody>\n",
              "    <tr>\n",
              "      <th>0</th>\n",
              "      <td>20.2150</td>\n",
              "      <td>10.6650</td>\n",
              "      <td>97.0900</td>\n",
              "      <td>11.3000</td>\n",
              "      <td>8.500</td>\n",
              "      <td>740.0</td>\n",
              "      <td>3.500</td>\n",
              "      <td>2012</td>\n",
              "      <td>4</td>\n",
              "      <td>19</td>\n",
              "      <td>15</td>\n",
              "    </tr>\n",
              "    <tr>\n",
              "      <th>1</th>\n",
              "      <td>20.5575</td>\n",
              "      <td>11.4225</td>\n",
              "      <td>95.8975</td>\n",
              "      <td>11.4525</td>\n",
              "      <td>8.500</td>\n",
              "      <td>730.0</td>\n",
              "      <td>2.900</td>\n",
              "      <td>2012</td>\n",
              "      <td>4</td>\n",
              "      <td>19</td>\n",
              "      <td>16</td>\n",
              "    </tr>\n",
              "    <tr>\n",
              "      <th>2</th>\n",
              "      <td>23.3150</td>\n",
              "      <td>12.3825</td>\n",
              "      <td>93.8325</td>\n",
              "      <td>11.5250</td>\n",
              "      <td>8.500</td>\n",
              "      <td>725.0</td>\n",
              "      <td>3.100</td>\n",
              "      <td>2012</td>\n",
              "      <td>4</td>\n",
              "      <td>19</td>\n",
              "      <td>17</td>\n",
              "    </tr>\n",
              "    <tr>\n",
              "      <th>3</th>\n",
              "      <td>23.3275</td>\n",
              "      <td>13.3350</td>\n",
              "      <td>93.6525</td>\n",
              "      <td>11.4000</td>\n",
              "      <td>8.575</td>\n",
              "      <td>720.0</td>\n",
              "      <td>3.500</td>\n",
              "      <td>2012</td>\n",
              "      <td>4</td>\n",
              "      <td>19</td>\n",
              "      <td>18</td>\n",
              "    </tr>\n",
              "    <tr>\n",
              "      <th>4</th>\n",
              "      <td>24.3900</td>\n",
              "      <td>14.0200</td>\n",
              "      <td>93.8050</td>\n",
              "      <td>11.2200</td>\n",
              "      <td>8.600</td>\n",
              "      <td>720.0</td>\n",
              "      <td>3.425</td>\n",
              "      <td>2012</td>\n",
              "      <td>4</td>\n",
              "      <td>19</td>\n",
              "      <td>19</td>\n",
              "    </tr>\n",
              "  </tbody>\n",
              "</table>\n",
              "</div>"
            ],
            "text/plain": [
              "   Air_Temp_Up  Water_Temp_Up  Chloride_Up    DO_Up  ...  Year  Month  Date Time\n",
              "0      20.2150        10.6650      97.0900  11.3000  ...  2012      4    19   15\n",
              "1      20.5575        11.4225      95.8975  11.4525  ...  2012      4    19   16\n",
              "2      23.3150        12.3825      93.8325  11.5250  ...  2012      4    19   17\n",
              "3      23.3275        13.3350      93.6525  11.4000  ...  2012      4    19   18\n",
              "4      24.3900        14.0200      93.8050  11.2200  ...  2012      4    19   19\n",
              "\n",
              "[5 rows x 11 columns]"
            ]
          },
          "metadata": {},
          "execution_count": 71
        }
      ]
    },
    {
      "cell_type": "code",
      "metadata": {
        "colab": {
          "base_uri": "https://localhost:8080/",
          "height": 206
        },
        "id": "6eaRVsu0pgRN",
        "outputId": "cb2c52ab-fbeb-4b7e-9cb9-dc30878a154a"
      },
      "source": [
        "df_down.head()"
      ],
      "execution_count": 72,
      "outputs": [
        {
          "output_type": "execute_result",
          "data": {
            "text/html": [
              "<div>\n",
              "<style scoped>\n",
              "    .dataframe tbody tr th:only-of-type {\n",
              "        vertical-align: middle;\n",
              "    }\n",
              "\n",
              "    .dataframe tbody tr th {\n",
              "        vertical-align: top;\n",
              "    }\n",
              "\n",
              "    .dataframe thead th {\n",
              "        text-align: right;\n",
              "    }\n",
              "</style>\n",
              "<table border=\"1\" class=\"dataframe\">\n",
              "  <thead>\n",
              "    <tr style=\"text-align: right;\">\n",
              "      <th></th>\n",
              "      <th>Air_Temp_Dn</th>\n",
              "      <th>Water_Temp_Dn</th>\n",
              "      <th>Chloride_Dn</th>\n",
              "      <th>pH_Dn</th>\n",
              "      <th>Cond_Dn</th>\n",
              "      <th>Turbidity_Dn</th>\n",
              "      <th>DO_Dn</th>\n",
              "      <th>Year</th>\n",
              "      <th>Month</th>\n",
              "      <th>Date</th>\n",
              "      <th>Time</th>\n",
              "    </tr>\n",
              "  </thead>\n",
              "  <tbody>\n",
              "    <tr>\n",
              "      <th>0</th>\n",
              "      <td>13.3700</td>\n",
              "      <td>11.8050</td>\n",
              "      <td>111.950</td>\n",
              "      <td>8.300</td>\n",
              "      <td>840.0</td>\n",
              "      <td>2.250</td>\n",
              "      <td>11.7350</td>\n",
              "      <td>2012</td>\n",
              "      <td>4</td>\n",
              "      <td>19</td>\n",
              "      <td>15</td>\n",
              "    </tr>\n",
              "    <tr>\n",
              "      <th>1</th>\n",
              "      <td>15.1125</td>\n",
              "      <td>12.6925</td>\n",
              "      <td>113.500</td>\n",
              "      <td>8.375</td>\n",
              "      <td>840.0</td>\n",
              "      <td>1.500</td>\n",
              "      <td>11.7275</td>\n",
              "      <td>2012</td>\n",
              "      <td>4</td>\n",
              "      <td>19</td>\n",
              "      <td>16</td>\n",
              "    </tr>\n",
              "    <tr>\n",
              "      <th>2</th>\n",
              "      <td>15.2275</td>\n",
              "      <td>13.8375</td>\n",
              "      <td>116.525</td>\n",
              "      <td>8.400</td>\n",
              "      <td>840.0</td>\n",
              "      <td>1.650</td>\n",
              "      <td>11.4825</td>\n",
              "      <td>2012</td>\n",
              "      <td>4</td>\n",
              "      <td>19</td>\n",
              "      <td>17</td>\n",
              "    </tr>\n",
              "    <tr>\n",
              "      <th>3</th>\n",
              "      <td>17.7450</td>\n",
              "      <td>14.6900</td>\n",
              "      <td>118.175</td>\n",
              "      <td>8.400</td>\n",
              "      <td>840.0</td>\n",
              "      <td>1.225</td>\n",
              "      <td>11.1100</td>\n",
              "      <td>2012</td>\n",
              "      <td>4</td>\n",
              "      <td>19</td>\n",
              "      <td>18</td>\n",
              "    </tr>\n",
              "    <tr>\n",
              "      <th>4</th>\n",
              "      <td>19.3625</td>\n",
              "      <td>15.7975</td>\n",
              "      <td>120.775</td>\n",
              "      <td>8.400</td>\n",
              "      <td>840.0</td>\n",
              "      <td>1.150</td>\n",
              "      <td>10.9625</td>\n",
              "      <td>2012</td>\n",
              "      <td>4</td>\n",
              "      <td>19</td>\n",
              "      <td>19</td>\n",
              "    </tr>\n",
              "  </tbody>\n",
              "</table>\n",
              "</div>"
            ],
            "text/plain": [
              "   Air_Temp_Dn  Water_Temp_Dn  Chloride_Dn  pH_Dn  ...  Year  Month  Date Time\n",
              "0      13.3700        11.8050      111.950  8.300  ...  2012      4    19   15\n",
              "1      15.1125        12.6925      113.500  8.375  ...  2012      4    19   16\n",
              "2      15.2275        13.8375      116.525  8.400  ...  2012      4    19   17\n",
              "3      17.7450        14.6900      118.175  8.400  ...  2012      4    19   18\n",
              "4      19.3625        15.7975      120.775  8.400  ...  2012      4    19   19\n",
              "\n",
              "[5 rows x 11 columns]"
            ]
          },
          "metadata": {},
          "execution_count": 72
        }
      ]
    },
    {
      "cell_type": "code",
      "metadata": {
        "id": "r87oHqgSrEZE"
      },
      "source": [
        "# change this feature combination list to do different combination of feature testing\n",
        "# we add both upstream and downstream data to increase feature data\n",
        "feature_combination_up = ['Air_Temp_Up', 'Water_Temp_Up', 'Chloride_Up','pH_Up','Cond_Up','Turbidity_Up', 'DO_Up']\n",
        "feature_combination_down = ['Air_Temp_Dn', 'Water_Temp_Dn', 'Chloride_Dn','pH_Dn','Cond_Dn','Turbidity_Dn']\n",
        "target_column = ['DO_Dn']"
      ],
      "execution_count": 83,
      "outputs": []
    },
    {
      "cell_type": "code",
      "metadata": {
        "id": "Pao-SNl5sGFk"
      },
      "source": [
        "df_total_set = pd.concat([df_up[feature_combination_up], df_down[feature_combination_down], df_down[target_column]], axis=1)"
      ],
      "execution_count": 74,
      "outputs": []
    },
    {
      "cell_type": "code",
      "metadata": {
        "colab": {
          "base_uri": "https://localhost:8080/",
          "height": 206
        },
        "id": "YapQVW6yu0Rz",
        "outputId": "7185d8c5-a7f1-4bc0-9a00-c58a90711ae6"
      },
      "source": [
        "df_total_set.head()"
      ],
      "execution_count": 77,
      "outputs": [
        {
          "output_type": "execute_result",
          "data": {
            "text/html": [
              "<div>\n",
              "<style scoped>\n",
              "    .dataframe tbody tr th:only-of-type {\n",
              "        vertical-align: middle;\n",
              "    }\n",
              "\n",
              "    .dataframe tbody tr th {\n",
              "        vertical-align: top;\n",
              "    }\n",
              "\n",
              "    .dataframe thead th {\n",
              "        text-align: right;\n",
              "    }\n",
              "</style>\n",
              "<table border=\"1\" class=\"dataframe\">\n",
              "  <thead>\n",
              "    <tr style=\"text-align: right;\">\n",
              "      <th></th>\n",
              "      <th>Air_Temp_Up</th>\n",
              "      <th>Water_Temp_Up</th>\n",
              "      <th>Chloride_Up</th>\n",
              "      <th>pH_Up</th>\n",
              "      <th>Cond_Up</th>\n",
              "      <th>Turbidity_Up</th>\n",
              "      <th>DO_Up</th>\n",
              "      <th>Air_Temp_Dn</th>\n",
              "      <th>Water_Temp_Dn</th>\n",
              "      <th>Chloride_Dn</th>\n",
              "      <th>pH_Dn</th>\n",
              "      <th>Cond_Dn</th>\n",
              "      <th>Turbidity_Dn</th>\n",
              "      <th>DO_Dn</th>\n",
              "    </tr>\n",
              "  </thead>\n",
              "  <tbody>\n",
              "    <tr>\n",
              "      <th>0</th>\n",
              "      <td>20.2150</td>\n",
              "      <td>10.6650</td>\n",
              "      <td>97.0900</td>\n",
              "      <td>8.500</td>\n",
              "      <td>740.0</td>\n",
              "      <td>3.500</td>\n",
              "      <td>11.3000</td>\n",
              "      <td>13.3700</td>\n",
              "      <td>11.8050</td>\n",
              "      <td>111.950</td>\n",
              "      <td>8.300</td>\n",
              "      <td>840.0</td>\n",
              "      <td>2.250</td>\n",
              "      <td>11.7350</td>\n",
              "    </tr>\n",
              "    <tr>\n",
              "      <th>1</th>\n",
              "      <td>20.5575</td>\n",
              "      <td>11.4225</td>\n",
              "      <td>95.8975</td>\n",
              "      <td>8.500</td>\n",
              "      <td>730.0</td>\n",
              "      <td>2.900</td>\n",
              "      <td>11.4525</td>\n",
              "      <td>15.1125</td>\n",
              "      <td>12.6925</td>\n",
              "      <td>113.500</td>\n",
              "      <td>8.375</td>\n",
              "      <td>840.0</td>\n",
              "      <td>1.500</td>\n",
              "      <td>11.7275</td>\n",
              "    </tr>\n",
              "    <tr>\n",
              "      <th>2</th>\n",
              "      <td>23.3150</td>\n",
              "      <td>12.3825</td>\n",
              "      <td>93.8325</td>\n",
              "      <td>8.500</td>\n",
              "      <td>725.0</td>\n",
              "      <td>3.100</td>\n",
              "      <td>11.5250</td>\n",
              "      <td>15.2275</td>\n",
              "      <td>13.8375</td>\n",
              "      <td>116.525</td>\n",
              "      <td>8.400</td>\n",
              "      <td>840.0</td>\n",
              "      <td>1.650</td>\n",
              "      <td>11.4825</td>\n",
              "    </tr>\n",
              "    <tr>\n",
              "      <th>3</th>\n",
              "      <td>23.3275</td>\n",
              "      <td>13.3350</td>\n",
              "      <td>93.6525</td>\n",
              "      <td>8.575</td>\n",
              "      <td>720.0</td>\n",
              "      <td>3.500</td>\n",
              "      <td>11.4000</td>\n",
              "      <td>17.7450</td>\n",
              "      <td>14.6900</td>\n",
              "      <td>118.175</td>\n",
              "      <td>8.400</td>\n",
              "      <td>840.0</td>\n",
              "      <td>1.225</td>\n",
              "      <td>11.1100</td>\n",
              "    </tr>\n",
              "    <tr>\n",
              "      <th>4</th>\n",
              "      <td>24.3900</td>\n",
              "      <td>14.0200</td>\n",
              "      <td>93.8050</td>\n",
              "      <td>8.600</td>\n",
              "      <td>720.0</td>\n",
              "      <td>3.425</td>\n",
              "      <td>11.2200</td>\n",
              "      <td>19.3625</td>\n",
              "      <td>15.7975</td>\n",
              "      <td>120.775</td>\n",
              "      <td>8.400</td>\n",
              "      <td>840.0</td>\n",
              "      <td>1.150</td>\n",
              "      <td>10.9625</td>\n",
              "    </tr>\n",
              "  </tbody>\n",
              "</table>\n",
              "</div>"
            ],
            "text/plain": [
              "   Air_Temp_Up  Water_Temp_Up  Chloride_Up  ...  Cond_Dn  Turbidity_Dn    DO_Dn\n",
              "0      20.2150        10.6650      97.0900  ...    840.0         2.250  11.7350\n",
              "1      20.5575        11.4225      95.8975  ...    840.0         1.500  11.7275\n",
              "2      23.3150        12.3825      93.8325  ...    840.0         1.650  11.4825\n",
              "3      23.3275        13.3350      93.6525  ...    840.0         1.225  11.1100\n",
              "4      24.3900        14.0200      93.8050  ...    840.0         1.150  10.9625\n",
              "\n",
              "[5 rows x 14 columns]"
            ]
          },
          "metadata": {},
          "execution_count": 77
        }
      ]
    },
    {
      "cell_type": "code",
      "metadata": {
        "id": "xQyoAJYC3kvX"
      },
      "source": [
        "\n",
        "# Change the lag,duration variable values according to experiment value taken\n",
        "# EPOCHS = 5 (taken for demonstration of code working, later we can change it 200 or higher epochs)\n",
        "\n",
        "lag = 6\n",
        "duration = 6\n",
        "EPOCHS = 30\n",
        "BATCH_SIZE = 32\n",
        "LR = 1E-3\n",
        "\n",
        "train_size = 0.8\n"
      ],
      "execution_count": 78,
      "outputs": []
    },
    {
      "cell_type": "code",
      "metadata": {
        "id": "HyzvzeUVjIYU",
        "colab": {
          "base_uri": "https://localhost:8080/"
        },
        "outputId": "31ab8f19-4c96-4269-8afb-5924121921b2"
      },
      "source": [
        "## Creating the training and testing data\n",
        "x_train,x_test,y_train,y_test,scaler = splitter(df_total_set,target_column,6,6,0.8)\n",
        "print(f'The shape of x_train is {x_train.shape} and x_test is {x_test.shape}')\n",
        "print(f'The shape of y_train is {y_train.shape} and y_test is {y_test.shape}')"
      ],
      "execution_count": 79,
      "outputs": [
        {
          "output_type": "stream",
          "name": "stdout",
          "text": [
            "(31876, 14) (7969, 14)\n",
            "The shape of x_train is (31864, 6, 14) and x_test is (7957, 6, 14)\n",
            "The shape of y_train is (31864, 6) and y_test is (7957, 6)\n"
          ]
        }
      ]
    },
    {
      "cell_type": "markdown",
      "metadata": {
        "id": "b9cAVaxljIYU"
      },
      "source": [
        "# Models"
      ]
    },
    {
      "cell_type": "markdown",
      "metadata": {
        "id": "fRNWbz6LjIYV"
      },
      "source": [
        "## LSTM Model"
      ]
    },
    {
      "cell_type": "code",
      "metadata": {
        "id": "jfaE4PgRjIYV"
      },
      "source": [
        "## Creating the prelimaries \n",
        "\n",
        "filepath_simple = 'simple_lstm.hdf5'\n",
        "filepath_attention = 'attention_lstm.hdf5'\n",
        "\n",
        "checkpoint_simple = keras.callbacks.ModelCheckpoint(filepath_simple,monitor='val_loss',save_best_only=True)\n",
        "checkpoint_attention = keras.callbacks.ModelCheckpoint(filepath_attention, monitor='val_loss',save_best_only=True)\n",
        "\n",
        "wk=Workbook()\n",
        "sheet1 = wk.add_sheet('Simple', cell_overwrite_ok=True)\n",
        "sheet2 = wk.add_sheet('Attention', cell_overwrite_ok=True)\n",
        "sheet3 = wk.add_sheet('Real-test', cell_overwrite_ok=True)\n",
        "sheet4 = wk.add_sheet('Predicted-test', cell_overwrite_ok=True)"
      ],
      "execution_count": 80,
      "outputs": []
    },
    {
      "cell_type": "code",
      "metadata": {
        "id": "Ly1g6GpLjIYV"
      },
      "source": [
        "## Simple LSTM\n",
        "K.clear_session()\n",
        "simple_lstm = keras.Sequential()\n",
        "simple_lstm.add(keras.layers.LSTM(64, return_sequences=True, input_shape=(x_train.shape[1], x_train.shape[2])))\n",
        "simple_lstm.add(keras.layers.LSTM(64, return_sequences=True))\n",
        "simple_lstm.add(keras.layers.Dropout(0.3))\n",
        "simple_lstm.add(keras.layers.LSTM(64, return_sequences=True))\n",
        "simple_lstm.add(keras.layers.LSTM(64, return_sequences=True))\n",
        "simple_lstm.add(keras.layers.Flatten())\n",
        "simple_lstm.add(keras.layers.Dense(512, activation='relu'))\n",
        "simple_lstm.add(keras.layers.Dense(128, activation='relu'))\n",
        "simple_lstm.add(keras.layers.Dense(64, activation='relu'))\n",
        "simple_lstm.add(keras.layers.Dropout(0.3))\n",
        "simple_lstm.add(keras.layers.Dense(32))\n",
        "simple_lstm.add(keras.layers.Dense(6))\n",
        "\n",
        "simple_lstm.compile(loss='mse', optimizer=keras.optimizers.Adam(learning_rate=LR), metrics=['mae'])"
      ],
      "execution_count": 81,
      "outputs": []
    },
    {
      "cell_type": "code",
      "metadata": {
        "scrolled": true,
        "id": "_GuDIdywjIYW",
        "colab": {
          "base_uri": "https://localhost:8080/",
          "height": 1000
        },
        "outputId": "2cc69531-72ef-40dc-fb64-5a854032df2f"
      },
      "source": [
        "## Saving the result file to the folder of the model\n",
        "\n",
        "dest = os.getcwd()\n",
        "try:\n",
        "    os.chdir(os.path.join(dest,'LSTM'))\n",
        "    print('Directory present')\n",
        "except FileNotFoundError:\n",
        "    print('Creating a new directory......')\n",
        "    os.chdir(os.path.join(dest))\n",
        "    os.mkdir('LSTM')\n",
        "    os.chdir(os.path.join(dest,'LSTM'))\n",
        "    print('New Directory Created')\n",
        "\n",
        "history = simple_lstm.fit(x_train,y_train,validation_split=0.1,batch_size=BATCH_SIZE,epochs=EPOCHS,callbacks=[checkpoint_simple])\n",
        "\n",
        "plt.plot(history.history['loss'],'r',label='Training Loss')\n",
        "plt.plot(history.history['val_loss'],'b',label='Validation Loss')\n",
        "plt.title('Losses')\n",
        "plt.xlabel('Epochs')\n",
        "plt.ylabel('Loss')\n",
        "plt.legend()\n",
        "plt.show()\n",
        "\n",
        "simple_lstm.load_weights(filepath_simple)\n",
        "preds = simple_lstm.predict(x_test)\n",
        "\n",
        "y_test_unscaled = scaler.inverse_transform(y_test)\n",
        "y_pred_unscaled = scaler.inverse_transform(preds)\n",
        "\n",
        "e_mse = mse(y_test_unscaled[:,5],y_pred_unscaled[:,5])\n",
        "print(f'The Mean Squared Error is: {e_mse}')\n",
        "\n",
        "for i in range(y_test.shape[1]):\n",
        "        sheet1.write(0, 0, 'MSE')\n",
        "        sheet1.write(0, 1, 'Hours Ahead')\n",
        "        sheet1.write(i + 1, 0, mse(y_test_unscaled[:,i],y_pred_unscaled[:,i]))\n",
        "        sheet1.write(i + 1, 1, i+1)\n"
      ],
      "execution_count": 82,
      "outputs": [
        {
          "output_type": "stream",
          "name": "stdout",
          "text": [
            "Directory present\n",
            "Epoch 1/30\n",
            "897/897 [==============================] - 24s 19ms/step - loss: 0.0108 - mae: 0.0721 - val_loss: 0.0051 - val_mae: 0.0585\n",
            "Epoch 2/30\n",
            "897/897 [==============================] - 15s 17ms/step - loss: 0.0041 - mae: 0.0490 - val_loss: 0.0042 - val_mae: 0.0519\n",
            "Epoch 3/30\n",
            "897/897 [==============================] - 15s 17ms/step - loss: 0.0035 - mae: 0.0450 - val_loss: 0.0036 - val_mae: 0.0466\n",
            "Epoch 4/30\n",
            "897/897 [==============================] - 15s 17ms/step - loss: 0.0029 - mae: 0.0409 - val_loss: 0.0031 - val_mae: 0.0459\n",
            "Epoch 5/30\n",
            "897/897 [==============================] - 15s 17ms/step - loss: 0.0026 - mae: 0.0382 - val_loss: 0.0021 - val_mae: 0.0351\n",
            "Epoch 6/30\n",
            "897/897 [==============================] - 15s 17ms/step - loss: 0.0024 - mae: 0.0364 - val_loss: 0.0017 - val_mae: 0.0302\n",
            "Epoch 7/30\n",
            "897/897 [==============================] - 15s 17ms/step - loss: 0.0022 - mae: 0.0350 - val_loss: 0.0020 - val_mae: 0.0333\n",
            "Epoch 8/30\n",
            "897/897 [==============================] - 15s 16ms/step - loss: 0.0021 - mae: 0.0343 - val_loss: 0.0022 - val_mae: 0.0344\n",
            "Epoch 9/30\n",
            "897/897 [==============================] - 15s 16ms/step - loss: 0.0020 - mae: 0.0337 - val_loss: 0.0017 - val_mae: 0.0287\n",
            "Epoch 10/30\n",
            "897/897 [==============================] - 15s 16ms/step - loss: 0.0020 - mae: 0.0329 - val_loss: 0.0019 - val_mae: 0.0332\n",
            "Epoch 11/30\n",
            "897/897 [==============================] - 15s 17ms/step - loss: 0.0020 - mae: 0.0329 - val_loss: 0.0017 - val_mae: 0.0303\n",
            "Epoch 12/30\n",
            "897/897 [==============================] - 15s 16ms/step - loss: 0.0019 - mae: 0.0322 - val_loss: 0.0022 - val_mae: 0.0371\n",
            "Epoch 13/30\n",
            "897/897 [==============================] - 15s 17ms/step - loss: 0.0019 - mae: 0.0325 - val_loss: 0.0015 - val_mae: 0.0280\n",
            "Epoch 14/30\n",
            "897/897 [==============================] - 15s 16ms/step - loss: 0.0018 - mae: 0.0318 - val_loss: 0.0015 - val_mae: 0.0284\n",
            "Epoch 15/30\n",
            "897/897 [==============================] - 15s 17ms/step - loss: 0.0018 - mae: 0.0314 - val_loss: 0.0025 - val_mae: 0.0389\n",
            "Epoch 16/30\n",
            "897/897 [==============================] - 15s 17ms/step - loss: 0.0018 - mae: 0.0317 - val_loss: 0.0014 - val_mae: 0.0263\n",
            "Epoch 17/30\n",
            "897/897 [==============================] - 15s 17ms/step - loss: 0.0018 - mae: 0.0312 - val_loss: 0.0017 - val_mae: 0.0310\n",
            "Epoch 18/30\n",
            "897/897 [==============================] - 15s 17ms/step - loss: 0.0018 - mae: 0.0311 - val_loss: 0.0014 - val_mae: 0.0259\n",
            "Epoch 19/30\n",
            "897/897 [==============================] - 15s 17ms/step - loss: 0.0017 - mae: 0.0305 - val_loss: 0.0017 - val_mae: 0.0296\n",
            "Epoch 20/30\n",
            "897/897 [==============================] - 15s 16ms/step - loss: 0.0017 - mae: 0.0304 - val_loss: 0.0014 - val_mae: 0.0260\n",
            "Epoch 21/30\n",
            "897/897 [==============================] - 15s 17ms/step - loss: 0.0017 - mae: 0.0304 - val_loss: 0.0012 - val_mae: 0.0250\n",
            "Epoch 22/30\n",
            "897/897 [==============================] - 15s 17ms/step - loss: 0.0017 - mae: 0.0304 - val_loss: 0.0017 - val_mae: 0.0317\n",
            "Epoch 23/30\n",
            "897/897 [==============================] - 15s 16ms/step - loss: 0.0017 - mae: 0.0303 - val_loss: 0.0015 - val_mae: 0.0278\n",
            "Epoch 24/30\n",
            "897/897 [==============================] - 15s 16ms/step - loss: 0.0017 - mae: 0.0302 - val_loss: 0.0018 - val_mae: 0.0323\n",
            "Epoch 25/30\n",
            "897/897 [==============================] - 15s 16ms/step - loss: 0.0016 - mae: 0.0298 - val_loss: 0.0015 - val_mae: 0.0266\n",
            "Epoch 26/30\n",
            "897/897 [==============================] - 15s 17ms/step - loss: 0.0016 - mae: 0.0298 - val_loss: 0.0016 - val_mae: 0.0282\n",
            "Epoch 27/30\n",
            "897/897 [==============================] - 15s 17ms/step - loss: 0.0016 - mae: 0.0297 - val_loss: 0.0019 - val_mae: 0.0319\n",
            "Epoch 28/30\n",
            "897/897 [==============================] - 15s 16ms/step - loss: 0.0016 - mae: 0.0295 - val_loss: 0.0014 - val_mae: 0.0266\n",
            "Epoch 29/30\n",
            "897/897 [==============================] - 15s 17ms/step - loss: 0.0016 - mae: 0.0295 - val_loss: 0.0012 - val_mae: 0.0249\n",
            "Epoch 30/30\n",
            "897/897 [==============================] - 15s 17ms/step - loss: 0.0016 - mae: 0.0297 - val_loss: 0.0013 - val_mae: 0.0257\n"
          ]
        },
        {
          "output_type": "display_data",
          "data": {
            "image/png": "[encoded data removed]",
            "text/plain": [
              "<Figure size 432x288 with 1 Axes>"
            ]
          },
          "metadata": {
            "needs_background": "light"
          }
        },
        {
          "output_type": "stream",
          "name": "stdout",
          "text": [
            "The Mean Squared Error is: 1.0627674066506934\n"
          ]
        }
      ]
    },
    {
      "cell_type": "code",
      "metadata": {
        "id": "vcqYFpeqjIYW"
      },
      "source": [
        "## Attention model\n",
        "K.clear_session()\n",
        "atten_lstm = keras.Sequential()\n",
        "atten_lstm.add(keras.layers.LSTM(64, return_sequences=True, input_shape=(x_train.shape[1], x_train.shape[2])))\n",
        "atten_lstm.add(keras.layers.LSTM(64, return_sequences=True))\n",
        "atten_lstm.add(keras.layers.Dropout(0.3))\n",
        "atten_lstm.add(keras.layers.LSTM(64, return_sequences=True))\n",
        "atten_lstm.add(keras.layers.LSTM(64, return_sequences=True))\n",
        "atten_lstm.add(attention(return_sequences=True))\n",
        "atten_lstm.add(keras.layers.Flatten())\n",
        "atten_lstm.add(keras.layers.Dense(512, activation='relu'))\n",
        "atten_lstm.add(keras.layers.Dense(128, activation='relu'))\n",
        "atten_lstm.add(keras.layers.Dense(64, activation='relu'))\n",
        "atten_lstm.add(keras.layers.Dropout(0.3))\n",
        "atten_lstm.add(keras.layers.Dense(32))\n",
        "atten_lstm.add(keras.layers.Dense(6))\n",
        "\n",
        "atten_lstm.compile(loss='mse', optimizer=keras.optimizers.Adam(learning_rate=LR), metrics=['mae'])"
      ],
      "execution_count": null,
      "outputs": []
    },
    {
      "cell_type": "code",
      "metadata": {
        "scrolled": true,
        "id": "Opm4Zr70jIYW",
        "colab": {
          "base_uri": "https://localhost:8080/",
          "height": 491
        },
        "outputId": "a4fd7ae1-caf4-4f46-fdd5-1cc0055d13b1"
      },
      "source": [
        "## Saving the result file to the folder of the model\n",
        "\n",
        "#dest = ''\n",
        "\n",
        "dest = os.getcwd()\n",
        "try:\n",
        "    os.chdir(os.path.join(dest,'LSTM'))\n",
        "    print('Directory present')\n",
        "except FileNotFoundError:\n",
        "    print('Creating a new directory......')\n",
        "    os.chdir(os.path.join(dest))\n",
        "    os.mkdir('LSTM')\n",
        "    os.chdir(os.path.join(dest,'LSTM'))\n",
        "    print('New Directory Created')\n",
        "\n",
        "\n",
        "history = atten_lstm.fit(x_train,y_train,validation_split=0.1,batch_size=BATCH_SIZE,epochs=EPOCHS,callbacks=[checkpoint_attention])\n",
        "\n",
        "plt.plot(history.history['loss'],'r',label='Training Loss')\n",
        "plt.plot(history.history['val_loss'],'b',label='Validation Loss')\n",
        "plt.legend()\n",
        "plt.show()\n",
        "\n",
        "atten_lstm.load_weights(filepath_attention)\n",
        "preds = atten_lstm.predict(x_test)\n",
        "\n",
        "y_test_unscaled = scaler.inverse_transform(y_test)\n",
        "y_pred_unscaled = scaler.inverse_transform(preds)\n",
        "\n",
        "e_mse = mse(y_test_unscaled[:,5],y_pred_unscaled[:,5])\n",
        "print(f'The Mean Squared Error is: {e_mse}')\n",
        "\n",
        "for i in range(y_test.shape[1]):\n",
        "        sheet2.write(0, 0, 'MSE')\n",
        "        sheet2.write(0, 1, 'Hours Ahead')\n",
        "        sheet2.write(i + 1, 0, mse(y_test_unscaled[:,i],y_pred_unscaled[:,i]))\n",
        "        sheet2.write(i + 1, 1, i+1)\n",
        "        sheet3.write(0, i, \"Real-test\")\n",
        "        sheet4.write(0, i, \"Predicted_test\")\n",
        "        for j in range(y_test_unscaled.shape[0]):\n",
        "                 sheet3.write(j + 1, i, float(y_test_unscaled[j, i]))\n",
        "        for k in range(y_pred_unscaled.shape[0]):\n",
        "                 sheet4.write(k + 1, i, float(y_pred_unscaled[k, i]))   \n",
        "\n",
        "wk.save(f'LSTM Result.xls')"
      ],
      "execution_count": null,
      "outputs": [
        {
          "output_type": "stream",
          "name": "stdout",
          "text": [
            "Creating a new directory......\n",
            "New Directory Created\n",
            "Epoch 1/5\n",
            "897/897 [==============================] - 24s 19ms/step - loss: 0.0125 - mae: 0.0765 - val_loss: 0.0062 - val_mae: 0.0628\n",
            "Epoch 2/5\n",
            "897/897 [==============================] - 16s 17ms/step - loss: 0.0047 - mae: 0.0531 - val_loss: 0.0053 - val_mae: 0.0594\n",
            "Epoch 3/5\n",
            "897/897 [==============================] - 16s 17ms/step - loss: 0.0042 - mae: 0.0497 - val_loss: 0.0043 - val_mae: 0.0508\n",
            "Epoch 4/5\n",
            "897/897 [==============================] - 15s 17ms/step - loss: 0.0036 - mae: 0.0461 - val_loss: 0.0044 - val_mae: 0.0529\n",
            "Epoch 5/5\n",
            "897/897 [==============================] - 15s 17ms/step - loss: 0.0033 - mae: 0.0436 - val_loss: 0.0039 - val_mae: 0.0485\n"
          ]
        },
        {
          "output_type": "display_data",
          "data": {
            "image/png": "[encoded data removed]",
            "text/plain": [
              "<Figure size 432x288 with 1 Axes>"
            ]
          },
          "metadata": {
            "needs_background": "light"
          }
        },
        {
          "output_type": "stream",
          "name": "stdout",
          "text": [
            "The Mean Squared Error is: 0.7649610346707578\n"
          ]
        }
      ]
    },
    {
      "cell_type": "markdown",
      "metadata": {
        "id": "FoT8N7BvjIYX"
      },
      "source": [
        "## CNN-LSTM"
      ]
    },
    {
      "cell_type": "code",
      "metadata": {
        "id": "TEsFTBGJjIYX"
      },
      "source": [
        "## Creating the prelimaries \n",
        "\n",
        "filepath_simple = 'simple_cnnlstm.hdf5'\n",
        "filepath_attention = 'attention_cnnlstm.hdf5'\n",
        "\n",
        "checkpoint_simple = keras.callbacks.ModelCheckpoint(filepath_simple,monitor='val_loss',save_best_only=True)\n",
        "checkpoint_attention = keras.callbacks.ModelCheckpoint(filepath_attention, monitor='val_loss',save_best_only=True)\n",
        "\n",
        "wk=Workbook()\n",
        "sheet1 = wk.add_sheet('Simple', cell_overwrite_ok=True)\n",
        "sheet2 = wk.add_sheet('Attention', cell_overwrite_ok=True)\n",
        "sheet3 = wk.add_sheet('Real-test', cell_overwrite_ok=True)\n",
        "sheet4 = wk.add_sheet('Predicted-test', cell_overwrite_ok=True)"
      ],
      "execution_count": null,
      "outputs": []
    },
    {
      "cell_type": "code",
      "metadata": {
        "id": "WLL6FLHUjIYX"
      },
      "source": [
        "## Simple CNN-LSTM model\n",
        "K.clear_session()\n",
        "simple_cnnlstm = keras.Sequential()\n",
        "simple_cnnlstm.add(keras.layers.Conv1D(64, kernel_size=3, input_shape=(x_train.shape[1],x_train.shape[2])))\n",
        "simple_cnnlstm.add(keras.layers.Conv1D(64, kernel_size=3))\n",
        "simple_cnnlstm.add(keras.layers.LSTM(64, return_sequences=True))\n",
        "simple_cnnlstm.add(keras.layers.LSTM(64, return_sequences=True))\n",
        "simple_cnnlstm.add(keras.layers.Flatten())\n",
        "simple_cnnlstm.add(keras.layers.Dense(512, activation='relu'))\n",
        "simple_cnnlstm.add(keras.layers.Dense(128, activation='relu'))\n",
        "simple_cnnlstm.add(keras.layers.Dense(64, activation='relu'))\n",
        "simple_cnnlstm.add(keras.layers.Dense(32))\n",
        "simple_cnnlstm.add(keras.layers.Dense(6))\n",
        "\n",
        "simple_cnnlstm.compile(loss='mse', optimizer=keras.optimizers.Adam(learning_rate=LR), metrics=['mae'])"
      ],
      "execution_count": null,
      "outputs": []
    },
    {
      "cell_type": "code",
      "metadata": {
        "scrolled": true,
        "id": "IwbTMv_bjIYX",
        "colab": {
          "base_uri": "https://localhost:8080/",
          "height": 491
        },
        "outputId": "3c3a6e97-d49f-4d88-ce4e-9e685099c72b"
      },
      "source": [
        "## Saving the result file to the folder of the model\n",
        "\n",
        "try:\n",
        "    os.chdir(os.path.join(dest,'CNN-LSTM'))\n",
        "    print('Directory present')\n",
        "except FileNotFoundError:\n",
        "    print('Creating a new directory......')\n",
        "    os.chdir(os.path.join(dest))\n",
        "    os.mkdir('CNN-LSTM')\n",
        "    os.chdir(os.path.join(dest,'CNN-LSTM'))\n",
        "    print('New Directory Created')\n",
        "\n",
        "history = simple_cnnlstm.fit(x_train,y_train,validation_split=0.1,batch_size=BATCH_SIZE,epochs=EPOCHS,callbacks=[checkpoint_simple])\n",
        "\n",
        "plt.plot(history.history['loss'],'r',label='Training Loss')\n",
        "plt.plot(history.history['val_loss'],'b',label='Validation Loss')\n",
        "plt.legend()\n",
        "plt.show()\n",
        "\n",
        "simple_cnnlstm.load_weights(filepath_simple)\n",
        "preds = simple_cnnlstm.predict(x_test)\n",
        "\n",
        "y_test_unscaled = scaler.inverse_transform(y_test)\n",
        "y_pred_unscaled = scaler.inverse_transform(preds)\n",
        "\n",
        "e_mse = mse(y_test_unscaled[:,5],y_pred_unscaled[:,5])\n",
        "print(f'The Mean Squared Error is: {e_mse}')\n",
        "\n",
        "for i in range(y_test.shape[1]):\n",
        "        sheet1.write(0, 0, 'MSE')\n",
        "        sheet1.write(0, 1, 'Hours Ahead')\n",
        "        sheet1.write(i + 1, 0, mse(y_test_unscaled[:,i],y_pred_unscaled[:,i]))\n",
        "        sheet1.write(i + 1, 1, i+1)\n"
      ],
      "execution_count": null,
      "outputs": [
        {
          "output_type": "stream",
          "name": "stdout",
          "text": [
            "Creating a new directory......\n",
            "New Directory Created\n",
            "Epoch 1/5\n",
            "897/897 [==============================] - 19s 10ms/step - loss: 0.0060 - mae: 0.0478 - val_loss: 0.0032 - val_mae: 0.0420\n",
            "Epoch 2/5\n",
            "897/897 [==============================] - 8s 9ms/step - loss: 0.0019 - mae: 0.0312 - val_loss: 0.0028 - val_mae: 0.0364\n",
            "Epoch 3/5\n",
            "897/897 [==============================] - 9s 10ms/step - loss: 0.0015 - mae: 0.0272 - val_loss: 0.0020 - val_mae: 0.0315\n",
            "Epoch 4/5\n",
            "897/897 [==============================] - 8s 9ms/step - loss: 0.0014 - mae: 0.0259 - val_loss: 0.0021 - val_mae: 0.0331\n",
            "Epoch 5/5\n",
            "897/897 [==============================] - 9s 10ms/step - loss: 0.0013 - mae: 0.0251 - val_loss: 0.0019 - val_mae: 0.0335\n"
          ]
        },
        {
          "output_type": "display_data",
          "data": {
            "image/png": "[encoded data removed]",
            "text/plain": [
              "<Figure size 432x288 with 1 Axes>"
            ]
          },
          "metadata": {
            "needs_background": "light"
          }
        },
        {
          "output_type": "stream",
          "name": "stdout",
          "text": [
            "The Mean Squared Error is: 0.557669178165632\n"
          ]
        }
      ]
    },
    {
      "cell_type": "code",
      "metadata": {
        "id": "PaOu17jGjIYX"
      },
      "source": [
        "## Attention model\n",
        "K.clear_session()\n",
        "atten_cnnlstm = keras.Sequential()\n",
        "atten_cnnlstm.add(keras.layers.Conv1D(64, kernel_size=3, input_shape=(x_train.shape[1],x_train.shape[2])))\n",
        "atten_cnnlstm.add(keras.layers.Conv1D(64, kernel_size=3))\n",
        "atten_cnnlstm.add(keras.layers.LSTM(64, return_sequences=True))\n",
        "atten_cnnlstm.add(keras.layers.LSTM(64, return_sequences=True))\n",
        "atten_cnnlstm.add(attention(return_sequences=True))\n",
        "atten_cnnlstm.add(keras.layers.Flatten())\n",
        "atten_cnnlstm.add(keras.layers.Dense(512, activation='relu'))\n",
        "atten_cnnlstm.add(keras.layers.Dense(128, activation='relu'))\n",
        "atten_cnnlstm.add(keras.layers.Dense(64, activation='relu'))\n",
        "atten_cnnlstm.add(keras.layers.Dense(32))\n",
        "atten_cnnlstm.add(keras.layers.Dense(6))\n",
        "\n",
        "atten_cnnlstm.compile(loss='mse', optimizer=keras.optimizers.Adam(learning_rate=LR), metrics=['mae'])"
      ],
      "execution_count": null,
      "outputs": []
    },
    {
      "cell_type": "code",
      "metadata": {
        "scrolled": true,
        "id": "8JzXu2h7jIYX",
        "colab": {
          "base_uri": "https://localhost:8080/",
          "height": 473
        },
        "outputId": "f76fc8d2-e2c1-4f9e-bfbe-9ef0a1321069"
      },
      "source": [
        "## Saving the result file to the folder of the model\n",
        "try:\n",
        "    os.chdir(os.path.join(dest,'CNN-LSTM'))\n",
        "    print('Directory present')\n",
        "except FileNotFoundError:\n",
        "    print('Creating a new directory......')\n",
        "    os.chdir(os.path.join(dest))\n",
        "    os.mkdir('CNN-LSTM')\n",
        "    os.chdir(os.path.join(dest,'CNN-LSTM'))\n",
        "    print('New Directory Created')\n",
        "\n",
        "history = atten_cnnlstm.fit(x_train,y_train,validation_split=0.1,batch_size=BATCH_SIZE,epochs=EPOCHS,callbacks=[checkpoint_attention])\n",
        "\n",
        "plt.plot(history.history['loss'],'r',label='Training Loss')\n",
        "plt.plot(history.history['val_loss'],'b',label='Validation Loss')\n",
        "plt.legend()\n",
        "plt.show()\n",
        "\n",
        "atten_cnnlstm.load_weights(filepath_attention)\n",
        "preds = atten_cnnlstm.predict(x_test)\n",
        "\n",
        "y_test_unscaled = scaler.inverse_transform(y_test)\n",
        "y_pred_unscaled = scaler.inverse_transform(preds)\n",
        "\n",
        "\n",
        "e_mse = mse(y_test_unscaled[:,5],y_pred_unscaled[:,5])\n",
        "print(f'The Mean Squared Error is: {e_mse}')\n",
        "\n",
        "for i in range(y_test.shape[1]):\n",
        "        sheet2.write(0, 0, 'MSE')\n",
        "        sheet2.write(0, 1, 'Hours Ahead')\n",
        "        sheet2.write(i + 1, 0, mse(y_test_unscaled[:,i],y_pred_unscaled[:,i]))\n",
        "        sheet2.write(i + 1, 1, i+1)\n",
        "\n",
        "        sheet3.write(0,i,\"Real-test\")\n",
        "        sheet4.write(0,i,\"Predicted_test\")\n",
        "        for j in range(y_test_unscaled.shape[0]):\n",
        "                sheet3.write(j+1,i,float(y_test_unscaled[j,i]))\n",
        "        for k in range(y_pred_unscaled.shape[0]):\n",
        "                sheet4.write(k+1,i,float(y_pred_unscaled[k,i]))\n",
        "            \n",
        "wk.save('CNN-LStM Results.xls')\n"
      ],
      "execution_count": null,
      "outputs": [
        {
          "output_type": "stream",
          "name": "stdout",
          "text": [
            "Directory present\n",
            "Epoch 1/5\n",
            "897/897 [==============================] - 13s 11ms/step - loss: 0.0257 - mae: 0.0913 - val_loss: 0.0059 - val_mae: 0.0598\n",
            "Epoch 2/5\n",
            "897/897 [==============================] - 9s 10ms/step - loss: 0.0031 - mae: 0.0412 - val_loss: 0.0041 - val_mae: 0.0505\n",
            "Epoch 3/5\n",
            "897/897 [==============================] - 9s 10ms/step - loss: 0.0025 - mae: 0.0365 - val_loss: 0.0036 - val_mae: 0.0448\n",
            "Epoch 4/5\n",
            "897/897 [==============================] - 9s 10ms/step - loss: 0.0022 - mae: 0.0340 - val_loss: 0.0035 - val_mae: 0.0474\n",
            "Epoch 5/5\n",
            "897/897 [==============================] - 9s 11ms/step - loss: 0.0021 - mae: 0.0324 - val_loss: 0.0031 - val_mae: 0.0438\n"
          ]
        },
        {
          "output_type": "display_data",
          "data": {
            "image/png": "[encoded data removed]",
            "text/plain": [
              "<Figure size 432x288 with 1 Axes>"
            ]
          },
          "metadata": {
            "needs_background": "light"
          }
        },
        {
          "output_type": "stream",
          "name": "stdout",
          "text": [
            "The Mean Squared Error is: 0.6676495896211354\n"
          ]
        }
      ]
    },
    {
      "cell_type": "markdown",
      "metadata": {
        "id": "ZcRUNyVejIYY"
      },
      "source": [
        "## ConvLSTM Model"
      ]
    },
    {
      "cell_type": "code",
      "metadata": {
        "id": "g4Pqw46SjIYY"
      },
      "source": [
        "## Creating the prelimaries \n",
        "\n",
        "filepath_simple = 'simple_convlstm.hdf5'\n",
        "filepath_attention = 'attention_convlstm.hdf5'\n",
        "\n",
        "checkpoint_simple = keras.callbacks.ModelCheckpoint(filepath_simple,monitor='val_loss',save_best_only=True)\n",
        "checkpoint_attention = keras.callbacks.ModelCheckpoint(filepath_attention, monitor='val_loss',save_best_only=True)\n",
        "\n",
        "wk=Workbook()\n",
        "sheet1 = wk.add_sheet('Simple', cell_overwrite_ok=True)\n",
        "sheet2 = wk.add_sheet('Attention', cell_overwrite_ok=True)\n",
        "sheet3 = wk.add_sheet('Real-test', cell_overwrite_ok=True)\n",
        "sheet4 = wk.add_sheet('Predicted-test', cell_overwrite_ok=True)\n"
      ],
      "execution_count": null,
      "outputs": []
    },
    {
      "cell_type": "code",
      "metadata": {
        "id": "cmLxVJBnjIYY"
      },
      "source": [
        "## Reshaping the training and testing data to suit the convlstm model\n",
        "x_train_conv =x_train.reshape(x_train.shape[0], 1, 1, x_train.shape[1], x_train.shape[2])\n",
        "x_test_conv = x_test.reshape(x_test.shape[0], 1, 1, x_test.shape[1], x_test.shape[2])"
      ],
      "execution_count": null,
      "outputs": []
    },
    {
      "cell_type": "code",
      "metadata": {
        "id": "e8YZzkp7jIYZ"
      },
      "source": [
        "## Simple ConvLSTM model\n",
        "K.clear_session()\n",
        "simple_convlstm = keras.Sequential()\n",
        "simple_convlstm.add(keras.layers.ConvLSTM2D(64, kernel_size=(1,2),return_sequences=True, \n",
        "                                            input_shape=(x_train_conv.shape[1], x_train_conv.shape[2], \n",
        "                                                         x_train_conv.shape[3], x_train_conv.shape[4])))\n",
        "simple_convlstm.add(keras.layers.ConvLSTM2D(64, kernel_size=(1,2),return_sequences=True))\n",
        "simple_convlstm.add(keras.layers.ConvLSTM2D(64, kernel_size=(1,2),return_sequences=True))\n",
        "simple_convlstm.add(keras.layers.ConvLSTM2D(64, kernel_size=(1,2),return_sequences=True))\n",
        "simple_convlstm.add(keras.layers.Flatten())\n",
        "simple_convlstm.add(keras.layers.Dense(512, activation='relu'))\n",
        "simple_convlstm.add(keras.layers.Dense(128, activation='relu'))\n",
        "simple_convlstm.add(keras.layers.Dense(64, activation='relu'))\n",
        "simple_convlstm.add(keras.layers.Dense(32))\n",
        "simple_convlstm.add(keras.layers.Dense(6))\n",
        "\n",
        "simple_convlstm.compile(loss='mse', optimizer=keras.optimizers.Adam(learning_rate=LR), metrics=['mae'])"
      ],
      "execution_count": null,
      "outputs": []
    },
    {
      "cell_type": "code",
      "metadata": {
        "scrolled": true,
        "id": "mTcryG0hjIYZ",
        "colab": {
          "base_uri": "https://localhost:8080/",
          "height": 491
        },
        "outputId": "0e9ad10c-0d08-4c27-cfc0-5dab417e81fc"
      },
      "source": [
        "## Saving the result file to the folder of the model\n",
        "try:\n",
        "    os.chdir(os.path.join(dest,'ConvLSTM'))\n",
        "    print('Directory present')\n",
        "except FileNotFoundError:\n",
        "    print('Creating a new directory......')\n",
        "    os.chdir(os.path.join(dest))\n",
        "    os.mkdir('ConvLSTM')\n",
        "    os.chdir(os.path.join(dest,'ConvLSTM'))\n",
        "    print('New Directory Created')\n",
        "\n",
        "history = simple_convlstm.fit(x_train_conv,y_train,validation_split=0.1,batch_size=BATCH_SIZE,epochs=EPOCHS,callbacks=[checkpoint_simple])\n",
        "\n",
        "plt.plot(history.history['loss'],'r',label='Training Loss')\n",
        "plt.plot(history.history['val_loss'],'b',label='Validation Loss')\n",
        "plt.legend()\n",
        "plt.show()\n",
        "\n",
        "simple_convlstm.load_weights(filepath_simple)\n",
        "preds = simple_convlstm.predict(x_test_conv)\n",
        "\n",
        "y_test_unscaled = scaler.inverse_transform(y_test)\n",
        "y_pred_unscaled = scaler.inverse_transform(preds)\n",
        "\n",
        "e_mse = mse(y_test_unscaled[:,5],y_pred_unscaled[:,5])\n",
        "print(f'The Mean Squared Error is: {e_mse}')\n",
        "\n",
        "for i in range(y_test.shape[1]):\n",
        "        sheet1.write(0, 0, 'MSE')\n",
        "        sheet1.write(0, 1, 'Hours Ahead')\n",
        "        sheet1.write(i + 1, 0, mse(y_test_unscaled[:,i],y_pred_unscaled[:,i]))\n",
        "        sheet1.write(i + 1, 1, i+1)\n"
      ],
      "execution_count": null,
      "outputs": [
        {
          "output_type": "stream",
          "name": "stdout",
          "text": [
            "Creating a new directory......\n",
            "New Directory Created\n",
            "Epoch 1/5\n",
            "897/897 [==============================] - 69s 66ms/step - loss: 0.0093 - mae: 0.0577 - val_loss: 0.0042 - val_mae: 0.0497\n",
            "Epoch 2/5\n",
            "897/897 [==============================] - 59s 66ms/step - loss: 0.0020 - mae: 0.0329 - val_loss: 0.0027 - val_mae: 0.0353\n",
            "Epoch 3/5\n",
            "897/897 [==============================] - 61s 68ms/step - loss: 0.0016 - mae: 0.0283 - val_loss: 0.0022 - val_mae: 0.0330\n",
            "Epoch 4/5\n",
            "897/897 [==============================] - 58s 65ms/step - loss: 0.0015 - mae: 0.0270 - val_loss: 0.0019 - val_mae: 0.0314\n",
            "Epoch 5/5\n",
            "897/897 [==============================] - 58s 65ms/step - loss: 0.0015 - mae: 0.0261 - val_loss: 0.0022 - val_mae: 0.0361\n"
          ]
        },
        {
          "output_type": "display_data",
          "data": {
            "image/png": "[encoded data removed]",
            "text/plain": [
              "<Figure size 432x288 with 1 Axes>"
            ]
          },
          "metadata": {
            "needs_background": "light"
          }
        },
        {
          "output_type": "stream",
          "name": "stdout",
          "text": [
            "The Mean Squared Error is: 0.5269047938586497\n"
          ]
        }
      ]
    },
    {
      "cell_type": "code",
      "metadata": {
        "id": "S-jxgMjNjIYZ"
      },
      "source": [
        "## Attention model\n",
        "K.clear_session()\n",
        "atten_convlstm = keras.Sequential()\n",
        "atten_convlstm.add(keras.layers.ConvLSTM2D(64, kernel_size=(1,2),return_sequences=True, \n",
        "                                            input_shape=(x_train_conv.shape[1], x_train_conv.shape[2], \n",
        "                                                         x_train_conv.shape[3], x_train_conv.shape[4])))\n",
        "atten_convlstm.add(keras.layers.ConvLSTM2D(64, kernel_size=(1,2),return_sequences=True))\n",
        "atten_convlstm.add(keras.layers.ConvLSTM2D(64, kernel_size=(1,2),return_sequences=True))\n",
        "atten_convlstm.add(keras.layers.ConvLSTM2D(64, kernel_size=(1,2),return_sequences=True))\n",
        "atten_convlstm.add(attention(return_sequences=True))\n",
        "atten_convlstm.add(keras.layers.Flatten())\n",
        "atten_convlstm.add(keras.layers.Dense(512, activation='relu'))\n",
        "atten_convlstm.add(keras.layers.Dense(128, activation='relu'))\n",
        "atten_convlstm.add(keras.layers.Dense(64, activation='relu'))\n",
        "atten_convlstm.add(keras.layers.Dense(32))\n",
        "atten_convlstm.add(keras.layers.Dense(6))\n",
        "\n",
        "atten_convlstm.compile(loss='mse', optimizer=keras.optimizers.Adam(learning_rate=LR), metrics=['mae'])"
      ],
      "execution_count": null,
      "outputs": []
    },
    {
      "cell_type": "code",
      "metadata": {
        "scrolled": true,
        "id": "Ey2uZ1JIjIYZ",
        "colab": {
          "base_uri": "https://localhost:8080/",
          "height": 477
        },
        "outputId": "bc60db0c-a963-45a9-b968-f45ab384c622"
      },
      "source": [
        "## Saving the result file to the folder of the model\n",
        "try:\n",
        "    os.chdir(os.path.join(dest,'ConvLSTM'))\n",
        "    print('Directory present')\n",
        "except FileNotFoundError:\n",
        "    print('Creating a new directory......')\n",
        "    os.chdir(os.path.join(dest))\n",
        "    os.mkdir('ConvLSTM')\n",
        "    os.chdir(os.path.join(dest,'ConvLSTM'))\n",
        "    print('New Directory Created')\n",
        "\n",
        "history = atten_convlstm.fit(x_train_conv,y_train,validation_split=0.1,batch_size=BATCH_SIZE,epochs=EPOCHS,callbacks=[checkpoint_attention])\n",
        "\n",
        "plt.plot(history.history['loss'],'r',label='Training Loss')\n",
        "plt.plot(history.history['val_loss'],'b',label='Validation Loss')\n",
        "plt.legend()\n",
        "plt.show()\n",
        "\n",
        "atten_convlstm.load_weights(filepath_attention)\n",
        "preds = atten_convlstm.predict(x_test_conv)\n",
        "\n",
        "y_test_unscaled = scaler.inverse_transform(y_test)\n",
        "y_pred_unscaled = scaler.inverse_transform(preds)\n",
        "\n",
        "e_mse = mse(y_test_unscaled[:,5],y_pred_unscaled[:,5])\n",
        "print(f'The Mean Squared Error is: {e_mse}')\n",
        "\n",
        "for i in range(y_test.shape[1]):\n",
        "        sheet2.write(0, 0, 'MSE')\n",
        "        sheet2.write(0, 1, 'Hours Ahead')\n",
        "        sheet2.write(i + 1, 0, mse(y_test_unscaled[:,i],y_pred_unscaled[:,i]))\n",
        "        sheet2.write(i + 1, 1, i+1)\n",
        "        sheet3.write(0, i, \"Real-test\")\n",
        "        sheet4.write(0, i, \"Predicted_test\")\n",
        "        for j in range(y_test_unscaled.shape[0]):\n",
        "                 sheet3.write(j + 1, i, float(y_test_unscaled[j, i]))\n",
        "        for k in range(y_pred_unscaled.shape[0]):\n",
        "                 sheet4.write(k + 1, i, float(y_pred_unscaled[k, i]))\n",
        "wk.save('ConvLSTM Results.xls')"
      ],
      "execution_count": null,
      "outputs": [
        {
          "output_type": "stream",
          "name": "stdout",
          "text": [
            "Directory present\n",
            "Epoch 1/5\n",
            "897/897 [==============================] - 70s 66ms/step - loss: 0.0087 - mae: 0.0572 - val_loss: 0.0050 - val_mae: 0.0538\n",
            "Epoch 2/5\n",
            "897/897 [==============================] - 61s 68ms/step - loss: 0.0022 - mae: 0.0338 - val_loss: 0.0028 - val_mae: 0.0366\n",
            "Epoch 3/5\n",
            "897/897 [==============================] - 60s 66ms/step - loss: 0.0016 - mae: 0.0282 - val_loss: 0.0023 - val_mae: 0.0339\n",
            "Epoch 4/5\n",
            "897/897 [==============================] - 60s 67ms/step - loss: 0.0015 - mae: 0.0267 - val_loss: 0.0019 - val_mae: 0.0299\n",
            "Epoch 5/5\n",
            "897/897 [==============================] - 59s 66ms/step - loss: 0.0014 - mae: 0.0257 - val_loss: 0.0021 - val_mae: 0.0326\n"
          ]
        },
        {
          "output_type": "display_data",
          "data": {
            "image/png": "[encoded data removed]",
            "text/plain": [
              "<Figure size 432x288 with 1 Axes>"
            ]
          },
          "metadata": {
            "needs_background": "light"
          }
        },
        {
          "output_type": "stream",
          "name": "stdout",
          "text": [
            "The Mean Squared Error is: 0.516433042240335\n"
          ]
        }
      ]
    },
    {
      "cell_type": "markdown",
      "metadata": {
        "id": "rpSVHR1rjIYZ"
      },
      "source": [
        "## Seq2Seq Model"
      ]
    },
    {
      "cell_type": "code",
      "metadata": {
        "id": "Pj0g15bvjIYa"
      },
      "source": [
        "## Creating the prelimaries \n",
        "\n",
        "filepath_simple = 'simple_seq2seq.hdf5'\n",
        "filepath_attention = 'attention_seq2seq.hdf5'\n",
        "\n",
        "checkpoint_simple = keras.callbacks.ModelCheckpoint(filepath_simple,monitor='val_loss',save_best_only=True)\n",
        "checkpoint_attention = keras.callbacks.ModelCheckpoint(filepath_attention, monitor='val_loss',save_best_only=True)\n",
        "\n",
        "wk=Workbook()\n",
        "sheet1 = wk.add_sheet('Simple', cell_overwrite_ok=True)\n",
        "sheet2 = wk.add_sheet('Attention', cell_overwrite_ok=True)\n",
        "sheet3 = wk.add_sheet('Real-test', cell_overwrite_ok=True)\n",
        "sheet4 = wk.add_sheet('Predicted-test', cell_overwrite_ok=True)"
      ],
      "execution_count": null,
      "outputs": []
    },
    {
      "cell_type": "code",
      "metadata": {
        "id": "zUeQqcXKjIYa"
      },
      "source": [
        "## Reshaping the training data to suit Seq2Seq model\n",
        "y_train_seq = y_train.reshape(y_train.shape[0], y_train.shape[1], 1)"
      ],
      "execution_count": null,
      "outputs": []
    },
    {
      "cell_type": "code",
      "metadata": {
        "id": "mTfem7iNjIYa",
        "colab": {
          "base_uri": "https://localhost:8080/"
        },
        "outputId": "a8e37142-eeb1-4a06-f66b-4153b0048c42"
      },
      "source": [
        "## Simple Model\n",
        "K.clear_session()\n",
        "input_train = keras.layers.Input(shape=(x_train.shape[1], x_train.shape[2]))\n",
        "output_train = keras.layers.Input(shape=(y_train_seq.shape[1], y_train_seq.shape[2]))\n",
        "\n",
        "### --------------------------------Encoder Section -----------------------------------------------###\n",
        "encoder_first = keras.layers.LSTM(128, return_sequences=True, return_state=False)(input_train)\n",
        "encoder_second = keras.layers.LSTM(128, return_sequences=True)(encoder_first)\n",
        "encoder_third = keras.layers.LSTM(128, return_sequences=True)(encoder_second)\n",
        "encoder_fourth, encoder_fourth_s1, encoder_fourth_s2 = keras.layers.LSTM(128,return_sequences=False, return_state=True)(encoder_third)\n",
        "\n",
        "###---------------------------------Decorder Section-----------------------------------------------###\n",
        "decoder_first = keras.layers.RepeatVector(output_train.shape[1])(encoder_fourth)\n",
        "decoder_second = keras.layers.LSTM(128, return_state=False, return_sequences=True)(decoder_first,initial_state=[encoder_fourth,encoder_fourth_s2])\n",
        "decoder_third = keras.layers.LSTM(128,return_sequences=True)(decoder_second)\n",
        "decoder_fourth = keras.layers.LSTM(128,return_sequences=True)(decoder_third)\n",
        "decoder_fifth = keras.layers.LSTM(128,return_sequences=True)(decoder_fourth)\n",
        "print(decoder_fifth)\n",
        "\n",
        "###--------------------------------Output Section-------------------------------------------------###\n",
        "output = keras.layers.TimeDistributed(keras.layers.Dense(output_train.shape[2]))(decoder_fifth)\n",
        "\n",
        "simple_seq = keras.Model(inputs=input_train, outputs=output)\n",
        "opt = keras.optimizers.Adam(learning_rate=LR)\n",
        "simple_seq.compile(loss='mse', optimizer=opt, metrics=['mae'])\n",
        "simple_seq.summary()"
      ],
      "execution_count": null,
      "outputs": [
        {
          "output_type": "stream",
          "name": "stdout",
          "text": [
            "KerasTensor(type_spec=TensorSpec(shape=(None, 6, 128), dtype=tf.float32, name=None), name='lstm_7/PartitionedCall:1', description=\"created by layer 'lstm_7'\")\n",
            "Model: \"model\"\n",
            "__________________________________________________________________________________________________\n",
            " Layer (type)                   Output Shape         Param #     Connected to                     \n",
            "==================================================================================================\n",
            " input_1 (InputLayer)           [(None, 6, 7)]       0           []                               \n",
            "                                                                                                  \n",
            " lstm (LSTM)                    (None, 6, 128)       69632       ['input_1[0][0]']                \n",
            "                                                                                                  \n",
            " lstm_1 (LSTM)                  (None, 6, 128)       131584      ['lstm[0][0]']                   \n",
            "                                                                                                  \n",
            " lstm_2 (LSTM)                  (None, 6, 128)       131584      ['lstm_1[0][0]']                 \n",
            "                                                                                                  \n",
            " lstm_3 (LSTM)                  [(None, 128),        131584      ['lstm_2[0][0]']                 \n",
            "                                 (None, 128),                                                     \n",
            "                                 (None, 128)]                                                     \n",
            "                                                                                                  \n",
            " repeat_vector (RepeatVector)   (None, 6, 128)       0           ['lstm_3[0][0]']                 \n",
            "                                                                                                  \n",
            " lstm_4 (LSTM)                  (None, 6, 128)       131584      ['repeat_vector[0][0]',          \n",
            "                                                                  'lstm_3[0][0]',                 \n",
            "                                                                  'lstm_3[0][2]']                 \n",
            "                                                                                                  \n",
            " lstm_5 (LSTM)                  (None, 6, 128)       131584      ['lstm_4[0][0]']                 \n",
            "                                                                                                  \n",
            " lstm_6 (LSTM)                  (None, 6, 128)       131584      ['lstm_5[0][0]']                 \n",
            "                                                                                                  \n",
            " lstm_7 (LSTM)                  (None, 6, 128)       131584      ['lstm_6[0][0]']                 \n",
            "                                                                                                  \n",
            " time_distributed (TimeDistribu  (None, 6, 1)        129         ['lstm_7[0][0]']                 \n",
            " ted)                                                                                             \n",
            "                                                                                                  \n",
            "==================================================================================================\n",
            "Total params: 990,849\n",
            "Trainable params: 990,849\n",
            "Non-trainable params: 0\n",
            "__________________________________________________________________________________________________\n"
          ]
        }
      ]
    },
    {
      "cell_type": "code",
      "metadata": {
        "scrolled": true,
        "id": "-xA6I61VjIYa",
        "colab": {
          "base_uri": "https://localhost:8080/",
          "height": 508
        },
        "outputId": "dd83ceb7-0cbd-4cd6-d21e-7c3316c9db4c"
      },
      "source": [
        "## Saving the result file to the folder of the model\n",
        "try:\n",
        "    os.chdir(os.path.join(dest,'Seq2Seq'))\n",
        "    print('Directory present')\n",
        "except FileNotFoundError:\n",
        "    print('Creating a new directory......')\n",
        "    os.chdir(os.path.join(dest))\n",
        "    os.mkdir('Seq2Seq')\n",
        "    os.chdir(os.path.join(dest,'Seq2Seq'))\n",
        "    print('New Directory Created')\n",
        "\n",
        "history = simple_seq.fit(x_train,y_train_seq,validation_split=0.1,batch_size=BATCH_SIZE,epochs=EPOCHS,callbacks=[checkpoint_simple])\n",
        "\n",
        "plt.plot(history.history['loss'],'r',label='Training Loss')\n",
        "plt.plot(history.history['val_loss'],'b',label='Validation Loss')\n",
        "plt.legend()\n",
        "plt.show()\n",
        "\n",
        "simple_seq.load_weights(filepath_simple)\n",
        "preds = simple_seq.predict(x_test)\n",
        "\n",
        "preds = preds.reshape(preds.shape[0],preds.shape[1])\n",
        "print(preds.shape)\n",
        "\n",
        "y_test_unscaled = scaler.inverse_transform(y_test)\n",
        "y_pred_unscaled = scaler.inverse_transform(preds)\n",
        "\n",
        "e_mse = mse(y_test_unscaled[:,5],y_pred_unscaled[:,5])\n",
        "print(f'The Mean Squared Error is: {e_mse}')\n",
        "\n",
        "for i in range(y_test.shape[1]):\n",
        "        sheet1.write(0, 0, 'MSE')\n",
        "        sheet1.write(0, 1, 'Hours Ahead')\n",
        "        sheet1.write(i + 1, 0, mse(y_test_unscaled[:,i],y_pred_unscaled[:,i]))\n",
        "        sheet1.write(i + 1, 1, i+1)\n"
      ],
      "execution_count": null,
      "outputs": [
        {
          "output_type": "stream",
          "name": "stdout",
          "text": [
            "Creating a new directory......\n",
            "New Directory Created\n",
            "Epoch 1/5\n",
            "897/897 [==============================] - 45s 36ms/step - loss: 0.0108 - mae: 0.0652 - val_loss: 0.0059 - val_mae: 0.0598\n",
            "Epoch 2/5\n",
            "897/897 [==============================] - 29s 32ms/step - loss: 0.0037 - mae: 0.0460 - val_loss: 0.0043 - val_mae: 0.0524\n",
            "Epoch 3/5\n",
            "897/897 [==============================] - 30s 33ms/step - loss: 0.0025 - mae: 0.0369 - val_loss: 0.0027 - val_mae: 0.0378\n",
            "Epoch 4/5\n",
            "897/897 [==============================] - 29s 32ms/step - loss: 0.0016 - mae: 0.0281 - val_loss: 0.0020 - val_mae: 0.0339\n",
            "Epoch 5/5\n",
            "897/897 [==============================] - 28s 31ms/step - loss: 0.0014 - mae: 0.0260 - val_loss: 0.0022 - val_mae: 0.0358\n"
          ]
        },
        {
          "output_type": "display_data",
          "data": {
            "image/png": "[encoded data removed]",
            "text/plain": [
              "<Figure size 432x288 with 1 Axes>"
            ]
          },
          "metadata": {
            "needs_background": "light"
          }
        },
        {
          "output_type": "stream",
          "name": "stdout",
          "text": [
            "(7957, 6)\n",
            "The Mean Squared Error is: 0.7008702852667895\n"
          ]
        }
      ]
    },
    {
      "cell_type": "code",
      "metadata": {
        "id": "mU5RyXFUjIYa",
        "colab": {
          "base_uri": "https://localhost:8080/"
        },
        "outputId": "140398d3-7ec7-4ed2-98af-adf413b4c38a"
      },
      "source": [
        "## Attention Model\n",
        "K.clear_session()\n",
        "\n",
        "input_train = keras.layers.Input(shape=(x_train.shape[1], x_train.shape[2]))\n",
        "output_train = keras.layers.Input(shape=(y_train_seq.shape[1], y_train_seq.shape[2]))\n",
        "\n",
        "###----------------------------------------Encoder Section------------------------------------------###\n",
        "encoder_first = keras.layers.LSTM(128, return_sequences=True, return_state=False)(input_train)\n",
        "encoder_second = keras.layers.LSTM(128, return_sequences=True)(encoder_first)\n",
        "encoder_third = keras.layers.LSTM(128, return_sequences=True)(encoder_second)\n",
        "encoder_fourth, encoder_fourth_s1, encoder_fourth_s2 = keras.layers.LSTM(128,return_sequences=True,return_state=True)(encoder_third)\n",
        "\n",
        "###-----------------------------------------Decoder Section------------------------------------------###\n",
        "decoder_first = keras.layers.RepeatVector(output_train.shape[1])(encoder_fourth_s1)\n",
        "decoder_second = keras.layers.LSTM(128, return_state=False, return_sequences=True)(decoder_first, initial_state=[encoder_fourth_s1, encoder_fourth_s2])\n",
        "\n",
        "attention = keras.layers.dot([decoder_second, encoder_fourth], axes=[2, 2])\n",
        "attention = keras.layers.Activation('softmax')(attention)\n",
        "context = keras.layers.dot([attention, encoder_fourth], axes=[2, 1])\n",
        "\n",
        "decoder_third = keras.layers.concatenate([context, decoder_second])\n",
        "\n",
        "decoder_fourth = keras.layers.LSTM(128, return_sequences=True)(decoder_third)\n",
        "decoder_fifth = keras.layers.LSTM(128, return_sequences=True)(decoder_fourth)\n",
        "decoder_sixth = keras.layers.LSTM(128, return_sequences=True)(decoder_fifth)\n",
        "\n",
        "###-----------------------------------------Output Section-----------------------------------------###\n",
        "output = keras.layers.TimeDistributed(keras.layers.Dense(output_train.shape[2]))(decoder_sixth)\n",
        "\n",
        "atten_seq = keras.Model(inputs=input_train, outputs=output)\n",
        "opt = keras.optimizers.Adam(learning_rate=LR)\n",
        "atten_seq.compile(loss='mse', optimizer=opt, metrics=['mae'])\n",
        "atten_seq.summary()"
      ],
      "execution_count": null,
      "outputs": [
        {
          "output_type": "stream",
          "name": "stdout",
          "text": [
            "Model: \"model\"\n",
            "__________________________________________________________________________________________________\n",
            " Layer (type)                   Output Shape         Param #     Connected to                     \n",
            "==================================================================================================\n",
            " input_1 (InputLayer)           [(None, 6, 7)]       0           []                               \n",
            "                                                                                                  \n",
            " lstm (LSTM)                    (None, 6, 128)       69632       ['input_1[0][0]']                \n",
            "                                                                                                  \n",
            " lstm_1 (LSTM)                  (None, 6, 128)       131584      ['lstm[0][0]']                   \n",
            "                                                                                                  \n",
            " lstm_2 (LSTM)                  (None, 6, 128)       131584      ['lstm_1[0][0]']                 \n",
            "                                                                                                  \n",
            " lstm_3 (LSTM)                  [(None, 6, 128),     131584      ['lstm_2[0][0]']                 \n",
            "                                 (None, 128),                                                     \n",
            "                                 (None, 128)]                                                     \n",
            "                                                                                                  \n",
            " repeat_vector (RepeatVector)   (None, 6, 128)       0           ['lstm_3[0][1]']                 \n",
            "                                                                                                  \n",
            " lstm_4 (LSTM)                  (None, 6, 128)       131584      ['repeat_vector[0][0]',          \n",
            "                                                                  'lstm_3[0][1]',                 \n",
            "                                                                  'lstm_3[0][2]']                 \n",
            "                                                                                                  \n",
            " dot (Dot)                      (None, 6, 6)         0           ['lstm_4[0][0]',                 \n",
            "                                                                  'lstm_3[0][0]']                 \n",
            "                                                                                                  \n",
            " activation (Activation)        (None, 6, 6)         0           ['dot[0][0]']                    \n",
            "                                                                                                  \n",
            " dot_1 (Dot)                    (None, 6, 128)       0           ['activation[0][0]',             \n",
            "                                                                  'lstm_3[0][0]']                 \n",
            "                                                                                                  \n",
            " concatenate (Concatenate)      (None, 6, 256)       0           ['dot_1[0][0]',                  \n",
            "                                                                  'lstm_4[0][0]']                 \n",
            "                                                                                                  \n",
            " lstm_5 (LSTM)                  (None, 6, 128)       197120      ['concatenate[0][0]']            \n",
            "                                                                                                  \n",
            " lstm_6 (LSTM)                  (None, 6, 128)       131584      ['lstm_5[0][0]']                 \n",
            "                                                                                                  \n",
            " lstm_7 (LSTM)                  (None, 6, 128)       131584      ['lstm_6[0][0]']                 \n",
            "                                                                                                  \n",
            " time_distributed (TimeDistribu  (None, 6, 1)        129         ['lstm_7[0][0]']                 \n",
            " ted)                                                                                             \n",
            "                                                                                                  \n",
            "==================================================================================================\n",
            "Total params: 1,056,385\n",
            "Trainable params: 1,056,385\n",
            "Non-trainable params: 0\n",
            "__________________________________________________________________________________________________\n"
          ]
        }
      ]
    },
    {
      "cell_type": "code",
      "metadata": {
        "id": "VIVr1380jIYa",
        "colab": {
          "base_uri": "https://localhost:8080/",
          "height": 491
        },
        "outputId": "af2af7c0-9d56-4043-ab24-22f640850c66"
      },
      "source": [
        "## Saving the result file to the folder of the model\n",
        "try:\n",
        "    os.chdir(os.path.join(dest,'Seq2Seq'))\n",
        "    print('Directory present')\n",
        "except FileNotFoundError:\n",
        "    print('Creating a new directory......')\n",
        "    os.chdir(os.path.join(dest))\n",
        "    os.mkdir('Seq2Seq')\n",
        "    os.chdir(os.path.join(dest,'Seq2Seq'))\n",
        "    print('New Directory Created')\n",
        "\n",
        "history = atten_seq.fit(x_train,y_train_seq,validation_split=0.1,batch_size=BATCH_SIZE,epochs=EPOCHS,callbacks=[checkpoint_attention])\n",
        "\n",
        "plt.plot(history.history['loss'],'r',label='Training Loss')\n",
        "plt.plot(history.history['val_loss'],'b',label='Validation Loss')\n",
        "plt.legend()\n",
        "plt.show()\n",
        "\n",
        "atten_seq.load_weights(filepath_attention)\n",
        "preds = atten_seq.predict(x_test)\n",
        "\n",
        "preds = preds.reshape(preds.shape[0],preds.shape[1])\n",
        "print(preds.shape)\n",
        "\n",
        "y_test_unscaled = scaler.inverse_transform(y_test)\n",
        "y_pred_unscaled = scaler.inverse_transform(preds)\n",
        "\n",
        "e_mse = mse(y_test_unscaled[:,5],y_pred_unscaled[:,5])\n",
        "print(f'The Mean Squared Error is: {e_mse}')\n",
        "\n",
        "for i in range(y_test.shape[1]):\n",
        "        sheet2.write(0, 0, 'MSE')\n",
        "        sheet2.write(0, 1, 'Hours Ahead')\n",
        "        sheet2.write(i + 1, 0, mse(y_test_unscaled[:,i],y_pred_unscaled[:,i]))\n",
        "        sheet2.write(i + 1, 1, i+1)\n",
        "        sheet3.write(0, i, \"Real-test\")\n",
        "        sheet4.write(0, i, \"Predicted_test\")\n",
        "        for j in range(y_test_unscaled.shape[0]):\n",
        "                 sheet3.write(j + 1, i, float(y_test_unscaled[j, i]))\n",
        "        for k in range(y_pred_unscaled.shape[0]):\n",
        "                 sheet4.write(k + 1, i, float(y_pred_unscaled[k, i]))\n",
        "wk.save('Seq2Seq Results.xls')"
      ],
      "execution_count": null,
      "outputs": [
        {
          "output_type": "stream",
          "name": "stdout",
          "text": [
            "Directory present\n",
            "Epoch 1/5\n",
            "897/897 [==============================] - 46s 36ms/step - loss: 0.0110 - mae: 0.0658 - val_loss: 0.0063 - val_mae: 0.0614\n",
            "Epoch 2/5\n",
            "897/897 [==============================] - 30s 33ms/step - loss: 0.0039 - mae: 0.0471 - val_loss: 0.0046 - val_mae: 0.0532\n",
            "Epoch 3/5\n",
            "897/897 [==============================] - 30s 33ms/step - loss: 0.0029 - mae: 0.0402 - val_loss: 0.0029 - val_mae: 0.0399\n",
            "Epoch 4/5\n",
            "897/897 [==============================] - 30s 33ms/step - loss: 0.0017 - mae: 0.0298 - val_loss: 0.0021 - val_mae: 0.0343\n",
            "Epoch 5/5\n",
            "897/897 [==============================] - 29s 32ms/step - loss: 0.0014 - mae: 0.0262 - val_loss: 0.0024 - val_mae: 0.0376\n"
          ]
        },
        {
          "output_type": "display_data",
          "data": {
            "image/png": "[encoded data removed]",
            "text/plain": [
              "<Figure size 432x288 with 1 Axes>"
            ]
          },
          "metadata": {
            "needs_background": "light"
          }
        },
        {
          "output_type": "stream",
          "name": "stdout",
          "text": [
            "(7957, 6)\n",
            "The Mean Squared Error is: 0.6544881900729992\n"
          ]
        }
      ]
    },
    {
      "cell_type": "markdown",
      "metadata": {
        "id": "qKvpHUaqjIYa"
      },
      "source": [
        "## Wavenet Model"
      ]
    },
    {
      "cell_type": "code",
      "metadata": {
        "id": "56mUzKqNjIYa"
      },
      "source": [
        "## Creating the prelimaries \n",
        "\n",
        "filepath_simple = 'simple_wavenet.hdf5'\n",
        "filepath_attention = 'attention_wavenet.hdf5'\n",
        "\n",
        "checkpoint_simple = keras.callbacks.ModelCheckpoint(filepath_simple,monitor='val_loss',save_best_only=True)\n",
        "checkpoint_attention = keras.callbacks.ModelCheckpoint(filepath_attention, monitor='val_loss',save_best_only=True)\n",
        "\n",
        "wk=Workbook()\n",
        "sheet1 = wk.add_sheet('Simple', cell_overwrite_ok=True)\n",
        "sheet2 = wk.add_sheet('Attention', cell_overwrite_ok=True)\n",
        "sheet3 = wk.add_sheet('Real-test', cell_overwrite_ok=True)\n",
        "sheet4 = wk.add_sheet('Predicted-test', cell_overwrite_ok=True)"
      ],
      "execution_count": null,
      "outputs": []
    },
    {
      "cell_type": "code",
      "metadata": {
        "id": "1-iUwa8pjIYb"
      },
      "source": [
        "n_filters = 128\n",
        "filter_width = 2\n",
        "dilation_rates = [2**i for i in range(7)]\n",
        "\n",
        "inputs = keras.layers.Input(shape=(x_train.shape[1],x_train.shape[2]))\n",
        "x=inputs\n",
        "\n",
        "skips = []\n",
        "for dilation_rate in dilation_rates:\n",
        "\n",
        "    x   = keras.layers.Conv1D(64, 1, padding='same')(x) \n",
        "    x_f = keras.layers.Conv1D(filters=n_filters,kernel_size=filter_width,padding='causal',dilation_rate=dilation_rate)(x)\n",
        "    x_g = keras.layers.Conv1D(filters=n_filters,kernel_size=filter_width, padding='causal',dilation_rate=dilation_rate)(x)\n",
        "\n",
        "    z = keras.layers.Multiply()([keras.layers.Activation('tanh')(x_f),keras.layers.Activation('sigmoid')(x_g)])\n",
        "\n",
        "    z = keras.layers.Conv1D(64, 1, padding='same', activation='relu')(z)\n",
        "\n",
        "    x = keras.layers.Add()([x, z])    \n",
        "\n",
        "    skips.append(z)\n",
        "\n",
        "out = keras.layers.Activation('relu')(keras.layers.Add()(skips)) \n",
        "out = keras.layers.Conv1D(128, 1, padding='same')(out)\n",
        "out = keras.layers.Activation('relu')(out)\n",
        "out = keras.layers.Dropout(0.4)(out)\n",
        "out = keras.layers.Conv1D(1, 1, padding='same')(out)\n",
        "\n",
        "out = keras.layers.Flatten()(out)\n",
        "out = keras.layers.Dense(6)(out)\n",
        "\n",
        "simple_wavenet = keras.Model(inputs, out)\n",
        "\n",
        "simple_wavenet.compile(loss='mse', optimizer=keras.optimizers.Adam(learning_rate=LR), metrics=['mae'])\n"
      ],
      "execution_count": null,
      "outputs": []
    },
    {
      "cell_type": "code",
      "metadata": {
        "scrolled": true,
        "id": "KcxMyXFLjIYb",
        "colab": {
          "base_uri": "https://localhost:8080/",
          "height": 545
        },
        "outputId": "870f40fd-2d4e-401d-b114-0ff96e3f66ce"
      },
      "source": [
        "## Saving the result file to the folder of the model\n",
        "try:\n",
        "    os.chdir(os.path.join(dest,'Wavenet'))\n",
        "    print('Directory present')\n",
        "except FileNotFoundError:\n",
        "    print('Creating a new directory......')\n",
        "    os.chdir(os.path.join(dest))\n",
        "    os.mkdir('Wavenet')\n",
        "    os.chdir(os.path.join(dest,'Wavenet'))\n",
        "    print('New Directory Created')\n",
        "\n",
        "history = simple_wavenet.fit(x_train,y_train,validation_split=0.1,batch_size=BATCH_SIZE,epochs=EPOCHS,callbacks=[checkpoint_simple])\n",
        "\n",
        "plt.plot(history.history['loss'],'r',label='Training Loss')\n",
        "plt.plot(history.history['val_loss'],'b',label='Validation Loss')\n",
        "plt.legend()\n",
        "plt.show()\n",
        "\n",
        "simple_wavenet.load_weights(filepath_simple)\n",
        "preds = simple_wavenet.predict(x_test)\n",
        "\n",
        "preds = preds.reshape(preds.shape[0],preds.shape[1])\n",
        "print(preds.shape)\n",
        "\n",
        "y_test_unscaled = scaler.inverse_transform(y_test)\n",
        "y_pred_unscaled = scaler.inverse_transform(preds)\n",
        "\n",
        "e_mse = mse(y_test_unscaled[:,5],y_pred_unscaled[:,5])\n",
        "print(f'The Mean Squared Error is: {e_mse}')\n",
        "\n",
        "for i in range(y_test.shape[1]):\n",
        "        sheet1.write(0, 0, 'MSE')\n",
        "        sheet1.write(0, 1, 'Hours Ahead')\n",
        "        sheet1.write(i + 1, 0, mse(y_test_unscaled[:,i],y_pred_unscaled[:,i]))\n",
        "        sheet1.write(i + 1, 1, i+1)\n"
      ],
      "execution_count": null,
      "outputs": [
        {
          "output_type": "stream",
          "name": "stdout",
          "text": [
            "Directory present\n",
            "Epoch 1/5\n",
            "896/897 [============================>.] - ETA: 0s - loss: 0.0139 - mae: 0.0785"
          ]
        },
        {
          "output_type": "stream",
          "name": "stderr",
          "text": [
            "/usr/local/lib/python3.7/dist-packages/keras/engine/functional.py:1410: CustomMaskWarning: Custom mask layers require a config and must override get_config. When loading, the custom mask layer must be passed to the custom_objects argument.\n",
            "  layer_config = serialize_layer_fn(layer)\n"
          ]
        },
        {
          "output_type": "stream",
          "name": "stdout",
          "text": [
            "897/897 [==============================] - 28s 27ms/step - loss: 0.0139 - mae: 0.0785 - val_loss: 0.0047 - val_mae: 0.0499\n",
            "Epoch 2/5\n",
            "897/897 [==============================] - 23s 26ms/step - loss: 0.0039 - mae: 0.0475 - val_loss: 0.0036 - val_mae: 0.0449\n",
            "Epoch 3/5\n",
            "897/897 [==============================] - 23s 26ms/step - loss: 0.0027 - mae: 0.0387 - val_loss: 0.0031 - val_mae: 0.0436\n",
            "Epoch 4/5\n",
            "897/897 [==============================] - 24s 26ms/step - loss: 0.0021 - mae: 0.0343 - val_loss: 0.0028 - val_mae: 0.0417\n",
            "Epoch 5/5\n",
            "897/897 [==============================] - 24s 26ms/step - loss: 0.0018 - mae: 0.0314 - val_loss: 0.0025 - val_mae: 0.0389\n"
          ]
        },
        {
          "output_type": "display_data",
          "data": {
            "image/png": "[encoded data removed]",
            "text/plain": [
              "<Figure size 432x288 with 1 Axes>"
            ]
          },
          "metadata": {
            "needs_background": "light"
          }
        },
        {
          "output_type": "stream",
          "name": "stdout",
          "text": [
            "(7957, 6)\n",
            "The Mean Squared Error is: 0.5962189971571923\n"
          ]
        }
      ]
    },
    {
      "cell_type": "code",
      "metadata": {
        "id": "vuKWZ7fpjIYb",
        "colab": {
          "base_uri": "https://localhost:8080/"
        },
        "outputId": "2b1989df-96da-4f6a-a89a-ef5172df2852"
      },
      "source": [
        "## Attention model\n",
        "n_filters = 128\n",
        "filter_width = 2\n",
        "dilation_rates = [2**i for i in range(7)]\n",
        "\n",
        "inputs = Input(shape=(x_train.shape[1],x_train.shape[2]))\n",
        "x=inputs\n",
        "\n",
        "skips = []\n",
        "for dilation_rate in dilation_rates:\n",
        "\n",
        "    x   = Conv1D(64, 1, padding='same')(x) \n",
        "    x_f = Conv1D(filters=n_filters,kernel_size=filter_width,padding='causal',dilation_rate=dilation_rate)(x)\n",
        "    x_g = Conv1D(filters=n_filters,kernel_size=filter_width, padding='causal',dilation_rate=dilation_rate)(x)\n",
        "\n",
        "    z = Multiply()([keras.layers.Activation('tanh')(x_f),keras.layers.Activation('sigmoid')(x_g)])\n",
        "\n",
        "    z = Conv1D(64, 1, padding='same', activation='relu')(z)\n",
        "\n",
        "    x = Add()([x, z])    \n",
        "\n",
        "    skips.append(z)\n",
        "\n",
        "out = Activation('relu')(keras.layers.Add()(skips)) \n",
        "#out = attention(return_sequences=True)(out)\n",
        "out = Conv1D(128, 1, padding='same')(out)\n",
        "out = Activation('relu')(out)\n",
        "out = Dropout(0.4)(out)\n",
        "out = Conv1D(1, 1, padding='same')(out)\n",
        "#out = attention(return_sequences=True)(out)\n",
        "out = Flatten()(out)\n",
        "out = Dense(6)(out)\n",
        "\n",
        "atten_wavenet = keras.Model(inputs, out)\n",
        "\n",
        "atten_wavenet.compile(loss='mse', optimizer=keras.optimizers.Adam(learning_rate=LR), metrics=['mae'])\n",
        "atten_wavenet.summary()"
      ],
      "execution_count": null,
      "outputs": [
        {
          "output_type": "stream",
          "name": "stdout",
          "text": [
            "Model: \"model_3\"\n",
            "__________________________________________________________________________________________________\n",
            " Layer (type)                   Output Shape         Param #     Connected to                     \n",
            "==================================================================================================\n",
            " input_5 (InputLayer)           [(None, 6, 7)]       0           []                               \n",
            "                                                                                                  \n",
            " conv1d_60 (Conv1D)             (None, 6, 64)        512         ['input_5[0][0]']                \n",
            "                                                                                                  \n",
            " conv1d_61 (Conv1D)             (None, 6, 128)       16512       ['conv1d_60[0][0]']              \n",
            "                                                                                                  \n",
            " conv1d_62 (Conv1D)             (None, 6, 128)       16512       ['conv1d_60[0][0]']              \n",
            "                                                                                                  \n",
            " activation_33 (Activation)     (None, 6, 128)       0           ['conv1d_61[0][0]']              \n",
            "                                                                                                  \n",
            " activation_34 (Activation)     (None, 6, 128)       0           ['conv1d_62[0][0]']              \n",
            "                                                                                                  \n",
            " multiply_14 (Multiply)         (None, 6, 128)       0           ['activation_33[0][0]',          \n",
            "                                                                  'activation_34[0][0]']          \n",
            "                                                                                                  \n",
            " conv1d_63 (Conv1D)             (None, 6, 64)        8256        ['multiply_14[0][0]']            \n",
            "                                                                                                  \n",
            " add_16 (Add)                   (None, 6, 64)        0           ['conv1d_60[0][0]',              \n",
            "                                                                  'conv1d_63[0][0]']              \n",
            "                                                                                                  \n",
            " conv1d_64 (Conv1D)             (None, 6, 64)        4160        ['add_16[0][0]']                 \n",
            "                                                                                                  \n",
            " conv1d_65 (Conv1D)             (None, 6, 128)       16512       ['conv1d_64[0][0]']              \n",
            "                                                                                                  \n",
            " conv1d_66 (Conv1D)             (None, 6, 128)       16512       ['conv1d_64[0][0]']              \n",
            "                                                                                                  \n",
            " activation_35 (Activation)     (None, 6, 128)       0           ['conv1d_65[0][0]']              \n",
            "                                                                                                  \n",
            " activation_36 (Activation)     (None, 6, 128)       0           ['conv1d_66[0][0]']              \n",
            "                                                                                                  \n",
            " multiply_15 (Multiply)         (None, 6, 128)       0           ['activation_35[0][0]',          \n",
            "                                                                  'activation_36[0][0]']          \n",
            "                                                                                                  \n",
            " conv1d_67 (Conv1D)             (None, 6, 64)        8256        ['multiply_15[0][0]']            \n",
            "                                                                                                  \n",
            " add_17 (Add)                   (None, 6, 64)        0           ['conv1d_64[0][0]',              \n",
            "                                                                  'conv1d_67[0][0]']              \n",
            "                                                                                                  \n",
            " conv1d_68 (Conv1D)             (None, 6, 64)        4160        ['add_17[0][0]']                 \n",
            "                                                                                                  \n",
            " conv1d_69 (Conv1D)             (None, 6, 128)       16512       ['conv1d_68[0][0]']              \n",
            "                                                                                                  \n",
            " conv1d_70 (Conv1D)             (None, 6, 128)       16512       ['conv1d_68[0][0]']              \n",
            "                                                                                                  \n",
            " activation_37 (Activation)     (None, 6, 128)       0           ['conv1d_69[0][0]']              \n",
            "                                                                                                  \n",
            " activation_38 (Activation)     (None, 6, 128)       0           ['conv1d_70[0][0]']              \n",
            "                                                                                                  \n",
            " multiply_16 (Multiply)         (None, 6, 128)       0           ['activation_37[0][0]',          \n",
            "                                                                  'activation_38[0][0]']          \n",
            "                                                                                                  \n",
            " conv1d_71 (Conv1D)             (None, 6, 64)        8256        ['multiply_16[0][0]']            \n",
            "                                                                                                  \n",
            " add_18 (Add)                   (None, 6, 64)        0           ['conv1d_68[0][0]',              \n",
            "                                                                  'conv1d_71[0][0]']              \n",
            "                                                                                                  \n",
            " conv1d_72 (Conv1D)             (None, 6, 64)        4160        ['add_18[0][0]']                 \n",
            "                                                                                                  \n",
            " conv1d_73 (Conv1D)             (None, 6, 128)       16512       ['conv1d_72[0][0]']              \n",
            "                                                                                                  \n",
            " conv1d_74 (Conv1D)             (None, 6, 128)       16512       ['conv1d_72[0][0]']              \n",
            "                                                                                                  \n",
            " activation_39 (Activation)     (None, 6, 128)       0           ['conv1d_73[0][0]']              \n",
            "                                                                                                  \n",
            " activation_40 (Activation)     (None, 6, 128)       0           ['conv1d_74[0][0]']              \n",
            "                                                                                                  \n",
            " multiply_17 (Multiply)         (None, 6, 128)       0           ['activation_39[0][0]',          \n",
            "                                                                  'activation_40[0][0]']          \n",
            "                                                                                                  \n",
            " conv1d_75 (Conv1D)             (None, 6, 64)        8256        ['multiply_17[0][0]']            \n",
            "                                                                                                  \n",
            " add_19 (Add)                   (None, 6, 64)        0           ['conv1d_72[0][0]',              \n",
            "                                                                  'conv1d_75[0][0]']              \n",
            "                                                                                                  \n",
            " conv1d_76 (Conv1D)             (None, 6, 64)        4160        ['add_19[0][0]']                 \n",
            "                                                                                                  \n",
            " conv1d_77 (Conv1D)             (None, 6, 128)       16512       ['conv1d_76[0][0]']              \n",
            "                                                                                                  \n",
            " conv1d_78 (Conv1D)             (None, 6, 128)       16512       ['conv1d_76[0][0]']              \n",
            "                                                                                                  \n",
            " activation_41 (Activation)     (None, 6, 128)       0           ['conv1d_77[0][0]']              \n",
            "                                                                                                  \n",
            " activation_42 (Activation)     (None, 6, 128)       0           ['conv1d_78[0][0]']              \n",
            "                                                                                                  \n",
            " multiply_18 (Multiply)         (None, 6, 128)       0           ['activation_41[0][0]',          \n",
            "                                                                  'activation_42[0][0]']          \n",
            "                                                                                                  \n",
            " conv1d_79 (Conv1D)             (None, 6, 64)        8256        ['multiply_18[0][0]']            \n",
            "                                                                                                  \n",
            " add_20 (Add)                   (None, 6, 64)        0           ['conv1d_76[0][0]',              \n",
            "                                                                  'conv1d_79[0][0]']              \n",
            "                                                                                                  \n",
            " conv1d_80 (Conv1D)             (None, 6, 64)        4160        ['add_20[0][0]']                 \n",
            "                                                                                                  \n",
            " conv1d_81 (Conv1D)             (None, 6, 128)       16512       ['conv1d_80[0][0]']              \n",
            "                                                                                                  \n",
            " conv1d_82 (Conv1D)             (None, 6, 128)       16512       ['conv1d_80[0][0]']              \n",
            "                                                                                                  \n",
            " activation_43 (Activation)     (None, 6, 128)       0           ['conv1d_81[0][0]']              \n",
            "                                                                                                  \n",
            " activation_44 (Activation)     (None, 6, 128)       0           ['conv1d_82[0][0]']              \n",
            "                                                                                                  \n",
            " multiply_19 (Multiply)         (None, 6, 128)       0           ['activation_43[0][0]',          \n",
            "                                                                  'activation_44[0][0]']          \n",
            "                                                                                                  \n",
            " conv1d_83 (Conv1D)             (None, 6, 64)        8256        ['multiply_19[0][0]']            \n",
            "                                                                                                  \n",
            " add_21 (Add)                   (None, 6, 64)        0           ['conv1d_80[0][0]',              \n",
            "                                                                  'conv1d_83[0][0]']              \n",
            "                                                                                                  \n",
            " conv1d_84 (Conv1D)             (None, 6, 64)        4160        ['add_21[0][0]']                 \n",
            "                                                                                                  \n",
            " conv1d_85 (Conv1D)             (None, 6, 128)       16512       ['conv1d_84[0][0]']              \n",
            "                                                                                                  \n",
            " conv1d_86 (Conv1D)             (None, 6, 128)       16512       ['conv1d_84[0][0]']              \n",
            "                                                                                                  \n",
            " activation_45 (Activation)     (None, 6, 128)       0           ['conv1d_85[0][0]']              \n",
            "                                                                                                  \n",
            " activation_46 (Activation)     (None, 6, 128)       0           ['conv1d_86[0][0]']              \n",
            "                                                                                                  \n",
            " multiply_20 (Multiply)         (None, 6, 128)       0           ['activation_45[0][0]',          \n",
            "                                                                  'activation_46[0][0]']          \n",
            "                                                                                                  \n",
            " conv1d_87 (Conv1D)             (None, 6, 64)        8256        ['multiply_20[0][0]']            \n",
            "                                                                                                  \n",
            " add_23 (Add)                   (None, 6, 64)        0           ['conv1d_63[0][0]',              \n",
            "                                                                  'conv1d_67[0][0]',              \n",
            "                                                                  'conv1d_71[0][0]',              \n",
            "                                                                  'conv1d_75[0][0]',              \n",
            "                                                                  'conv1d_79[0][0]',              \n",
            "                                                                  'conv1d_83[0][0]',              \n",
            "                                                                  'conv1d_87[0][0]']              \n",
            "                                                                                                  \n",
            " activation_47 (Activation)     (None, 6, 64)        0           ['add_23[0][0]']                 \n",
            "                                                                                                  \n",
            " conv1d_88 (Conv1D)             (None, 6, 128)       8320        ['activation_47[0][0]']          \n",
            "                                                                                                  \n",
            " activation_48 (Activation)     (None, 6, 128)       0           ['conv1d_88[0][0]']              \n",
            "                                                                                                  \n",
            " dropout_2 (Dropout)            (None, 6, 128)       0           ['activation_48[0][0]']          \n",
            "                                                                                                  \n",
            " conv1d_89 (Conv1D)             (None, 6, 1)         129         ['dropout_2[0][0]']              \n",
            "                                                                                                  \n",
            " flatten_2 (Flatten)            (None, 6)            0           ['conv1d_89[0][0]']              \n",
            "                                                                                                  \n",
            " dense_3 (Dense)                (None, 6)            42          ['flatten_2[0][0]']              \n",
            "                                                                                                  \n",
            "==================================================================================================\n",
            "Total params: 322,923\n",
            "Trainable params: 322,923\n",
            "Non-trainable params: 0\n",
            "__________________________________________________________________________________________________\n"
          ]
        }
      ]
    },
    {
      "cell_type": "code",
      "metadata": {
        "id": "PYUrGWDEjIYb",
        "colab": {
          "base_uri": "https://localhost:8080/",
          "height": 545
        },
        "outputId": "2f9322bf-db32-4937-ff6c-574eeec0d360"
      },
      "source": [
        "## Saving the result file to the folder of the model\n",
        "try:\n",
        "    os.chdir(os.path.join(dest,'Wavenet'))\n",
        "    print('Directory present')\n",
        "except FileNotFoundError:\n",
        "    print('Creating a new directory......')\n",
        "    os.chdir(os.path.join(dest))\n",
        "    os.mkdir('Wavenet')\n",
        "    os.chdir(os.path.join(dest,'Wavenet'))\n",
        "    print('New Directory Created')\n",
        "\n",
        "history = atten_wavenet.fit(x_train,y_train,validation_split=0.1,batch_size=BATCH_SIZE,epochs=EPOCHS,callbacks=[checkpoint_attention])\n",
        "\n",
        "plt.plot(history.history['loss'],'r',label='Training Loss')\n",
        "plt.plot(history.history['val_loss'],'b',label='Validation Loss')\n",
        "plt.legend()\n",
        "plt.show()\n",
        "\n",
        "atten_wavenet.load_weights(filepath_attention)\n",
        "preds = atten_wavenet.predict(x_test)\n",
        "\n",
        "preds = preds.reshape(preds.shape[0],preds.shape[1])\n",
        "print(preds.shape)\n",
        "\n",
        "y_test_unscaled = scaler.inverse_transform(y_test)\n",
        "y_pred_unscaled = scaler.inverse_transform(preds)\n",
        "\n",
        "e_mse = mse(y_test_unscaled[:,5],y_pred_unscaled[:,5])\n",
        "print(f'The Mean Squared Error is: {e_mse}')\n",
        "\n",
        "for i in range(y_test.shape[1]):\n",
        "        sheet2.write(0, 0, 'MSE')\n",
        "        sheet2.write(0, 1, 'Hours Ahead')\n",
        "        sheet2.write(i + 1, 0, mse(y_test_unscaled[:,i],y_pred_unscaled[:,i]))\n",
        "        sheet2.write(i + 1, 1, i+1)\n",
        "        sheet3.write(0, i, \"Real-test\")\n",
        "        sheet4.write(0, i, \"Predicted_test\")\n",
        "        for j in range(y_test_unscaled.shape[0]):\n",
        "                 sheet3.write(j + 1, i, float(y_test_unscaled[j, i]))\n",
        "        for k in range(y_pred_unscaled.shape[0]):\n",
        "                 sheet4.write(k + 1, i, float(y_pred_unscaled[k, i]))\n",
        "wk.save('Wavenet Results.xls')"
      ],
      "execution_count": null,
      "outputs": [
        {
          "output_type": "stream",
          "name": "stdout",
          "text": [
            "Directory present\n",
            "Epoch 1/5\n",
            "897/897 [==============================] - ETA: 0s - loss: 0.0206 - mae: 0.0944"
          ]
        },
        {
          "output_type": "stream",
          "name": "stderr",
          "text": [
            "/usr/local/lib/python3.7/dist-packages/keras/engine/functional.py:1410: CustomMaskWarning: Custom mask layers require a config and must override get_config. When loading, the custom mask layer must be passed to the custom_objects argument.\n",
            "  layer_config = serialize_layer_fn(layer)\n"
          ]
        },
        {
          "output_type": "stream",
          "name": "stdout",
          "text": [
            "897/897 [==============================] - 26s 25ms/step - loss: 0.0206 - mae: 0.0944 - val_loss: 0.0039 - val_mae: 0.0472\n",
            "Epoch 2/5\n",
            "897/897 [==============================] - 22s 25ms/step - loss: 0.0043 - mae: 0.0501 - val_loss: 0.0027 - val_mae: 0.0384\n",
            "Epoch 3/5\n",
            "897/897 [==============================] - 23s 25ms/step - loss: 0.0028 - mae: 0.0397 - val_loss: 0.0023 - val_mae: 0.0357\n",
            "Epoch 4/5\n",
            "897/897 [==============================] - 22s 24ms/step - loss: 0.0022 - mae: 0.0345 - val_loss: 0.0025 - val_mae: 0.0386\n",
            "Epoch 5/5\n",
            "897/897 [==============================] - 23s 26ms/step - loss: 0.0018 - mae: 0.0315 - val_loss: 0.0021 - val_mae: 0.0332\n"
          ]
        },
        {
          "output_type": "display_data",
          "data": {
            "image/png": "[encoded data removed]",
            "text/plain": [
              "<Figure size 432x288 with 1 Axes>"
            ]
          },
          "metadata": {
            "needs_background": "light"
          }
        },
        {
          "output_type": "stream",
          "name": "stdout",
          "text": [
            "(7957, 6)\n",
            "The Mean Squared Error is: 0.6616414275197446\n"
          ]
        }
      ]
    },
    {
      "cell_type": "code",
      "metadata": {
        "id": "FW_6Ggs4jIYb"
      },
      "source": [
        ""
      ],
      "execution_count": null,
      "outputs": []
    }
  ]
}