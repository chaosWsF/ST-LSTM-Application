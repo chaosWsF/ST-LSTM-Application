{
 "cells": [
  {
   "cell_type": "code",
   "execution_count": 1,
   "metadata": {
    "ExecuteTime": {
     "end_time": "2022-03-09T01:53:31.377881Z",
     "start_time": "2022-03-09T01:53:31.271001Z"
    },
    "colab": {
     "base_uri": "https://localhost:8080/"
    },
    "id": "-G4gTwaE2qX8",
    "outputId": "60d78488-4385-45b0-9f7e-d7e80dfcd22c"
   },
   "outputs": [
    {
     "name": "stdout",
     "output_type": "stream",
     "text": [
      "Tue Mar  8 18:53:31 2022       \n",
      "+-----------------------------------------------------------------------------+\n",
      "| NVIDIA-SMI 511.79       Driver Version: 511.79       CUDA Version: 11.6     |\n",
      "|-------------------------------+----------------------+----------------------+\n",
      "| GPU  Name            TCC/WDDM | Bus-Id        Disp.A | Volatile Uncorr. ECC |\n",
      "| Fan  Temp  Perf  Pwr:Usage/Cap|         Memory-Usage | GPU-Util  Compute M. |\n",
      "|                               |                      |               MIG M. |\n",
      "|===============================+======================+======================|\n",
      "|   0  NVIDIA GeForce ... WDDM  | 00000000:09:00.0  On |                  N/A |\n",
      "|  0%   49C    P8    22W / 175W |   1076MiB /  8192MiB |      1%      Default |\n",
      "|                               |                      |                  N/A |\n",
      "+-------------------------------+----------------------+----------------------+\n",
      "                                                                               \n",
      "+-----------------------------------------------------------------------------+\n",
      "| Processes:                                                                  |\n",
      "|  GPU   GI   CI        PID   Type   Process name                  GPU Memory |\n",
      "|        ID   ID                                                   Usage      |\n",
      "|=============================================================================|\n",
      "|    0   N/A  N/A      4508    C+G   ...4__8wekyb3d8bbwe\\Todo.exe    N/A      |\n",
      "|    0   N/A  N/A      4828    C+G   ...me\\Application\\chrome.exe    N/A      |\n",
      "|    0   N/A  N/A      8956    C+G   ...4__8wekyb3d8bbwe\\Time.exe    N/A      |\n",
      "|    0   N/A  N/A     11292    C+G   ...qaze\\app\\Twinkle Tray.exe    N/A      |\n",
      "|    0   N/A  N/A     11904    C+G   ...ekyb3d8bbwe\\YourPhone.exe    N/A      |\n",
      "|    0   N/A  N/A     12244    C+G   ...5n1h2txyewy\\SearchApp.exe    N/A      |\n",
      "|    0   N/A  N/A     12956    C+G   ...2txyewy\\TextInputHost.exe    N/A      |\n",
      "|    0   N/A  N/A     13452    C+G   ...cw5n1h2txyewy\\LockApp.exe    N/A      |\n",
      "|    0   N/A  N/A     14232    C+G   ...artMenuExperienceHost.exe    N/A      |\n",
      "|    0   N/A  N/A     14392    C+G   ...lPanel\\SystemSettings.exe    N/A      |\n",
      "|    0   N/A  N/A     14424    C+G   C:\\Windows\\explorer.exe         N/A      |\n",
      "|    0   N/A  N/A     16028    C+G   ...erver\\YourPhoneServer.exe    N/A      |\n",
      "|    0   N/A  N/A     16716    C+G   ...y\\ShellExperienceHost.exe    N/A      |\n",
      "|    0   N/A  N/A     16848    C+G   ...bbwe\\Microsoft.Photos.exe    N/A      |\n",
      "|    0   N/A  N/A     17272    C+G                                   N/A      |\n",
      "+-----------------------------------------------------------------------------+\n"
     ]
    }
   ],
   "source": [
    "!nvidia-smi"
   ]
  },
  {
   "cell_type": "code",
   "execution_count": 59,
   "metadata": {
    "colab": {
     "base_uri": "https://localhost:8080/"
    },
    "id": "abTPeeLX2xZv",
    "outputId": "76627260-645d-4bb0-ca2b-f6071413be23"
   },
   "outputs": [
    {
     "name": "stdout",
     "output_type": "stream",
     "text": [
      "Drive already mounted at /content/drive; to attempt to forcibly remount, call drive.mount(\"/content/drive\", force_remount=True).\n"
     ]
    }
   ],
   "source": [
    "from google.colab import drive\n",
    "drive.mount('/content/drive')"
   ]
  },
  {
   "cell_type": "code",
   "execution_count": 60,
   "metadata": {
    "colab": {
     "base_uri": "https://localhost:8080/"
    },
    "id": "6o-fVWVn26Et",
    "outputId": "a43103e1-2ee3-4316-cfe0-3917125cd3fe"
   },
   "outputs": [
    {
     "name": "stdout",
     "output_type": "stream",
     "text": [
      "/content/drive/MyDrive\n"
     ]
    }
   ],
   "source": [
    "cd /content/drive/MyDrive"
   ]
  },
  {
   "cell_type": "markdown",
   "metadata": {
    "id": "6Uk_Uw8hjIYM"
   },
   "source": [
    "# Libraries"
   ]
  },
  {
   "cell_type": "code",
   "execution_count": 2,
   "metadata": {
    "ExecuteTime": {
     "end_time": "2022-03-09T01:53:38.350863Z",
     "start_time": "2022-03-09T01:53:35.063601Z"
    },
    "colab": {
     "base_uri": "https://localhost:8080/"
    },
    "id": "Sl87p9d8jIYQ",
    "outputId": "c943585b-4a8d-48be-834e-c1d36962df50"
   },
   "outputs": [
    {
     "name": "stdout",
     "output_type": "stream",
     "text": [
      "Libraries Loaded\n"
     ]
    }
   ],
   "source": [
    "import pandas as pd\n",
    "import numpy as np\n",
    "import matplotlib.pyplot as plt\n",
    "import os\n",
    "import xlwt \n",
    "from xlwt import Workbook \n",
    "from prettytable import PrettyTable\n",
    "\n",
    "from sklearn.model_selection import train_test_split\n",
    "from sklearn.preprocessing import MinMaxScaler\n",
    "from sklearn.metrics import mean_squared_error as mse\n",
    "\n",
    "import tensorflow as tf\n",
    "physical_devices = tf.config.list_physical_devices('GPU')\n",
    "if physical_devices:\n",
    "    tf.config.experimental.set_memory_growth(physical_devices[0], enable=True)\n",
    "from tensorflow import keras\n",
    "from tensorflow.keras.layers import *\n",
    "import tensorflow.keras.backend as K\n",
    "\n",
    "#Fix for same result\n",
    "from numpy.random import seed\n",
    "seed(1)\n",
    "from tensorflow import random\n",
    "random.set_seed(2) \n",
    "\n",
    "print('Libraries Loaded')"
   ]
  },
  {
   "cell_type": "markdown",
   "metadata": {
    "id": "1Qh022owjIYR"
   },
   "source": [
    "# Utilities"
   ]
  },
  {
   "cell_type": "code",
   "execution_count": 3,
   "metadata": {
    "ExecuteTime": {
     "end_time": "2022-03-09T01:53:41.667997Z",
     "start_time": "2022-03-09T01:53:41.645992Z"
    },
    "id": "FccffK6qjIYS"
   },
   "outputs": [],
   "source": [
    "def read_file(path):\n",
    "    '''\n",
    "    Returns the dataframe which is read from the excel file present in the path specified. \n",
    "    \n",
    "    Parameters:\n",
    "        path (str) : The path of the file\n",
    "    \n",
    "    Returns:\n",
    "        df (float) : The dataframe which is created after reading the file.\n",
    "    '''\n",
    "    df= pd.read_csv(path)\n",
    "    df = df.loc[:, ~df.columns.str.contains('^Unnamed')]\n",
    "    print(df.shape)\n",
    "    print(df.head())\n",
    "    return df\n",
    "\n",
    "def create_dataset(X, y, time_steps, ts_range):\n",
    "    '''\n",
    "    Returns the prepared data based on the lag and look ahead\n",
    "    \n",
    "    Parameters:\n",
    "        X          (float): The independent variables of the data\n",
    "        y          (float): The dependent variables of the data\n",
    "        time_steps (int)  : The lag that is being used to lookback\n",
    "        ts_range   (int)  : The lookahead for the data\n",
    "    \n",
    "    Returns:\n",
    "        Xs (float) : The numpy array of the input variable\n",
    "        ys (float) : The numpy array of the output variable \n",
    "    '''\n",
    "    Xs, ys = [], []\n",
    "    for i in range(len(X) - time_steps - ts_range):\n",
    "        v = X.iloc[i:(i + time_steps)].values\n",
    "        Xs.append(v)\n",
    "        ys.append(y.values[(i + time_steps):(i + time_steps + ts_range),0])\n",
    "    return np.array(Xs), np.array(ys)\n",
    "\n",
    "def splitter(df,output,lag,duration,ts):\n",
    "    '''\n",
    "    Returns the training and testing data\n",
    "    \n",
    "    Parameters:\n",
    "        df (float): The whole dataframe containing the independent and dependent variables\n",
    "        output(str): The output variable \n",
    "        lag (int): The lag that needs to be applied for the data\n",
    "        duration (int): The duration that is being considered as output\n",
    "        ts (float): The percentage of training data\n",
    "    \n",
    "    Returns:\n",
    "        x_train (float): The training data of independent variable \n",
    "        x_test (float): The testing data of independent variable\n",
    "        y_train (float): The training data of the depenedent variable \n",
    "        y_test (float): The testing data of the dependent variable \n",
    "    '''\n",
    "    assert (0. <= ts <= 1.)\n",
    "    train_size = int(len(df) * ts)\n",
    "    test_size = len(df) - train_size\n",
    "    train, test = df.iloc[0:train_size], df[train_size:]\n",
    "    print(train.shape, test.shape)\n",
    "    scaler,scaler_single = MinMaxScaler(feature_range=(0, 1)),MinMaxScaler(feature_range=(0, 1))\n",
    "\n",
    "    scaler.fit(train)\n",
    "    scaler_single.fit(train[output])\n",
    "\n",
    "    train_scaled = pd.DataFrame(scaler.transform(train), columns=[df.columns])\n",
    "    test_scaled = pd.DataFrame(scaler.transform(test), columns=[df.columns])\n",
    "\n",
    "    df_train = train_scaled.copy(deep=True)\n",
    "    df_test = test_scaled.copy(deep=True)\n",
    "\n",
    "    x_train,y_train = create_dataset(df_train,df_train[[output]],lag,duration)\n",
    "    x_test, y_test = create_dataset(df_test, df_test[[output]], lag, duration)\n",
    "\n",
    "    return x_train,x_test,y_train,y_test,scaler_single\n",
    "\n",
    "class attention(keras.layers.Layer):\n",
    "    '''\n",
    "    Attention layer for the neural networks.\n",
    "    \n",
    "    if return_sequences=True, it will give 3D vector and if false it will give 2D vector. It is same as LSTMs.\n",
    "\n",
    "    https://stackoverflow.com/questions/62948332/how-to-add-attention-layer-to-a-bi-lstm/62949137#62949137\n",
    "    the  following code is being inspired from the above link.\n",
    "    '''\n",
    "\n",
    "    def __init__(self, return_sequences=True, **kwargs):\n",
    "        self.return_sequences = return_sequences\n",
    "        super(attention, self).__init__()\n",
    "\n",
    "    def get_config(self):\n",
    "        cfg = super().get_config()\n",
    "        return cfg\n",
    "\n",
    "    def build(self, input_shape):\n",
    "        self.W = self.add_weight(name=\"att_weight\", shape=(input_shape[-1], 1),\n",
    "                                 initializer=\"normal\")\n",
    "        self.b = self.add_weight(name=\"att_bias\", shape=(input_shape[1], 1),\n",
    "                                 initializer=\"zeros\")\n",
    "\n",
    "        super(attention, self).build(input_shape)\n",
    "\n",
    "    def call(self, x):\n",
    "        e = K.tanh(K.dot(x, self.W) + self.b)\n",
    "        a = K.softmax(e, axis=1)\n",
    "        output = x * a\n",
    "\n",
    "        if self.return_sequences:\n",
    "            return output\n",
    "\n",
    "        return K.sum(output, axis=1)"
   ]
  },
  {
   "cell_type": "markdown",
   "metadata": {
    "id": "uYgihphCjIYT"
   },
   "source": [
    "# Data Preparation"
   ]
  },
  {
   "cell_type": "code",
   "execution_count": 4,
   "metadata": {
    "ExecuteTime": {
     "end_time": "2022-03-09T01:53:44.275192Z",
     "start_time": "2022-03-09T01:53:44.183014Z"
    },
    "colab": {
     "base_uri": "https://localhost:8080/"
    },
    "id": "Gcso5nlejIYT",
    "outputId": "6fe79135-f864-4927-b2b4-638ca5a8106f",
    "scrolled": true
   },
   "outputs": [
    {
     "name": "stdout",
     "output_type": "stream",
     "text": [
      "(39845, 8)\n",
      "         Time Hour  Air Temp  Water Temp  Chloride Concentration  \\\n",
      "0  2012/4/19 15:00   20.2150     10.6650                 97.0900   \n",
      "1  2012/4/19 16:00   20.5575     11.4225                 95.8975   \n",
      "2  2012/4/19 17:00   23.3150     12.3825                 93.8325   \n",
      "3  2012/4/19 18:00   23.3275     13.3350                 93.6525   \n",
      "4  2012/4/19 19:00   24.3900     14.0200                 93.8050   \n",
      "\n",
      "   Dissolved Oxygen     pH  Specific Conductivity  Turbidity  \n",
      "0           11.3000  8.500                  740.0      3.500  \n",
      "1           11.4525  8.500                  730.0      2.900  \n",
      "2           11.5250  8.500                  725.0      3.100  \n",
      "3           11.4000  8.575                  720.0      3.500  \n",
      "4           11.2200  8.600                  720.0      3.425  \n",
      "(39845, 9)\n",
      "         Time Hour  Air Temp  Water Temp  Chloride Concentration     pH  \\\n",
      "0  2012/4/19 15:00   13.3700     11.8050                 111.950  8.300   \n",
      "1  2012/4/19 16:00   15.1125     12.6925                 113.500  8.375   \n",
      "2  2012/4/19 17:00   15.2275     13.8375                 116.525  8.400   \n",
      "3  2012/4/19 18:00   17.7450     14.6900                 118.175  8.400   \n",
      "4  2012/4/19 19:00   19.3625     15.7975                 120.775  8.400   \n",
      "\n",
      "   Specific Conductivity  Turbidity  Discharge  Dissolved Oxygen  \n",
      "0                  840.0      2.250        NaN           11.7350  \n",
      "1                  840.0      1.500        NaN           11.7275  \n",
      "2                  840.0      1.650        NaN           11.4825  \n",
      "3                  840.0      1.225        NaN           11.1100  \n",
      "4                  840.0      1.150        NaN           10.9625  \n"
     ]
    }
   ],
   "source": [
    "## Specifying the source path\n",
    "filename_upstream = r'oldderry.csv'\n",
    "filename_downstream = r'MGCC.csv'\n",
    "\n",
    "\n",
    "## Specifying the destination path\n",
    "#dest = r''\n",
    "\n",
    "## Reading the file\n",
    "df_up = read_file(filename_upstream)\n",
    "df_down = read_file(filename_downstream)\n",
    "\n",
    "##Dropping the columns that are not needed such as Discharge, since all the values are NaN\n",
    "df_down.drop(columns=['Discharge'], inplace=True)"
   ]
  },
  {
   "cell_type": "code",
   "execution_count": 5,
   "metadata": {
    "ExecuteTime": {
     "end_time": "2022-03-09T01:53:52.956391Z",
     "start_time": "2022-03-09T01:53:52.941388Z"
    },
    "colab": {
     "base_uri": "https://localhost:8080/",
     "height": 206
    },
    "id": "raRalR4U3bm_",
    "outputId": "1dc03755-7793-4f22-c872-6dd8296e41a9"
   },
   "outputs": [
    {
     "data": {
      "text/html": [
       "<div>\n",
       "<style scoped>\n",
       "    .dataframe tbody tr th:only-of-type {\n",
       "        vertical-align: middle;\n",
       "    }\n",
       "\n",
       "    .dataframe tbody tr th {\n",
       "        vertical-align: top;\n",
       "    }\n",
       "\n",
       "    .dataframe thead th {\n",
       "        text-align: right;\n",
       "    }\n",
       "</style>\n",
       "<table border=\"1\" class=\"dataframe\">\n",
       "  <thead>\n",
       "    <tr style=\"text-align: right;\">\n",
       "      <th></th>\n",
       "      <th>Time Hour</th>\n",
       "      <th>Air Temp</th>\n",
       "      <th>Water Temp</th>\n",
       "      <th>Chloride Concentration</th>\n",
       "      <th>Dissolved Oxygen</th>\n",
       "      <th>pH</th>\n",
       "      <th>Specific Conductivity</th>\n",
       "      <th>Turbidity</th>\n",
       "    </tr>\n",
       "  </thead>\n",
       "  <tbody>\n",
       "    <tr>\n",
       "      <th>0</th>\n",
       "      <td>2012/4/19 15:00</td>\n",
       "      <td>20.2150</td>\n",
       "      <td>10.6650</td>\n",
       "      <td>97.0900</td>\n",
       "      <td>11.3000</td>\n",
       "      <td>8.500</td>\n",
       "      <td>740.0</td>\n",
       "      <td>3.500</td>\n",
       "    </tr>\n",
       "    <tr>\n",
       "      <th>1</th>\n",
       "      <td>2012/4/19 16:00</td>\n",
       "      <td>20.5575</td>\n",
       "      <td>11.4225</td>\n",
       "      <td>95.8975</td>\n",
       "      <td>11.4525</td>\n",
       "      <td>8.500</td>\n",
       "      <td>730.0</td>\n",
       "      <td>2.900</td>\n",
       "    </tr>\n",
       "    <tr>\n",
       "      <th>2</th>\n",
       "      <td>2012/4/19 17:00</td>\n",
       "      <td>23.3150</td>\n",
       "      <td>12.3825</td>\n",
       "      <td>93.8325</td>\n",
       "      <td>11.5250</td>\n",
       "      <td>8.500</td>\n",
       "      <td>725.0</td>\n",
       "      <td>3.100</td>\n",
       "    </tr>\n",
       "    <tr>\n",
       "      <th>3</th>\n",
       "      <td>2012/4/19 18:00</td>\n",
       "      <td>23.3275</td>\n",
       "      <td>13.3350</td>\n",
       "      <td>93.6525</td>\n",
       "      <td>11.4000</td>\n",
       "      <td>8.575</td>\n",
       "      <td>720.0</td>\n",
       "      <td>3.500</td>\n",
       "    </tr>\n",
       "    <tr>\n",
       "      <th>4</th>\n",
       "      <td>2012/4/19 19:00</td>\n",
       "      <td>24.3900</td>\n",
       "      <td>14.0200</td>\n",
       "      <td>93.8050</td>\n",
       "      <td>11.2200</td>\n",
       "      <td>8.600</td>\n",
       "      <td>720.0</td>\n",
       "      <td>3.425</td>\n",
       "    </tr>\n",
       "  </tbody>\n",
       "</table>\n",
       "</div>"
      ],
      "text/plain": [
       "         Time Hour  Air Temp  Water Temp  Chloride Concentration  \\\n",
       "0  2012/4/19 15:00   20.2150     10.6650                 97.0900   \n",
       "1  2012/4/19 16:00   20.5575     11.4225                 95.8975   \n",
       "2  2012/4/19 17:00   23.3150     12.3825                 93.8325   \n",
       "3  2012/4/19 18:00   23.3275     13.3350                 93.6525   \n",
       "4  2012/4/19 19:00   24.3900     14.0200                 93.8050   \n",
       "\n",
       "   Dissolved Oxygen     pH  Specific Conductivity  Turbidity  \n",
       "0           11.3000  8.500                  740.0      3.500  \n",
       "1           11.4525  8.500                  730.0      2.900  \n",
       "2           11.5250  8.500                  725.0      3.100  \n",
       "3           11.4000  8.575                  720.0      3.500  \n",
       "4           11.2200  8.600                  720.0      3.425  "
      ]
     },
     "execution_count": 5,
     "metadata": {},
     "output_type": "execute_result"
    }
   ],
   "source": [
    "df_up.head()"
   ]
  },
  {
   "cell_type": "code",
   "execution_count": 6,
   "metadata": {
    "ExecuteTime": {
     "end_time": "2022-03-09T01:53:54.837306Z",
     "start_time": "2022-03-09T01:53:54.815301Z"
    },
    "colab": {
     "base_uri": "https://localhost:8080/",
     "height": 206
    },
    "id": "bQDIb3pll6OO",
    "outputId": "83e8d58d-1c35-4744-fca8-bf518ea11c83"
   },
   "outputs": [
    {
     "data": {
      "text/html": [
       "<div>\n",
       "<style scoped>\n",
       "    .dataframe tbody tr th:only-of-type {\n",
       "        vertical-align: middle;\n",
       "    }\n",
       "\n",
       "    .dataframe tbody tr th {\n",
       "        vertical-align: top;\n",
       "    }\n",
       "\n",
       "    .dataframe thead th {\n",
       "        text-align: right;\n",
       "    }\n",
       "</style>\n",
       "<table border=\"1\" class=\"dataframe\">\n",
       "  <thead>\n",
       "    <tr style=\"text-align: right;\">\n",
       "      <th></th>\n",
       "      <th>Time Hour</th>\n",
       "      <th>Air Temp</th>\n",
       "      <th>Water Temp</th>\n",
       "      <th>Chloride Concentration</th>\n",
       "      <th>pH</th>\n",
       "      <th>Specific Conductivity</th>\n",
       "      <th>Turbidity</th>\n",
       "      <th>Dissolved Oxygen</th>\n",
       "    </tr>\n",
       "  </thead>\n",
       "  <tbody>\n",
       "    <tr>\n",
       "      <th>0</th>\n",
       "      <td>2012/4/19 15:00</td>\n",
       "      <td>13.3700</td>\n",
       "      <td>11.8050</td>\n",
       "      <td>111.950</td>\n",
       "      <td>8.300</td>\n",
       "      <td>840.0</td>\n",
       "      <td>2.250</td>\n",
       "      <td>11.7350</td>\n",
       "    </tr>\n",
       "    <tr>\n",
       "      <th>1</th>\n",
       "      <td>2012/4/19 16:00</td>\n",
       "      <td>15.1125</td>\n",
       "      <td>12.6925</td>\n",
       "      <td>113.500</td>\n",
       "      <td>8.375</td>\n",
       "      <td>840.0</td>\n",
       "      <td>1.500</td>\n",
       "      <td>11.7275</td>\n",
       "    </tr>\n",
       "    <tr>\n",
       "      <th>2</th>\n",
       "      <td>2012/4/19 17:00</td>\n",
       "      <td>15.2275</td>\n",
       "      <td>13.8375</td>\n",
       "      <td>116.525</td>\n",
       "      <td>8.400</td>\n",
       "      <td>840.0</td>\n",
       "      <td>1.650</td>\n",
       "      <td>11.4825</td>\n",
       "    </tr>\n",
       "    <tr>\n",
       "      <th>3</th>\n",
       "      <td>2012/4/19 18:00</td>\n",
       "      <td>17.7450</td>\n",
       "      <td>14.6900</td>\n",
       "      <td>118.175</td>\n",
       "      <td>8.400</td>\n",
       "      <td>840.0</td>\n",
       "      <td>1.225</td>\n",
       "      <td>11.1100</td>\n",
       "    </tr>\n",
       "    <tr>\n",
       "      <th>4</th>\n",
       "      <td>2012/4/19 19:00</td>\n",
       "      <td>19.3625</td>\n",
       "      <td>15.7975</td>\n",
       "      <td>120.775</td>\n",
       "      <td>8.400</td>\n",
       "      <td>840.0</td>\n",
       "      <td>1.150</td>\n",
       "      <td>10.9625</td>\n",
       "    </tr>\n",
       "  </tbody>\n",
       "</table>\n",
       "</div>"
      ],
      "text/plain": [
       "         Time Hour  Air Temp  Water Temp  Chloride Concentration     pH  \\\n",
       "0  2012/4/19 15:00   13.3700     11.8050                 111.950  8.300   \n",
       "1  2012/4/19 16:00   15.1125     12.6925                 113.500  8.375   \n",
       "2  2012/4/19 17:00   15.2275     13.8375                 116.525  8.400   \n",
       "3  2012/4/19 18:00   17.7450     14.6900                 118.175  8.400   \n",
       "4  2012/4/19 19:00   19.3625     15.7975                 120.775  8.400   \n",
       "\n",
       "   Specific Conductivity  Turbidity  Dissolved Oxygen  \n",
       "0                  840.0      2.250           11.7350  \n",
       "1                  840.0      1.500           11.7275  \n",
       "2                  840.0      1.650           11.4825  \n",
       "3                  840.0      1.225           11.1100  \n",
       "4                  840.0      1.150           10.9625  "
      ]
     },
     "execution_count": 6,
     "metadata": {},
     "output_type": "execute_result"
    }
   ],
   "source": [
    "df_down.head()"
   ]
  },
  {
   "cell_type": "code",
   "execution_count": 7,
   "metadata": {
    "ExecuteTime": {
     "end_time": "2022-03-09T01:53:55.939207Z",
     "start_time": "2022-03-09T01:53:55.887202Z"
    },
    "id": "ZYDRJBNm3bhs"
   },
   "outputs": [],
   "source": [
    "# Splitting the Time Hour column into year,month,date, hour columns\n",
    "year_values = []\n",
    "month_values = []\n",
    "date_values = []\n",
    "time_values = []\n",
    "\n",
    "for i in df_up['Time Hour']:\n",
    "    year, month, date_time = i.split('/')\n",
    "    date, time = date_time.split(' ')\n",
    "    time = time[:-3]\n",
    "    year_values.append(year)\n",
    "    month_values.append(month)\n",
    "    date_values.append(date)\n",
    "    time_values.append(time)"
   ]
  },
  {
   "cell_type": "code",
   "execution_count": 8,
   "metadata": {
    "ExecuteTime": {
     "end_time": "2022-03-09T01:53:56.747926Z",
     "start_time": "2022-03-09T01:53:56.718928Z"
    },
    "colab": {
     "base_uri": "https://localhost:8080/",
     "height": 206
    },
    "id": "drpXdwsi3iey",
    "outputId": "d347c75b-3142-4a30-ad84-d3509b8a1906"
   },
   "outputs": [
    {
     "data": {
      "text/html": [
       "<div>\n",
       "<style scoped>\n",
       "    .dataframe tbody tr th:only-of-type {\n",
       "        vertical-align: middle;\n",
       "    }\n",
       "\n",
       "    .dataframe tbody tr th {\n",
       "        vertical-align: top;\n",
       "    }\n",
       "\n",
       "    .dataframe thead th {\n",
       "        text-align: right;\n",
       "    }\n",
       "</style>\n",
       "<table border=\"1\" class=\"dataframe\">\n",
       "  <thead>\n",
       "    <tr style=\"text-align: right;\">\n",
       "      <th></th>\n",
       "      <th>Air Temp</th>\n",
       "      <th>Water Temp</th>\n",
       "      <th>Chloride Concentration</th>\n",
       "      <th>Dissolved Oxygen</th>\n",
       "      <th>pH</th>\n",
       "      <th>Specific Conductivity</th>\n",
       "      <th>Turbidity</th>\n",
       "      <th>Year</th>\n",
       "      <th>Month</th>\n",
       "      <th>Date</th>\n",
       "      <th>Time</th>\n",
       "    </tr>\n",
       "  </thead>\n",
       "  <tbody>\n",
       "    <tr>\n",
       "      <th>0</th>\n",
       "      <td>20.2150</td>\n",
       "      <td>10.6650</td>\n",
       "      <td>97.0900</td>\n",
       "      <td>11.3000</td>\n",
       "      <td>8.500</td>\n",
       "      <td>740.0</td>\n",
       "      <td>3.500</td>\n",
       "      <td>2012</td>\n",
       "      <td>4</td>\n",
       "      <td>19</td>\n",
       "      <td>15</td>\n",
       "    </tr>\n",
       "    <tr>\n",
       "      <th>1</th>\n",
       "      <td>20.5575</td>\n",
       "      <td>11.4225</td>\n",
       "      <td>95.8975</td>\n",
       "      <td>11.4525</td>\n",
       "      <td>8.500</td>\n",
       "      <td>730.0</td>\n",
       "      <td>2.900</td>\n",
       "      <td>2012</td>\n",
       "      <td>4</td>\n",
       "      <td>19</td>\n",
       "      <td>16</td>\n",
       "    </tr>\n",
       "    <tr>\n",
       "      <th>2</th>\n",
       "      <td>23.3150</td>\n",
       "      <td>12.3825</td>\n",
       "      <td>93.8325</td>\n",
       "      <td>11.5250</td>\n",
       "      <td>8.500</td>\n",
       "      <td>725.0</td>\n",
       "      <td>3.100</td>\n",
       "      <td>2012</td>\n",
       "      <td>4</td>\n",
       "      <td>19</td>\n",
       "      <td>17</td>\n",
       "    </tr>\n",
       "    <tr>\n",
       "      <th>3</th>\n",
       "      <td>23.3275</td>\n",
       "      <td>13.3350</td>\n",
       "      <td>93.6525</td>\n",
       "      <td>11.4000</td>\n",
       "      <td>8.575</td>\n",
       "      <td>720.0</td>\n",
       "      <td>3.500</td>\n",
       "      <td>2012</td>\n",
       "      <td>4</td>\n",
       "      <td>19</td>\n",
       "      <td>18</td>\n",
       "    </tr>\n",
       "    <tr>\n",
       "      <th>4</th>\n",
       "      <td>24.3900</td>\n",
       "      <td>14.0200</td>\n",
       "      <td>93.8050</td>\n",
       "      <td>11.2200</td>\n",
       "      <td>8.600</td>\n",
       "      <td>720.0</td>\n",
       "      <td>3.425</td>\n",
       "      <td>2012</td>\n",
       "      <td>4</td>\n",
       "      <td>19</td>\n",
       "      <td>19</td>\n",
       "    </tr>\n",
       "  </tbody>\n",
       "</table>\n",
       "</div>"
      ],
      "text/plain": [
       "   Air Temp  Water Temp  Chloride Concentration  Dissolved Oxygen     pH  \\\n",
       "0   20.2150     10.6650                 97.0900           11.3000  8.500   \n",
       "1   20.5575     11.4225                 95.8975           11.4525  8.500   \n",
       "2   23.3150     12.3825                 93.8325           11.5250  8.500   \n",
       "3   23.3275     13.3350                 93.6525           11.4000  8.575   \n",
       "4   24.3900     14.0200                 93.8050           11.2200  8.600   \n",
       "\n",
       "   Specific Conductivity  Turbidity  Year Month Date Time  \n",
       "0                  740.0      3.500  2012     4   19   15  \n",
       "1                  730.0      2.900  2012     4   19   16  \n",
       "2                  725.0      3.100  2012     4   19   17  \n",
       "3                  720.0      3.500  2012     4   19   18  \n",
       "4                  720.0      3.425  2012     4   19   19  "
      ]
     },
     "execution_count": 8,
     "metadata": {},
     "output_type": "execute_result"
    }
   ],
   "source": [
    "# adding the new column and dropping the old Time Hour column in df dataFrame\n",
    "df_up['Year'] = year_values\n",
    "df_up['Month'] = month_values\n",
    "df_up['Date'] = date_values\n",
    "df_up['Time'] = time_values\n",
    "# dropping \"Time Hour\" column\n",
    "df_up.drop(columns=['Time Hour'], inplace=True)\n",
    "df_up.head()"
   ]
  },
  {
   "cell_type": "code",
   "execution_count": 9,
   "metadata": {
    "ExecuteTime": {
     "end_time": "2022-03-09T01:53:57.699533Z",
     "start_time": "2022-03-09T01:53:57.671528Z"
    },
    "colab": {
     "base_uri": "https://localhost:8080/",
     "height": 206
    },
    "id": "7u5H-0E4nJfF",
    "outputId": "bc5190a6-9447-4777-b168-29ca34d4ed3b"
   },
   "outputs": [
    {
     "data": {
      "text/html": [
       "<div>\n",
       "<style scoped>\n",
       "    .dataframe tbody tr th:only-of-type {\n",
       "        vertical-align: middle;\n",
       "    }\n",
       "\n",
       "    .dataframe tbody tr th {\n",
       "        vertical-align: top;\n",
       "    }\n",
       "\n",
       "    .dataframe thead th {\n",
       "        text-align: right;\n",
       "    }\n",
       "</style>\n",
       "<table border=\"1\" class=\"dataframe\">\n",
       "  <thead>\n",
       "    <tr style=\"text-align: right;\">\n",
       "      <th></th>\n",
       "      <th>Air Temp</th>\n",
       "      <th>Water Temp</th>\n",
       "      <th>Chloride Concentration</th>\n",
       "      <th>pH</th>\n",
       "      <th>Specific Conductivity</th>\n",
       "      <th>Turbidity</th>\n",
       "      <th>Dissolved Oxygen</th>\n",
       "      <th>Year</th>\n",
       "      <th>Month</th>\n",
       "      <th>Date</th>\n",
       "      <th>Time</th>\n",
       "    </tr>\n",
       "  </thead>\n",
       "  <tbody>\n",
       "    <tr>\n",
       "      <th>0</th>\n",
       "      <td>13.3700</td>\n",
       "      <td>11.8050</td>\n",
       "      <td>111.950</td>\n",
       "      <td>8.300</td>\n",
       "      <td>840.0</td>\n",
       "      <td>2.250</td>\n",
       "      <td>11.7350</td>\n",
       "      <td>2012</td>\n",
       "      <td>4</td>\n",
       "      <td>19</td>\n",
       "      <td>15</td>\n",
       "    </tr>\n",
       "    <tr>\n",
       "      <th>1</th>\n",
       "      <td>15.1125</td>\n",
       "      <td>12.6925</td>\n",
       "      <td>113.500</td>\n",
       "      <td>8.375</td>\n",
       "      <td>840.0</td>\n",
       "      <td>1.500</td>\n",
       "      <td>11.7275</td>\n",
       "      <td>2012</td>\n",
       "      <td>4</td>\n",
       "      <td>19</td>\n",
       "      <td>16</td>\n",
       "    </tr>\n",
       "    <tr>\n",
       "      <th>2</th>\n",
       "      <td>15.2275</td>\n",
       "      <td>13.8375</td>\n",
       "      <td>116.525</td>\n",
       "      <td>8.400</td>\n",
       "      <td>840.0</td>\n",
       "      <td>1.650</td>\n",
       "      <td>11.4825</td>\n",
       "      <td>2012</td>\n",
       "      <td>4</td>\n",
       "      <td>19</td>\n",
       "      <td>17</td>\n",
       "    </tr>\n",
       "    <tr>\n",
       "      <th>3</th>\n",
       "      <td>17.7450</td>\n",
       "      <td>14.6900</td>\n",
       "      <td>118.175</td>\n",
       "      <td>8.400</td>\n",
       "      <td>840.0</td>\n",
       "      <td>1.225</td>\n",
       "      <td>11.1100</td>\n",
       "      <td>2012</td>\n",
       "      <td>4</td>\n",
       "      <td>19</td>\n",
       "      <td>18</td>\n",
       "    </tr>\n",
       "    <tr>\n",
       "      <th>4</th>\n",
       "      <td>19.3625</td>\n",
       "      <td>15.7975</td>\n",
       "      <td>120.775</td>\n",
       "      <td>8.400</td>\n",
       "      <td>840.0</td>\n",
       "      <td>1.150</td>\n",
       "      <td>10.9625</td>\n",
       "      <td>2012</td>\n",
       "      <td>4</td>\n",
       "      <td>19</td>\n",
       "      <td>19</td>\n",
       "    </tr>\n",
       "  </tbody>\n",
       "</table>\n",
       "</div>"
      ],
      "text/plain": [
       "   Air Temp  Water Temp  Chloride Concentration     pH  Specific Conductivity  \\\n",
       "0   13.3700     11.8050                 111.950  8.300                  840.0   \n",
       "1   15.1125     12.6925                 113.500  8.375                  840.0   \n",
       "2   15.2275     13.8375                 116.525  8.400                  840.0   \n",
       "3   17.7450     14.6900                 118.175  8.400                  840.0   \n",
       "4   19.3625     15.7975                 120.775  8.400                  840.0   \n",
       "\n",
       "   Turbidity  Dissolved Oxygen  Year Month Date Time  \n",
       "0      2.250           11.7350  2012     4   19   15  \n",
       "1      1.500           11.7275  2012     4   19   16  \n",
       "2      1.650           11.4825  2012     4   19   17  \n",
       "3      1.225           11.1100  2012     4   19   18  \n",
       "4      1.150           10.9625  2012     4   19   19  "
      ]
     },
     "execution_count": 9,
     "metadata": {},
     "output_type": "execute_result"
    }
   ],
   "source": [
    "# adding the new column and dropping the old Time Hour column in df dataFrame\n",
    "df_down['Year'] = year_values\n",
    "df_down['Month'] = month_values\n",
    "df_down['Date'] = date_values\n",
    "df_down['Time'] = time_values\n",
    "# dropping \"Time Hour\" column\n",
    "df_down.drop(columns=['Time Hour'], inplace=True)\n",
    "df_down.head()"
   ]
  },
  {
   "cell_type": "code",
   "execution_count": 10,
   "metadata": {
    "ExecuteTime": {
     "end_time": "2022-03-09T01:53:59.601001Z",
     "start_time": "2022-03-09T01:53:59.590000Z"
    },
    "id": "LhIjVWsbpIaU"
   },
   "outputs": [],
   "source": [
    "df_up.rename(columns={\"Air Temp\": \"Air_Temp_Up\", \"Water Temp\": \"Water_Temp_Up\", \"Chloride Concentration\": \"Chloride_Up\", \"pH\": \"pH_Up\", \"Specific Conductivity\": \"Cond_Up\", \"Turbidity\": \"Turbidity_Up\", \"Dissolved Oxygen\": \"DO_Up\",}, inplace=True)"
   ]
  },
  {
   "cell_type": "code",
   "execution_count": 11,
   "metadata": {
    "ExecuteTime": {
     "end_time": "2022-03-09T01:54:00.721280Z",
     "start_time": "2022-03-09T01:54:00.710278Z"
    },
    "id": "1xcajEg1qLad"
   },
   "outputs": [],
   "source": [
    "df_down.rename(columns={\"Air Temp\": \"Air_Temp_Dn\", \"Water Temp\": \"Water_Temp_Dn\", \"Chloride Concentration\": \"Chloride_Dn\", \"pH\": \"pH_Dn\", \"Specific Conductivity\": \"Cond_Dn\", \"Turbidity\": \"Turbidity_Dn\", \"Dissolved Oxygen\": \"DO_Dn\",}, inplace=True)"
   ]
  },
  {
   "cell_type": "code",
   "execution_count": 12,
   "metadata": {
    "ExecuteTime": {
     "end_time": "2022-03-09T01:54:01.504702Z",
     "start_time": "2022-03-09T01:54:01.479696Z"
    },
    "colab": {
     "base_uri": "https://localhost:8080/",
     "height": 206
    },
    "id": "g9j11JMirUoz",
    "outputId": "bf8bd71d-3ba9-4ccf-c555-866b6a4a8c38"
   },
   "outputs": [
    {
     "data": {
      "text/html": [
       "<div>\n",
       "<style scoped>\n",
       "    .dataframe tbody tr th:only-of-type {\n",
       "        vertical-align: middle;\n",
       "    }\n",
       "\n",
       "    .dataframe tbody tr th {\n",
       "        vertical-align: top;\n",
       "    }\n",
       "\n",
       "    .dataframe thead th {\n",
       "        text-align: right;\n",
       "    }\n",
       "</style>\n",
       "<table border=\"1\" class=\"dataframe\">\n",
       "  <thead>\n",
       "    <tr style=\"text-align: right;\">\n",
       "      <th></th>\n",
       "      <th>Air_Temp_Up</th>\n",
       "      <th>Water_Temp_Up</th>\n",
       "      <th>Chloride_Up</th>\n",
       "      <th>DO_Up</th>\n",
       "      <th>pH_Up</th>\n",
       "      <th>Cond_Up</th>\n",
       "      <th>Turbidity_Up</th>\n",
       "      <th>Year</th>\n",
       "      <th>Month</th>\n",
       "      <th>Date</th>\n",
       "      <th>Time</th>\n",
       "    </tr>\n",
       "  </thead>\n",
       "  <tbody>\n",
       "    <tr>\n",
       "      <th>0</th>\n",
       "      <td>20.2150</td>\n",
       "      <td>10.6650</td>\n",
       "      <td>97.0900</td>\n",
       "      <td>11.3000</td>\n",
       "      <td>8.500</td>\n",
       "      <td>740.0</td>\n",
       "      <td>3.500</td>\n",
       "      <td>2012</td>\n",
       "      <td>4</td>\n",
       "      <td>19</td>\n",
       "      <td>15</td>\n",
       "    </tr>\n",
       "    <tr>\n",
       "      <th>1</th>\n",
       "      <td>20.5575</td>\n",
       "      <td>11.4225</td>\n",
       "      <td>95.8975</td>\n",
       "      <td>11.4525</td>\n",
       "      <td>8.500</td>\n",
       "      <td>730.0</td>\n",
       "      <td>2.900</td>\n",
       "      <td>2012</td>\n",
       "      <td>4</td>\n",
       "      <td>19</td>\n",
       "      <td>16</td>\n",
       "    </tr>\n",
       "    <tr>\n",
       "      <th>2</th>\n",
       "      <td>23.3150</td>\n",
       "      <td>12.3825</td>\n",
       "      <td>93.8325</td>\n",
       "      <td>11.5250</td>\n",
       "      <td>8.500</td>\n",
       "      <td>725.0</td>\n",
       "      <td>3.100</td>\n",
       "      <td>2012</td>\n",
       "      <td>4</td>\n",
       "      <td>19</td>\n",
       "      <td>17</td>\n",
       "    </tr>\n",
       "    <tr>\n",
       "      <th>3</th>\n",
       "      <td>23.3275</td>\n",
       "      <td>13.3350</td>\n",
       "      <td>93.6525</td>\n",
       "      <td>11.4000</td>\n",
       "      <td>8.575</td>\n",
       "      <td>720.0</td>\n",
       "      <td>3.500</td>\n",
       "      <td>2012</td>\n",
       "      <td>4</td>\n",
       "      <td>19</td>\n",
       "      <td>18</td>\n",
       "    </tr>\n",
       "    <tr>\n",
       "      <th>4</th>\n",
       "      <td>24.3900</td>\n",
       "      <td>14.0200</td>\n",
       "      <td>93.8050</td>\n",
       "      <td>11.2200</td>\n",
       "      <td>8.600</td>\n",
       "      <td>720.0</td>\n",
       "      <td>3.425</td>\n",
       "      <td>2012</td>\n",
       "      <td>4</td>\n",
       "      <td>19</td>\n",
       "      <td>19</td>\n",
       "    </tr>\n",
       "  </tbody>\n",
       "</table>\n",
       "</div>"
      ],
      "text/plain": [
       "   Air_Temp_Up  Water_Temp_Up  Chloride_Up    DO_Up  pH_Up  Cond_Up  \\\n",
       "0      20.2150        10.6650      97.0900  11.3000  8.500    740.0   \n",
       "1      20.5575        11.4225      95.8975  11.4525  8.500    730.0   \n",
       "2      23.3150        12.3825      93.8325  11.5250  8.500    725.0   \n",
       "3      23.3275        13.3350      93.6525  11.4000  8.575    720.0   \n",
       "4      24.3900        14.0200      93.8050  11.2200  8.600    720.0   \n",
       "\n",
       "   Turbidity_Up  Year Month Date Time  \n",
       "0         3.500  2012     4   19   15  \n",
       "1         2.900  2012     4   19   16  \n",
       "2         3.100  2012     4   19   17  \n",
       "3         3.500  2012     4   19   18  \n",
       "4         3.425  2012     4   19   19  "
      ]
     },
     "execution_count": 12,
     "metadata": {},
     "output_type": "execute_result"
    }
   ],
   "source": [
    "df_up.head()"
   ]
  },
  {
   "cell_type": "code",
   "execution_count": 13,
   "metadata": {
    "ExecuteTime": {
     "end_time": "2022-03-09T01:54:02.672019Z",
     "start_time": "2022-03-09T01:54:02.647013Z"
    },
    "colab": {
     "base_uri": "https://localhost:8080/",
     "height": 206
    },
    "id": "6eaRVsu0pgRN",
    "outputId": "cb2c52ab-fbeb-4b7e-9cb9-dc30878a154a"
   },
   "outputs": [
    {
     "data": {
      "text/html": [
       "<div>\n",
       "<style scoped>\n",
       "    .dataframe tbody tr th:only-of-type {\n",
       "        vertical-align: middle;\n",
       "    }\n",
       "\n",
       "    .dataframe tbody tr th {\n",
       "        vertical-align: top;\n",
       "    }\n",
       "\n",
       "    .dataframe thead th {\n",
       "        text-align: right;\n",
       "    }\n",
       "</style>\n",
       "<table border=\"1\" class=\"dataframe\">\n",
       "  <thead>\n",
       "    <tr style=\"text-align: right;\">\n",
       "      <th></th>\n",
       "      <th>Air_Temp_Dn</th>\n",
       "      <th>Water_Temp_Dn</th>\n",
       "      <th>Chloride_Dn</th>\n",
       "      <th>pH_Dn</th>\n",
       "      <th>Cond_Dn</th>\n",
       "      <th>Turbidity_Dn</th>\n",
       "      <th>DO_Dn</th>\n",
       "      <th>Year</th>\n",
       "      <th>Month</th>\n",
       "      <th>Date</th>\n",
       "      <th>Time</th>\n",
       "    </tr>\n",
       "  </thead>\n",
       "  <tbody>\n",
       "    <tr>\n",
       "      <th>0</th>\n",
       "      <td>13.3700</td>\n",
       "      <td>11.8050</td>\n",
       "      <td>111.950</td>\n",
       "      <td>8.300</td>\n",
       "      <td>840.0</td>\n",
       "      <td>2.250</td>\n",
       "      <td>11.7350</td>\n",
       "      <td>2012</td>\n",
       "      <td>4</td>\n",
       "      <td>19</td>\n",
       "      <td>15</td>\n",
       "    </tr>\n",
       "    <tr>\n",
       "      <th>1</th>\n",
       "      <td>15.1125</td>\n",
       "      <td>12.6925</td>\n",
       "      <td>113.500</td>\n",
       "      <td>8.375</td>\n",
       "      <td>840.0</td>\n",
       "      <td>1.500</td>\n",
       "      <td>11.7275</td>\n",
       "      <td>2012</td>\n",
       "      <td>4</td>\n",
       "      <td>19</td>\n",
       "      <td>16</td>\n",
       "    </tr>\n",
       "    <tr>\n",
       "      <th>2</th>\n",
       "      <td>15.2275</td>\n",
       "      <td>13.8375</td>\n",
       "      <td>116.525</td>\n",
       "      <td>8.400</td>\n",
       "      <td>840.0</td>\n",
       "      <td>1.650</td>\n",
       "      <td>11.4825</td>\n",
       "      <td>2012</td>\n",
       "      <td>4</td>\n",
       "      <td>19</td>\n",
       "      <td>17</td>\n",
       "    </tr>\n",
       "    <tr>\n",
       "      <th>3</th>\n",
       "      <td>17.7450</td>\n",
       "      <td>14.6900</td>\n",
       "      <td>118.175</td>\n",
       "      <td>8.400</td>\n",
       "      <td>840.0</td>\n",
       "      <td>1.225</td>\n",
       "      <td>11.1100</td>\n",
       "      <td>2012</td>\n",
       "      <td>4</td>\n",
       "      <td>19</td>\n",
       "      <td>18</td>\n",
       "    </tr>\n",
       "    <tr>\n",
       "      <th>4</th>\n",
       "      <td>19.3625</td>\n",
       "      <td>15.7975</td>\n",
       "      <td>120.775</td>\n",
       "      <td>8.400</td>\n",
       "      <td>840.0</td>\n",
       "      <td>1.150</td>\n",
       "      <td>10.9625</td>\n",
       "      <td>2012</td>\n",
       "      <td>4</td>\n",
       "      <td>19</td>\n",
       "      <td>19</td>\n",
       "    </tr>\n",
       "  </tbody>\n",
       "</table>\n",
       "</div>"
      ],
      "text/plain": [
       "   Air_Temp_Dn  Water_Temp_Dn  Chloride_Dn  pH_Dn  Cond_Dn  Turbidity_Dn  \\\n",
       "0      13.3700        11.8050      111.950  8.300    840.0         2.250   \n",
       "1      15.1125        12.6925      113.500  8.375    840.0         1.500   \n",
       "2      15.2275        13.8375      116.525  8.400    840.0         1.650   \n",
       "3      17.7450        14.6900      118.175  8.400    840.0         1.225   \n",
       "4      19.3625        15.7975      120.775  8.400    840.0         1.150   \n",
       "\n",
       "     DO_Dn  Year Month Date Time  \n",
       "0  11.7350  2012     4   19   15  \n",
       "1  11.7275  2012     4   19   16  \n",
       "2  11.4825  2012     4   19   17  \n",
       "3  11.1100  2012     4   19   18  \n",
       "4  10.9625  2012     4   19   19  "
      ]
     },
     "execution_count": 13,
     "metadata": {},
     "output_type": "execute_result"
    }
   ],
   "source": [
    "df_down.head()"
   ]
  },
  {
   "cell_type": "code",
   "execution_count": 14,
   "metadata": {
    "ExecuteTime": {
     "end_time": "2022-03-09T01:54:03.649016Z",
     "start_time": "2022-03-09T01:54:03.631021Z"
    },
    "id": "r87oHqgSrEZE"
   },
   "outputs": [],
   "source": [
    "# change this feature combination list to do different combination of feature testing\n",
    "# we add both upstream and downstream data to increase feature data\n",
    "feature_combination_up = ['Air_Temp_Up', 'Water_Temp_Up', 'Chloride_Up','pH_Up','Cond_Up','Turbidity_Up', 'DO_Up']\n",
    "feature_combination_down = ['Air_Temp_Dn', 'Water_Temp_Dn', 'Chloride_Dn','pH_Dn','Cond_Dn','Turbidity_Dn']\n",
    "target_column = ['DO_Dn']"
   ]
  },
  {
   "cell_type": "code",
   "execution_count": 15,
   "metadata": {
    "ExecuteTime": {
     "end_time": "2022-03-09T01:54:04.948475Z",
     "start_time": "2022-03-09T01:54:04.927566Z"
    },
    "id": "Pao-SNl5sGFk"
   },
   "outputs": [],
   "source": [
    "df_total_set = pd.concat([df_up[feature_combination_up], df_down[feature_combination_down], df_down[target_column]], axis=1)"
   ]
  },
  {
   "cell_type": "code",
   "execution_count": 16,
   "metadata": {
    "ExecuteTime": {
     "end_time": "2022-03-09T01:54:05.862820Z",
     "start_time": "2022-03-09T01:54:05.839815Z"
    },
    "colab": {
     "base_uri": "https://localhost:8080/",
     "height": 206
    },
    "id": "YapQVW6yu0Rz",
    "outputId": "7185d8c5-a7f1-4bc0-9a00-c58a90711ae6"
   },
   "outputs": [
    {
     "data": {
      "text/html": [
       "<div>\n",
       "<style scoped>\n",
       "    .dataframe tbody tr th:only-of-type {\n",
       "        vertical-align: middle;\n",
       "    }\n",
       "\n",
       "    .dataframe tbody tr th {\n",
       "        vertical-align: top;\n",
       "    }\n",
       "\n",
       "    .dataframe thead th {\n",
       "        text-align: right;\n",
       "    }\n",
       "</style>\n",
       "<table border=\"1\" class=\"dataframe\">\n",
       "  <thead>\n",
       "    <tr style=\"text-align: right;\">\n",
       "      <th></th>\n",
       "      <th>Air_Temp_Up</th>\n",
       "      <th>Water_Temp_Up</th>\n",
       "      <th>Chloride_Up</th>\n",
       "      <th>pH_Up</th>\n",
       "      <th>Cond_Up</th>\n",
       "      <th>Turbidity_Up</th>\n",
       "      <th>DO_Up</th>\n",
       "      <th>Air_Temp_Dn</th>\n",
       "      <th>Water_Temp_Dn</th>\n",
       "      <th>Chloride_Dn</th>\n",
       "      <th>pH_Dn</th>\n",
       "      <th>Cond_Dn</th>\n",
       "      <th>Turbidity_Dn</th>\n",
       "      <th>DO_Dn</th>\n",
       "    </tr>\n",
       "  </thead>\n",
       "  <tbody>\n",
       "    <tr>\n",
       "      <th>0</th>\n",
       "      <td>20.2150</td>\n",
       "      <td>10.6650</td>\n",
       "      <td>97.0900</td>\n",
       "      <td>8.500</td>\n",
       "      <td>740.0</td>\n",
       "      <td>3.500</td>\n",
       "      <td>11.3000</td>\n",
       "      <td>13.3700</td>\n",
       "      <td>11.8050</td>\n",
       "      <td>111.950</td>\n",
       "      <td>8.300</td>\n",
       "      <td>840.0</td>\n",
       "      <td>2.250</td>\n",
       "      <td>11.7350</td>\n",
       "    </tr>\n",
       "    <tr>\n",
       "      <th>1</th>\n",
       "      <td>20.5575</td>\n",
       "      <td>11.4225</td>\n",
       "      <td>95.8975</td>\n",
       "      <td>8.500</td>\n",
       "      <td>730.0</td>\n",
       "      <td>2.900</td>\n",
       "      <td>11.4525</td>\n",
       "      <td>15.1125</td>\n",
       "      <td>12.6925</td>\n",
       "      <td>113.500</td>\n",
       "      <td>8.375</td>\n",
       "      <td>840.0</td>\n",
       "      <td>1.500</td>\n",
       "      <td>11.7275</td>\n",
       "    </tr>\n",
       "    <tr>\n",
       "      <th>2</th>\n",
       "      <td>23.3150</td>\n",
       "      <td>12.3825</td>\n",
       "      <td>93.8325</td>\n",
       "      <td>8.500</td>\n",
       "      <td>725.0</td>\n",
       "      <td>3.100</td>\n",
       "      <td>11.5250</td>\n",
       "      <td>15.2275</td>\n",
       "      <td>13.8375</td>\n",
       "      <td>116.525</td>\n",
       "      <td>8.400</td>\n",
       "      <td>840.0</td>\n",
       "      <td>1.650</td>\n",
       "      <td>11.4825</td>\n",
       "    </tr>\n",
       "    <tr>\n",
       "      <th>3</th>\n",
       "      <td>23.3275</td>\n",
       "      <td>13.3350</td>\n",
       "      <td>93.6525</td>\n",
       "      <td>8.575</td>\n",
       "      <td>720.0</td>\n",
       "      <td>3.500</td>\n",
       "      <td>11.4000</td>\n",
       "      <td>17.7450</td>\n",
       "      <td>14.6900</td>\n",
       "      <td>118.175</td>\n",
       "      <td>8.400</td>\n",
       "      <td>840.0</td>\n",
       "      <td>1.225</td>\n",
       "      <td>11.1100</td>\n",
       "    </tr>\n",
       "    <tr>\n",
       "      <th>4</th>\n",
       "      <td>24.3900</td>\n",
       "      <td>14.0200</td>\n",
       "      <td>93.8050</td>\n",
       "      <td>8.600</td>\n",
       "      <td>720.0</td>\n",
       "      <td>3.425</td>\n",
       "      <td>11.2200</td>\n",
       "      <td>19.3625</td>\n",
       "      <td>15.7975</td>\n",
       "      <td>120.775</td>\n",
       "      <td>8.400</td>\n",
       "      <td>840.0</td>\n",
       "      <td>1.150</td>\n",
       "      <td>10.9625</td>\n",
       "    </tr>\n",
       "  </tbody>\n",
       "</table>\n",
       "</div>"
      ],
      "text/plain": [
       "   Air_Temp_Up  Water_Temp_Up  Chloride_Up  pH_Up  Cond_Up  Turbidity_Up  \\\n",
       "0      20.2150        10.6650      97.0900  8.500    740.0         3.500   \n",
       "1      20.5575        11.4225      95.8975  8.500    730.0         2.900   \n",
       "2      23.3150        12.3825      93.8325  8.500    725.0         3.100   \n",
       "3      23.3275        13.3350      93.6525  8.575    720.0         3.500   \n",
       "4      24.3900        14.0200      93.8050  8.600    720.0         3.425   \n",
       "\n",
       "     DO_Up  Air_Temp_Dn  Water_Temp_Dn  Chloride_Dn  pH_Dn  Cond_Dn  \\\n",
       "0  11.3000      13.3700        11.8050      111.950  8.300    840.0   \n",
       "1  11.4525      15.1125        12.6925      113.500  8.375    840.0   \n",
       "2  11.5250      15.2275        13.8375      116.525  8.400    840.0   \n",
       "3  11.4000      17.7450        14.6900      118.175  8.400    840.0   \n",
       "4  11.2200      19.3625        15.7975      120.775  8.400    840.0   \n",
       "\n",
       "   Turbidity_Dn    DO_Dn  \n",
       "0         2.250  11.7350  \n",
       "1         1.500  11.7275  \n",
       "2         1.650  11.4825  \n",
       "3         1.225  11.1100  \n",
       "4         1.150  10.9625  "
      ]
     },
     "execution_count": 16,
     "metadata": {},
     "output_type": "execute_result"
    }
   ],
   "source": [
    "df_total_set.head()"
   ]
  },
  {
   "cell_type": "code",
   "execution_count": 17,
   "metadata": {
    "ExecuteTime": {
     "end_time": "2022-03-09T01:54:07.372500Z",
     "start_time": "2022-03-09T01:54:07.358497Z"
    },
    "id": "xQyoAJYC3kvX"
   },
   "outputs": [],
   "source": [
    "\n",
    "# Change the lag,duration variable values according to experiment value taken\n",
    "# EPOCHS = 5 (taken for demonstration of code working, later we can change it 200 or higher epochs)\n",
    "\n",
    "lag = 6\n",
    "duration = 6\n",
    "EPOCHS = 30\n",
    "BATCH_SIZE = 32\n",
    "LR = 1E-3\n",
    "\n",
    "train_size = 0.8\n"
   ]
  },
  {
   "cell_type": "code",
   "execution_count": 18,
   "metadata": {
    "ExecuteTime": {
     "end_time": "2022-03-09T01:54:09.732800Z",
     "start_time": "2022-03-09T01:54:08.551023Z"
    },
    "colab": {
     "base_uri": "https://localhost:8080/"
    },
    "id": "HyzvzeUVjIYU",
    "outputId": "31ab8f19-4c96-4269-8afb-5924121921b2"
   },
   "outputs": [
    {
     "name": "stdout",
     "output_type": "stream",
     "text": [
      "(31876, 14) (7969, 14)\n",
      "The shape of x_train is (31864, 6, 14) and x_test is (7957, 6, 14)\n",
      "The shape of y_train is (31864, 6) and y_test is (7957, 6)\n"
     ]
    }
   ],
   "source": [
    "## Creating the training and testing data\n",
    "x_train,x_test,y_train,y_test,scaler = splitter(df_total_set,target_column,6,6,0.8)\n",
    "print(f'The shape of x_train is {x_train.shape} and x_test is {x_test.shape}')\n",
    "print(f'The shape of y_train is {y_train.shape} and y_test is {y_test.shape}')"
   ]
  },
  {
   "cell_type": "markdown",
   "metadata": {
    "id": "b9cAVaxljIYU"
   },
   "source": [
    "# Models"
   ]
  },
  {
   "cell_type": "markdown",
   "metadata": {
    "id": "fRNWbz6LjIYV"
   },
   "source": [
    "## LSTM Model"
   ]
  },
  {
   "cell_type": "code",
   "execution_count": 19,
   "metadata": {
    "ExecuteTime": {
     "end_time": "2022-03-09T01:54:15.012055Z",
     "start_time": "2022-03-09T01:54:14.999051Z"
    },
    "id": "jfaE4PgRjIYV"
   },
   "outputs": [],
   "source": [
    "## Creating the prelimaries \n",
    "\n",
    "filepath_simple = 'simple_lstm.hdf5'\n",
    "filepath_attention = 'attention_lstm.hdf5'\n",
    "\n",
    "checkpoint_simple = keras.callbacks.ModelCheckpoint(filepath_simple,monitor='val_loss',save_best_only=True)\n",
    "checkpoint_attention = keras.callbacks.ModelCheckpoint(filepath_attention, monitor='val_loss',save_best_only=True)\n",
    "\n",
    "wk=Workbook()\n",
    "sheet1 = wk.add_sheet('Simple', cell_overwrite_ok=True)\n",
    "sheet2 = wk.add_sheet('Attention', cell_overwrite_ok=True)\n",
    "sheet3 = wk.add_sheet('Real-test', cell_overwrite_ok=True)\n",
    "sheet4 = wk.add_sheet('Predicted-test', cell_overwrite_ok=True)"
   ]
  },
  {
   "cell_type": "code",
   "execution_count": 21,
   "metadata": {
    "ExecuteTime": {
     "end_time": "2022-03-09T01:55:13.934562Z",
     "start_time": "2022-03-09T01:55:13.357176Z"
    },
    "id": "Ly1g6GpLjIYV"
   },
   "outputs": [],
   "source": [
    "## Simple LSTM\n",
    "K.clear_session()\n",
    "simple_lstm = keras.Sequential()\n",
    "# Problem downgrade numpy==1.19.5 for next command\n",
    "simple_lstm.add(keras.layers.LSTM(64, return_sequences=True, input_shape=(x_train.shape[1], x_train.shape[2])))\n",
    "simple_lstm.add(keras.layers.LSTM(64, return_sequences=True))\n",
    "simple_lstm.add(keras.layers.Dropout(0.3))\n",
    "simple_lstm.add(keras.layers.LSTM(64, return_sequences=True))\n",
    "simple_lstm.add(keras.layers.LSTM(64, return_sequences=True))\n",
    "simple_lstm.add(keras.layers.Flatten())\n",
    "simple_lstm.add(keras.layers.Dense(512, activation='relu'))\n",
    "simple_lstm.add(keras.layers.Dense(128, activation='relu'))\n",
    "simple_lstm.add(keras.layers.Dense(64, activation='relu'))\n",
    "simple_lstm.add(keras.layers.Dropout(0.3))\n",
    "simple_lstm.add(keras.layers.Dense(32))\n",
    "simple_lstm.add(keras.layers.Dense(6))\n",
    "\n",
    "simple_lstm.compile(loss='mse', optimizer=keras.optimizers.Adam(learning_rate=LR), metrics=['mae'])"
   ]
  },
  {
   "cell_type": "code",
   "execution_count": 22,
   "metadata": {
    "ExecuteTime": {
     "end_time": "2022-03-09T01:59:18.186515Z",
     "start_time": "2022-03-09T01:55:20.448118Z"
    },
    "colab": {
     "base_uri": "https://localhost:8080/",
     "height": 1000
    },
    "id": "_GuDIdywjIYW",
    "outputId": "2cc69531-72ef-40dc-fb64-5a854032df2f",
    "scrolled": true
   },
   "outputs": [
    {
     "name": "stdout",
     "output_type": "stream",
     "text": [
      "Creating a new directory......\n",
      "New Directory Created\n",
      "Epoch 1/30\n",
      "897/897 [==============================] - 14s 9ms/step - loss: 0.0096 - mae: 0.0686 - val_loss: 0.0052 - val_mae: 0.0573\n",
      "Epoch 2/30\n",
      "897/897 [==============================] - 7s 8ms/step - loss: 0.0042 - mae: 0.0495 - val_loss: 0.0041 - val_mae: 0.0499\n",
      "Epoch 3/30\n",
      "897/897 [==============================] - 7s 8ms/step - loss: 0.0037 - mae: 0.0461 - val_loss: 0.0033 - val_mae: 0.0445\n",
      "Epoch 4/30\n",
      "897/897 [==============================] - 7s 8ms/step - loss: 0.0030 - mae: 0.0416 - val_loss: 0.0027 - val_mae: 0.0414\n",
      "Epoch 5/30\n",
      "897/897 [==============================] - 8s 8ms/step - loss: 0.0026 - mae: 0.0388 - val_loss: 0.0025 - val_mae: 0.0380\n",
      "Epoch 6/30\n",
      "897/897 [==============================] - 8s 8ms/step - loss: 0.0024 - mae: 0.0367 - val_loss: 0.0020 - val_mae: 0.0338\n",
      "Epoch 7/30\n",
      "897/897 [==============================] - 8s 8ms/step - loss: 0.0022 - mae: 0.0351 - val_loss: 0.0020 - val_mae: 0.0337\n",
      "Epoch 8/30\n",
      "897/897 [==============================] - 8s 8ms/step - loss: 0.0021 - mae: 0.0344 - val_loss: 0.0022 - val_mae: 0.0383\n",
      "Epoch 9/30\n",
      "897/897 [==============================] - 8s 8ms/step - loss: 0.0020 - mae: 0.0335 - val_loss: 0.0018 - val_mae: 0.0314\n",
      "Epoch 10/30\n",
      "897/897 [==============================] - 8s 8ms/step - loss: 0.0019 - mae: 0.0329 - val_loss: 0.0018 - val_mae: 0.0315\n",
      "Epoch 11/30\n",
      "897/897 [==============================] - 8s 8ms/step - loss: 0.0019 - mae: 0.0325 - val_loss: 0.0018 - val_mae: 0.0347\n",
      "Epoch 12/30\n",
      "897/897 [==============================] - 7s 8ms/step - loss: 0.0018 - mae: 0.0320 - val_loss: 0.0028 - val_mae: 0.0453\n",
      "Epoch 13/30\n",
      "897/897 [==============================] - 8s 9ms/step - loss: 0.0018 - mae: 0.0318 - val_loss: 0.0014 - val_mae: 0.0276\n",
      "Epoch 14/30\n",
      "897/897 [==============================] - 8s 8ms/step - loss: 0.0018 - mae: 0.0312 - val_loss: 0.0016 - val_mae: 0.0300\n",
      "Epoch 15/30\n",
      "897/897 [==============================] - 7s 8ms/step - loss: 0.0018 - mae: 0.0311 - val_loss: 0.0021 - val_mae: 0.0335\n",
      "Epoch 16/30\n",
      "897/897 [==============================] - 8s 9ms/step - loss: 0.0017 - mae: 0.0307 - val_loss: 0.0021 - val_mae: 0.0352\n",
      "Epoch 17/30\n",
      "897/897 [==============================] - 8s 9ms/step - loss: 0.0017 - mae: 0.0307 - val_loss: 0.0013 - val_mae: 0.0247\n",
      "Epoch 18/30\n",
      "897/897 [==============================] - 8s 9ms/step - loss: 0.0017 - mae: 0.0306 - val_loss: 0.0012 - val_mae: 0.0245\n",
      "Epoch 19/30\n",
      "897/897 [==============================] - 8s 9ms/step - loss: 0.0017 - mae: 0.0301 - val_loss: 0.0020 - val_mae: 0.0339\n",
      "Epoch 20/30\n",
      "897/897 [==============================] - 8s 8ms/step - loss: 0.0016 - mae: 0.0299 - val_loss: 0.0012 - val_mae: 0.0247\n",
      "Epoch 21/30\n",
      "897/897 [==============================] - 8s 8ms/step - loss: 0.0016 - mae: 0.0299 - val_loss: 0.0012 - val_mae: 0.0248\n",
      "Epoch 22/30\n",
      "897/897 [==============================] - 7s 8ms/step - loss: 0.0016 - mae: 0.0298 - val_loss: 0.0013 - val_mae: 0.0259\n",
      "Epoch 23/30\n",
      "897/897 [==============================] - 8s 9ms/step - loss: 0.0016 - mae: 0.0297 - val_loss: 0.0020 - val_mae: 0.0329\n",
      "Epoch 24/30\n",
      "897/897 [==============================] - 8s 9ms/step - loss: 0.0016 - mae: 0.0298 - val_loss: 0.0017 - val_mae: 0.0306\n",
      "Epoch 25/30\n",
      "897/897 [==============================] - 8s 9ms/step - loss: 0.0016 - mae: 0.0294 - val_loss: 0.0013 - val_mae: 0.0245\n",
      "Epoch 26/30\n",
      "897/897 [==============================] - 7s 8ms/step - loss: 0.0016 - mae: 0.0293 - val_loss: 0.0014 - val_mae: 0.0260\n",
      "Epoch 27/30\n",
      "897/897 [==============================] - 8s 9ms/step - loss: 0.0015 - mae: 0.0289 - val_loss: 0.0015 - val_mae: 0.0288\n",
      "Epoch 28/30\n",
      "897/897 [==============================] - 8s 9ms/step - loss: 0.0015 - mae: 0.0288 - val_loss: 0.0016 - val_mae: 0.0272\n",
      "Epoch 29/30\n",
      "897/897 [==============================] - 8s 9ms/step - loss: 0.0015 - mae: 0.0290 - val_loss: 0.0011 - val_mae: 0.0244\n",
      "Epoch 30/30\n",
      "897/897 [==============================] - 8s 9ms/step - loss: 0.0015 - mae: 0.0290 - val_loss: 0.0015 - val_mae: 0.0275\n"
     ]
    },
    {
     "data": {
      "image/png": "[encoded data removed]",
      "text/plain": [
       "<Figure size 432x288 with 1 Axes>"
      ]
     },
     "metadata": {
      "needs_background": "light"
     },
     "output_type": "display_data"
    },
    {
     "name": "stdout",
     "output_type": "stream",
     "text": [
      "The Mean Squared Error is: 0.7158842079850078\n"
     ]
    }
   ],
   "source": [
    "## Saving the result file to the folder of the model\n",
    "\n",
    "dest = os.getcwd()\n",
    "try:\n",
    "    os.chdir(os.path.join(dest,'LSTM'))\n",
    "    print('Directory present')\n",
    "except FileNotFoundError:\n",
    "    print('Creating a new directory......')\n",
    "    os.chdir(os.path.join(dest))\n",
    "    os.mkdir('LSTM')\n",
    "    os.chdir(os.path.join(dest,'LSTM'))\n",
    "    print('New Directory Created')\n",
    "\n",
    "history = simple_lstm.fit(x_train,y_train,validation_split=0.1,batch_size=BATCH_SIZE,epochs=EPOCHS,callbacks=[checkpoint_simple])\n",
    "\n",
    "plt.plot(history.history['loss'],'r',label='Training Loss')\n",
    "plt.plot(history.history['val_loss'],'b',label='Validation Loss')\n",
    "plt.title('Losses')\n",
    "plt.xlabel('Epochs')\n",
    "plt.ylabel('Loss')\n",
    "plt.legend()\n",
    "plt.show()\n",
    "\n",
    "simple_lstm.load_weights(filepath_simple)\n",
    "preds = simple_lstm.predict(x_test)\n",
    "\n",
    "y_test_unscaled = scaler.inverse_transform(y_test)\n",
    "y_pred_unscaled = scaler.inverse_transform(preds)\n",
    "\n",
    "e_mse = mse(y_test_unscaled[:,5],y_pred_unscaled[:,5])\n",
    "print(f'The Mean Squared Error is: {e_mse}')\n",
    "\n",
    "for i in range(y_test.shape[1]):\n",
    "        sheet1.write(0, 0, 'MSE')\n",
    "        sheet1.write(0, 1, 'Hours Ahead')\n",
    "        sheet1.write(i + 1, 0, mse(y_test_unscaled[:,i],y_pred_unscaled[:,i]))\n",
    "        sheet1.write(i + 1, 1, i+1)\n"
   ]
  },
  {
   "cell_type": "code",
   "execution_count": 23,
   "metadata": {
    "ExecuteTime": {
     "end_time": "2022-03-09T01:59:59.749287Z",
     "start_time": "2022-03-09T01:59:59.087253Z"
    },
    "id": "vcqYFpeqjIYW"
   },
   "outputs": [],
   "source": [
    "## Attention model\n",
    "K.clear_session()\n",
    "atten_lstm = keras.Sequential()\n",
    "atten_lstm.add(keras.layers.LSTM(64, return_sequences=True, input_shape=(x_train.shape[1], x_train.shape[2])))\n",
    "atten_lstm.add(keras.layers.LSTM(64, return_sequences=True))\n",
    "atten_lstm.add(keras.layers.Dropout(0.3))\n",
    "atten_lstm.add(keras.layers.LSTM(64, return_sequences=True))\n",
    "atten_lstm.add(keras.layers.LSTM(64, return_sequences=True))\n",
    "atten_lstm.add(attention(return_sequences=True))\n",
    "atten_lstm.add(keras.layers.Flatten())\n",
    "atten_lstm.add(keras.layers.Dense(512, activation='relu'))\n",
    "atten_lstm.add(keras.layers.Dense(128, activation='relu'))\n",
    "atten_lstm.add(keras.layers.Dense(64, activation='relu'))\n",
    "atten_lstm.add(keras.layers.Dropout(0.3))\n",
    "atten_lstm.add(keras.layers.Dense(32))\n",
    "atten_lstm.add(keras.layers.Dense(6))\n",
    "\n",
    "atten_lstm.compile(loss='mse', optimizer=keras.optimizers.Adam(learning_rate=LR), metrics=['mae'])"
   ]
  },
  {
   "cell_type": "code",
   "execution_count": 26,
   "metadata": {
    "ExecuteTime": {
     "end_time": "2022-03-09T02:17:45.403243Z",
     "start_time": "2022-03-09T02:13:36.253479Z"
    },
    "colab": {
     "base_uri": "https://localhost:8080/",
     "height": 491
    },
    "id": "Opm4Zr70jIYW",
    "outputId": "a4fd7ae1-caf4-4f46-fdd5-1cc0055d13b1",
    "scrolled": true
   },
   "outputs": [
    {
     "name": "stdout",
     "output_type": "stream",
     "text": [
      "Creating a new directory......\n",
      "New Directory Created\n",
      "Epoch 1/30\n",
      "897/897 [==============================] - 9s 10ms/step - loss: 0.0014 - mae: 0.0280 - val_loss: 0.0012 - val_mae: 0.0254\n",
      "Epoch 2/30\n",
      "897/897 [==============================] - 8s 9ms/step - loss: 0.0014 - mae: 0.0278 - val_loss: 0.0012 - val_mae: 0.0251\n",
      "Epoch 3/30\n",
      "897/897 [==============================] - 8s 9ms/step - loss: 0.0014 - mae: 0.0278 - val_loss: 0.0014 - val_mae: 0.0280\n",
      "Epoch 4/30\n",
      "897/897 [==============================] - 8s 9ms/step - loss: 0.0014 - mae: 0.0276 - val_loss: 0.0012 - val_mae: 0.0248\n",
      "Epoch 5/30\n",
      "897/897 [==============================] - 8s 9ms/step - loss: 0.0014 - mae: 0.0274 - val_loss: 0.0013 - val_mae: 0.0248\n",
      "Epoch 6/30\n",
      "897/897 [==============================] - 8s 9ms/step - loss: 0.0014 - mae: 0.0275 - val_loss: 0.0017 - val_mae: 0.0299\n",
      "Epoch 7/30\n",
      "897/897 [==============================] - 8s 9ms/step - loss: 0.0013 - mae: 0.0272 - val_loss: 0.0012 - val_mae: 0.0230\n",
      "Epoch 8/30\n",
      "897/897 [==============================] - 8s 9ms/step - loss: 0.0013 - mae: 0.0273 - val_loss: 0.0015 - val_mae: 0.0290\n",
      "Epoch 9/30\n",
      "897/897 [==============================] - 8s 9ms/step - loss: 0.0013 - mae: 0.0271 - val_loss: 0.0011 - val_mae: 0.0245\n",
      "Epoch 10/30\n",
      "897/897 [==============================] - 8s 9ms/step - loss: 0.0013 - mae: 0.0273 - val_loss: 0.0017 - val_mae: 0.0292\n",
      "Epoch 11/30\n",
      "897/897 [==============================] - 8s 9ms/step - loss: 0.0013 - mae: 0.0273 - val_loss: 0.0013 - val_mae: 0.0247\n",
      "Epoch 12/30\n",
      "897/897 [==============================] - 8s 9ms/step - loss: 0.0013 - mae: 0.0271 - val_loss: 0.0014 - val_mae: 0.0287\n",
      "Epoch 13/30\n",
      "897/897 [==============================] - 8s 9ms/step - loss: 0.0013 - mae: 0.0271 - val_loss: 0.0012 - val_mae: 0.0246\n",
      "Epoch 14/30\n",
      "897/897 [==============================] - 8s 9ms/step - loss: 0.0013 - mae: 0.0271 - val_loss: 0.0013 - val_mae: 0.0250\n",
      "Epoch 15/30\n",
      "897/897 [==============================] - 8s 9ms/step - loss: 0.0013 - mae: 0.0269 - val_loss: 0.0014 - val_mae: 0.0264\n",
      "Epoch 16/30\n",
      "897/897 [==============================] - 8s 9ms/step - loss: 0.0013 - mae: 0.0268 - val_loss: 0.0014 - val_mae: 0.0265\n",
      "Epoch 17/30\n",
      "897/897 [==============================] - 8s 9ms/step - loss: 0.0013 - mae: 0.0269 - val_loss: 0.0013 - val_mae: 0.0254\n",
      "Epoch 18/30\n",
      "897/897 [==============================] - 8s 9ms/step - loss: 0.0013 - mae: 0.0269 - val_loss: 0.0014 - val_mae: 0.0251\n",
      "Epoch 19/30\n",
      "897/897 [==============================] - 8s 9ms/step - loss: 0.0013 - mae: 0.0268 - val_loss: 0.0012 - val_mae: 0.0246\n",
      "Epoch 20/30\n",
      "897/897 [==============================] - 8s 9ms/step - loss: 0.0013 - mae: 0.0272 - val_loss: 0.0013 - val_mae: 0.0247\n",
      "Epoch 21/30\n",
      "897/897 [==============================] - 8s 9ms/step - loss: 0.0013 - mae: 0.0269 - val_loss: 0.0013 - val_mae: 0.0245\n",
      "Epoch 22/30\n",
      "897/897 [==============================] - 8s 9ms/step - loss: 0.0013 - mae: 0.0268 - val_loss: 0.0013 - val_mae: 0.0251\n",
      "Epoch 23/30\n",
      "897/897 [==============================] - 8s 9ms/step - loss: 0.0013 - mae: 0.0266 - val_loss: 0.0015 - val_mae: 0.0268\n",
      "Epoch 24/30\n",
      "897/897 [==============================] - 8s 9ms/step - loss: 0.0013 - mae: 0.0267 - val_loss: 0.0013 - val_mae: 0.0255\n",
      "Epoch 25/30\n",
      "897/897 [==============================] - 8s 9ms/step - loss: 0.0013 - mae: 0.0266 - val_loss: 0.0015 - val_mae: 0.0268\n",
      "Epoch 26/30\n",
      "897/897 [==============================] - 8s 9ms/step - loss: 0.0013 - mae: 0.0264 - val_loss: 0.0013 - val_mae: 0.0262\n",
      "Epoch 27/30\n",
      "897/897 [==============================] - 8s 9ms/step - loss: 0.0013 - mae: 0.0268 - val_loss: 0.0019 - val_mae: 0.0300\n",
      "Epoch 28/30\n",
      "897/897 [==============================] - 8s 9ms/step - loss: 0.0013 - mae: 0.0266 - val_loss: 0.0012 - val_mae: 0.0246\n",
      "Epoch 29/30\n",
      "897/897 [==============================] - 8s 9ms/step - loss: 0.0013 - mae: 0.0264 - val_loss: 0.0013 - val_mae: 0.0249\n",
      "Epoch 30/30\n",
      "897/897 [==============================] - 8s 9ms/step - loss: 0.0013 - mae: 0.0265 - val_loss: 0.0014 - val_mae: 0.0259\n"
     ]
    },
    {
     "data": {
      "image/png": "[encoded data removed]",
      "text/plain": [
       "<Figure size 432x288 with 1 Axes>"
      ]
     },
     "metadata": {
      "needs_background": "light"
     },
     "output_type": "display_data"
    },
    {
     "name": "stdout",
     "output_type": "stream",
     "text": [
      "The Mean Squared Error is: 0.5250971391034144\n"
     ]
    }
   ],
   "source": [
    "# Problem: different result\n",
    "\n",
    "## Saving the result file to the folder of the model\n",
    "\n",
    "#dest = ''\n",
    "\n",
    "dest = os.getcwd()\n",
    "try:\n",
    "    os.chdir(os.path.join(dest,'LSTM'))\n",
    "    print('Directory present')\n",
    "except FileNotFoundError:\n",
    "    print('Creating a new directory......')\n",
    "    os.chdir(os.path.join(dest))\n",
    "    os.mkdir('LSTM')\n",
    "    os.chdir(os.path.join(dest,'LSTM'))\n",
    "    print('New Directory Created')\n",
    "\n",
    "\n",
    "history = atten_lstm.fit(x_train,y_train,validation_split=0.1,batch_size=BATCH_SIZE,epochs=EPOCHS,callbacks=[checkpoint_attention])\n",
    "\n",
    "plt.plot(history.history['loss'],'r',label='Training Loss')\n",
    "plt.plot(history.history['val_loss'],'b',label='Validation Loss')\n",
    "plt.legend()\n",
    "plt.show()\n",
    "\n",
    "atten_lstm.load_weights(filepath_attention)\n",
    "preds = atten_lstm.predict(x_test)\n",
    "\n",
    "y_test_unscaled = scaler.inverse_transform(y_test)\n",
    "y_pred_unscaled = scaler.inverse_transform(preds)\n",
    "\n",
    "e_mse = mse(y_test_unscaled[:,5],y_pred_unscaled[:,5])\n",
    "print(f'The Mean Squared Error is: {e_mse}')\n",
    "\n",
    "for i in range(y_test.shape[1]):\n",
    "        sheet2.write(0, 0, 'MSE')\n",
    "        sheet2.write(0, 1, 'Hours Ahead')\n",
    "        sheet2.write(i + 1, 0, mse(y_test_unscaled[:,i],y_pred_unscaled[:,i]))\n",
    "        sheet2.write(i + 1, 1, i+1)\n",
    "        sheet3.write(0, i, \"Real-test\")\n",
    "        sheet4.write(0, i, \"Predicted_test\")\n",
    "        for j in range(y_test_unscaled.shape[0]):\n",
    "                 sheet3.write(j + 1, i, float(y_test_unscaled[j, i]))\n",
    "        for k in range(y_pred_unscaled.shape[0]):\n",
    "                 sheet4.write(k + 1, i, float(y_pred_unscaled[k, i]))   \n",
    "\n",
    "wk.save(f'LSTM Result.xls')"
   ]
  },
  {
   "cell_type": "markdown",
   "metadata": {
    "id": "FoT8N7BvjIYX"
   },
   "source": [
    "## CNN-LSTM"
   ]
  },
  {
   "cell_type": "code",
   "execution_count": 27,
   "metadata": {
    "ExecuteTime": {
     "end_time": "2022-03-09T02:25:37.625887Z",
     "start_time": "2022-03-09T02:25:37.617885Z"
    },
    "id": "TEsFTBGJjIYX"
   },
   "outputs": [],
   "source": [
    "## Creating the prelimaries \n",
    "\n",
    "filepath_simple = 'simple_cnnlstm.hdf5'\n",
    "filepath_attention = 'attention_cnnlstm.hdf5'\n",
    "\n",
    "checkpoint_simple = keras.callbacks.ModelCheckpoint(filepath_simple,monitor='val_loss',save_best_only=True)\n",
    "checkpoint_attention = keras.callbacks.ModelCheckpoint(filepath_attention, monitor='val_loss',save_best_only=True)\n",
    "\n",
    "wk=Workbook()\n",
    "sheet1 = wk.add_sheet('Simple', cell_overwrite_ok=True)\n",
    "sheet2 = wk.add_sheet('Attention', cell_overwrite_ok=True)\n",
    "sheet3 = wk.add_sheet('Real-test', cell_overwrite_ok=True)\n",
    "sheet4 = wk.add_sheet('Predicted-test', cell_overwrite_ok=True)"
   ]
  },
  {
   "cell_type": "code",
   "execution_count": 28,
   "metadata": {
    "ExecuteTime": {
     "end_time": "2022-03-09T02:25:40.049790Z",
     "start_time": "2022-03-09T02:25:39.719685Z"
    },
    "id": "WLL6FLHUjIYX"
   },
   "outputs": [],
   "source": [
    "## Simple CNN-LSTM model\n",
    "K.clear_session()\n",
    "simple_cnnlstm = keras.Sequential()\n",
    "simple_cnnlstm.add(keras.layers.Conv1D(64, kernel_size=3, input_shape=(x_train.shape[1],x_train.shape[2])))\n",
    "simple_cnnlstm.add(keras.layers.Conv1D(64, kernel_size=3))\n",
    "simple_cnnlstm.add(keras.layers.LSTM(64, return_sequences=True))\n",
    "simple_cnnlstm.add(keras.layers.LSTM(64, return_sequences=True))\n",
    "simple_cnnlstm.add(keras.layers.Flatten())\n",
    "simple_cnnlstm.add(keras.layers.Dense(512, activation='relu'))\n",
    "simple_cnnlstm.add(keras.layers.Dense(128, activation='relu'))\n",
    "simple_cnnlstm.add(keras.layers.Dense(64, activation='relu'))\n",
    "simple_cnnlstm.add(keras.layers.Dense(32))\n",
    "simple_cnnlstm.add(keras.layers.Dense(6))\n",
    "\n",
    "simple_cnnlstm.compile(loss='mse', optimizer=keras.optimizers.Adam(learning_rate=LR), metrics=['mae'])"
   ]
  },
  {
   "cell_type": "code",
   "execution_count": 29,
   "metadata": {
    "ExecuteTime": {
     "end_time": "2022-03-09T02:28:22.723279Z",
     "start_time": "2022-03-09T02:25:45.480419Z"
    },
    "colab": {
     "base_uri": "https://localhost:8080/",
     "height": 491
    },
    "id": "IwbTMv_bjIYX",
    "outputId": "3c3a6e97-d49f-4d88-ce4e-9e685099c72b",
    "scrolled": true
   },
   "outputs": [
    {
     "name": "stdout",
     "output_type": "stream",
     "text": [
      "Creating a new directory......\n",
      "New Directory Created\n",
      "Epoch 1/30\n",
      "897/897 [==============================] - 10s 6ms/step - loss: 0.0050 - mae: 0.0445 - val_loss: 0.0023 - val_mae: 0.0348\n",
      "Epoch 2/30\n",
      "897/897 [==============================] - 5s 6ms/step - loss: 0.0017 - mae: 0.0301 - val_loss: 0.0027 - val_mae: 0.0369\n",
      "Epoch 3/30\n",
      "897/897 [==============================] - 5s 5ms/step - loss: 0.0014 - mae: 0.0272 - val_loss: 0.0018 - val_mae: 0.0319\n",
      "Epoch 4/30\n",
      "897/897 [==============================] - 5s 6ms/step - loss: 0.0013 - mae: 0.0261 - val_loss: 0.0025 - val_mae: 0.0370\n",
      "Epoch 5/30\n",
      "897/897 [==============================] - 5s 6ms/step - loss: 0.0012 - mae: 0.0248 - val_loss: 0.0017 - val_mae: 0.0291\n",
      "Epoch 6/30\n",
      "897/897 [==============================] - 5s 6ms/step - loss: 0.0012 - mae: 0.0243 - val_loss: 0.0028 - val_mae: 0.0422\n",
      "Epoch 7/30\n",
      "897/897 [==============================] - 5s 6ms/step - loss: 0.0011 - mae: 0.0234 - val_loss: 0.0018 - val_mae: 0.0309\n",
      "Epoch 8/30\n",
      "897/897 [==============================] - 5s 6ms/step - loss: 0.0011 - mae: 0.0228 - val_loss: 0.0029 - val_mae: 0.0396\n",
      "Epoch 9/30\n",
      "897/897 [==============================] - 5s 6ms/step - loss: 9.9949e-04 - mae: 0.0218 - val_loss: 0.0013 - val_mae: 0.0252\n",
      "Epoch 10/30\n",
      "897/897 [==============================] - 5s 6ms/step - loss: 9.7608e-04 - mae: 0.0218 - val_loss: 0.0017 - val_mae: 0.0278\n",
      "Epoch 11/30\n",
      "897/897 [==============================] - 5s 6ms/step - loss: 9.6571e-04 - mae: 0.0216 - val_loss: 0.0016 - val_mae: 0.0294\n",
      "Epoch 12/30\n",
      "897/897 [==============================] - 5s 6ms/step - loss: 9.2524e-04 - mae: 0.0211 - val_loss: 0.0021 - val_mae: 0.0336\n",
      "Epoch 13/30\n",
      "897/897 [==============================] - 5s 6ms/step - loss: 8.8825e-04 - mae: 0.0206 - val_loss: 0.0014 - val_mae: 0.0255\n",
      "Epoch 14/30\n",
      "897/897 [==============================] - 5s 5ms/step - loss: 8.6290e-04 - mae: 0.0202 - val_loss: 0.0014 - val_mae: 0.0262\n",
      "Epoch 15/30\n",
      "897/897 [==============================] - 5s 5ms/step - loss: 8.2364e-04 - mae: 0.0195 - val_loss: 0.0016 - val_mae: 0.0276\n",
      "Epoch 16/30\n",
      "897/897 [==============================] - 5s 6ms/step - loss: 8.3229e-04 - mae: 0.0198 - val_loss: 0.0014 - val_mae: 0.0266\n",
      "Epoch 17/30\n",
      "897/897 [==============================] - 5s 6ms/step - loss: 7.9259e-04 - mae: 0.0193 - val_loss: 0.0015 - val_mae: 0.0268\n",
      "Epoch 18/30\n",
      "897/897 [==============================] - 5s 6ms/step - loss: 7.8320e-04 - mae: 0.0191 - val_loss: 0.0014 - val_mae: 0.0267\n",
      "Epoch 19/30\n",
      "897/897 [==============================] - 5s 5ms/step - loss: 7.6351e-04 - mae: 0.0188 - val_loss: 0.0013 - val_mae: 0.0250\n",
      "Epoch 20/30\n",
      "897/897 [==============================] - 5s 5ms/step - loss: 7.3871e-04 - mae: 0.0186 - val_loss: 0.0012 - val_mae: 0.0236\n",
      "Epoch 21/30\n",
      "897/897 [==============================] - 5s 5ms/step - loss: 7.3643e-04 - mae: 0.0185 - val_loss: 9.5832e-04 - val_mae: 0.0215\n",
      "Epoch 22/30\n",
      "897/897 [==============================] - 5s 6ms/step - loss: 7.0800e-04 - mae: 0.0181 - val_loss: 0.0011 - val_mae: 0.0234\n",
      "Epoch 23/30\n",
      "897/897 [==============================] - 5s 6ms/step - loss: 7.3257e-04 - mae: 0.0187 - val_loss: 0.0017 - val_mae: 0.0263\n",
      "Epoch 24/30\n",
      "897/897 [==============================] - 5s 6ms/step - loss: 6.8345e-04 - mae: 0.0177 - val_loss: 0.0016 - val_mae: 0.0285\n",
      "Epoch 25/30\n",
      "897/897 [==============================] - 5s 6ms/step - loss: 6.8536e-04 - mae: 0.0179 - val_loss: 0.0014 - val_mae: 0.0239\n",
      "Epoch 26/30\n",
      "897/897 [==============================] - 5s 6ms/step - loss: 6.7042e-04 - mae: 0.0175 - val_loss: 0.0012 - val_mae: 0.0238\n",
      "Epoch 27/30\n",
      "897/897 [==============================] - 5s 6ms/step - loss: 6.6660e-04 - mae: 0.0175 - val_loss: 0.0014 - val_mae: 0.0242\n",
      "Epoch 28/30\n",
      "897/897 [==============================] - 5s 6ms/step - loss: 6.4596e-04 - mae: 0.0172 - val_loss: 0.0017 - val_mae: 0.0265\n",
      "Epoch 29/30\n",
      "897/897 [==============================] - 5s 6ms/step - loss: 6.2730e-04 - mae: 0.0170 - val_loss: 0.0014 - val_mae: 0.0252\n",
      "Epoch 30/30\n",
      "897/897 [==============================] - 5s 6ms/step - loss: 6.3428e-04 - mae: 0.0172 - val_loss: 0.0012 - val_mae: 0.0225\n"
     ]
    },
    {
     "data": {
      "image/png": "[encoded data removed]",
      "text/plain": [
       "<Figure size 432x288 with 1 Axes>"
      ]
     },
     "metadata": {
      "needs_background": "light"
     },
     "output_type": "display_data"
    },
    {
     "name": "stdout",
     "output_type": "stream",
     "text": [
      "The Mean Squared Error is: 0.7402914763975861\n"
     ]
    }
   ],
   "source": [
    "# Problem different results\n",
    "\n",
    "## Saving the result file to the folder of the model\n",
    "\n",
    "try:\n",
    "    os.chdir(os.path.join(dest,'CNN-LSTM'))\n",
    "    print('Directory present')\n",
    "except FileNotFoundError:\n",
    "    print('Creating a new directory......')\n",
    "    os.chdir(os.path.join(dest))\n",
    "    os.mkdir('CNN-LSTM')\n",
    "    os.chdir(os.path.join(dest,'CNN-LSTM'))\n",
    "    print('New Directory Created')\n",
    "\n",
    "history = simple_cnnlstm.fit(x_train,y_train,validation_split=0.1,batch_size=BATCH_SIZE,epochs=EPOCHS,callbacks=[checkpoint_simple])\n",
    "\n",
    "plt.plot(history.history['loss'],'r',label='Training Loss')\n",
    "plt.plot(history.history['val_loss'],'b',label='Validation Loss')\n",
    "plt.legend()\n",
    "plt.show()\n",
    "\n",
    "simple_cnnlstm.load_weights(filepath_simple)\n",
    "preds = simple_cnnlstm.predict(x_test)\n",
    "\n",
    "y_test_unscaled = scaler.inverse_transform(y_test)\n",
    "y_pred_unscaled = scaler.inverse_transform(preds)\n",
    "\n",
    "e_mse = mse(y_test_unscaled[:,5],y_pred_unscaled[:,5])\n",
    "print(f'The Mean Squared Error is: {e_mse}')\n",
    "\n",
    "for i in range(y_test.shape[1]):\n",
    "        sheet1.write(0, 0, 'MSE')\n",
    "        sheet1.write(0, 1, 'Hours Ahead')\n",
    "        sheet1.write(i + 1, 0, mse(y_test_unscaled[:,i],y_pred_unscaled[:,i]))\n",
    "        sheet1.write(i + 1, 1, i+1)\n"
   ]
  },
  {
   "cell_type": "code",
   "execution_count": 30,
   "metadata": {
    "ExecuteTime": {
     "end_time": "2022-03-09T02:30:18.387101Z",
     "start_time": "2022-03-09T02:30:18.048442Z"
    },
    "id": "PaOu17jGjIYX"
   },
   "outputs": [],
   "source": [
    "## Attention model\n",
    "K.clear_session()\n",
    "atten_cnnlstm = keras.Sequential()\n",
    "atten_cnnlstm.add(keras.layers.Conv1D(64, kernel_size=3, input_shape=(x_train.shape[1],x_train.shape[2])))\n",
    "atten_cnnlstm.add(keras.layers.Conv1D(64, kernel_size=3))\n",
    "atten_cnnlstm.add(keras.layers.LSTM(64, return_sequences=True))\n",
    "atten_cnnlstm.add(keras.layers.LSTM(64, return_sequences=True))\n",
    "atten_cnnlstm.add(attention(return_sequences=True))\n",
    "atten_cnnlstm.add(keras.layers.Flatten())\n",
    "atten_cnnlstm.add(keras.layers.Dense(512, activation='relu'))\n",
    "atten_cnnlstm.add(keras.layers.Dense(128, activation='relu'))\n",
    "atten_cnnlstm.add(keras.layers.Dense(64, activation='relu'))\n",
    "atten_cnnlstm.add(keras.layers.Dense(32))\n",
    "atten_cnnlstm.add(keras.layers.Dense(6))\n",
    "\n",
    "atten_cnnlstm.compile(loss='mse', optimizer=keras.optimizers.Adam(learning_rate=LR), metrics=['mae'])"
   ]
  },
  {
   "cell_type": "code",
   "execution_count": 31,
   "metadata": {
    "ExecuteTime": {
     "end_time": "2022-03-09T02:33:16.905787Z",
     "start_time": "2022-03-09T02:30:25.919712Z"
    },
    "colab": {
     "base_uri": "https://localhost:8080/",
     "height": 473
    },
    "id": "8JzXu2h7jIYX",
    "outputId": "f76fc8d2-e2c1-4f9e-bfbe-9ef0a1321069",
    "scrolled": true
   },
   "outputs": [
    {
     "name": "stdout",
     "output_type": "stream",
     "text": [
      "Directory present\n",
      "Epoch 1/30\n",
      "897/897 [==============================] - 8s 6ms/step - loss: 0.0064 - mae: 0.0503 - val_loss: 0.0034 - val_mae: 0.0425\n",
      "Epoch 2/30\n",
      "897/897 [==============================] - 5s 6ms/step - loss: 0.0020 - mae: 0.0327 - val_loss: 0.0028 - val_mae: 0.0372\n",
      "Epoch 3/30\n",
      "897/897 [==============================] - 5s 6ms/step - loss: 0.0015 - mae: 0.0279 - val_loss: 0.0018 - val_mae: 0.0321\n",
      "Epoch 4/30\n",
      "897/897 [==============================] - 5s 6ms/step - loss: 0.0014 - mae: 0.0265 - val_loss: 0.0023 - val_mae: 0.0350\n",
      "Epoch 5/30\n",
      "897/897 [==============================] - 5s 6ms/step - loss: 0.0013 - mae: 0.0253 - val_loss: 0.0015 - val_mae: 0.0275\n",
      "Epoch 6/30\n",
      "897/897 [==============================] - 5s 6ms/step - loss: 0.0012 - mae: 0.0249 - val_loss: 0.0033 - val_mae: 0.0485\n",
      "Epoch 7/30\n",
      "897/897 [==============================] - 5s 6ms/step - loss: 0.0012 - mae: 0.0242 - val_loss: 0.0019 - val_mae: 0.0336\n",
      "Epoch 8/30\n",
      "897/897 [==============================] - 6s 6ms/step - loss: 0.0011 - mae: 0.0232 - val_loss: 0.0028 - val_mae: 0.0394\n",
      "Epoch 9/30\n",
      "897/897 [==============================] - 6s 6ms/step - loss: 0.0011 - mae: 0.0224 - val_loss: 0.0014 - val_mae: 0.0259\n",
      "Epoch 10/30\n",
      "897/897 [==============================] - 6s 6ms/step - loss: 0.0010 - mae: 0.0221 - val_loss: 0.0015 - val_mae: 0.0266\n",
      "Epoch 11/30\n",
      "897/897 [==============================] - 6s 6ms/step - loss: 9.9408e-04 - mae: 0.0217 - val_loss: 0.0015 - val_mae: 0.0286\n",
      "Epoch 12/30\n",
      "897/897 [==============================] - 6s 6ms/step - loss: 9.6736e-04 - mae: 0.0214 - val_loss: 0.0022 - val_mae: 0.0354\n",
      "Epoch 13/30\n",
      "897/897 [==============================] - 6s 6ms/step - loss: 9.2809e-04 - mae: 0.0210 - val_loss: 0.0013 - val_mae: 0.0236\n",
      "Epoch 14/30\n",
      "897/897 [==============================] - 6s 7ms/step - loss: 8.7588e-04 - mae: 0.0203 - val_loss: 0.0017 - val_mae: 0.0304\n",
      "Epoch 15/30\n",
      "897/897 [==============================] - 6s 6ms/step - loss: 8.3193e-04 - mae: 0.0196 - val_loss: 0.0015 - val_mae: 0.0270\n",
      "Epoch 16/30\n",
      "897/897 [==============================] - 6s 6ms/step - loss: 8.3539e-04 - mae: 0.0197 - val_loss: 0.0015 - val_mae: 0.0277\n",
      "Epoch 17/30\n",
      "897/897 [==============================] - 6s 6ms/step - loss: 7.9687e-04 - mae: 0.0193 - val_loss: 0.0017 - val_mae: 0.0275\n",
      "Epoch 18/30\n",
      "897/897 [==============================] - 6s 6ms/step - loss: 7.9693e-04 - mae: 0.0192 - val_loss: 0.0014 - val_mae: 0.0280\n",
      "Epoch 19/30\n",
      "897/897 [==============================] - 6s 6ms/step - loss: 7.6828e-04 - mae: 0.0188 - val_loss: 0.0014 - val_mae: 0.0255\n",
      "Epoch 20/30\n",
      "897/897 [==============================] - 6s 6ms/step - loss: 7.4196e-04 - mae: 0.0185 - val_loss: 0.0012 - val_mae: 0.0234\n",
      "Epoch 21/30\n",
      "897/897 [==============================] - 6s 6ms/step - loss: 7.3694e-04 - mae: 0.0184 - val_loss: 0.0011 - val_mae: 0.0232\n",
      "Epoch 22/30\n",
      "897/897 [==============================] - 6s 6ms/step - loss: 7.2349e-04 - mae: 0.0183 - val_loss: 0.0012 - val_mae: 0.0228\n",
      "Epoch 23/30\n",
      "897/897 [==============================] - 5s 6ms/step - loss: 7.3745e-04 - mae: 0.0186 - val_loss: 0.0017 - val_mae: 0.0272\n",
      "Epoch 24/30\n",
      "897/897 [==============================] - 6s 6ms/step - loss: 6.9899e-04 - mae: 0.0180 - val_loss: 0.0014 - val_mae: 0.0252\n",
      "Epoch 25/30\n",
      "897/897 [==============================] - 6s 6ms/step - loss: 6.8014e-04 - mae: 0.0177 - val_loss: 0.0014 - val_mae: 0.0249\n",
      "Epoch 26/30\n",
      "897/897 [==============================] - 5s 6ms/step - loss: 6.7644e-04 - mae: 0.0175 - val_loss: 0.0013 - val_mae: 0.0245\n",
      "Epoch 27/30\n",
      "897/897 [==============================] - 5s 6ms/step - loss: 6.6517e-04 - mae: 0.0175 - val_loss: 0.0013 - val_mae: 0.0232\n",
      "Epoch 28/30\n",
      "897/897 [==============================] - 6s 6ms/step - loss: 6.4206e-04 - mae: 0.0171 - val_loss: 0.0013 - val_mae: 0.0238\n",
      "Epoch 29/30\n",
      "897/897 [==============================] - 5s 6ms/step - loss: 6.2967e-04 - mae: 0.0170 - val_loss: 0.0011 - val_mae: 0.0223\n",
      "Epoch 30/30\n",
      "897/897 [==============================] - 6s 6ms/step - loss: 6.4128e-04 - mae: 0.0173 - val_loss: 0.0013 - val_mae: 0.0229\n"
     ]
    },
    {
     "data": {
      "image/png": "[encoded data removed]",
      "text/plain": [
       "<Figure size 432x288 with 1 Axes>"
      ]
     },
     "metadata": {
      "needs_background": "light"
     },
     "output_type": "display_data"
    },
    {
     "name": "stdout",
     "output_type": "stream",
     "text": [
      "The Mean Squared Error is: 1.0157186975414931\n"
     ]
    }
   ],
   "source": [
    "## Saving the result file to the folder of the model\n",
    "try:\n",
    "    os.chdir(os.path.join(dest,'CNN-LSTM'))\n",
    "    print('Directory present')\n",
    "except FileNotFoundError:\n",
    "    print('Creating a new directory......')\n",
    "    os.chdir(os.path.join(dest))\n",
    "    os.mkdir('CNN-LSTM')\n",
    "    os.chdir(os.path.join(dest,'CNN-LSTM'))\n",
    "    print('New Directory Created')\n",
    "\n",
    "history = atten_cnnlstm.fit(x_train,y_train,validation_split=0.1,batch_size=BATCH_SIZE,epochs=EPOCHS,callbacks=[checkpoint_attention])\n",
    "\n",
    "plt.plot(history.history['loss'],'r',label='Training Loss')\n",
    "plt.plot(history.history['val_loss'],'b',label='Validation Loss')\n",
    "plt.legend()\n",
    "plt.show()\n",
    "\n",
    "atten_cnnlstm.load_weights(filepath_attention)\n",
    "preds = atten_cnnlstm.predict(x_test)\n",
    "\n",
    "y_test_unscaled = scaler.inverse_transform(y_test)\n",
    "y_pred_unscaled = scaler.inverse_transform(preds)\n",
    "\n",
    "\n",
    "e_mse = mse(y_test_unscaled[:,5],y_pred_unscaled[:,5])\n",
    "print(f'The Mean Squared Error is: {e_mse}')\n",
    "\n",
    "for i in range(y_test.shape[1]):\n",
    "        sheet2.write(0, 0, 'MSE')\n",
    "        sheet2.write(0, 1, 'Hours Ahead')\n",
    "        sheet2.write(i + 1, 0, mse(y_test_unscaled[:,i],y_pred_unscaled[:,i]))\n",
    "        sheet2.write(i + 1, 1, i+1)\n",
    "\n",
    "        sheet3.write(0,i,\"Real-test\")\n",
    "        sheet4.write(0,i,\"Predicted_test\")\n",
    "        for j in range(y_test_unscaled.shape[0]):\n",
    "                sheet3.write(j+1,i,float(y_test_unscaled[j,i]))\n",
    "        for k in range(y_pred_unscaled.shape[0]):\n",
    "                sheet4.write(k+1,i,float(y_pred_unscaled[k,i]))\n",
    "            \n",
    "wk.save('CNN-LStM Results.xls')\n"
   ]
  },
  {
   "cell_type": "markdown",
   "metadata": {
    "id": "ZcRUNyVejIYY"
   },
   "source": [
    "## ConvLSTM Model"
   ]
  },
  {
   "cell_type": "code",
   "execution_count": 32,
   "metadata": {
    "ExecuteTime": {
     "end_time": "2022-03-09T02:33:42.088131Z",
     "start_time": "2022-03-09T02:33:42.073127Z"
    },
    "id": "g4Pqw46SjIYY"
   },
   "outputs": [],
   "source": [
    "## Creating the prelimaries \n",
    "\n",
    "filepath_simple = 'simple_convlstm.hdf5'\n",
    "filepath_attention = 'attention_convlstm.hdf5'\n",
    "\n",
    "checkpoint_simple = keras.callbacks.ModelCheckpoint(filepath_simple,monitor='val_loss',save_best_only=True)\n",
    "checkpoint_attention = keras.callbacks.ModelCheckpoint(filepath_attention, monitor='val_loss',save_best_only=True)\n",
    "\n",
    "wk=Workbook()\n",
    "sheet1 = wk.add_sheet('Simple', cell_overwrite_ok=True)\n",
    "sheet2 = wk.add_sheet('Attention', cell_overwrite_ok=True)\n",
    "sheet3 = wk.add_sheet('Real-test', cell_overwrite_ok=True)\n",
    "sheet4 = wk.add_sheet('Predicted-test', cell_overwrite_ok=True)\n"
   ]
  },
  {
   "cell_type": "code",
   "execution_count": 33,
   "metadata": {
    "ExecuteTime": {
     "end_time": "2022-03-09T02:33:43.336413Z",
     "start_time": "2022-03-09T02:33:43.328411Z"
    },
    "id": "cmLxVJBnjIYY"
   },
   "outputs": [],
   "source": [
    "## Reshaping the training and testing data to suit the convlstm model\n",
    "x_train_conv =x_train.reshape(x_train.shape[0], 1, 1, x_train.shape[1], x_train.shape[2])\n",
    "x_test_conv = x_test.reshape(x_test.shape[0], 1, 1, x_test.shape[1], x_test.shape[2])"
   ]
  },
  {
   "cell_type": "code",
   "execution_count": 34,
   "metadata": {
    "ExecuteTime": {
     "end_time": "2022-03-09T02:33:44.490892Z",
     "start_time": "2022-03-09T02:33:44.222962Z"
    },
    "id": "e8YZzkp7jIYZ"
   },
   "outputs": [],
   "source": [
    "## Simple ConvLSTM model\n",
    "K.clear_session()\n",
    "simple_convlstm = keras.Sequential()\n",
    "simple_convlstm.add(keras.layers.ConvLSTM2D(64, kernel_size=(1,2),return_sequences=True, \n",
    "                                            input_shape=(x_train_conv.shape[1], x_train_conv.shape[2], \n",
    "                                                         x_train_conv.shape[3], x_train_conv.shape[4])))\n",
    "simple_convlstm.add(keras.layers.ConvLSTM2D(64, kernel_size=(1,2),return_sequences=True))\n",
    "simple_convlstm.add(keras.layers.ConvLSTM2D(64, kernel_size=(1,2),return_sequences=True))\n",
    "simple_convlstm.add(keras.layers.ConvLSTM2D(64, kernel_size=(1,2),return_sequences=True))\n",
    "simple_convlstm.add(keras.layers.Flatten())\n",
    "simple_convlstm.add(keras.layers.Dense(512, activation='relu'))\n",
    "simple_convlstm.add(keras.layers.Dense(128, activation='relu'))\n",
    "simple_convlstm.add(keras.layers.Dense(64, activation='relu'))\n",
    "simple_convlstm.add(keras.layers.Dense(32))\n",
    "simple_convlstm.add(keras.layers.Dense(6))\n",
    "\n",
    "simple_convlstm.compile(loss='mse', optimizer=keras.optimizers.Adam(learning_rate=LR), metrics=['mae'])"
   ]
  },
  {
   "cell_type": "code",
   "execution_count": 35,
   "metadata": {
    "ExecuteTime": {
     "end_time": "2022-03-09T02:48:33.043908Z",
     "start_time": "2022-03-09T02:33:48.216326Z"
    },
    "colab": {
     "base_uri": "https://localhost:8080/",
     "height": 491
    },
    "id": "mTcryG0hjIYZ",
    "outputId": "0e9ad10c-0d08-4c27-cfc0-5dab417e81fc",
    "scrolled": true
   },
   "outputs": [
    {
     "name": "stdout",
     "output_type": "stream",
     "text": [
      "Creating a new directory......\n",
      "New Directory Created\n",
      "Epoch 1/30\n",
      "897/897 [==============================] - 36s 34ms/step - loss: 0.0081 - mae: 0.0559 - val_loss: 0.0045 - val_mae: 0.0512\n",
      "Epoch 2/30\n",
      "897/897 [==============================] - 31s 34ms/step - loss: 0.0020 - mae: 0.0324 - val_loss: 0.0027 - val_mae: 0.0351\n",
      "Epoch 3/30\n",
      "897/897 [==============================] - 30s 33ms/step - loss: 0.0015 - mae: 0.0276 - val_loss: 0.0019 - val_mae: 0.0306\n",
      "Epoch 4/30\n",
      "897/897 [==============================] - 30s 33ms/step - loss: 0.0014 - mae: 0.0259 - val_loss: 0.0016 - val_mae: 0.0271\n",
      "Epoch 5/30\n",
      "897/897 [==============================] - 29s 32ms/step - loss: 0.0013 - mae: 0.0246 - val_loss: 0.0018 - val_mae: 0.0300\n",
      "Epoch 6/30\n",
      "897/897 [==============================] - 29s 32ms/step - loss: 0.0012 - mae: 0.0243 - val_loss: 0.0020 - val_mae: 0.0334\n",
      "Epoch 7/30\n",
      "897/897 [==============================] - 29s 32ms/step - loss: 0.0012 - mae: 0.0235 - val_loss: 0.0018 - val_mae: 0.0311\n",
      "Epoch 8/30\n",
      "897/897 [==============================] - 29s 32ms/step - loss: 0.0011 - mae: 0.0227 - val_loss: 0.0016 - val_mae: 0.0312\n",
      "Epoch 9/30\n",
      "897/897 [==============================] - 29s 32ms/step - loss: 0.0011 - mae: 0.0218 - val_loss: 0.0014 - val_mae: 0.0249\n",
      "Epoch 10/30\n",
      "897/897 [==============================] - 29s 33ms/step - loss: 0.0010 - mae: 0.0218 - val_loss: 0.0015 - val_mae: 0.0295\n",
      "Epoch 11/30\n",
      "897/897 [==============================] - 29s 33ms/step - loss: 9.9456e-04 - mae: 0.0215 - val_loss: 0.0012 - val_mae: 0.0238\n",
      "Epoch 12/30\n",
      "897/897 [==============================] - 29s 32ms/step - loss: 9.6560e-04 - mae: 0.0212 - val_loss: 0.0020 - val_mae: 0.0348\n",
      "Epoch 13/30\n",
      "897/897 [==============================] - 29s 32ms/step - loss: 9.3830e-04 - mae: 0.0209 - val_loss: 0.0015 - val_mae: 0.0268\n",
      "Epoch 14/30\n",
      "897/897 [==============================] - 29s 33ms/step - loss: 9.0904e-04 - mae: 0.0205 - val_loss: 0.0013 - val_mae: 0.0261\n",
      "Epoch 15/30\n",
      "897/897 [==============================] - 29s 33ms/step - loss: 8.6173e-04 - mae: 0.0197 - val_loss: 0.0011 - val_mae: 0.0230\n",
      "Epoch 16/30\n",
      "897/897 [==============================] - 29s 32ms/step - loss: 8.6693e-04 - mae: 0.0200 - val_loss: 0.0011 - val_mae: 0.0230\n",
      "Epoch 17/30\n",
      "897/897 [==============================] - 29s 32ms/step - loss: 8.2388e-04 - mae: 0.0193 - val_loss: 0.0012 - val_mae: 0.0254\n",
      "Epoch 18/30\n",
      "897/897 [==============================] - 29s 32ms/step - loss: 8.2191e-04 - mae: 0.0193 - val_loss: 0.0011 - val_mae: 0.0229\n",
      "Epoch 19/30\n",
      "897/897 [==============================] - 30s 33ms/step - loss: 7.9190e-04 - mae: 0.0189 - val_loss: 0.0013 - val_mae: 0.0257\n",
      "Epoch 20/30\n",
      "897/897 [==============================] - 29s 32ms/step - loss: 7.8283e-04 - mae: 0.0189 - val_loss: 9.3875e-04 - val_mae: 0.0216\n",
      "Epoch 21/30\n",
      "897/897 [==============================] - 30s 33ms/step - loss: 7.6829e-04 - mae: 0.0186 - val_loss: 9.3777e-04 - val_mae: 0.0206\n",
      "Epoch 22/30\n",
      "897/897 [==============================] - 29s 32ms/step - loss: 7.5382e-04 - mae: 0.0185 - val_loss: 9.0297e-04 - val_mae: 0.0204\n",
      "Epoch 23/30\n",
      "897/897 [==============================] - 29s 32ms/step - loss: 7.7350e-04 - mae: 0.0190 - val_loss: 0.0011 - val_mae: 0.0228\n",
      "Epoch 24/30\n",
      "897/897 [==============================] - 29s 32ms/step - loss: 7.3560e-04 - mae: 0.0182 - val_loss: 0.0010 - val_mae: 0.0217\n",
      "Epoch 25/30\n",
      "897/897 [==============================] - 29s 32ms/step - loss: 7.1734e-04 - mae: 0.0179 - val_loss: 0.0011 - val_mae: 0.0238\n",
      "Epoch 26/30\n",
      "897/897 [==============================] - 29s 32ms/step - loss: 7.2438e-04 - mae: 0.0182 - val_loss: 0.0011 - val_mae: 0.0220\n",
      "Epoch 27/30\n",
      "897/897 [==============================] - 29s 32ms/step - loss: 7.0439e-04 - mae: 0.0179 - val_loss: 9.9079e-04 - val_mae: 0.0224\n",
      "Epoch 28/30\n",
      "897/897 [==============================] - 29s 32ms/step - loss: 6.8820e-04 - mae: 0.0176 - val_loss: 0.0010 - val_mae: 0.0214\n",
      "Epoch 29/30\n",
      "897/897 [==============================] - 30s 33ms/step - loss: 6.7289e-04 - mae: 0.0174 - val_loss: 0.0011 - val_mae: 0.0221\n",
      "Epoch 30/30\n",
      "897/897 [==============================] - 30s 33ms/step - loss: 6.9950e-04 - mae: 0.0180 - val_loss: 0.0010 - val_mae: 0.0213\n"
     ]
    },
    {
     "data": {
      "image/png": "[encoded data removed]",
      "text/plain": [
       "<Figure size 432x288 with 1 Axes>"
      ]
     },
     "metadata": {
      "needs_background": "light"
     },
     "output_type": "display_data"
    },
    {
     "name": "stdout",
     "output_type": "stream",
     "text": [
      "The Mean Squared Error is: 0.5600711645993203\n"
     ]
    }
   ],
   "source": [
    "## Saving the result file to the folder of the model\n",
    "try:\n",
    "    os.chdir(os.path.join(dest,'ConvLSTM'))\n",
    "    print('Directory present')\n",
    "except FileNotFoundError:\n",
    "    print('Creating a new directory......')\n",
    "    os.chdir(os.path.join(dest))\n",
    "    os.mkdir('ConvLSTM')\n",
    "    os.chdir(os.path.join(dest,'ConvLSTM'))\n",
    "    print('New Directory Created')\n",
    "\n",
    "history = simple_convlstm.fit(x_train_conv,y_train,validation_split=0.1,batch_size=BATCH_SIZE,epochs=EPOCHS,callbacks=[checkpoint_simple])\n",
    "\n",
    "plt.plot(history.history['loss'],'r',label='Training Loss')\n",
    "plt.plot(history.history['val_loss'],'b',label='Validation Loss')\n",
    "plt.legend()\n",
    "plt.show()\n",
    "\n",
    "simple_convlstm.load_weights(filepath_simple)\n",
    "preds = simple_convlstm.predict(x_test_conv)\n",
    "\n",
    "y_test_unscaled = scaler.inverse_transform(y_test)\n",
    "y_pred_unscaled = scaler.inverse_transform(preds)\n",
    "\n",
    "e_mse = mse(y_test_unscaled[:,5],y_pred_unscaled[:,5])\n",
    "print(f'The Mean Squared Error is: {e_mse}')\n",
    "\n",
    "for i in range(y_test.shape[1]):\n",
    "        sheet1.write(0, 0, 'MSE')\n",
    "        sheet1.write(0, 1, 'Hours Ahead')\n",
    "        sheet1.write(i + 1, 0, mse(y_test_unscaled[:,i],y_pred_unscaled[:,i]))\n",
    "        sheet1.write(i + 1, 1, i+1)\n"
   ]
  },
  {
   "cell_type": "code",
   "execution_count": 36,
   "metadata": {
    "ExecuteTime": {
     "end_time": "2022-03-09T02:49:35.614629Z",
     "start_time": "2022-03-09T02:49:35.311355Z"
    },
    "id": "S-jxgMjNjIYZ"
   },
   "outputs": [],
   "source": [
    "## Attention model\n",
    "K.clear_session()\n",
    "atten_convlstm = keras.Sequential()\n",
    "atten_convlstm.add(keras.layers.ConvLSTM2D(64, kernel_size=(1,2),return_sequences=True, \n",
    "                                            input_shape=(x_train_conv.shape[1], x_train_conv.shape[2], \n",
    "                                                         x_train_conv.shape[3], x_train_conv.shape[4])))\n",
    "atten_convlstm.add(keras.layers.ConvLSTM2D(64, kernel_size=(1,2),return_sequences=True))\n",
    "atten_convlstm.add(keras.layers.ConvLSTM2D(64, kernel_size=(1,2),return_sequences=True))\n",
    "atten_convlstm.add(keras.layers.ConvLSTM2D(64, kernel_size=(1,2),return_sequences=True))\n",
    "atten_convlstm.add(attention(return_sequences=True))\n",
    "atten_convlstm.add(keras.layers.Flatten())\n",
    "atten_convlstm.add(keras.layers.Dense(512, activation='relu'))\n",
    "atten_convlstm.add(keras.layers.Dense(128, activation='relu'))\n",
    "atten_convlstm.add(keras.layers.Dense(64, activation='relu'))\n",
    "atten_convlstm.add(keras.layers.Dense(32))\n",
    "atten_convlstm.add(keras.layers.Dense(6))\n",
    "\n",
    "atten_convlstm.compile(loss='mse', optimizer=keras.optimizers.Adam(learning_rate=LR), metrics=['mae'])"
   ]
  },
  {
   "cell_type": "code",
   "execution_count": 37,
   "metadata": {
    "ExecuteTime": {
     "end_time": "2022-03-09T03:04:53.447355Z",
     "start_time": "2022-03-09T02:49:39.672770Z"
    },
    "colab": {
     "base_uri": "https://localhost:8080/",
     "height": 477
    },
    "id": "Ey2uZ1JIjIYZ",
    "outputId": "bc60db0c-a963-45a9-b968-f45ab384c622",
    "scrolled": true
   },
   "outputs": [
    {
     "name": "stdout",
     "output_type": "stream",
     "text": [
      "Directory present\n",
      "Epoch 1/30\n",
      "897/897 [==============================] - 38s 36ms/step - loss: 0.0089 - mae: 0.0573 - val_loss: 0.0049 - val_mae: 0.0538\n",
      "Epoch 2/30\n",
      "897/897 [==============================] - 30s 34ms/step - loss: 0.0022 - mae: 0.0342 - val_loss: 0.0027 - val_mae: 0.0356\n",
      "Epoch 3/30\n",
      "897/897 [==============================] - 31s 35ms/step - loss: 0.0016 - mae: 0.0283 - val_loss: 0.0020 - val_mae: 0.0324\n",
      "Epoch 4/30\n",
      "897/897 [==============================] - 30s 34ms/step - loss: 0.0015 - mae: 0.0268 - val_loss: 0.0019 - val_mae: 0.0297\n",
      "Epoch 5/30\n",
      "897/897 [==============================] - 31s 34ms/step - loss: 0.0014 - mae: 0.0257 - val_loss: 0.0023 - val_mae: 0.0337\n",
      "Epoch 6/30\n",
      "897/897 [==============================] - 31s 34ms/step - loss: 0.0013 - mae: 0.0251 - val_loss: 0.0024 - val_mae: 0.0384\n",
      "Epoch 7/30\n",
      "897/897 [==============================] - 30s 34ms/step - loss: 0.0012 - mae: 0.0240 - val_loss: 0.0021 - val_mae: 0.0347\n",
      "Epoch 8/30\n",
      "897/897 [==============================] - 31s 34ms/step - loss: 0.0012 - mae: 0.0233 - val_loss: 0.0020 - val_mae: 0.0366\n",
      "Epoch 9/30\n",
      "897/897 [==============================] - 30s 34ms/step - loss: 0.0011 - mae: 0.0224 - val_loss: 0.0014 - val_mae: 0.0265\n",
      "Epoch 10/30\n",
      "897/897 [==============================] - 31s 35ms/step - loss: 0.0011 - mae: 0.0225 - val_loss: 0.0016 - val_mae: 0.0303\n",
      "Epoch 11/30\n",
      "897/897 [==============================] - 30s 34ms/step - loss: 0.0010 - mae: 0.0219 - val_loss: 0.0014 - val_mae: 0.0263\n",
      "Epoch 12/30\n",
      "897/897 [==============================] - 30s 34ms/step - loss: 0.0010 - mae: 0.0219 - val_loss: 0.0023 - val_mae: 0.0386\n",
      "Epoch 13/30\n",
      "897/897 [==============================] - 31s 34ms/step - loss: 9.8171e-04 - mae: 0.0214 - val_loss: 0.0014 - val_mae: 0.0261\n",
      "Epoch 14/30\n",
      "897/897 [==============================] - 31s 35ms/step - loss: 9.6139e-04 - mae: 0.0211 - val_loss: 0.0015 - val_mae: 0.0274\n",
      "Epoch 15/30\n",
      "897/897 [==============================] - 30s 34ms/step - loss: 9.0520e-04 - mae: 0.0202 - val_loss: 0.0014 - val_mae: 0.0257\n",
      "Epoch 16/30\n",
      "897/897 [==============================] - 30s 33ms/step - loss: 9.0218e-04 - mae: 0.0204 - val_loss: 0.0012 - val_mae: 0.0240\n",
      "Epoch 17/30\n",
      "897/897 [==============================] - 31s 34ms/step - loss: 8.6828e-04 - mae: 0.0198 - val_loss: 0.0013 - val_mae: 0.0266\n",
      "Epoch 18/30\n",
      "897/897 [==============================] - 29s 33ms/step - loss: 8.5827e-04 - mae: 0.0197 - val_loss: 0.0011 - val_mae: 0.0222\n",
      "Epoch 19/30\n",
      "897/897 [==============================] - 30s 33ms/step - loss: 8.4497e-04 - mae: 0.0196 - val_loss: 0.0013 - val_mae: 0.0256\n",
      "Epoch 20/30\n",
      "897/897 [==============================] - 29s 33ms/step - loss: 8.0792e-04 - mae: 0.0191 - val_loss: 0.0010 - val_mae: 0.0214\n",
      "Epoch 21/30\n",
      "897/897 [==============================] - 30s 33ms/step - loss: 8.0092e-04 - mae: 0.0191 - val_loss: 0.0010 - val_mae: 0.0215\n",
      "Epoch 22/30\n",
      "897/897 [==============================] - 30s 34ms/step - loss: 7.8154e-04 - mae: 0.0189 - val_loss: 0.0010 - val_mae: 0.0219\n",
      "Epoch 23/30\n",
      "897/897 [==============================] - 29s 33ms/step - loss: 7.9275e-04 - mae: 0.0191 - val_loss: 0.0014 - val_mae: 0.0259\n",
      "Epoch 24/30\n",
      "897/897 [==============================] - 30s 33ms/step - loss: 7.5287e-04 - mae: 0.0185 - val_loss: 0.0012 - val_mae: 0.0232\n",
      "Epoch 25/30\n",
      "897/897 [==============================] - 29s 33ms/step - loss: 7.3805e-04 - mae: 0.0182 - val_loss: 0.0013 - val_mae: 0.0252\n",
      "Epoch 26/30\n",
      "897/897 [==============================] - 30s 33ms/step - loss: 7.3682e-04 - mae: 0.0184 - val_loss: 0.0011 - val_mae: 0.0228\n",
      "Epoch 27/30\n",
      "897/897 [==============================] - 29s 32ms/step - loss: 7.2367e-04 - mae: 0.0181 - val_loss: 0.0013 - val_mae: 0.0246\n",
      "Epoch 28/30\n",
      "897/897 [==============================] - 29s 32ms/step - loss: 7.0475e-04 - mae: 0.0177 - val_loss: 8.9539e-04 - val_mae: 0.0206\n",
      "Epoch 29/30\n",
      "897/897 [==============================] - 29s 33ms/step - loss: 6.9735e-04 - mae: 0.0177 - val_loss: 0.0010 - val_mae: 0.0218\n",
      "Epoch 30/30\n",
      "897/897 [==============================] - 29s 33ms/step - loss: 7.0604e-04 - mae: 0.0181 - val_loss: 0.0011 - val_mae: 0.0215\n"
     ]
    },
    {
     "data": {
      "image/png": "[encoded data removed]",
      "text/plain": [
       "<Figure size 432x288 with 1 Axes>"
      ]
     },
     "metadata": {
      "needs_background": "light"
     },
     "output_type": "display_data"
    },
    {
     "name": "stdout",
     "output_type": "stream",
     "text": [
      "The Mean Squared Error is: 0.6909091520005658\n"
     ]
    }
   ],
   "source": [
    "## Saving the result file to the folder of the model\n",
    "try:\n",
    "    os.chdir(os.path.join(dest,'ConvLSTM'))\n",
    "    print('Directory present')\n",
    "except FileNotFoundError:\n",
    "    print('Creating a new directory......')\n",
    "    os.chdir(os.path.join(dest))\n",
    "    os.mkdir('ConvLSTM')\n",
    "    os.chdir(os.path.join(dest,'ConvLSTM'))\n",
    "    print('New Directory Created')\n",
    "\n",
    "history = atten_convlstm.fit(x_train_conv,y_train,validation_split=0.1,batch_size=BATCH_SIZE,epochs=EPOCHS,callbacks=[checkpoint_attention])\n",
    "\n",
    "plt.plot(history.history['loss'],'r',label='Training Loss')\n",
    "plt.plot(history.history['val_loss'],'b',label='Validation Loss')\n",
    "plt.legend()\n",
    "plt.show()\n",
    "\n",
    "atten_convlstm.load_weights(filepath_attention)\n",
    "preds = atten_convlstm.predict(x_test_conv)\n",
    "\n",
    "y_test_unscaled = scaler.inverse_transform(y_test)\n",
    "y_pred_unscaled = scaler.inverse_transform(preds)\n",
    "\n",
    "e_mse = mse(y_test_unscaled[:,5],y_pred_unscaled[:,5])\n",
    "print(f'The Mean Squared Error is: {e_mse}')\n",
    "\n",
    "for i in range(y_test.shape[1]):\n",
    "        sheet2.write(0, 0, 'MSE')\n",
    "        sheet2.write(0, 1, 'Hours Ahead')\n",
    "        sheet2.write(i + 1, 0, mse(y_test_unscaled[:,i],y_pred_unscaled[:,i]))\n",
    "        sheet2.write(i + 1, 1, i+1)\n",
    "        sheet3.write(0, i, \"Real-test\")\n",
    "        sheet4.write(0, i, \"Predicted_test\")\n",
    "        for j in range(y_test_unscaled.shape[0]):\n",
    "                 sheet3.write(j + 1, i, float(y_test_unscaled[j, i]))\n",
    "        for k in range(y_pred_unscaled.shape[0]):\n",
    "                 sheet4.write(k + 1, i, float(y_pred_unscaled[k, i]))\n",
    "wk.save('ConvLSTM Results.xls')"
   ]
  },
  {
   "cell_type": "markdown",
   "metadata": {
    "id": "rpSVHR1rjIYZ"
   },
   "source": [
    "## Seq2Seq Model"
   ]
  },
  {
   "cell_type": "code",
   "execution_count": 38,
   "metadata": {
    "ExecuteTime": {
     "end_time": "2022-03-09T03:05:15.488440Z",
     "start_time": "2022-03-09T03:05:15.473438Z"
    },
    "id": "Pj0g15bvjIYa"
   },
   "outputs": [],
   "source": [
    "## Creating the prelimaries \n",
    "\n",
    "filepath_simple = 'simple_seq2seq.hdf5'\n",
    "filepath_attention = 'attention_seq2seq.hdf5'\n",
    "\n",
    "checkpoint_simple = keras.callbacks.ModelCheckpoint(filepath_simple,monitor='val_loss',save_best_only=True)\n",
    "checkpoint_attention = keras.callbacks.ModelCheckpoint(filepath_attention, monitor='val_loss',save_best_only=True)\n",
    "\n",
    "wk=Workbook()\n",
    "sheet1 = wk.add_sheet('Simple', cell_overwrite_ok=True)\n",
    "sheet2 = wk.add_sheet('Attention', cell_overwrite_ok=True)\n",
    "sheet3 = wk.add_sheet('Real-test', cell_overwrite_ok=True)\n",
    "sheet4 = wk.add_sheet('Predicted-test', cell_overwrite_ok=True)"
   ]
  },
  {
   "cell_type": "code",
   "execution_count": 39,
   "metadata": {
    "ExecuteTime": {
     "end_time": "2022-03-09T03:05:16.872828Z",
     "start_time": "2022-03-09T03:05:16.864826Z"
    },
    "id": "zUeQqcXKjIYa"
   },
   "outputs": [],
   "source": [
    "## Reshaping the training data to suit Seq2Seq model\n",
    "y_train_seq = y_train.reshape(y_train.shape[0], y_train.shape[1], 1)"
   ]
  },
  {
   "cell_type": "code",
   "execution_count": 40,
   "metadata": {
    "ExecuteTime": {
     "end_time": "2022-03-09T03:05:22.382514Z",
     "start_time": "2022-03-09T03:05:21.256698Z"
    },
    "colab": {
     "base_uri": "https://localhost:8080/"
    },
    "id": "mTfem7iNjIYa",
    "outputId": "a8e37142-eeb1-4a06-f66b-4153b0048c42"
   },
   "outputs": [
    {
     "name": "stdout",
     "output_type": "stream",
     "text": [
      "KerasTensor(type_spec=TensorSpec(shape=(None, 6, 128), dtype=tf.float32, name=None), name='lstm_7/PartitionedCall:1', description=\"created by layer 'lstm_7'\")\n",
      "Model: \"model\"\n",
      "__________________________________________________________________________________________________\n",
      "Layer (type)                    Output Shape         Param #     Connected to                     \n",
      "==================================================================================================\n",
      "input_1 (InputLayer)            [(None, 6, 14)]      0                                            \n",
      "__________________________________________________________________________________________________\n",
      "lstm (LSTM)                     (None, 6, 128)       73216       input_1[0][0]                    \n",
      "__________________________________________________________________________________________________\n",
      "lstm_1 (LSTM)                   (None, 6, 128)       131584      lstm[0][0]                       \n",
      "__________________________________________________________________________________________________\n",
      "lstm_2 (LSTM)                   (None, 6, 128)       131584      lstm_1[0][0]                     \n",
      "__________________________________________________________________________________________________\n",
      "lstm_3 (LSTM)                   [(None, 128), (None, 131584      lstm_2[0][0]                     \n",
      "__________________________________________________________________________________________________\n",
      "repeat_vector (RepeatVector)    (None, 6, 128)       0           lstm_3[0][0]                     \n",
      "__________________________________________________________________________________________________\n",
      "lstm_4 (LSTM)                   (None, 6, 128)       131584      repeat_vector[0][0]              \n",
      "                                                                 lstm_3[0][0]                     \n",
      "                                                                 lstm_3[0][2]                     \n",
      "__________________________________________________________________________________________________\n",
      "lstm_5 (LSTM)                   (None, 6, 128)       131584      lstm_4[0][0]                     \n",
      "__________________________________________________________________________________________________\n",
      "lstm_6 (LSTM)                   (None, 6, 128)       131584      lstm_5[0][0]                     \n",
      "__________________________________________________________________________________________________\n",
      "lstm_7 (LSTM)                   (None, 6, 128)       131584      lstm_6[0][0]                     \n",
      "__________________________________________________________________________________________________\n",
      "time_distributed (TimeDistribut (None, 6, 1)         129         lstm_7[0][0]                     \n",
      "==================================================================================================\n",
      "Total params: 994,433\n",
      "Trainable params: 994,433\n",
      "Non-trainable params: 0\n",
      "__________________________________________________________________________________________________\n"
     ]
    }
   ],
   "source": [
    "## Simple Model\n",
    "K.clear_session()\n",
    "input_train = keras.layers.Input(shape=(x_train.shape[1], x_train.shape[2]))\n",
    "output_train = keras.layers.Input(shape=(y_train_seq.shape[1], y_train_seq.shape[2]))\n",
    "\n",
    "### --------------------------------Encoder Section -----------------------------------------------###\n",
    "encoder_first = keras.layers.LSTM(128, return_sequences=True, return_state=False)(input_train)\n",
    "encoder_second = keras.layers.LSTM(128, return_sequences=True)(encoder_first)\n",
    "encoder_third = keras.layers.LSTM(128, return_sequences=True)(encoder_second)\n",
    "encoder_fourth, encoder_fourth_s1, encoder_fourth_s2 = keras.layers.LSTM(128,return_sequences=False, return_state=True)(encoder_third)\n",
    "\n",
    "###---------------------------------Decorder Section-----------------------------------------------###\n",
    "decoder_first = keras.layers.RepeatVector(output_train.shape[1])(encoder_fourth)\n",
    "decoder_second = keras.layers.LSTM(128, return_state=False, return_sequences=True)(decoder_first,initial_state=[encoder_fourth,encoder_fourth_s2])\n",
    "decoder_third = keras.layers.LSTM(128,return_sequences=True)(decoder_second)\n",
    "decoder_fourth = keras.layers.LSTM(128,return_sequences=True)(decoder_third)\n",
    "decoder_fifth = keras.layers.LSTM(128,return_sequences=True)(decoder_fourth)\n",
    "print(decoder_fifth)\n",
    "\n",
    "###--------------------------------Output Section-------------------------------------------------###\n",
    "output = keras.layers.TimeDistributed(keras.layers.Dense(output_train.shape[2]))(decoder_fifth)\n",
    "\n",
    "simple_seq = keras.Model(inputs=input_train, outputs=output)\n",
    "opt = keras.optimizers.Adam(learning_rate=LR)\n",
    "simple_seq.compile(loss='mse', optimizer=opt, metrics=['mae'])\n",
    "simple_seq.summary()"
   ]
  },
  {
   "cell_type": "code",
   "execution_count": 41,
   "metadata": {
    "ExecuteTime": {
     "end_time": "2022-03-09T03:12:19.770717Z",
     "start_time": "2022-03-09T03:05:29.874159Z"
    },
    "colab": {
     "base_uri": "https://localhost:8080/",
     "height": 508
    },
    "id": "-xA6I61VjIYa",
    "outputId": "dd83ceb7-0cbd-4cd6-d21e-7c3316c9db4c",
    "scrolled": true
   },
   "outputs": [
    {
     "name": "stdout",
     "output_type": "stream",
     "text": [
      "Creating a new directory......\n",
      "New Directory Created\n",
      "Epoch 1/30\n",
      "897/897 [==============================] - 21s 17ms/step - loss: 0.0108 - mae: 0.0637 - val_loss: 0.0048 - val_mae: 0.0529\n",
      "Epoch 2/30\n",
      "897/897 [==============================] - 13s 15ms/step - loss: 0.0033 - mae: 0.0427 - val_loss: 0.0038 - val_mae: 0.0495\n",
      "Epoch 3/30\n",
      "897/897 [==============================] - 13s 15ms/step - loss: 0.0024 - mae: 0.0359 - val_loss: 0.0023 - val_mae: 0.0350\n",
      "Epoch 4/30\n",
      "897/897 [==============================] - 13s 15ms/step - loss: 0.0016 - mae: 0.0287 - val_loss: 0.0018 - val_mae: 0.0318\n",
      "Epoch 5/30\n",
      "897/897 [==============================] - 13s 15ms/step - loss: 0.0013 - mae: 0.0257 - val_loss: 0.0021 - val_mae: 0.0349\n",
      "Epoch 6/30\n",
      "897/897 [==============================] - 14s 15ms/step - loss: 0.0012 - mae: 0.0245 - val_loss: 0.0016 - val_mae: 0.0286\n",
      "Epoch 7/30\n",
      "897/897 [==============================] - 13s 15ms/step - loss: 0.0011 - mae: 0.0232 - val_loss: 0.0018 - val_mae: 0.0309\n",
      "Epoch 8/30\n",
      "897/897 [==============================] - 13s 14ms/step - loss: 0.0011 - mae: 0.0225 - val_loss: 0.0028 - val_mae: 0.0420\n",
      "Epoch 9/30\n",
      "897/897 [==============================] - 13s 15ms/step - loss: 0.0010 - mae: 0.0216 - val_loss: 0.0015 - val_mae: 0.0273\n",
      "Epoch 10/30\n",
      "897/897 [==============================] - 13s 14ms/step - loss: 0.0010 - mae: 0.0218 - val_loss: 0.0017 - val_mae: 0.0290\n",
      "Epoch 11/30\n",
      "897/897 [==============================] - 13s 15ms/step - loss: 9.6350e-04 - mae: 0.0210 - val_loss: 0.0012 - val_mae: 0.0229\n",
      "Epoch 12/30\n",
      "897/897 [==============================] - 13s 15ms/step - loss: 9.4103e-04 - mae: 0.0207 - val_loss: 0.0020 - val_mae: 0.0357\n",
      "Epoch 13/30\n",
      "897/897 [==============================] - 13s 14ms/step - loss: 9.0362e-04 - mae: 0.0203 - val_loss: 0.0012 - val_mae: 0.0236\n",
      "Epoch 14/30\n",
      "897/897 [==============================] - 13s 14ms/step - loss: 8.8181e-04 - mae: 0.0200 - val_loss: 0.0013 - val_mae: 0.0249\n",
      "Epoch 15/30\n",
      "897/897 [==============================] - 13s 15ms/step - loss: 8.3391e-04 - mae: 0.0193 - val_loss: 0.0016 - val_mae: 0.0289\n",
      "Epoch 16/30\n",
      "897/897 [==============================] - 13s 15ms/step - loss: 8.3502e-04 - mae: 0.0195 - val_loss: 0.0013 - val_mae: 0.0256\n",
      "Epoch 17/30\n",
      "897/897 [==============================] - 13s 14ms/step - loss: 8.0107e-04 - mae: 0.0191 - val_loss: 0.0013 - val_mae: 0.0249\n",
      "Epoch 18/30\n",
      "897/897 [==============================] - 13s 15ms/step - loss: 7.8743e-04 - mae: 0.0188 - val_loss: 0.0012 - val_mae: 0.0252\n",
      "Epoch 19/30\n",
      "897/897 [==============================] - 13s 15ms/step - loss: 7.5447e-04 - mae: 0.0184 - val_loss: 0.0014 - val_mae: 0.0250\n",
      "Epoch 20/30\n",
      "897/897 [==============================] - 14s 15ms/step - loss: 7.3125e-04 - mae: 0.0180 - val_loss: 0.0011 - val_mae: 0.0218\n",
      "Epoch 21/30\n",
      "897/897 [==============================] - 13s 15ms/step - loss: 7.2866e-04 - mae: 0.0179 - val_loss: 0.0011 - val_mae: 0.0222\n",
      "Epoch 22/30\n",
      "897/897 [==============================] - 14s 15ms/step - loss: 6.9877e-04 - mae: 0.0175 - val_loss: 0.0010 - val_mae: 0.0224\n",
      "Epoch 23/30\n",
      "897/897 [==============================] - 14s 15ms/step - loss: 7.0912e-04 - mae: 0.0179 - val_loss: 0.0018 - val_mae: 0.0278\n",
      "Epoch 24/30\n",
      "897/897 [==============================] - 13s 15ms/step - loss: 6.8125e-04 - mae: 0.0173 - val_loss: 0.0012 - val_mae: 0.0240\n",
      "Epoch 25/30\n",
      "897/897 [==============================] - 13s 15ms/step - loss: 6.7035e-04 - mae: 0.0172 - val_loss: 0.0013 - val_mae: 0.0232\n",
      "Epoch 26/30\n",
      "897/897 [==============================] - 13s 15ms/step - loss: 6.6412e-04 - mae: 0.0172 - val_loss: 0.0015 - val_mae: 0.0248\n",
      "Epoch 27/30\n",
      "897/897 [==============================] - 14s 15ms/step - loss: 6.4298e-04 - mae: 0.0168 - val_loss: 0.0012 - val_mae: 0.0235\n",
      "Epoch 28/30\n",
      "897/897 [==============================] - 13s 15ms/step - loss: 6.3323e-04 - mae: 0.0167 - val_loss: 0.0014 - val_mae: 0.0237\n",
      "Epoch 29/30\n",
      "897/897 [==============================] - 13s 15ms/step - loss: 6.2335e-04 - mae: 0.0165 - val_loss: 0.0012 - val_mae: 0.0221\n",
      "Epoch 30/30\n",
      "897/897 [==============================] - 13s 15ms/step - loss: 6.1881e-04 - mae: 0.0166 - val_loss: 0.0012 - val_mae: 0.0227\n"
     ]
    },
    {
     "data": {
      "image/png": "[encoded data removed]",
      "text/plain": [
       "<Figure size 432x288 with 1 Axes>"
      ]
     },
     "metadata": {
      "needs_background": "light"
     },
     "output_type": "display_data"
    },
    {
     "name": "stdout",
     "output_type": "stream",
     "text": [
      "(7957, 6)\n",
      "The Mean Squared Error is: 0.6377805722421384\n"
     ]
    }
   ],
   "source": [
    "## Saving the result file to the folder of the model\n",
    "try:\n",
    "    os.chdir(os.path.join(dest,'Seq2Seq'))\n",
    "    print('Directory present')\n",
    "except FileNotFoundError:\n",
    "    print('Creating a new directory......')\n",
    "    os.chdir(os.path.join(dest))\n",
    "    os.mkdir('Seq2Seq')\n",
    "    os.chdir(os.path.join(dest,'Seq2Seq'))\n",
    "    print('New Directory Created')\n",
    "\n",
    "history = simple_seq.fit(x_train,y_train_seq,validation_split=0.1,batch_size=BATCH_SIZE,epochs=EPOCHS,callbacks=[checkpoint_simple])\n",
    "\n",
    "plt.plot(history.history['loss'],'r',label='Training Loss')\n",
    "plt.plot(history.history['val_loss'],'b',label='Validation Loss')\n",
    "plt.legend()\n",
    "plt.show()\n",
    "\n",
    "simple_seq.load_weights(filepath_simple)\n",
    "preds = simple_seq.predict(x_test)\n",
    "\n",
    "preds = preds.reshape(preds.shape[0],preds.shape[1])\n",
    "print(preds.shape)\n",
    "\n",
    "y_test_unscaled = scaler.inverse_transform(y_test)\n",
    "y_pred_unscaled = scaler.inverse_transform(preds)\n",
    "\n",
    "e_mse = mse(y_test_unscaled[:,5],y_pred_unscaled[:,5])\n",
    "print(f'The Mean Squared Error is: {e_mse}')\n",
    "\n",
    "for i in range(y_test.shape[1]):\n",
    "        sheet1.write(0, 0, 'MSE')\n",
    "        sheet1.write(0, 1, 'Hours Ahead')\n",
    "        sheet1.write(i + 1, 0, mse(y_test_unscaled[:,i],y_pred_unscaled[:,i]))\n",
    "        sheet1.write(i + 1, 1, i+1)\n"
   ]
  },
  {
   "cell_type": "code",
   "execution_count": 42,
   "metadata": {
    "ExecuteTime": {
     "end_time": "2022-03-09T03:16:08.169869Z",
     "start_time": "2022-03-09T03:16:07.065682Z"
    },
    "colab": {
     "base_uri": "https://localhost:8080/"
    },
    "id": "mU5RyXFUjIYa",
    "outputId": "140398d3-7ec7-4ed2-98af-adf413b4c38a"
   },
   "outputs": [
    {
     "name": "stdout",
     "output_type": "stream",
     "text": [
      "Model: \"model\"\n",
      "__________________________________________________________________________________________________\n",
      "Layer (type)                    Output Shape         Param #     Connected to                     \n",
      "==================================================================================================\n",
      "input_1 (InputLayer)            [(None, 6, 14)]      0                                            \n",
      "__________________________________________________________________________________________________\n",
      "lstm (LSTM)                     (None, 6, 128)       73216       input_1[0][0]                    \n",
      "__________________________________________________________________________________________________\n",
      "lstm_1 (LSTM)                   (None, 6, 128)       131584      lstm[0][0]                       \n",
      "__________________________________________________________________________________________________\n",
      "lstm_2 (LSTM)                   (None, 6, 128)       131584      lstm_1[0][0]                     \n",
      "__________________________________________________________________________________________________\n",
      "lstm_3 (LSTM)                   [(None, 6, 128), (No 131584      lstm_2[0][0]                     \n",
      "__________________________________________________________________________________________________\n",
      "repeat_vector (RepeatVector)    (None, 6, 128)       0           lstm_3[0][1]                     \n",
      "__________________________________________________________________________________________________\n",
      "lstm_4 (LSTM)                   (None, 6, 128)       131584      repeat_vector[0][0]              \n",
      "                                                                 lstm_3[0][1]                     \n",
      "                                                                 lstm_3[0][2]                     \n",
      "__________________________________________________________________________________________________\n",
      "dot (Dot)                       (None, 6, 6)         0           lstm_4[0][0]                     \n",
      "                                                                 lstm_3[0][0]                     \n",
      "__________________________________________________________________________________________________\n",
      "activation (Activation)         (None, 6, 6)         0           dot[0][0]                        \n",
      "__________________________________________________________________________________________________\n",
      "dot_1 (Dot)                     (None, 6, 128)       0           activation[0][0]                 \n",
      "                                                                 lstm_3[0][0]                     \n",
      "__________________________________________________________________________________________________\n",
      "concatenate (Concatenate)       (None, 6, 256)       0           dot_1[0][0]                      \n",
      "                                                                 lstm_4[0][0]                     \n",
      "__________________________________________________________________________________________________\n",
      "lstm_5 (LSTM)                   (None, 6, 128)       197120      concatenate[0][0]                \n",
      "__________________________________________________________________________________________________\n",
      "lstm_6 (LSTM)                   (None, 6, 128)       131584      lstm_5[0][0]                     \n",
      "__________________________________________________________________________________________________\n",
      "lstm_7 (LSTM)                   (None, 6, 128)       131584      lstm_6[0][0]                     \n",
      "__________________________________________________________________________________________________\n",
      "time_distributed (TimeDistribut (None, 6, 1)         129         lstm_7[0][0]                     \n",
      "==================================================================================================\n",
      "Total params: 1,059,969\n",
      "Trainable params: 1,059,969\n",
      "Non-trainable params: 0\n",
      "__________________________________________________________________________________________________\n"
     ]
    }
   ],
   "source": [
    "## Attention Model\n",
    "K.clear_session()\n",
    "\n",
    "input_train = keras.layers.Input(shape=(x_train.shape[1], x_train.shape[2]))\n",
    "output_train = keras.layers.Input(shape=(y_train_seq.shape[1], y_train_seq.shape[2]))\n",
    "\n",
    "###----------------------------------------Encoder Section------------------------------------------###\n",
    "encoder_first = keras.layers.LSTM(128, return_sequences=True, return_state=False)(input_train)\n",
    "encoder_second = keras.layers.LSTM(128, return_sequences=True)(encoder_first)\n",
    "encoder_third = keras.layers.LSTM(128, return_sequences=True)(encoder_second)\n",
    "encoder_fourth, encoder_fourth_s1, encoder_fourth_s2 = keras.layers.LSTM(128,return_sequences=True,return_state=True)(encoder_third)\n",
    "\n",
    "###-----------------------------------------Decoder Section------------------------------------------###\n",
    "decoder_first = keras.layers.RepeatVector(output_train.shape[1])(encoder_fourth_s1)\n",
    "decoder_second = keras.layers.LSTM(128, return_state=False, return_sequences=True)(decoder_first, initial_state=[encoder_fourth_s1, encoder_fourth_s2])\n",
    "\n",
    "attention = keras.layers.dot([decoder_second, encoder_fourth], axes=[2, 2])\n",
    "attention = keras.layers.Activation('softmax')(attention)\n",
    "context = keras.layers.dot([attention, encoder_fourth], axes=[2, 1])\n",
    "\n",
    "decoder_third = keras.layers.concatenate([context, decoder_second])\n",
    "\n",
    "decoder_fourth = keras.layers.LSTM(128, return_sequences=True)(decoder_third)\n",
    "decoder_fifth = keras.layers.LSTM(128, return_sequences=True)(decoder_fourth)\n",
    "decoder_sixth = keras.layers.LSTM(128, return_sequences=True)(decoder_fifth)\n",
    "\n",
    "###-----------------------------------------Output Section-----------------------------------------###\n",
    "output = keras.layers.TimeDistributed(keras.layers.Dense(output_train.shape[2]))(decoder_sixth)\n",
    "\n",
    "atten_seq = keras.Model(inputs=input_train, outputs=output)\n",
    "opt = keras.optimizers.Adam(learning_rate=LR)\n",
    "atten_seq.compile(loss='mse', optimizer=opt, metrics=['mae'])\n",
    "atten_seq.summary()"
   ]
  },
  {
   "cell_type": "code",
   "execution_count": 43,
   "metadata": {
    "ExecuteTime": {
     "end_time": "2022-03-09T03:23:11.168159Z",
     "start_time": "2022-03-09T03:16:14.601753Z"
    },
    "colab": {
     "base_uri": "https://localhost:8080/",
     "height": 491
    },
    "id": "VIVr1380jIYa",
    "outputId": "af2af7c0-9d56-4043-ab24-22f640850c66"
   },
   "outputs": [
    {
     "name": "stdout",
     "output_type": "stream",
     "text": [
      "Directory present\n",
      "Epoch 1/30\n",
      "897/897 [==============================] - 22s 17ms/step - loss: 0.0093 - mae: 0.0606 - val_loss: 0.0051 - val_mae: 0.0540\n",
      "Epoch 2/30\n",
      "897/897 [==============================] - 13s 15ms/step - loss: 0.0034 - mae: 0.0433 - val_loss: 0.0039 - val_mae: 0.0499\n",
      "Epoch 3/30\n",
      "897/897 [==============================] - 13s 15ms/step - loss: 0.0025 - mae: 0.0367 - val_loss: 0.0022 - val_mae: 0.0358\n",
      "Epoch 4/30\n",
      "897/897 [==============================] - 13s 15ms/step - loss: 0.0016 - mae: 0.0287 - val_loss: 0.0021 - val_mae: 0.0349\n",
      "Epoch 5/30\n",
      "897/897 [==============================] - 13s 15ms/step - loss: 0.0013 - mae: 0.0249 - val_loss: 0.0018 - val_mae: 0.0314\n",
      "Epoch 6/30\n",
      "897/897 [==============================] - 13s 15ms/step - loss: 0.0012 - mae: 0.0241 - val_loss: 0.0017 - val_mae: 0.0297\n",
      "Epoch 7/30\n",
      "897/897 [==============================] - 13s 15ms/step - loss: 0.0011 - mae: 0.0231 - val_loss: 0.0017 - val_mae: 0.0286\n",
      "Epoch 8/30\n",
      "897/897 [==============================] - 13s 15ms/step - loss: 0.0011 - mae: 0.0223 - val_loss: 0.0025 - val_mae: 0.0392\n",
      "Epoch 9/30\n",
      "897/897 [==============================] - 13s 15ms/step - loss: 9.9084e-04 - mae: 0.0214 - val_loss: 0.0013 - val_mae: 0.0260\n",
      "Epoch 10/30\n",
      "897/897 [==============================] - 13s 15ms/step - loss: 9.9409e-04 - mae: 0.0216 - val_loss: 0.0016 - val_mae: 0.0275\n",
      "Epoch 11/30\n",
      "897/897 [==============================] - 13s 15ms/step - loss: 9.4924e-04 - mae: 0.0209 - val_loss: 0.0011 - val_mae: 0.0222\n",
      "Epoch 12/30\n",
      "897/897 [==============================] - 13s 15ms/step - loss: 9.0919e-04 - mae: 0.0203 - val_loss: 0.0018 - val_mae: 0.0317\n",
      "Epoch 13/30\n",
      "897/897 [==============================] - 13s 15ms/step - loss: 8.8654e-04 - mae: 0.0202 - val_loss: 0.0013 - val_mae: 0.0251\n",
      "Epoch 14/30\n",
      "897/897 [==============================] - 13s 15ms/step - loss: 8.6469e-04 - mae: 0.0199 - val_loss: 0.0013 - val_mae: 0.0244\n",
      "Epoch 15/30\n",
      "897/897 [==============================] - 13s 15ms/step - loss: 8.1728e-04 - mae: 0.0192 - val_loss: 0.0016 - val_mae: 0.0288\n",
      "Epoch 16/30\n",
      "897/897 [==============================] - 14s 15ms/step - loss: 8.1382e-04 - mae: 0.0192 - val_loss: 0.0015 - val_mae: 0.0275\n",
      "Epoch 17/30\n",
      "897/897 [==============================] - 14s 15ms/step - loss: 7.8370e-04 - mae: 0.0188 - val_loss: 0.0013 - val_mae: 0.0251\n",
      "Epoch 18/30\n",
      "897/897 [==============================] - 14s 16ms/step - loss: 7.7111e-04 - mae: 0.0185 - val_loss: 0.0012 - val_mae: 0.0254\n",
      "Epoch 19/30\n",
      "897/897 [==============================] - 14s 15ms/step - loss: 7.3956e-04 - mae: 0.0182 - val_loss: 0.0012 - val_mae: 0.0232\n",
      "Epoch 20/30\n",
      "897/897 [==============================] - 13s 15ms/step - loss: 7.3112e-04 - mae: 0.0181 - val_loss: 0.0011 - val_mae: 0.0220\n",
      "Epoch 21/30\n",
      "897/897 [==============================] - 14s 15ms/step - loss: 7.1417e-04 - mae: 0.0178 - val_loss: 9.8273e-04 - val_mae: 0.0213\n",
      "Epoch 22/30\n",
      "897/897 [==============================] - 14s 15ms/step - loss: 6.8644e-04 - mae: 0.0174 - val_loss: 0.0010 - val_mae: 0.0221\n",
      "Epoch 23/30\n",
      "897/897 [==============================] - 13s 15ms/step - loss: 6.9975e-04 - mae: 0.0178 - val_loss: 0.0017 - val_mae: 0.0267\n",
      "Epoch 24/30\n",
      "897/897 [==============================] - 13s 15ms/step - loss: 6.7242e-04 - mae: 0.0172 - val_loss: 0.0013 - val_mae: 0.0256\n",
      "Epoch 25/30\n",
      "897/897 [==============================] - 14s 15ms/step - loss: 6.6331e-04 - mae: 0.0172 - val_loss: 0.0012 - val_mae: 0.0230\n",
      "Epoch 26/30\n",
      "897/897 [==============================] - 14s 15ms/step - loss: 6.5622e-04 - mae: 0.0171 - val_loss: 0.0013 - val_mae: 0.0234\n",
      "Epoch 27/30\n",
      "897/897 [==============================] - 14s 15ms/step - loss: 6.4015e-04 - mae: 0.0168 - val_loss: 0.0012 - val_mae: 0.0237\n",
      "Epoch 28/30\n",
      "897/897 [==============================] - 14s 15ms/step - loss: 6.2696e-04 - mae: 0.0166 - val_loss: 0.0015 - val_mae: 0.0252\n",
      "Epoch 29/30\n",
      "897/897 [==============================] - 14s 16ms/step - loss: 6.1793e-04 - mae: 0.0165 - val_loss: 0.0011 - val_mae: 0.0220\n",
      "Epoch 30/30\n",
      "897/897 [==============================] - 14s 15ms/step - loss: 6.0869e-04 - mae: 0.0164 - val_loss: 0.0013 - val_mae: 0.0238\n"
     ]
    },
    {
     "data": {
      "image/png": "[encoded data removed]",
      "text/plain": [
       "<Figure size 432x288 with 1 Axes>"
      ]
     },
     "metadata": {
      "needs_background": "light"
     },
     "output_type": "display_data"
    },
    {
     "name": "stdout",
     "output_type": "stream",
     "text": [
      "(7957, 6)\n",
      "The Mean Squared Error is: 0.46563171313052426\n"
     ]
    }
   ],
   "source": [
    "## Saving the result file to the folder of the model\n",
    "try:\n",
    "    os.chdir(os.path.join(dest,'Seq2Seq'))\n",
    "    print('Directory present')\n",
    "except FileNotFoundError:\n",
    "    print('Creating a new directory......')\n",
    "    os.chdir(os.path.join(dest))\n",
    "    os.mkdir('Seq2Seq')\n",
    "    os.chdir(os.path.join(dest,'Seq2Seq'))\n",
    "    print('New Directory Created')\n",
    "\n",
    "history = atten_seq.fit(x_train,y_train_seq,validation_split=0.1,batch_size=BATCH_SIZE,epochs=EPOCHS,callbacks=[checkpoint_attention])\n",
    "\n",
    "plt.plot(history.history['loss'],'r',label='Training Loss')\n",
    "plt.plot(history.history['val_loss'],'b',label='Validation Loss')\n",
    "plt.legend()\n",
    "plt.show()\n",
    "\n",
    "atten_seq.load_weights(filepath_attention)\n",
    "preds = atten_seq.predict(x_test)\n",
    "\n",
    "preds = preds.reshape(preds.shape[0],preds.shape[1])\n",
    "print(preds.shape)\n",
    "\n",
    "y_test_unscaled = scaler.inverse_transform(y_test)\n",
    "y_pred_unscaled = scaler.inverse_transform(preds)\n",
    "\n",
    "e_mse = mse(y_test_unscaled[:,5],y_pred_unscaled[:,5])\n",
    "print(f'The Mean Squared Error is: {e_mse}')\n",
    "\n",
    "for i in range(y_test.shape[1]):\n",
    "        sheet2.write(0, 0, 'MSE')\n",
    "        sheet2.write(0, 1, 'Hours Ahead')\n",
    "        sheet2.write(i + 1, 0, mse(y_test_unscaled[:,i],y_pred_unscaled[:,i]))\n",
    "        sheet2.write(i + 1, 1, i+1)\n",
    "        sheet3.write(0, i, \"Real-test\")\n",
    "        sheet4.write(0, i, \"Predicted_test\")\n",
    "        for j in range(y_test_unscaled.shape[0]):\n",
    "                 sheet3.write(j + 1, i, float(y_test_unscaled[j, i]))\n",
    "        for k in range(y_pred_unscaled.shape[0]):\n",
    "                 sheet4.write(k + 1, i, float(y_pred_unscaled[k, i]))\n",
    "wk.save('Seq2Seq Results.xls')"
   ]
  },
  {
   "cell_type": "markdown",
   "metadata": {
    "id": "qKvpHUaqjIYa"
   },
   "source": [
    "## Wavenet Model"
   ]
  },
  {
   "cell_type": "code",
   "execution_count": 44,
   "metadata": {
    "ExecuteTime": {
     "end_time": "2022-03-09T03:24:04.698616Z",
     "start_time": "2022-03-09T03:24:04.679611Z"
    },
    "id": "56mUzKqNjIYa"
   },
   "outputs": [],
   "source": [
    "## Creating the prelimaries \n",
    "\n",
    "filepath_simple = 'simple_wavenet.hdf5'\n",
    "filepath_attention = 'attention_wavenet.hdf5'\n",
    "\n",
    "checkpoint_simple = keras.callbacks.ModelCheckpoint(filepath_simple,monitor='val_loss',save_best_only=True)\n",
    "checkpoint_attention = keras.callbacks.ModelCheckpoint(filepath_attention, monitor='val_loss',save_best_only=True)\n",
    "\n",
    "wk=Workbook()\n",
    "sheet1 = wk.add_sheet('Simple', cell_overwrite_ok=True)\n",
    "sheet2 = wk.add_sheet('Attention', cell_overwrite_ok=True)\n",
    "sheet3 = wk.add_sheet('Real-test', cell_overwrite_ok=True)\n",
    "sheet4 = wk.add_sheet('Predicted-test', cell_overwrite_ok=True)"
   ]
  },
  {
   "cell_type": "code",
   "execution_count": 45,
   "metadata": {
    "ExecuteTime": {
     "end_time": "2022-03-09T03:24:06.029881Z",
     "start_time": "2022-03-09T03:24:05.736425Z"
    },
    "id": "1-iUwa8pjIYb"
   },
   "outputs": [],
   "source": [
    "n_filters = 128\n",
    "filter_width = 2\n",
    "dilation_rates = [2**i for i in range(7)]\n",
    "\n",
    "inputs = keras.layers.Input(shape=(x_train.shape[1],x_train.shape[2]))\n",
    "x=inputs\n",
    "\n",
    "skips = []\n",
    "for dilation_rate in dilation_rates:\n",
    "\n",
    "    x   = keras.layers.Conv1D(64, 1, padding='same')(x) \n",
    "    x_f = keras.layers.Conv1D(filters=n_filters,kernel_size=filter_width,padding='causal',dilation_rate=dilation_rate)(x)\n",
    "    x_g = keras.layers.Conv1D(filters=n_filters,kernel_size=filter_width, padding='causal',dilation_rate=dilation_rate)(x)\n",
    "\n",
    "    z = keras.layers.Multiply()([keras.layers.Activation('tanh')(x_f),keras.layers.Activation('sigmoid')(x_g)])\n",
    "\n",
    "    z = keras.layers.Conv1D(64, 1, padding='same', activation='relu')(z)\n",
    "\n",
    "    x = keras.layers.Add()([x, z])    \n",
    "\n",
    "    skips.append(z)\n",
    "\n",
    "out = keras.layers.Activation('relu')(keras.layers.Add()(skips)) \n",
    "out = keras.layers.Conv1D(128, 1, padding='same')(out)\n",
    "out = keras.layers.Activation('relu')(out)\n",
    "out = keras.layers.Dropout(0.4)(out)\n",
    "out = keras.layers.Conv1D(1, 1, padding='same')(out)\n",
    "\n",
    "out = keras.layers.Flatten()(out)\n",
    "out = keras.layers.Dense(6)(out)\n",
    "\n",
    "simple_wavenet = keras.Model(inputs, out)\n",
    "\n",
    "simple_wavenet.compile(loss='mse', optimizer=keras.optimizers.Adam(learning_rate=LR), metrics=['mae'])\n"
   ]
  },
  {
   "cell_type": "code",
   "execution_count": 46,
   "metadata": {
    "ExecuteTime": {
     "end_time": "2022-03-09T03:32:44.594840Z",
     "start_time": "2022-03-09T03:25:34.377797Z"
    },
    "colab": {
     "base_uri": "https://localhost:8080/",
     "height": 545
    },
    "id": "KcxMyXFLjIYb",
    "outputId": "870f40fd-2d4e-401d-b114-0ff96e3f66ce",
    "scrolled": true
   },
   "outputs": [
    {
     "name": "stdout",
     "output_type": "stream",
     "text": [
      "Creating a new directory......\n",
      "New Directory Created\n",
      "Epoch 1/30\n",
      "897/897 [==============================] - 17s 17ms/step - loss: 0.0191 - mae: 0.0904 - val_loss: 0.0053 - val_mae: 0.0518\n",
      "Epoch 2/30\n",
      "  5/897 [..............................] - ETA: 13s - loss: 0.0049 - mae: 0.0542"
     ]
    },
    {
     "name": "stderr",
     "output_type": "stream",
     "text": [
      "C:\\Users\\WSF_CA_2021\\AppData\\Roaming\\Python\\Python38\\site-packages\\tensorflow\\python\\keras\\utils\\generic_utils.py:494: CustomMaskWarning: Custom mask layers require a config and must override get_config. When loading, the custom mask layer must be passed to the custom_objects argument.\n",
      "  warnings.warn('Custom mask layers require a config and must override '\n"
     ]
    },
    {
     "name": "stdout",
     "output_type": "stream",
     "text": [
      "897/897 [==============================] - 14s 16ms/step - loss: 0.0043 - mae: 0.0500 - val_loss: 0.0030 - val_mae: 0.0413\n",
      "Epoch 3/30\n",
      "897/897 [==============================] - 14s 15ms/step - loss: 0.0029 - mae: 0.0407 - val_loss: 0.0029 - val_mae: 0.0404\n",
      "Epoch 4/30\n",
      "897/897 [==============================] - 14s 16ms/step - loss: 0.0022 - mae: 0.0353 - val_loss: 0.0026 - val_mae: 0.0412\n",
      "Epoch 5/30\n",
      "897/897 [==============================] - 14s 15ms/step - loss: 0.0018 - mae: 0.0318 - val_loss: 0.0025 - val_mae: 0.0386\n",
      "Epoch 6/30\n",
      "897/897 [==============================] - 14s 15ms/step - loss: 0.0016 - mae: 0.0299 - val_loss: 0.0020 - val_mae: 0.0334\n",
      "Epoch 7/30\n",
      "897/897 [==============================] - 14s 15ms/step - loss: 0.0014 - mae: 0.0278 - val_loss: 0.0017 - val_mae: 0.0310\n",
      "Epoch 8/30\n",
      "897/897 [==============================] - 14s 15ms/step - loss: 0.0014 - mae: 0.0272 - val_loss: 0.0021 - val_mae: 0.0353\n",
      "Epoch 9/30\n",
      "897/897 [==============================] - 14s 15ms/step - loss: 0.0012 - mae: 0.0256 - val_loss: 0.0018 - val_mae: 0.0307\n",
      "Epoch 10/30\n",
      "897/897 [==============================] - 14s 15ms/step - loss: 0.0012 - mae: 0.0255 - val_loss: 0.0022 - val_mae: 0.0346\n",
      "Epoch 11/30\n",
      "897/897 [==============================] - 14s 15ms/step - loss: 0.0012 - mae: 0.0252 - val_loss: 0.0016 - val_mae: 0.0288\n",
      "Epoch 12/30\n",
      "897/897 [==============================] - 14s 16ms/step - loss: 0.0011 - mae: 0.0243 - val_loss: 0.0027 - val_mae: 0.0423\n",
      "Epoch 13/30\n",
      "897/897 [==============================] - 14s 16ms/step - loss: 0.0011 - mae: 0.0243 - val_loss: 0.0015 - val_mae: 0.0269\n",
      "Epoch 14/30\n",
      "897/897 [==============================] - 14s 15ms/step - loss: 0.0011 - mae: 0.0241 - val_loss: 0.0018 - val_mae: 0.0311\n",
      "Epoch 15/30\n",
      "897/897 [==============================] - 14s 15ms/step - loss: 0.0010 - mae: 0.0233 - val_loss: 0.0020 - val_mae: 0.0354\n",
      "Epoch 16/30\n",
      "897/897 [==============================] - 14s 15ms/step - loss: 0.0010 - mae: 0.0231 - val_loss: 0.0015 - val_mae: 0.0282\n",
      "Epoch 17/30\n",
      "897/897 [==============================] - 14s 15ms/step - loss: 9.8879e-04 - mae: 0.0226 - val_loss: 0.0020 - val_mae: 0.0335\n",
      "Epoch 18/30\n",
      "897/897 [==============================] - 14s 15ms/step - loss: 9.8399e-04 - mae: 0.0225 - val_loss: 0.0018 - val_mae: 0.0324\n",
      "Epoch 19/30\n",
      "897/897 [==============================] - 14s 15ms/step - loss: 9.7555e-04 - mae: 0.0224 - val_loss: 0.0016 - val_mae: 0.0295\n",
      "Epoch 20/30\n",
      "897/897 [==============================] - 14s 15ms/step - loss: 9.4990e-04 - mae: 0.0222 - val_loss: 0.0013 - val_mae: 0.0266\n",
      "Epoch 21/30\n",
      "897/897 [==============================] - 15s 17ms/step - loss: 9.2570e-04 - mae: 0.0218 - val_loss: 0.0012 - val_mae: 0.0236\n",
      "Epoch 22/30\n",
      "897/897 [==============================] - 14s 15ms/step - loss: 9.0698e-04 - mae: 0.0216 - val_loss: 0.0014 - val_mae: 0.0270\n",
      "Epoch 23/30\n",
      "897/897 [==============================] - 15s 17ms/step - loss: 9.1105e-04 - mae: 0.0219 - val_loss: 0.0015 - val_mae: 0.0272\n",
      "Epoch 24/30\n",
      "897/897 [==============================] - 15s 16ms/step - loss: 8.8191e-04 - mae: 0.0214 - val_loss: 0.0014 - val_mae: 0.0253\n",
      "Epoch 25/30\n",
      "897/897 [==============================] - 15s 17ms/step - loss: 8.5522e-04 - mae: 0.0210 - val_loss: 0.0011 - val_mae: 0.0231\n",
      "Epoch 26/30\n",
      "897/897 [==============================] - 15s 16ms/step - loss: 8.2179e-04 - mae: 0.0205 - val_loss: 0.0014 - val_mae: 0.0263\n",
      "Epoch 27/30\n",
      "897/897 [==============================] - 15s 16ms/step - loss: 8.3399e-04 - mae: 0.0208 - val_loss: 0.0016 - val_mae: 0.0271\n",
      "Epoch 28/30\n",
      "897/897 [==============================] - 14s 16ms/step - loss: 8.1958e-04 - mae: 0.0206 - val_loss: 0.0014 - val_mae: 0.0254\n",
      "Epoch 29/30\n",
      "897/897 [==============================] - 15s 16ms/step - loss: 8.0853e-04 - mae: 0.0204 - val_loss: 0.0013 - val_mae: 0.0249\n",
      "Epoch 30/30\n",
      "897/897 [==============================] - 15s 17ms/step - loss: 7.9044e-04 - mae: 0.0202 - val_loss: 0.0012 - val_mae: 0.0245\n"
     ]
    },
    {
     "data": {
      "image/png": "[encoded data removed]",
      "text/plain": [
       "<Figure size 432x288 with 1 Axes>"
      ]
     },
     "metadata": {
      "needs_background": "light"
     },
     "output_type": "display_data"
    },
    {
     "name": "stdout",
     "output_type": "stream",
     "text": [
      "(7957, 6)\n",
      "The Mean Squared Error is: 0.9392224403394313\n"
     ]
    }
   ],
   "source": [
    "## Saving the result file to the folder of the model\n",
    "try:\n",
    "    os.chdir(os.path.join(dest,'Wavenet'))\n",
    "    print('Directory present')\n",
    "except FileNotFoundError:\n",
    "    print('Creating a new directory......')\n",
    "    os.chdir(os.path.join(dest))\n",
    "    os.mkdir('Wavenet')\n",
    "    os.chdir(os.path.join(dest,'Wavenet'))\n",
    "    print('New Directory Created')\n",
    "\n",
    "history = simple_wavenet.fit(x_train,y_train,validation_split=0.1,batch_size=BATCH_SIZE,epochs=EPOCHS,callbacks=[checkpoint_simple])\n",
    "\n",
    "plt.plot(history.history['loss'],'r',label='Training Loss')\n",
    "plt.plot(history.history['val_loss'],'b',label='Validation Loss')\n",
    "plt.legend()\n",
    "plt.show()\n",
    "\n",
    "simple_wavenet.load_weights(filepath_simple)\n",
    "preds = simple_wavenet.predict(x_test)\n",
    "\n",
    "preds = preds.reshape(preds.shape[0],preds.shape[1])\n",
    "print(preds.shape)\n",
    "\n",
    "y_test_unscaled = scaler.inverse_transform(y_test)\n",
    "y_pred_unscaled = scaler.inverse_transform(preds)\n",
    "\n",
    "e_mse = mse(y_test_unscaled[:,5],y_pred_unscaled[:,5])\n",
    "print(f'The Mean Squared Error is: {e_mse}')\n",
    "\n",
    "for i in range(y_test.shape[1]):\n",
    "        sheet1.write(0, 0, 'MSE')\n",
    "        sheet1.write(0, 1, 'Hours Ahead')\n",
    "        sheet1.write(i + 1, 0, mse(y_test_unscaled[:,i],y_pred_unscaled[:,i]))\n",
    "        sheet1.write(i + 1, 1, i+1)\n"
   ]
  },
  {
   "cell_type": "code",
   "execution_count": 47,
   "metadata": {
    "ExecuteTime": {
     "end_time": "2022-03-09T03:33:02.050188Z",
     "start_time": "2022-03-09T03:33:01.770417Z"
    },
    "colab": {
     "base_uri": "https://localhost:8080/"
    },
    "id": "vuKWZ7fpjIYb",
    "outputId": "2b1989df-96da-4f6a-a89a-ef5172df2852"
   },
   "outputs": [
    {
     "name": "stdout",
     "output_type": "stream",
     "text": [
      "Model: \"model_2\"\n",
      "__________________________________________________________________________________________________\n",
      "Layer (type)                    Output Shape         Param #     Connected to                     \n",
      "==================================================================================================\n",
      "input_4 (InputLayer)            [(None, 6, 14)]      0                                            \n",
      "__________________________________________________________________________________________________\n",
      "conv1d_30 (Conv1D)              (None, 6, 64)        960         input_4[0][0]                    \n",
      "__________________________________________________________________________________________________\n",
      "conv1d_31 (Conv1D)              (None, 6, 128)       16512       conv1d_30[0][0]                  \n",
      "__________________________________________________________________________________________________\n",
      "conv1d_32 (Conv1D)              (None, 6, 128)       16512       conv1d_30[0][0]                  \n",
      "__________________________________________________________________________________________________\n",
      "activation_17 (Activation)      (None, 6, 128)       0           conv1d_31[0][0]                  \n",
      "__________________________________________________________________________________________________\n",
      "activation_18 (Activation)      (None, 6, 128)       0           conv1d_32[0][0]                  \n",
      "__________________________________________________________________________________________________\n",
      "multiply_7 (Multiply)           (None, 6, 128)       0           activation_17[0][0]              \n",
      "                                                                 activation_18[0][0]              \n",
      "__________________________________________________________________________________________________\n",
      "conv1d_33 (Conv1D)              (None, 6, 64)        8256        multiply_7[0][0]                 \n",
      "__________________________________________________________________________________________________\n",
      "add_8 (Add)                     (None, 6, 64)        0           conv1d_30[0][0]                  \n",
      "                                                                 conv1d_33[0][0]                  \n",
      "__________________________________________________________________________________________________\n",
      "conv1d_34 (Conv1D)              (None, 6, 64)        4160        add_8[0][0]                      \n",
      "__________________________________________________________________________________________________\n",
      "conv1d_35 (Conv1D)              (None, 6, 128)       16512       conv1d_34[0][0]                  \n",
      "__________________________________________________________________________________________________\n",
      "conv1d_36 (Conv1D)              (None, 6, 128)       16512       conv1d_34[0][0]                  \n",
      "__________________________________________________________________________________________________\n",
      "activation_19 (Activation)      (None, 6, 128)       0           conv1d_35[0][0]                  \n",
      "__________________________________________________________________________________________________\n",
      "activation_20 (Activation)      (None, 6, 128)       0           conv1d_36[0][0]                  \n",
      "__________________________________________________________________________________________________\n",
      "multiply_8 (Multiply)           (None, 6, 128)       0           activation_19[0][0]              \n",
      "                                                                 activation_20[0][0]              \n",
      "__________________________________________________________________________________________________\n",
      "conv1d_37 (Conv1D)              (None, 6, 64)        8256        multiply_8[0][0]                 \n",
      "__________________________________________________________________________________________________\n",
      "add_9 (Add)                     (None, 6, 64)        0           conv1d_34[0][0]                  \n",
      "                                                                 conv1d_37[0][0]                  \n",
      "__________________________________________________________________________________________________\n",
      "conv1d_38 (Conv1D)              (None, 6, 64)        4160        add_9[0][0]                      \n",
      "__________________________________________________________________________________________________\n",
      "conv1d_39 (Conv1D)              (None, 6, 128)       16512       conv1d_38[0][0]                  \n",
      "__________________________________________________________________________________________________\n",
      "conv1d_40 (Conv1D)              (None, 6, 128)       16512       conv1d_38[0][0]                  \n",
      "__________________________________________________________________________________________________\n",
      "activation_21 (Activation)      (None, 6, 128)       0           conv1d_39[0][0]                  \n",
      "__________________________________________________________________________________________________\n",
      "activation_22 (Activation)      (None, 6, 128)       0           conv1d_40[0][0]                  \n",
      "__________________________________________________________________________________________________\n",
      "multiply_9 (Multiply)           (None, 6, 128)       0           activation_21[0][0]              \n",
      "                                                                 activation_22[0][0]              \n",
      "__________________________________________________________________________________________________\n",
      "conv1d_41 (Conv1D)              (None, 6, 64)        8256        multiply_9[0][0]                 \n",
      "__________________________________________________________________________________________________\n",
      "add_10 (Add)                    (None, 6, 64)        0           conv1d_38[0][0]                  \n",
      "                                                                 conv1d_41[0][0]                  \n",
      "__________________________________________________________________________________________________\n",
      "conv1d_42 (Conv1D)              (None, 6, 64)        4160        add_10[0][0]                     \n",
      "__________________________________________________________________________________________________\n",
      "conv1d_43 (Conv1D)              (None, 6, 128)       16512       conv1d_42[0][0]                  \n",
      "__________________________________________________________________________________________________\n",
      "conv1d_44 (Conv1D)              (None, 6, 128)       16512       conv1d_42[0][0]                  \n",
      "__________________________________________________________________________________________________\n",
      "activation_23 (Activation)      (None, 6, 128)       0           conv1d_43[0][0]                  \n",
      "__________________________________________________________________________________________________\n",
      "activation_24 (Activation)      (None, 6, 128)       0           conv1d_44[0][0]                  \n",
      "__________________________________________________________________________________________________\n",
      "multiply_10 (Multiply)          (None, 6, 128)       0           activation_23[0][0]              \n",
      "                                                                 activation_24[0][0]              \n",
      "__________________________________________________________________________________________________\n",
      "conv1d_45 (Conv1D)              (None, 6, 64)        8256        multiply_10[0][0]                \n",
      "__________________________________________________________________________________________________\n",
      "add_11 (Add)                    (None, 6, 64)        0           conv1d_42[0][0]                  \n",
      "                                                                 conv1d_45[0][0]                  \n",
      "__________________________________________________________________________________________________\n",
      "conv1d_46 (Conv1D)              (None, 6, 64)        4160        add_11[0][0]                     \n",
      "__________________________________________________________________________________________________\n",
      "conv1d_47 (Conv1D)              (None, 6, 128)       16512       conv1d_46[0][0]                  \n",
      "__________________________________________________________________________________________________\n",
      "conv1d_48 (Conv1D)              (None, 6, 128)       16512       conv1d_46[0][0]                  \n",
      "__________________________________________________________________________________________________\n",
      "activation_25 (Activation)      (None, 6, 128)       0           conv1d_47[0][0]                  \n",
      "__________________________________________________________________________________________________\n",
      "activation_26 (Activation)      (None, 6, 128)       0           conv1d_48[0][0]                  \n",
      "__________________________________________________________________________________________________\n",
      "multiply_11 (Multiply)          (None, 6, 128)       0           activation_25[0][0]              \n",
      "                                                                 activation_26[0][0]              \n",
      "__________________________________________________________________________________________________\n",
      "conv1d_49 (Conv1D)              (None, 6, 64)        8256        multiply_11[0][0]                \n",
      "__________________________________________________________________________________________________\n",
      "add_12 (Add)                    (None, 6, 64)        0           conv1d_46[0][0]                  \n",
      "                                                                 conv1d_49[0][0]                  \n",
      "__________________________________________________________________________________________________\n",
      "conv1d_50 (Conv1D)              (None, 6, 64)        4160        add_12[0][0]                     \n",
      "__________________________________________________________________________________________________\n",
      "conv1d_51 (Conv1D)              (None, 6, 128)       16512       conv1d_50[0][0]                  \n",
      "__________________________________________________________________________________________________\n",
      "conv1d_52 (Conv1D)              (None, 6, 128)       16512       conv1d_50[0][0]                  \n",
      "__________________________________________________________________________________________________\n",
      "activation_27 (Activation)      (None, 6, 128)       0           conv1d_51[0][0]                  \n",
      "__________________________________________________________________________________________________\n",
      "activation_28 (Activation)      (None, 6, 128)       0           conv1d_52[0][0]                  \n",
      "__________________________________________________________________________________________________\n",
      "multiply_12 (Multiply)          (None, 6, 128)       0           activation_27[0][0]              \n",
      "                                                                 activation_28[0][0]              \n",
      "__________________________________________________________________________________________________\n",
      "conv1d_53 (Conv1D)              (None, 6, 64)        8256        multiply_12[0][0]                \n",
      "__________________________________________________________________________________________________\n",
      "add_13 (Add)                    (None, 6, 64)        0           conv1d_50[0][0]                  \n",
      "                                                                 conv1d_53[0][0]                  \n",
      "__________________________________________________________________________________________________\n",
      "conv1d_54 (Conv1D)              (None, 6, 64)        4160        add_13[0][0]                     \n",
      "__________________________________________________________________________________________________\n",
      "conv1d_55 (Conv1D)              (None, 6, 128)       16512       conv1d_54[0][0]                  \n",
      "__________________________________________________________________________________________________\n",
      "conv1d_56 (Conv1D)              (None, 6, 128)       16512       conv1d_54[0][0]                  \n",
      "__________________________________________________________________________________________________\n",
      "activation_29 (Activation)      (None, 6, 128)       0           conv1d_55[0][0]                  \n",
      "__________________________________________________________________________________________________\n",
      "activation_30 (Activation)      (None, 6, 128)       0           conv1d_56[0][0]                  \n",
      "__________________________________________________________________________________________________\n",
      "multiply_13 (Multiply)          (None, 6, 128)       0           activation_29[0][0]              \n",
      "                                                                 activation_30[0][0]              \n",
      "__________________________________________________________________________________________________\n",
      "conv1d_57 (Conv1D)              (None, 6, 64)        8256        multiply_13[0][0]                \n",
      "__________________________________________________________________________________________________\n",
      "add_15 (Add)                    (None, 6, 64)        0           conv1d_33[0][0]                  \n",
      "                                                                 conv1d_37[0][0]                  \n",
      "                                                                 conv1d_41[0][0]                  \n",
      "                                                                 conv1d_45[0][0]                  \n",
      "                                                                 conv1d_49[0][0]                  \n",
      "                                                                 conv1d_53[0][0]                  \n",
      "                                                                 conv1d_57[0][0]                  \n",
      "__________________________________________________________________________________________________\n",
      "activation_31 (Activation)      (None, 6, 64)        0           add_15[0][0]                     \n",
      "__________________________________________________________________________________________________\n",
      "conv1d_58 (Conv1D)              (None, 6, 128)       8320        activation_31[0][0]              \n",
      "__________________________________________________________________________________________________\n",
      "activation_32 (Activation)      (None, 6, 128)       0           conv1d_58[0][0]                  \n",
      "__________________________________________________________________________________________________\n",
      "dropout_1 (Dropout)             (None, 6, 128)       0           activation_32[0][0]              \n",
      "__________________________________________________________________________________________________\n",
      "conv1d_59 (Conv1D)              (None, 6, 1)         129         dropout_1[0][0]                  \n",
      "__________________________________________________________________________________________________\n",
      "flatten_1 (Flatten)             (None, 6)            0           conv1d_59[0][0]                  \n",
      "__________________________________________________________________________________________________\n",
      "dense_2 (Dense)                 (None, 6)            42          flatten_1[0][0]                  \n",
      "==================================================================================================\n",
      "Total params: 323,371\n",
      "Trainable params: 323,371\n",
      "Non-trainable params: 0\n",
      "__________________________________________________________________________________________________\n"
     ]
    }
   ],
   "source": [
    "## Attention model\n",
    "n_filters = 128\n",
    "filter_width = 2\n",
    "dilation_rates = [2**i for i in range(7)]\n",
    "\n",
    "inputs = Input(shape=(x_train.shape[1],x_train.shape[2]))\n",
    "x=inputs\n",
    "\n",
    "skips = []\n",
    "for dilation_rate in dilation_rates:\n",
    "\n",
    "    x   = Conv1D(64, 1, padding='same')(x) \n",
    "    x_f = Conv1D(filters=n_filters,kernel_size=filter_width,padding='causal',dilation_rate=dilation_rate)(x)\n",
    "    x_g = Conv1D(filters=n_filters,kernel_size=filter_width, padding='causal',dilation_rate=dilation_rate)(x)\n",
    "\n",
    "    z = Multiply()([keras.layers.Activation('tanh')(x_f),keras.layers.Activation('sigmoid')(x_g)])\n",
    "\n",
    "    z = Conv1D(64, 1, padding='same', activation='relu')(z)\n",
    "\n",
    "    x = Add()([x, z])    \n",
    "\n",
    "    skips.append(z)\n",
    "\n",
    "out = Activation('relu')(keras.layers.Add()(skips)) \n",
    "#out = attention(return_sequences=True)(out)\n",
    "out = Conv1D(128, 1, padding='same')(out)\n",
    "out = Activation('relu')(out)\n",
    "out = Dropout(0.4)(out)\n",
    "out = Conv1D(1, 1, padding='same')(out)\n",
    "#out = attention(return_sequences=True)(out)\n",
    "out = Flatten()(out)\n",
    "out = Dense(6)(out)\n",
    "\n",
    "atten_wavenet = keras.Model(inputs, out)\n",
    "\n",
    "atten_wavenet.compile(loss='mse', optimizer=keras.optimizers.Adam(learning_rate=LR), metrics=['mae'])\n",
    "atten_wavenet.summary()"
   ]
  },
  {
   "cell_type": "code",
   "execution_count": 48,
   "metadata": {
    "ExecuteTime": {
     "end_time": "2022-03-09T03:40:38.828032Z",
     "start_time": "2022-03-09T03:33:10.298343Z"
    },
    "colab": {
     "base_uri": "https://localhost:8080/",
     "height": 545
    },
    "id": "PYUrGWDEjIYb",
    "outputId": "2f9322bf-db32-4937-ff6c-574eeec0d360"
   },
   "outputs": [
    {
     "name": "stdout",
     "output_type": "stream",
     "text": [
      "Directory present\n",
      "Epoch 1/30\n",
      "897/897 [==============================] - 17s 17ms/step - loss: 0.0225 - mae: 0.0999 - val_loss: 0.0047 - val_mae: 0.0526\n",
      "Epoch 2/30\n",
      "  7/897 [..............................] - ETA: 15s - loss: 0.0055 - mae: 0.0581"
     ]
    },
    {
     "name": "stderr",
     "output_type": "stream",
     "text": [
      "C:\\Users\\WSF_CA_2021\\AppData\\Roaming\\Python\\Python38\\site-packages\\tensorflow\\python\\keras\\utils\\generic_utils.py:494: CustomMaskWarning: Custom mask layers require a config and must override get_config. When loading, the custom mask layer must be passed to the custom_objects argument.\n",
      "  warnings.warn('Custom mask layers require a config and must override '\n"
     ]
    },
    {
     "name": "stdout",
     "output_type": "stream",
     "text": [
      "897/897 [==============================] - 15s 17ms/step - loss: 0.0052 - mae: 0.0556 - val_loss: 0.0036 - val_mae: 0.0473\n",
      "Epoch 3/30\n",
      "897/897 [==============================] - 15s 17ms/step - loss: 0.0036 - mae: 0.0455 - val_loss: 0.0036 - val_mae: 0.0477\n",
      "Epoch 4/30\n",
      "897/897 [==============================] - 14s 16ms/step - loss: 0.0028 - mae: 0.0400 - val_loss: 0.0035 - val_mae: 0.0466\n",
      "Epoch 5/30\n",
      "897/897 [==============================] - 15s 16ms/step - loss: 0.0023 - mae: 0.0356 - val_loss: 0.0035 - val_mae: 0.0469\n",
      "Epoch 6/30\n",
      "897/897 [==============================] - 15s 16ms/step - loss: 0.0018 - mae: 0.0318 - val_loss: 0.0019 - val_mae: 0.0334\n",
      "Epoch 7/30\n",
      "897/897 [==============================] - 15s 16ms/step - loss: 0.0015 - mae: 0.0288 - val_loss: 0.0016 - val_mae: 0.0294\n",
      "Epoch 8/30\n",
      "897/897 [==============================] - 15s 17ms/step - loss: 0.0013 - mae: 0.0268 - val_loss: 0.0024 - val_mae: 0.0385\n",
      "Epoch 9/30\n",
      "897/897 [==============================] - 14s 16ms/step - loss: 0.0013 - mae: 0.0263 - val_loss: 0.0018 - val_mae: 0.0305\n",
      "Epoch 10/30\n",
      "897/897 [==============================] - 15s 16ms/step - loss: 0.0012 - mae: 0.0253 - val_loss: 0.0018 - val_mae: 0.0313\n",
      "Epoch 11/30\n",
      "897/897 [==============================] - 14s 16ms/step - loss: 0.0012 - mae: 0.0250 - val_loss: 0.0013 - val_mae: 0.0247\n",
      "Epoch 12/30\n",
      "897/897 [==============================] - 16s 17ms/step - loss: 0.0011 - mae: 0.0242 - val_loss: 0.0018 - val_mae: 0.0313\n",
      "Epoch 13/30\n",
      "897/897 [==============================] - 15s 17ms/step - loss: 0.0011 - mae: 0.0242 - val_loss: 0.0014 - val_mae: 0.0279\n",
      "Epoch 14/30\n",
      "897/897 [==============================] - 14s 16ms/step - loss: 0.0011 - mae: 0.0241 - val_loss: 0.0014 - val_mae: 0.0264\n",
      "Epoch 15/30\n",
      "897/897 [==============================] - 15s 17ms/step - loss: 0.0011 - mae: 0.0233 - val_loss: 0.0014 - val_mae: 0.0275\n",
      "Epoch 16/30\n",
      "897/897 [==============================] - 15s 17ms/step - loss: 0.0010 - mae: 0.0233 - val_loss: 0.0019 - val_mae: 0.0315\n",
      "Epoch 17/30\n",
      "897/897 [==============================] - 15s 17ms/step - loss: 0.0010 - mae: 0.0229 - val_loss: 0.0013 - val_mae: 0.0261\n",
      "Epoch 18/30\n",
      "897/897 [==============================] - 15s 17ms/step - loss: 9.9133e-04 - mae: 0.0226 - val_loss: 0.0015 - val_mae: 0.0288\n",
      "Epoch 19/30\n",
      "897/897 [==============================] - 15s 16ms/step - loss: 0.0010 - mae: 0.0228 - val_loss: 0.0014 - val_mae: 0.0284\n",
      "Epoch 20/30\n",
      "897/897 [==============================] - 15s 17ms/step - loss: 9.6199e-04 - mae: 0.0223 - val_loss: 0.0014 - val_mae: 0.0279\n",
      "Epoch 21/30\n",
      "897/897 [==============================] - 15s 16ms/step - loss: 9.4910e-04 - mae: 0.0222 - val_loss: 9.9863e-04 - val_mae: 0.0220\n",
      "Epoch 22/30\n",
      "897/897 [==============================] - 15s 16ms/step - loss: 9.2183e-04 - mae: 0.0219 - val_loss: 0.0011 - val_mae: 0.0237\n",
      "Epoch 23/30\n",
      "897/897 [==============================] - 14s 16ms/step - loss: 9.2642e-04 - mae: 0.0219 - val_loss: 0.0014 - val_mae: 0.0253\n",
      "Epoch 24/30\n",
      "897/897 [==============================] - 14s 16ms/step - loss: 8.9354e-04 - mae: 0.0215 - val_loss: 0.0013 - val_mae: 0.0252\n",
      "Epoch 25/30\n",
      "897/897 [==============================] - 14s 16ms/step - loss: 8.8226e-04 - mae: 0.0213 - val_loss: 0.0011 - val_mae: 0.0228\n",
      "Epoch 26/30\n",
      "897/897 [==============================] - 14s 16ms/step - loss: 8.6093e-04 - mae: 0.0210 - val_loss: 0.0015 - val_mae: 0.0285\n",
      "Epoch 27/30\n",
      "897/897 [==============================] - 15s 16ms/step - loss: 8.6261e-04 - mae: 0.0211 - val_loss: 0.0014 - val_mae: 0.0260\n",
      "Epoch 28/30\n",
      "897/897 [==============================] - 15s 16ms/step - loss: 8.5240e-04 - mae: 0.0209 - val_loss: 0.0011 - val_mae: 0.0230\n",
      "Epoch 29/30\n",
      "897/897 [==============================] - 15s 17ms/step - loss: 8.2925e-04 - mae: 0.0207 - val_loss: 0.0014 - val_mae: 0.0265\n",
      "Epoch 30/30\n",
      "897/897 [==============================] - 15s 17ms/step - loss: 8.1551e-04 - mae: 0.0205 - val_loss: 0.0013 - val_mae: 0.0247\n"
     ]
    },
    {
     "data": {
      "image/png": "[encoded data removed]",
      "text/plain": [
       "<Figure size 432x288 with 1 Axes>"
      ]
     },
     "metadata": {
      "needs_background": "light"
     },
     "output_type": "display_data"
    },
    {
     "name": "stdout",
     "output_type": "stream",
     "text": [
      "(7957, 6)\n",
      "The Mean Squared Error is: 1.1512950765566685\n"
     ]
    }
   ],
   "source": [
    "## Saving the result file to the folder of the model\n",
    "try:\n",
    "    os.chdir(os.path.join(dest,'Wavenet'))\n",
    "    print('Directory present')\n",
    "except FileNotFoundError:\n",
    "    print('Creating a new directory......')\n",
    "    os.chdir(os.path.join(dest))\n",
    "    os.mkdir('Wavenet')\n",
    "    os.chdir(os.path.join(dest,'Wavenet'))\n",
    "    print('New Directory Created')\n",
    "\n",
    "history = atten_wavenet.fit(x_train,y_train,validation_split=0.1,batch_size=BATCH_SIZE,epochs=EPOCHS,callbacks=[checkpoint_attention])\n",
    "\n",
    "plt.plot(history.history['loss'],'r',label='Training Loss')\n",
    "plt.plot(history.history['val_loss'],'b',label='Validation Loss')\n",
    "plt.legend()\n",
    "plt.show()\n",
    "\n",
    "atten_wavenet.load_weights(filepath_attention)\n",
    "preds = atten_wavenet.predict(x_test)\n",
    "\n",
    "preds = preds.reshape(preds.shape[0],preds.shape[1])\n",
    "print(preds.shape)\n",
    "\n",
    "y_test_unscaled = scaler.inverse_transform(y_test)\n",
    "y_pred_unscaled = scaler.inverse_transform(preds)\n",
    "\n",
    "e_mse = mse(y_test_unscaled[:,5],y_pred_unscaled[:,5])\n",
    "print(f'The Mean Squared Error is: {e_mse}')\n",
    "\n",
    "for i in range(y_test.shape[1]):\n",
    "        sheet2.write(0, 0, 'MSE')\n",
    "        sheet2.write(0, 1, 'Hours Ahead')\n",
    "        sheet2.write(i + 1, 0, mse(y_test_unscaled[:,i],y_pred_unscaled[:,i]))\n",
    "        sheet2.write(i + 1, 1, i+1)\n",
    "        sheet3.write(0, i, \"Real-test\")\n",
    "        sheet4.write(0, i, \"Predicted_test\")\n",
    "        for j in range(y_test_unscaled.shape[0]):\n",
    "                 sheet3.write(j + 1, i, float(y_test_unscaled[j, i]))\n",
    "        for k in range(y_pred_unscaled.shape[0]):\n",
    "                 sheet4.write(k + 1, i, float(y_pred_unscaled[k, i]))\n",
    "wk.save('Wavenet Results.xls')"
   ]
  },
  {
   "cell_type": "code",
   "execution_count": null,
   "metadata": {
    "id": "FW_6Ggs4jIYb"
   },
   "outputs": [],
   "source": []
  }
 ],
 "metadata": {
  "accelerator": "GPU",
  "colab": {
   "collapsed_sections": [],
   "name": "Forecasting_both.ipynb",
   "provenance": [],
   "toc_visible": true
  },
  "kernelspec": {
   "display_name": "Python 3 (ipykernel)",
   "language": "python",
   "name": "python3"
  },
  "language_info": {
   "codemirror_mode": {
    "name": "ipython",
    "version": 3
   },
   "file_extension": ".py",
   "mimetype": "text/x-python",
   "name": "python",
   "nbconvert_exporter": "python",
   "pygments_lexer": "ipython3",
   "version": "3.8.12"
  },
  "toc": {
   "base_numbering": 1,
   "nav_menu": {},
   "number_sections": true,
   "sideBar": true,
   "skip_h1_title": false,
   "title_cell": "Table of Contents",
   "title_sidebar": "Contents",
   "toc_cell": false,
   "toc_position": {},
   "toc_section_display": true,
   "toc_window_display": false
  },
  "varInspector": {
   "cols": {
    "lenName": 16,
    "lenType": 16,
    "lenVar": 40
   },
   "kernels_config": {
    "python": {
     "delete_cmd_postfix": "",
     "delete_cmd_prefix": "del ",
     "library": "var_list.py",
     "varRefreshCmd": "print(var_dic_list())"
    },
    "r": {
     "delete_cmd_postfix": ") ",
     "delete_cmd_prefix": "rm(",
     "library": "var_list.r",
     "varRefreshCmd": "cat(var_dic_list()) "
    }
   },
   "types_to_exclude": [
    "module",
    "function",
    "builtin_function_or_method",
    "instance",
    "_Feature"
   ],
   "window_display": false
  }
 },
 "nbformat": 4,
 "nbformat_minor": 1
}
